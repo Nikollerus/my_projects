{
 "cells": [
  {
   "cell_type": "markdown",
   "metadata": {
    "id": "sIfNaMOxgFyK"
   },
   "source": [
    "## Исследование данных о российском кинопрокате\n",
    "\n"
   ]
  },
  {
   "cell_type": "markdown",
   "metadata": {},
   "source": [
    "- Заказчик этого исследования — Министерство культуры Российской Федерации. Нужно изучить рынок российского кинопроката и выявить текущие тренды.  \n",
    "\n",
    "- Работать будем с данными, опубликованными на портале открытых данных Министерства культуры. Набор данных содержит информацию о прокатных удостоверениях, сборах и государственной поддержке фильмов, а также информацию с сайта КиноПоиск. \n",
    "\n",
    "- Цель исследования - изучить рынок российского кинопроката и выявить текущие тренды. Определить интерес зрителя к фильмам, получившим гос. поддержку.\n",
    "\n",
    "- Работать будем с данными, опубликованными на портале открытых данных Министерства культуры. Набор данных содержит информацию о прокатных удостоверениях, сборах и государственной поддержке фильмов, а также информацию с сайта КиноПоиск.\n",
    "\n",
    "- План работы: Шаг 1. Открыть файлы с данными и объедините их в один датафрейм. Шаг 2. Предобработка данных. Шаг 3. Провести исследовательский анализ данных. Шаг 4. Исследовать фильмы, которые получили государственную поддержку. Шаг 5. Написать общий вывод."
   ]
  },
  {
   "cell_type": "code",
   "execution_count": 1,
   "metadata": {},
   "outputs": [],
   "source": [
    "import pandas as pd\n",
    "pd.set_option('display.float_format', '{:,.2f}'.format)\n",
    "import matplotlib.pyplot as plt\n",
    "import numpy as np\n",
    "import seaborn as sns\n"
   ]
  },
  {
   "cell_type": "markdown",
   "metadata": {
    "id": "3bSlkCsbgFyL"
   },
   "source": [
    "### Шаг 1. Откройте файлы с данными и объедините их в один датафрейм. \n",
    "\n",
    "Объедините данные таким образом, чтобы все объекты из датасета `mkrf_movies` обязательно вошли в получившийся датафрейм. \n",
    "\n",
    "<div id=\"accordion\">\n",
    "    <div class=\"card\">\n",
    "        <div class=\"card-header\" id=\"headingThree\">\n",
    "            <button class=\"btn btn-link collapsed\" data-toggle=\"collapse\" data-target=\"#collapseHint_0\" aria-expanded=\"false\" aria-controls=\"collapseHint_0\">Подсказка</button>\n",
    "        </div>\n",
    "        <div id=\"collapseHint_0\" class=\"collapse\" aria-labelledby=\"headingThree\" data-parent=\"#accordion\">\n",
    "            <div class=\"card-body\">\n",
    "Обратите внимание на тип данных столбца, по которому будете соединять датафреймы. Тип данных этих столбцов должен быть одинаковым в обоих датафреймах.\n",
    "            </div>\n",
    "        </div>\n",
    "    </div>\n",
    "</div>"
   ]
  },
  {
   "cell_type": "code",
   "execution_count": 2,
   "metadata": {
    "id": "dw87FlzMgFyM"
   },
   "outputs": [],
   "source": [
    "shows = pd.read_csv('/datasets/mkrf_shows.csv')\n",
    "movies = pd.read_csv('/datasets/mkrf_movies.csv')\n"
   ]
  },
  {
   "cell_type": "code",
   "execution_count": 3,
   "metadata": {},
   "outputs": [
    {
     "data": {
      "text/html": [
       "<div>\n",
       "<style scoped>\n",
       "    .dataframe tbody tr th:only-of-type {\n",
       "        vertical-align: middle;\n",
       "    }\n",
       "\n",
       "    .dataframe tbody tr th {\n",
       "        vertical-align: top;\n",
       "    }\n",
       "\n",
       "    .dataframe thead th {\n",
       "        text-align: right;\n",
       "    }\n",
       "</style>\n",
       "<table border=\"1\" class=\"dataframe\">\n",
       "  <thead>\n",
       "    <tr style=\"text-align: right;\">\n",
       "      <th></th>\n",
       "      <th>title</th>\n",
       "      <th>puNumber</th>\n",
       "      <th>show_start_date</th>\n",
       "      <th>type</th>\n",
       "      <th>film_studio</th>\n",
       "      <th>production_country</th>\n",
       "      <th>director</th>\n",
       "      <th>producer</th>\n",
       "      <th>age_restriction</th>\n",
       "      <th>refundable_support</th>\n",
       "      <th>nonrefundable_support</th>\n",
       "      <th>budget</th>\n",
       "      <th>financing_source</th>\n",
       "      <th>ratings</th>\n",
       "      <th>genres</th>\n",
       "    </tr>\n",
       "  </thead>\n",
       "  <tbody>\n",
       "    <tr>\n",
       "      <th>0</th>\n",
       "      <td>Открытый простор</td>\n",
       "      <td>221048915</td>\n",
       "      <td>2015-11-27T12:00:00.000Z</td>\n",
       "      <td>Художественный</td>\n",
       "      <td>Тачстоун Пикчерз, Кобальт Пикчерз, Бикон Пикче...</td>\n",
       "      <td>США</td>\n",
       "      <td>Кевин Костнер</td>\n",
       "      <td>Дэвид Валдес, Кевин Костнер, Джейк Эбертс</td>\n",
       "      <td>«18+» - запрещено для детей</td>\n",
       "      <td>NaN</td>\n",
       "      <td>NaN</td>\n",
       "      <td>NaN</td>\n",
       "      <td>NaN</td>\n",
       "      <td>7.2</td>\n",
       "      <td>боевик,драма,мелодрама</td>\n",
       "    </tr>\n",
       "    <tr>\n",
       "      <th>1</th>\n",
       "      <td>Особо важное задание</td>\n",
       "      <td>111013716</td>\n",
       "      <td>2016-09-13T12:00:00.000Z</td>\n",
       "      <td>Художественный</td>\n",
       "      <td>Киностудия \"Мосфильм\"</td>\n",
       "      <td>СССР</td>\n",
       "      <td>Е.Матвеев</td>\n",
       "      <td>NaN</td>\n",
       "      <td>«6+» - для детей старше 6 лет</td>\n",
       "      <td>NaN</td>\n",
       "      <td>NaN</td>\n",
       "      <td>NaN</td>\n",
       "      <td>NaN</td>\n",
       "      <td>6.6</td>\n",
       "      <td>драма,военный</td>\n",
       "    </tr>\n",
       "    <tr>\n",
       "      <th>2</th>\n",
       "      <td>Особо опасен</td>\n",
       "      <td>221038416</td>\n",
       "      <td>2016-10-10T12:00:00.000Z</td>\n",
       "      <td>Художественный</td>\n",
       "      <td>Юниверсал Пикчерз, Кикстарт Продакшнз, Марк Пл...</td>\n",
       "      <td>США</td>\n",
       "      <td>Тимур Бекмамбетов</td>\n",
       "      <td>Джим Лемли, Джейсон Нетер, Марк Е.Платт, Яйн Смит</td>\n",
       "      <td>«18+» - запрещено для детей</td>\n",
       "      <td>NaN</td>\n",
       "      <td>NaN</td>\n",
       "      <td>NaN</td>\n",
       "      <td>NaN</td>\n",
       "      <td>6.8</td>\n",
       "      <td>фантастика,боевик,триллер</td>\n",
       "    </tr>\n",
       "    <tr>\n",
       "      <th>3</th>\n",
       "      <td>Особо опасен</td>\n",
       "      <td>221026916</td>\n",
       "      <td>2016-06-10T12:00:00.000Z</td>\n",
       "      <td>Художественный</td>\n",
       "      <td>Юниверсал Пикчерз, Кикстарт Продакшнз, Марк Пл...</td>\n",
       "      <td>США</td>\n",
       "      <td>Тимур Бекмамбетов</td>\n",
       "      <td>Джим Лемли, Джейсон Нетер, Марк Е.Платт, Яйн Смит</td>\n",
       "      <td>«18+» - запрещено для детей</td>\n",
       "      <td>NaN</td>\n",
       "      <td>NaN</td>\n",
       "      <td>NaN</td>\n",
       "      <td>NaN</td>\n",
       "      <td>6.8</td>\n",
       "      <td>фантастика,боевик,триллер</td>\n",
       "    </tr>\n",
       "    <tr>\n",
       "      <th>4</th>\n",
       "      <td>Особо опасен</td>\n",
       "      <td>221030815</td>\n",
       "      <td>2015-07-29T12:00:00.000Z</td>\n",
       "      <td>Художественный</td>\n",
       "      <td>Юниверсал Пикчерз, Кикстарт Продакшнз, Марк Пл...</td>\n",
       "      <td>США</td>\n",
       "      <td>Тимур Бекмамбетов</td>\n",
       "      <td>Джим Лемли, Джейсон Нетер, Марк Е.Платт, Яйн Смит</td>\n",
       "      <td>«18+» - запрещено для детей</td>\n",
       "      <td>NaN</td>\n",
       "      <td>NaN</td>\n",
       "      <td>NaN</td>\n",
       "      <td>NaN</td>\n",
       "      <td>6.8</td>\n",
       "      <td>фантастика,боевик,триллер</td>\n",
       "    </tr>\n",
       "    <tr>\n",
       "      <th>5</th>\n",
       "      <td>Остановился поезд</td>\n",
       "      <td>111013816</td>\n",
       "      <td>2016-09-13T12:00:00.000Z</td>\n",
       "      <td>Художественный</td>\n",
       "      <td>Киностудия \"Мосфильм\"</td>\n",
       "      <td>СССР</td>\n",
       "      <td>В.Абдрашитов</td>\n",
       "      <td>NaN</td>\n",
       "      <td>«6+» - для детей старше 6 лет</td>\n",
       "      <td>NaN</td>\n",
       "      <td>NaN</td>\n",
       "      <td>NaN</td>\n",
       "      <td>NaN</td>\n",
       "      <td>7.7</td>\n",
       "      <td>драма</td>\n",
       "    </tr>\n",
       "    <tr>\n",
       "      <th>6</th>\n",
       "      <td>Любовь и голуби</td>\n",
       "      <td>111007013</td>\n",
       "      <td>2013-10-18T12:00:00.000Z</td>\n",
       "      <td>Художественный</td>\n",
       "      <td>Киностудия \"Мосфильм\"</td>\n",
       "      <td>СССР</td>\n",
       "      <td>В.Меньшов</td>\n",
       "      <td>NaN</td>\n",
       "      <td>«12+» - для детей старше 12 лет</td>\n",
       "      <td>NaN</td>\n",
       "      <td>NaN</td>\n",
       "      <td>NaN</td>\n",
       "      <td>NaN</td>\n",
       "      <td>8.3</td>\n",
       "      <td>мелодрама,комедия</td>\n",
       "    </tr>\n",
       "    <tr>\n",
       "      <th>7</th>\n",
       "      <td>Любовь и сигареты</td>\n",
       "      <td>221074614</td>\n",
       "      <td>2014-12-29T12:00:00.000Z</td>\n",
       "      <td>Художественный</td>\n",
       "      <td>Юнайтед Артистс, Грин Стрит Филмз, Айкон Интер...</td>\n",
       "      <td>США</td>\n",
       "      <td>Джон Туртурро</td>\n",
       "      <td>Джон Пенотти, Джон Туртурро</td>\n",
       "      <td>«18+» - запрещено для детей</td>\n",
       "      <td>NaN</td>\n",
       "      <td>NaN</td>\n",
       "      <td>NaN</td>\n",
       "      <td>NaN</td>\n",
       "      <td>6.6</td>\n",
       "      <td>мюзикл,мелодрама,комедия</td>\n",
       "    </tr>\n",
       "    <tr>\n",
       "      <th>8</th>\n",
       "      <td>Отпетые мошенники.</td>\n",
       "      <td>121011416</td>\n",
       "      <td>2016-05-05T12:00:00.000Z</td>\n",
       "      <td>Художественный</td>\n",
       "      <td>Пульсар Продюксьон, ТФ1 Фильм</td>\n",
       "      <td>Франция</td>\n",
       "      <td>Эрик Беснард</td>\n",
       "      <td>Патрис Леду</td>\n",
       "      <td>«18+» - запрещено для детей</td>\n",
       "      <td>NaN</td>\n",
       "      <td>NaN</td>\n",
       "      <td>NaN</td>\n",
       "      <td>NaN</td>\n",
       "      <td>8.0</td>\n",
       "      <td>комедия,криминал</td>\n",
       "    </tr>\n",
       "    <tr>\n",
       "      <th>9</th>\n",
       "      <td>Отпуск за свой счет</td>\n",
       "      <td>111019114</td>\n",
       "      <td>2014-12-01T12:00:00.000Z</td>\n",
       "      <td>Художественный</td>\n",
       "      <td>Киностудия \"Мосфильм\", Телевидение ВНР</td>\n",
       "      <td>СССР, Венгрия</td>\n",
       "      <td>В.Титов</td>\n",
       "      <td>NaN</td>\n",
       "      <td>«12+» - для детей старше 12 лет</td>\n",
       "      <td>NaN</td>\n",
       "      <td>NaN</td>\n",
       "      <td>NaN</td>\n",
       "      <td>NaN</td>\n",
       "      <td>7.8</td>\n",
       "      <td>мелодрама,комедия</td>\n",
       "    </tr>\n",
       "    <tr>\n",
       "      <th>10</th>\n",
       "      <td>Превосходство Борна /По одноименной новелле Ро...</td>\n",
       "      <td>221031416</td>\n",
       "      <td>2016-06-29T12:00:00.000Z</td>\n",
       "      <td>Художественный</td>\n",
       "      <td>Кеннеди/Маршал Компани, Юниверсал Пикчерз, Гип...</td>\n",
       "      <td>США</td>\n",
       "      <td>Пол Грингросс</td>\n",
       "      <td>Патрик Кроули, Фрэнк Маршалл, Пол Сэндберг</td>\n",
       "      <td>«16+» - для детей старше 16 лет</td>\n",
       "      <td>NaN</td>\n",
       "      <td>NaN</td>\n",
       "      <td>NaN</td>\n",
       "      <td>NaN</td>\n",
       "      <td>7.7</td>\n",
       "      <td>боевик,триллер,детектив</td>\n",
       "    </tr>\n",
       "    <tr>\n",
       "      <th>11</th>\n",
       "      <td>Ответный ход</td>\n",
       "      <td>111019014</td>\n",
       "      <td>2014-12-01T12:00:00.000Z</td>\n",
       "      <td>Художественный</td>\n",
       "      <td>Киностудия \"Мосфильм\"</td>\n",
       "      <td>СССР</td>\n",
       "      <td>М.Туманишвили</td>\n",
       "      <td>NaN</td>\n",
       "      <td>«12+» - для детей старше 12 лет</td>\n",
       "      <td>NaN</td>\n",
       "      <td>NaN</td>\n",
       "      <td>NaN</td>\n",
       "      <td>NaN</td>\n",
       "      <td>7.8</td>\n",
       "      <td>боевик,драма,приключения</td>\n",
       "    </tr>\n",
       "    <tr>\n",
       "      <th>12</th>\n",
       "      <td>Малышка на миллион /По мотивам рассказов Ф.Х.Т...</td>\n",
       "      <td>221011415</td>\n",
       "      <td>2015-04-03T12:00:00.000Z</td>\n",
       "      <td>Художественный</td>\n",
       "      <td>Уорнер Бразерс, Лейкшор Интертейнмент, Малпасо...</td>\n",
       "      <td>США</td>\n",
       "      <td>Клинт Иствуд</td>\n",
       "      <td>Клинт Иствуд, Том Розенберг, Альберт С.Рудди, ...</td>\n",
       "      <td>«16+» - для детей старше 16 лет</td>\n",
       "      <td>NaN</td>\n",
       "      <td>NaN</td>\n",
       "      <td>NaN</td>\n",
       "      <td>NaN</td>\n",
       "      <td>8.1</td>\n",
       "      <td>драма,спорт</td>\n",
       "    </tr>\n",
       "    <tr>\n",
       "      <th>13</th>\n",
       "      <td>Преданный садовник</td>\n",
       "      <td>121003106</td>\n",
       "      <td>2013-08-26T12:00:00.000Z</td>\n",
       "      <td>Художественный</td>\n",
       "      <td>Потбойлер Продакшнз, Эпсилон Моушн Пикчерз, Ск...</td>\n",
       "      <td>Германия-Великобритания</td>\n",
       "      <td>Фернанду Мейрелльеш</td>\n",
       "      <td>Саймон Чэннинг Уильямс</td>\n",
       "      <td>«16+» - для детей старше 16 лет</td>\n",
       "      <td>NaN</td>\n",
       "      <td>NaN</td>\n",
       "      <td>NaN</td>\n",
       "      <td>NaN</td>\n",
       "      <td>7.1</td>\n",
       "      <td>триллер,драма,мелодрама</td>\n",
       "    </tr>\n",
       "    <tr>\n",
       "      <th>14</th>\n",
       "      <td>Отель /По мотивам пьесы Джона Уэбстера/</td>\n",
       "      <td>221008812</td>\n",
       "      <td>2012-01-27T12:00:00.000Z</td>\n",
       "      <td>Художественный</td>\n",
       "      <td>Кэтлей, Отель Продакшнс, Мунстоун Интертейнмен...</td>\n",
       "      <td>Великобритания - Италия</td>\n",
       "      <td>Майк Фиггис</td>\n",
       "      <td>Этчи Стро, Анни Стюарт, Майк Фиггис</td>\n",
       "      <td>«18+» - запрещено для детей</td>\n",
       "      <td>NaN</td>\n",
       "      <td>NaN</td>\n",
       "      <td>NaN</td>\n",
       "      <td>NaN</td>\n",
       "      <td>6.0</td>\n",
       "      <td>комедия,мелодрама</td>\n",
       "    </tr>\n",
       "  </tbody>\n",
       "</table>\n",
       "</div>"
      ],
      "text/plain": [
       "                                                title   puNumber  \\\n",
       "0                                    Открытый простор  221048915   \n",
       "1                                Особо важное задание  111013716   \n",
       "2                                        Особо опасен  221038416   \n",
       "3                                        Особо опасен  221026916   \n",
       "4                                        Особо опасен  221030815   \n",
       "5                                   Остановился поезд  111013816   \n",
       "6                                     Любовь и голуби  111007013   \n",
       "7                                   Любовь и сигареты  221074614   \n",
       "8                                  Отпетые мошенники.  121011416   \n",
       "9                                 Отпуск за свой счет  111019114   \n",
       "10  Превосходство Борна /По одноименной новелле Ро...  221031416   \n",
       "11                                       Ответный ход  111019014   \n",
       "12  Малышка на миллион /По мотивам рассказов Ф.Х.Т...  221011415   \n",
       "13                                 Преданный садовник  121003106   \n",
       "14            Отель /По мотивам пьесы Джона Уэбстера/  221008812   \n",
       "\n",
       "             show_start_date            type  \\\n",
       "0   2015-11-27T12:00:00.000Z  Художественный   \n",
       "1   2016-09-13T12:00:00.000Z  Художественный   \n",
       "2   2016-10-10T12:00:00.000Z  Художественный   \n",
       "3   2016-06-10T12:00:00.000Z  Художественный   \n",
       "4   2015-07-29T12:00:00.000Z  Художественный   \n",
       "5   2016-09-13T12:00:00.000Z  Художественный   \n",
       "6   2013-10-18T12:00:00.000Z  Художественный   \n",
       "7   2014-12-29T12:00:00.000Z  Художественный   \n",
       "8   2016-05-05T12:00:00.000Z  Художественный   \n",
       "9   2014-12-01T12:00:00.000Z  Художественный   \n",
       "10  2016-06-29T12:00:00.000Z  Художественный   \n",
       "11  2014-12-01T12:00:00.000Z  Художественный   \n",
       "12  2015-04-03T12:00:00.000Z  Художественный   \n",
       "13  2013-08-26T12:00:00.000Z  Художественный   \n",
       "14  2012-01-27T12:00:00.000Z  Художественный   \n",
       "\n",
       "                                          film_studio  \\\n",
       "0   Тачстоун Пикчерз, Кобальт Пикчерз, Бикон Пикче...   \n",
       "1                               Киностудия \"Мосфильм\"   \n",
       "2   Юниверсал Пикчерз, Кикстарт Продакшнз, Марк Пл...   \n",
       "3   Юниверсал Пикчерз, Кикстарт Продакшнз, Марк Пл...   \n",
       "4   Юниверсал Пикчерз, Кикстарт Продакшнз, Марк Пл...   \n",
       "5                               Киностудия \"Мосфильм\"   \n",
       "6                               Киностудия \"Мосфильм\"   \n",
       "7   Юнайтед Артистс, Грин Стрит Филмз, Айкон Интер...   \n",
       "8                      Пульсар Продюксьон, ТФ1 Фильм    \n",
       "9              Киностудия \"Мосфильм\", Телевидение ВНР   \n",
       "10  Кеннеди/Маршал Компани, Юниверсал Пикчерз, Гип...   \n",
       "11                              Киностудия \"Мосфильм\"   \n",
       "12  Уорнер Бразерс, Лейкшор Интертейнмент, Малпасо...   \n",
       "13  Потбойлер Продакшнз, Эпсилон Моушн Пикчерз, Ск...   \n",
       "14  Кэтлей, Отель Продакшнс, Мунстоун Интертейнмен...   \n",
       "\n",
       "         production_country             director  \\\n",
       "0                       США        Кевин Костнер   \n",
       "1                      СССР            Е.Матвеев   \n",
       "2                       США    Тимур Бекмамбетов   \n",
       "3                       США    Тимур Бекмамбетов   \n",
       "4                       США    Тимур Бекмамбетов   \n",
       "5                      СССР         В.Абдрашитов   \n",
       "6                      СССР            В.Меньшов   \n",
       "7                       США        Джон Туртурро   \n",
       "8                   Франция         Эрик Беснард   \n",
       "9             СССР, Венгрия              В.Титов   \n",
       "10                      США        Пол Грингросс   \n",
       "11                     СССР        М.Туманишвили   \n",
       "12                      США         Клинт Иствуд   \n",
       "13  Германия-Великобритания  Фернанду Мейрелльеш   \n",
       "14  Великобритания - Италия          Майк Фиггис   \n",
       "\n",
       "                                             producer  \\\n",
       "0           Дэвид Валдес, Кевин Костнер, Джейк Эбертс   \n",
       "1                                                 NaN   \n",
       "2   Джим Лемли, Джейсон Нетер, Марк Е.Платт, Яйн Смит   \n",
       "3   Джим Лемли, Джейсон Нетер, Марк Е.Платт, Яйн Смит   \n",
       "4   Джим Лемли, Джейсон Нетер, Марк Е.Платт, Яйн Смит   \n",
       "5                                                 NaN   \n",
       "6                                                 NaN   \n",
       "7                         Джон Пенотти, Джон Туртурро   \n",
       "8                                         Патрис Леду   \n",
       "9                                                 NaN   \n",
       "10         Патрик Кроули, Фрэнк Маршалл, Пол Сэндберг   \n",
       "11                                                NaN   \n",
       "12  Клинт Иствуд, Том Розенберг, Альберт С.Рудди, ...   \n",
       "13                             Саймон Чэннинг Уильямс   \n",
       "14                Этчи Стро, Анни Стюарт, Майк Фиггис   \n",
       "\n",
       "                    age_restriction  refundable_support  \\\n",
       "0       «18+» - запрещено для детей                 NaN   \n",
       "1     «6+» - для детей старше 6 лет                 NaN   \n",
       "2       «18+» - запрещено для детей                 NaN   \n",
       "3       «18+» - запрещено для детей                 NaN   \n",
       "4       «18+» - запрещено для детей                 NaN   \n",
       "5     «6+» - для детей старше 6 лет                 NaN   \n",
       "6   «12+» - для детей старше 12 лет                 NaN   \n",
       "7       «18+» - запрещено для детей                 NaN   \n",
       "8       «18+» - запрещено для детей                 NaN   \n",
       "9   «12+» - для детей старше 12 лет                 NaN   \n",
       "10  «16+» - для детей старше 16 лет                 NaN   \n",
       "11  «12+» - для детей старше 12 лет                 NaN   \n",
       "12  «16+» - для детей старше 16 лет                 NaN   \n",
       "13  «16+» - для детей старше 16 лет                 NaN   \n",
       "14      «18+» - запрещено для детей                 NaN   \n",
       "\n",
       "    nonrefundable_support  budget financing_source ratings  \\\n",
       "0                     NaN     NaN              NaN     7.2   \n",
       "1                     NaN     NaN              NaN     6.6   \n",
       "2                     NaN     NaN              NaN     6.8   \n",
       "3                     NaN     NaN              NaN     6.8   \n",
       "4                     NaN     NaN              NaN     6.8   \n",
       "5                     NaN     NaN              NaN     7.7   \n",
       "6                     NaN     NaN              NaN     8.3   \n",
       "7                     NaN     NaN              NaN     6.6   \n",
       "8                     NaN     NaN              NaN     8.0   \n",
       "9                     NaN     NaN              NaN     7.8   \n",
       "10                    NaN     NaN              NaN     7.7   \n",
       "11                    NaN     NaN              NaN     7.8   \n",
       "12                    NaN     NaN              NaN     8.1   \n",
       "13                    NaN     NaN              NaN     7.1   \n",
       "14                    NaN     NaN              NaN     6.0   \n",
       "\n",
       "                       genres  \n",
       "0      боевик,драма,мелодрама  \n",
       "1               драма,военный  \n",
       "2   фантастика,боевик,триллер  \n",
       "3   фантастика,боевик,триллер  \n",
       "4   фантастика,боевик,триллер  \n",
       "5                       драма  \n",
       "6           мелодрама,комедия  \n",
       "7    мюзикл,мелодрама,комедия  \n",
       "8            комедия,криминал  \n",
       "9           мелодрама,комедия  \n",
       "10    боевик,триллер,детектив  \n",
       "11   боевик,драма,приключения  \n",
       "12                драма,спорт  \n",
       "13    триллер,драма,мелодрама  \n",
       "14          комедия,мелодрама  "
      ]
     },
     "execution_count": 3,
     "metadata": {},
     "output_type": "execute_result"
    }
   ],
   "source": [
    "movies.head(15)"
   ]
  },
  {
   "cell_type": "code",
   "execution_count": 4,
   "metadata": {},
   "outputs": [
    {
     "name": "stdout",
     "output_type": "stream",
     "text": [
      "<class 'pandas.core.frame.DataFrame'>\n",
      "RangeIndex: 7486 entries, 0 to 7485\n",
      "Data columns (total 15 columns):\n",
      " #   Column                 Non-Null Count  Dtype  \n",
      "---  ------                 --------------  -----  \n",
      " 0   title                  7486 non-null   object \n",
      " 1   puNumber               7486 non-null   object \n",
      " 2   show_start_date        7486 non-null   object \n",
      " 3   type                   7486 non-null   object \n",
      " 4   film_studio            7468 non-null   object \n",
      " 5   production_country     7484 non-null   object \n",
      " 6   director               7477 non-null   object \n",
      " 7   producer               6918 non-null   object \n",
      " 8   age_restriction        7486 non-null   object \n",
      " 9   refundable_support     332 non-null    float64\n",
      " 10  nonrefundable_support  332 non-null    float64\n",
      " 11  budget                 332 non-null    float64\n",
      " 12  financing_source       332 non-null    object \n",
      " 13  ratings                6519 non-null   object \n",
      " 14  genres                 6510 non-null   object \n",
      "dtypes: float64(3), object(12)\n",
      "memory usage: 877.4+ KB\n"
     ]
    }
   ],
   "source": [
    "movies.info()"
   ]
  },
  {
   "cell_type": "code",
   "execution_count": 5,
   "metadata": {},
   "outputs": [
    {
     "data": {
      "text/html": [
       "<div>\n",
       "<style scoped>\n",
       "    .dataframe tbody tr th:only-of-type {\n",
       "        vertical-align: middle;\n",
       "    }\n",
       "\n",
       "    .dataframe tbody tr th {\n",
       "        vertical-align: top;\n",
       "    }\n",
       "\n",
       "    .dataframe thead th {\n",
       "        text-align: right;\n",
       "    }\n",
       "</style>\n",
       "<table border=\"1\" class=\"dataframe\">\n",
       "  <thead>\n",
       "    <tr style=\"text-align: right;\">\n",
       "      <th></th>\n",
       "      <th>puNumber</th>\n",
       "      <th>box_office</th>\n",
       "    </tr>\n",
       "  </thead>\n",
       "  <tbody>\n",
       "    <tr>\n",
       "      <th>0</th>\n",
       "      <td>111000113</td>\n",
       "      <td>2,450.00</td>\n",
       "    </tr>\n",
       "    <tr>\n",
       "      <th>1</th>\n",
       "      <td>111000115</td>\n",
       "      <td>61,040.00</td>\n",
       "    </tr>\n",
       "    <tr>\n",
       "      <th>2</th>\n",
       "      <td>111000116</td>\n",
       "      <td>153,030,013.40</td>\n",
       "    </tr>\n",
       "    <tr>\n",
       "      <th>3</th>\n",
       "      <td>111000117</td>\n",
       "      <td>12,260,956.00</td>\n",
       "    </tr>\n",
       "    <tr>\n",
       "      <th>4</th>\n",
       "      <td>111000118</td>\n",
       "      <td>163,684,057.79</td>\n",
       "    </tr>\n",
       "    <tr>\n",
       "      <th>5</th>\n",
       "      <td>111000119</td>\n",
       "      <td>4,293,649.51</td>\n",
       "    </tr>\n",
       "    <tr>\n",
       "      <th>6</th>\n",
       "      <td>111000212</td>\n",
       "      <td>200.00</td>\n",
       "    </tr>\n",
       "    <tr>\n",
       "      <th>7</th>\n",
       "      <td>111000216</td>\n",
       "      <td>355,567.00</td>\n",
       "    </tr>\n",
       "    <tr>\n",
       "      <th>8</th>\n",
       "      <td>111000313</td>\n",
       "      <td>710.00</td>\n",
       "    </tr>\n",
       "    <tr>\n",
       "      <th>9</th>\n",
       "      <td>111000314</td>\n",
       "      <td>1,607,970.00</td>\n",
       "    </tr>\n",
       "    <tr>\n",
       "      <th>10</th>\n",
       "      <td>111000315</td>\n",
       "      <td>36,550.00</td>\n",
       "    </tr>\n",
       "    <tr>\n",
       "      <th>11</th>\n",
       "      <td>111000318</td>\n",
       "      <td>56,357,980.56</td>\n",
       "    </tr>\n",
       "    <tr>\n",
       "      <th>12</th>\n",
       "      <td>111000319</td>\n",
       "      <td>194,845,829.65</td>\n",
       "    </tr>\n",
       "    <tr>\n",
       "      <th>13</th>\n",
       "      <td>111000411</td>\n",
       "      <td>11,740.00</td>\n",
       "    </tr>\n",
       "    <tr>\n",
       "      <th>14</th>\n",
       "      <td>111000412</td>\n",
       "      <td>1,920.00</td>\n",
       "    </tr>\n",
       "  </tbody>\n",
       "</table>\n",
       "</div>"
      ],
      "text/plain": [
       "     puNumber     box_office\n",
       "0   111000113       2,450.00\n",
       "1   111000115      61,040.00\n",
       "2   111000116 153,030,013.40\n",
       "3   111000117  12,260,956.00\n",
       "4   111000118 163,684,057.79\n",
       "5   111000119   4,293,649.51\n",
       "6   111000212         200.00\n",
       "7   111000216     355,567.00\n",
       "8   111000313         710.00\n",
       "9   111000314   1,607,970.00\n",
       "10  111000315      36,550.00\n",
       "11  111000318  56,357,980.56\n",
       "12  111000319 194,845,829.65\n",
       "13  111000411      11,740.00\n",
       "14  111000412       1,920.00"
      ]
     },
     "execution_count": 5,
     "metadata": {},
     "output_type": "execute_result"
    }
   ],
   "source": [
    "shows.head(15)"
   ]
  },
  {
   "cell_type": "code",
   "execution_count": 6,
   "metadata": {},
   "outputs": [
    {
     "name": "stdout",
     "output_type": "stream",
     "text": [
      "<class 'pandas.core.frame.DataFrame'>\n",
      "RangeIndex: 3158 entries, 0 to 3157\n",
      "Data columns (total 2 columns):\n",
      " #   Column      Non-Null Count  Dtype  \n",
      "---  ------      --------------  -----  \n",
      " 0   puNumber    3158 non-null   int64  \n",
      " 1   box_office  3158 non-null   float64\n",
      "dtypes: float64(1), int64(1)\n",
      "memory usage: 49.5 KB\n"
     ]
    }
   ],
   "source": [
    "shows.info()"
   ]
  },
  {
   "cell_type": "code",
   "execution_count": 7,
   "metadata": {},
   "outputs": [],
   "source": [
    "movies['puNumber'] = pd.to_numeric(movies['puNumber'], errors='coerce').fillna(0).astype('Int64')"
   ]
  },
  {
   "cell_type": "code",
   "execution_count": 8,
   "metadata": {},
   "outputs": [
    {
     "name": "stdout",
     "output_type": "stream",
     "text": [
      "<class 'pandas.core.frame.DataFrame'>\n",
      "RangeIndex: 7486 entries, 0 to 7485\n",
      "Data columns (total 15 columns):\n",
      " #   Column                 Non-Null Count  Dtype  \n",
      "---  ------                 --------------  -----  \n",
      " 0   title                  7486 non-null   object \n",
      " 1   puNumber               7486 non-null   Int64  \n",
      " 2   show_start_date        7486 non-null   object \n",
      " 3   type                   7486 non-null   object \n",
      " 4   film_studio            7468 non-null   object \n",
      " 5   production_country     7484 non-null   object \n",
      " 6   director               7477 non-null   object \n",
      " 7   producer               6918 non-null   object \n",
      " 8   age_restriction        7486 non-null   object \n",
      " 9   refundable_support     332 non-null    float64\n",
      " 10  nonrefundable_support  332 non-null    float64\n",
      " 11  budget                 332 non-null    float64\n",
      " 12  financing_source       332 non-null    object \n",
      " 13  ratings                6519 non-null   object \n",
      " 14  genres                 6510 non-null   object \n",
      "dtypes: Int64(1), float64(3), object(11)\n",
      "memory usage: 884.7+ KB\n"
     ]
    }
   ],
   "source": [
    "movies.info()"
   ]
  },
  {
   "cell_type": "code",
   "execution_count": 9,
   "metadata": {},
   "outputs": [
    {
     "data": {
      "text/plain": [
       "0       221048915\n",
       "1       111013716\n",
       "2       221038416\n",
       "3       221026916\n",
       "4       221030815\n",
       "          ...    \n",
       "7481    126008019\n",
       "7482    121037819\n",
       "7483    124010819\n",
       "7484    124010619\n",
       "7485    124010719\n",
       "Name: puNumber, Length: 7486, dtype: Int64"
      ]
     },
     "execution_count": 9,
     "metadata": {},
     "output_type": "execute_result"
    }
   ],
   "source": [
    "movies['puNumber']"
   ]
  },
  {
   "cell_type": "markdown",
   "metadata": {},
   "source": [
    "Нужно было преобразовать столбец PuNumber в int, чтобы объединить эти две таблицы."
   ]
  },
  {
   "cell_type": "code",
   "execution_count": 10,
   "metadata": {},
   "outputs": [],
   "source": [
    "data = movies.merge(shows, on='puNumber', how='left')"
   ]
  },
  {
   "cell_type": "code",
   "execution_count": 11,
   "metadata": {},
   "outputs": [
    {
     "name": "stdout",
     "output_type": "stream",
     "text": [
      "<class 'pandas.core.frame.DataFrame'>\n",
      "Int64Index: 7486 entries, 0 to 7485\n",
      "Data columns (total 16 columns):\n",
      " #   Column                 Non-Null Count  Dtype  \n",
      "---  ------                 --------------  -----  \n",
      " 0   title                  7486 non-null   object \n",
      " 1   puNumber               7486 non-null   Int64  \n",
      " 2   show_start_date        7486 non-null   object \n",
      " 3   type                   7486 non-null   object \n",
      " 4   film_studio            7468 non-null   object \n",
      " 5   production_country     7484 non-null   object \n",
      " 6   director               7477 non-null   object \n",
      " 7   producer               6918 non-null   object \n",
      " 8   age_restriction        7486 non-null   object \n",
      " 9   refundable_support     332 non-null    float64\n",
      " 10  nonrefundable_support  332 non-null    float64\n",
      " 11  budget                 332 non-null    float64\n",
      " 12  financing_source       332 non-null    object \n",
      " 13  ratings                6519 non-null   object \n",
      " 14  genres                 6510 non-null   object \n",
      " 15  box_office             3158 non-null   float64\n",
      "dtypes: Int64(1), float64(4), object(11)\n",
      "memory usage: 1001.5+ KB\n"
     ]
    }
   ],
   "source": [
    "data.info()"
   ]
  },
  {
   "cell_type": "code",
   "execution_count": 12,
   "metadata": {},
   "outputs": [
    {
     "data": {
      "text/html": [
       "<div>\n",
       "<style scoped>\n",
       "    .dataframe tbody tr th:only-of-type {\n",
       "        vertical-align: middle;\n",
       "    }\n",
       "\n",
       "    .dataframe tbody tr th {\n",
       "        vertical-align: top;\n",
       "    }\n",
       "\n",
       "    .dataframe thead th {\n",
       "        text-align: right;\n",
       "    }\n",
       "</style>\n",
       "<table border=\"1\" class=\"dataframe\">\n",
       "  <thead>\n",
       "    <tr style=\"text-align: right;\">\n",
       "      <th></th>\n",
       "      <th>title</th>\n",
       "      <th>puNumber</th>\n",
       "      <th>show_start_date</th>\n",
       "      <th>type</th>\n",
       "      <th>film_studio</th>\n",
       "      <th>production_country</th>\n",
       "      <th>director</th>\n",
       "      <th>producer</th>\n",
       "      <th>age_restriction</th>\n",
       "      <th>refundable_support</th>\n",
       "      <th>nonrefundable_support</th>\n",
       "      <th>budget</th>\n",
       "      <th>financing_source</th>\n",
       "      <th>ratings</th>\n",
       "      <th>genres</th>\n",
       "      <th>box_office</th>\n",
       "    </tr>\n",
       "  </thead>\n",
       "  <tbody>\n",
       "    <tr>\n",
       "      <th>0</th>\n",
       "      <td>Открытый простор</td>\n",
       "      <td>221048915</td>\n",
       "      <td>2015-11-27T12:00:00.000Z</td>\n",
       "      <td>Художественный</td>\n",
       "      <td>Тачстоун Пикчерз, Кобальт Пикчерз, Бикон Пикче...</td>\n",
       "      <td>США</td>\n",
       "      <td>Кевин Костнер</td>\n",
       "      <td>Дэвид Валдес, Кевин Костнер, Джейк Эбертс</td>\n",
       "      <td>«18+» - запрещено для детей</td>\n",
       "      <td>NaN</td>\n",
       "      <td>NaN</td>\n",
       "      <td>NaN</td>\n",
       "      <td>NaN</td>\n",
       "      <td>7.2</td>\n",
       "      <td>боевик,драма,мелодрама</td>\n",
       "      <td>NaN</td>\n",
       "    </tr>\n",
       "    <tr>\n",
       "      <th>1</th>\n",
       "      <td>Особо важное задание</td>\n",
       "      <td>111013716</td>\n",
       "      <td>2016-09-13T12:00:00.000Z</td>\n",
       "      <td>Художественный</td>\n",
       "      <td>Киностудия \"Мосфильм\"</td>\n",
       "      <td>СССР</td>\n",
       "      <td>Е.Матвеев</td>\n",
       "      <td>NaN</td>\n",
       "      <td>«6+» - для детей старше 6 лет</td>\n",
       "      <td>NaN</td>\n",
       "      <td>NaN</td>\n",
       "      <td>NaN</td>\n",
       "      <td>NaN</td>\n",
       "      <td>6.6</td>\n",
       "      <td>драма,военный</td>\n",
       "      <td>NaN</td>\n",
       "    </tr>\n",
       "    <tr>\n",
       "      <th>2</th>\n",
       "      <td>Особо опасен</td>\n",
       "      <td>221038416</td>\n",
       "      <td>2016-10-10T12:00:00.000Z</td>\n",
       "      <td>Художественный</td>\n",
       "      <td>Юниверсал Пикчерз, Кикстарт Продакшнз, Марк Пл...</td>\n",
       "      <td>США</td>\n",
       "      <td>Тимур Бекмамбетов</td>\n",
       "      <td>Джим Лемли, Джейсон Нетер, Марк Е.Платт, Яйн Смит</td>\n",
       "      <td>«18+» - запрещено для детей</td>\n",
       "      <td>NaN</td>\n",
       "      <td>NaN</td>\n",
       "      <td>NaN</td>\n",
       "      <td>NaN</td>\n",
       "      <td>6.8</td>\n",
       "      <td>фантастика,боевик,триллер</td>\n",
       "      <td>NaN</td>\n",
       "    </tr>\n",
       "    <tr>\n",
       "      <th>3</th>\n",
       "      <td>Особо опасен</td>\n",
       "      <td>221026916</td>\n",
       "      <td>2016-06-10T12:00:00.000Z</td>\n",
       "      <td>Художественный</td>\n",
       "      <td>Юниверсал Пикчерз, Кикстарт Продакшнз, Марк Пл...</td>\n",
       "      <td>США</td>\n",
       "      <td>Тимур Бекмамбетов</td>\n",
       "      <td>Джим Лемли, Джейсон Нетер, Марк Е.Платт, Яйн Смит</td>\n",
       "      <td>«18+» - запрещено для детей</td>\n",
       "      <td>NaN</td>\n",
       "      <td>NaN</td>\n",
       "      <td>NaN</td>\n",
       "      <td>NaN</td>\n",
       "      <td>6.8</td>\n",
       "      <td>фантастика,боевик,триллер</td>\n",
       "      <td>NaN</td>\n",
       "    </tr>\n",
       "    <tr>\n",
       "      <th>4</th>\n",
       "      <td>Особо опасен</td>\n",
       "      <td>221030815</td>\n",
       "      <td>2015-07-29T12:00:00.000Z</td>\n",
       "      <td>Художественный</td>\n",
       "      <td>Юниверсал Пикчерз, Кикстарт Продакшнз, Марк Пл...</td>\n",
       "      <td>США</td>\n",
       "      <td>Тимур Бекмамбетов</td>\n",
       "      <td>Джим Лемли, Джейсон Нетер, Марк Е.Платт, Яйн Смит</td>\n",
       "      <td>«18+» - запрещено для детей</td>\n",
       "      <td>NaN</td>\n",
       "      <td>NaN</td>\n",
       "      <td>NaN</td>\n",
       "      <td>NaN</td>\n",
       "      <td>6.8</td>\n",
       "      <td>фантастика,боевик,триллер</td>\n",
       "      <td>NaN</td>\n",
       "    </tr>\n",
       "    <tr>\n",
       "      <th>...</th>\n",
       "      <td>...</td>\n",
       "      <td>...</td>\n",
       "      <td>...</td>\n",
       "      <td>...</td>\n",
       "      <td>...</td>\n",
       "      <td>...</td>\n",
       "      <td>...</td>\n",
       "      <td>...</td>\n",
       "      <td>...</td>\n",
       "      <td>...</td>\n",
       "      <td>...</td>\n",
       "      <td>...</td>\n",
       "      <td>...</td>\n",
       "      <td>...</td>\n",
       "      <td>...</td>\n",
       "      <td>...</td>\n",
       "    </tr>\n",
       "    <tr>\n",
       "      <th>7481</th>\n",
       "      <td>Сад художника: Американский импрессионизм</td>\n",
       "      <td>126008019</td>\n",
       "      <td>2019-12-23T12:00:00.000Z</td>\n",
       "      <td>Прочие</td>\n",
       "      <td>Севен Артс Продакшнз</td>\n",
       "      <td>Великобритания</td>\n",
       "      <td>Фил Грабски</td>\n",
       "      <td>Фил Грабски</td>\n",
       "      <td>«12+» - для детей старше 12 лет</td>\n",
       "      <td>NaN</td>\n",
       "      <td>NaN</td>\n",
       "      <td>NaN</td>\n",
       "      <td>NaN</td>\n",
       "      <td>NaN</td>\n",
       "      <td>NaN</td>\n",
       "      <td>NaN</td>\n",
       "    </tr>\n",
       "    <tr>\n",
       "      <th>7482</th>\n",
       "      <td>Звериная ярость</td>\n",
       "      <td>121037819</td>\n",
       "      <td>2019-12-24T12:00:00.000Z</td>\n",
       "      <td>Художественный</td>\n",
       "      <td>Дэниел Гродник Продакшнз, Вандерфилм Медиа Кор...</td>\n",
       "      <td>США</td>\n",
       "      <td>Ник Пауэлл</td>\n",
       "      <td>Джефф Боулер, Дэниэл Гродник, Луильо Руис, Брэ...</td>\n",
       "      <td>«16+» - для детей старше 16 лет</td>\n",
       "      <td>NaN</td>\n",
       "      <td>NaN</td>\n",
       "      <td>NaN</td>\n",
       "      <td>NaN</td>\n",
       "      <td>5.4</td>\n",
       "      <td>боевик,триллер</td>\n",
       "      <td>NaN</td>\n",
       "    </tr>\n",
       "    <tr>\n",
       "      <th>7483</th>\n",
       "      <td>Щенячий патруль: Скорей спешим на помощь!</td>\n",
       "      <td>124010819</td>\n",
       "      <td>2019-12-28T12:00:00.000Z</td>\n",
       "      <td>Художественный</td>\n",
       "      <td>Никелодеон Анимейшн Студиос, Спин Мастер</td>\n",
       "      <td>США - Канада</td>\n",
       "      <td>Чарльз Е.Бастьен</td>\n",
       "      <td>Дженнифер Додж</td>\n",
       "      <td>«0+» - для любой зрительской аудитории</td>\n",
       "      <td>NaN</td>\n",
       "      <td>NaN</td>\n",
       "      <td>NaN</td>\n",
       "      <td>NaN</td>\n",
       "      <td>NaN</td>\n",
       "      <td>NaN</td>\n",
       "      <td>NaN</td>\n",
       "    </tr>\n",
       "    <tr>\n",
       "      <th>7484</th>\n",
       "      <td>Машины песенки. Серия \"Испанские мотивы\"</td>\n",
       "      <td>124010619</td>\n",
       "      <td>2019-12-30T12:00:00.000Z</td>\n",
       "      <td>Анимационный</td>\n",
       "      <td>Анимаккорд Лтд., ООО Студия \"АНИМАККОРД\"</td>\n",
       "      <td>Республика Кипр, Россия</td>\n",
       "      <td>А.Беляев</td>\n",
       "      <td>Д.Ловейко</td>\n",
       "      <td>«0+» - для любой зрительской аудитории</td>\n",
       "      <td>NaN</td>\n",
       "      <td>NaN</td>\n",
       "      <td>NaN</td>\n",
       "      <td>NaN</td>\n",
       "      <td>NaN</td>\n",
       "      <td>NaN</td>\n",
       "      <td>NaN</td>\n",
       "    </tr>\n",
       "    <tr>\n",
       "      <th>7485</th>\n",
       "      <td>Машины песенки. Серия \"Когда цветут кактусы\"</td>\n",
       "      <td>124010719</td>\n",
       "      <td>2019-12-30T12:00:00.000Z</td>\n",
       "      <td>Анимационный</td>\n",
       "      <td>Анимаккорд Лтд., ООО Студия \"АНИМАККОРД\"</td>\n",
       "      <td>Республика Кипр, Россия</td>\n",
       "      <td>И.Трусов</td>\n",
       "      <td>Д.Ловейко</td>\n",
       "      <td>«0+» - для любой зрительской аудитории</td>\n",
       "      <td>NaN</td>\n",
       "      <td>NaN</td>\n",
       "      <td>NaN</td>\n",
       "      <td>NaN</td>\n",
       "      <td>6.3</td>\n",
       "      <td>комедия,вестерн</td>\n",
       "      <td>NaN</td>\n",
       "    </tr>\n",
       "  </tbody>\n",
       "</table>\n",
       "<p>7486 rows × 16 columns</p>\n",
       "</div>"
      ],
      "text/plain": [
       "                                             title   puNumber  \\\n",
       "0                                 Открытый простор  221048915   \n",
       "1                             Особо важное задание  111013716   \n",
       "2                                     Особо опасен  221038416   \n",
       "3                                     Особо опасен  221026916   \n",
       "4                                     Особо опасен  221030815   \n",
       "...                                            ...        ...   \n",
       "7481     Сад художника: Американский импрессионизм  126008019   \n",
       "7482                               Звериная ярость  121037819   \n",
       "7483     Щенячий патруль: Скорей спешим на помощь!  124010819   \n",
       "7484      Машины песенки. Серия \"Испанские мотивы\"  124010619   \n",
       "7485  Машины песенки. Серия \"Когда цветут кактусы\"  124010719   \n",
       "\n",
       "               show_start_date             type  \\\n",
       "0     2015-11-27T12:00:00.000Z   Художественный   \n",
       "1     2016-09-13T12:00:00.000Z   Художественный   \n",
       "2     2016-10-10T12:00:00.000Z   Художественный   \n",
       "3     2016-06-10T12:00:00.000Z   Художественный   \n",
       "4     2015-07-29T12:00:00.000Z   Художественный   \n",
       "...                        ...              ...   \n",
       "7481  2019-12-23T12:00:00.000Z           Прочие   \n",
       "7482  2019-12-24T12:00:00.000Z   Художественный   \n",
       "7483  2019-12-28T12:00:00.000Z   Художественный   \n",
       "7484  2019-12-30T12:00:00.000Z     Анимационный   \n",
       "7485  2019-12-30T12:00:00.000Z     Анимационный   \n",
       "\n",
       "                                            film_studio  \\\n",
       "0     Тачстоун Пикчерз, Кобальт Пикчерз, Бикон Пикче...   \n",
       "1                                 Киностудия \"Мосфильм\"   \n",
       "2     Юниверсал Пикчерз, Кикстарт Продакшнз, Марк Пл...   \n",
       "3     Юниверсал Пикчерз, Кикстарт Продакшнз, Марк Пл...   \n",
       "4     Юниверсал Пикчерз, Кикстарт Продакшнз, Марк Пл...   \n",
       "...                                                 ...   \n",
       "7481                               Севен Артс Продакшнз   \n",
       "7482  Дэниел Гродник Продакшнз, Вандерфилм Медиа Кор...   \n",
       "7483           Никелодеон Анимейшн Студиос, Спин Мастер   \n",
       "7484           Анимаккорд Лтд., ООО Студия \"АНИМАККОРД\"   \n",
       "7485           Анимаккорд Лтд., ООО Студия \"АНИМАККОРД\"   \n",
       "\n",
       "           production_country           director  \\\n",
       "0                         США      Кевин Костнер   \n",
       "1                        СССР          Е.Матвеев   \n",
       "2                         США  Тимур Бекмамбетов   \n",
       "3                         США  Тимур Бекмамбетов   \n",
       "4                         США  Тимур Бекмамбетов   \n",
       "...                       ...                ...   \n",
       "7481           Великобритания        Фил Грабски   \n",
       "7482                      США         Ник Пауэлл   \n",
       "7483             США - Канада   Чарльз Е.Бастьен   \n",
       "7484  Республика Кипр, Россия           А.Беляев   \n",
       "7485  Республика Кипр, Россия           И.Трусов   \n",
       "\n",
       "                                               producer  \\\n",
       "0             Дэвид Валдес, Кевин Костнер, Джейк Эбертс   \n",
       "1                                                   NaN   \n",
       "2     Джим Лемли, Джейсон Нетер, Марк Е.Платт, Яйн Смит   \n",
       "3     Джим Лемли, Джейсон Нетер, Марк Е.Платт, Яйн Смит   \n",
       "4     Джим Лемли, Джейсон Нетер, Марк Е.Платт, Яйн Смит   \n",
       "...                                                 ...   \n",
       "7481                                        Фил Грабски   \n",
       "7482  Джефф Боулер, Дэниэл Гродник, Луильо Руис, Брэ...   \n",
       "7483                                     Дженнифер Додж   \n",
       "7484                                          Д.Ловейко   \n",
       "7485                                          Д.Ловейко   \n",
       "\n",
       "                             age_restriction  refundable_support  \\\n",
       "0                «18+» - запрещено для детей                 NaN   \n",
       "1              «6+» - для детей старше 6 лет                 NaN   \n",
       "2                «18+» - запрещено для детей                 NaN   \n",
       "3                «18+» - запрещено для детей                 NaN   \n",
       "4                «18+» - запрещено для детей                 NaN   \n",
       "...                                      ...                 ...   \n",
       "7481         «12+» - для детей старше 12 лет                 NaN   \n",
       "7482         «16+» - для детей старше 16 лет                 NaN   \n",
       "7483  «0+» - для любой зрительской аудитории                 NaN   \n",
       "7484  «0+» - для любой зрительской аудитории                 NaN   \n",
       "7485  «0+» - для любой зрительской аудитории                 NaN   \n",
       "\n",
       "      nonrefundable_support  budget financing_source ratings  \\\n",
       "0                       NaN     NaN              NaN     7.2   \n",
       "1                       NaN     NaN              NaN     6.6   \n",
       "2                       NaN     NaN              NaN     6.8   \n",
       "3                       NaN     NaN              NaN     6.8   \n",
       "4                       NaN     NaN              NaN     6.8   \n",
       "...                     ...     ...              ...     ...   \n",
       "7481                    NaN     NaN              NaN     NaN   \n",
       "7482                    NaN     NaN              NaN     5.4   \n",
       "7483                    NaN     NaN              NaN     NaN   \n",
       "7484                    NaN     NaN              NaN     NaN   \n",
       "7485                    NaN     NaN              NaN     6.3   \n",
       "\n",
       "                         genres  box_office  \n",
       "0        боевик,драма,мелодрама         NaN  \n",
       "1                 драма,военный         NaN  \n",
       "2     фантастика,боевик,триллер         NaN  \n",
       "3     фантастика,боевик,триллер         NaN  \n",
       "4     фантастика,боевик,триллер         NaN  \n",
       "...                         ...         ...  \n",
       "7481                        NaN         NaN  \n",
       "7482             боевик,триллер         NaN  \n",
       "7483                        NaN         NaN  \n",
       "7484                        NaN         NaN  \n",
       "7485            комедия,вестерн         NaN  \n",
       "\n",
       "[7486 rows x 16 columns]"
      ]
     },
     "execution_count": 12,
     "metadata": {},
     "output_type": "execute_result"
    }
   ],
   "source": [
    "data"
   ]
  },
  {
   "cell_type": "markdown",
   "metadata": {},
   "source": [
    "Таблицы объединены, можно приступать к предобработке. "
   ]
  },
  {
   "cell_type": "markdown",
   "metadata": {
    "id": "KLDGpPG0gFyM"
   },
   "source": [
    "### Шаг 2. Предобработка данных"
   ]
  },
  {
   "cell_type": "markdown",
   "metadata": {
    "id": "ssWwKXsxgFyO"
   },
   "source": [
    "#### Шаг 2.1. Проверьте типы данных\n",
    "\n",
    "- Проверьте типы данных в датафрейме и преобразуйте их там, где это необходимо."
   ]
  },
  {
   "cell_type": "code",
   "execution_count": 13,
   "metadata": {},
   "outputs": [
    {
     "name": "stdout",
     "output_type": "stream",
     "text": [
      "<class 'pandas.core.frame.DataFrame'>\n",
      "Int64Index: 7486 entries, 0 to 7485\n",
      "Data columns (total 16 columns):\n",
      " #   Column                 Non-Null Count  Dtype  \n",
      "---  ------                 --------------  -----  \n",
      " 0   title                  7486 non-null   object \n",
      " 1   puNumber               7486 non-null   Int64  \n",
      " 2   show_start_date        7486 non-null   object \n",
      " 3   type                   7486 non-null   object \n",
      " 4   film_studio            7468 non-null   object \n",
      " 5   production_country     7484 non-null   object \n",
      " 6   director               7477 non-null   object \n",
      " 7   producer               6918 non-null   object \n",
      " 8   age_restriction        7486 non-null   object \n",
      " 9   refundable_support     332 non-null    float64\n",
      " 10  nonrefundable_support  332 non-null    float64\n",
      " 11  budget                 332 non-null    float64\n",
      " 12  financing_source       332 non-null    object \n",
      " 13  ratings                6519 non-null   object \n",
      " 14  genres                 6510 non-null   object \n",
      " 15  box_office             3158 non-null   float64\n",
      "dtypes: Int64(1), float64(4), object(11)\n",
      "memory usage: 1001.5+ KB\n"
     ]
    }
   ],
   "source": [
    "data.info()"
   ]
  },
  {
   "cell_type": "markdown",
   "metadata": {},
   "source": [
    "Мы уже изменили тип столбца puNumber на int, кроме него можно ещё изменить тип столбца raiting на float, чтобы в дальнейшем можно было проводить с ним математические операции. Также можно заменить тип столбца show_start_date на тип datetime.  "
   ]
  },
  {
   "cell_type": "code",
   "execution_count": 14,
   "metadata": {},
   "outputs": [],
   "source": [
    "data['show_start_date'] = pd.to_datetime(data['show_start_date'], format='%Y-%m-%dT%H:%M:%S')"
   ]
  },
  {
   "cell_type": "code",
   "execution_count": 15,
   "metadata": {},
   "outputs": [],
   "source": [
    "data['ratings'] = pd.to_numeric(data['ratings'], errors='coerce')"
   ]
  },
  {
   "cell_type": "code",
   "execution_count": 16,
   "metadata": {},
   "outputs": [
    {
     "data": {
      "text/html": [
       "<div>\n",
       "<style scoped>\n",
       "    .dataframe tbody tr th:only-of-type {\n",
       "        vertical-align: middle;\n",
       "    }\n",
       "\n",
       "    .dataframe tbody tr th {\n",
       "        vertical-align: top;\n",
       "    }\n",
       "\n",
       "    .dataframe thead th {\n",
       "        text-align: right;\n",
       "    }\n",
       "</style>\n",
       "<table border=\"1\" class=\"dataframe\">\n",
       "  <thead>\n",
       "    <tr style=\"text-align: right;\">\n",
       "      <th></th>\n",
       "      <th>title</th>\n",
       "      <th>puNumber</th>\n",
       "      <th>show_start_date</th>\n",
       "      <th>type</th>\n",
       "      <th>film_studio</th>\n",
       "      <th>production_country</th>\n",
       "      <th>director</th>\n",
       "      <th>producer</th>\n",
       "      <th>age_restriction</th>\n",
       "      <th>refundable_support</th>\n",
       "      <th>nonrefundable_support</th>\n",
       "      <th>budget</th>\n",
       "      <th>financing_source</th>\n",
       "      <th>ratings</th>\n",
       "      <th>genres</th>\n",
       "      <th>box_office</th>\n",
       "    </tr>\n",
       "  </thead>\n",
       "  <tbody>\n",
       "    <tr>\n",
       "      <th>0</th>\n",
       "      <td>Открытый простор</td>\n",
       "      <td>221048915</td>\n",
       "      <td>2015-11-27 12:00:00+00:00</td>\n",
       "      <td>Художественный</td>\n",
       "      <td>Тачстоун Пикчерз, Кобальт Пикчерз, Бикон Пикче...</td>\n",
       "      <td>США</td>\n",
       "      <td>Кевин Костнер</td>\n",
       "      <td>Дэвид Валдес, Кевин Костнер, Джейк Эбертс</td>\n",
       "      <td>«18+» - запрещено для детей</td>\n",
       "      <td>NaN</td>\n",
       "      <td>NaN</td>\n",
       "      <td>NaN</td>\n",
       "      <td>NaN</td>\n",
       "      <td>7.20</td>\n",
       "      <td>боевик,драма,мелодрама</td>\n",
       "      <td>NaN</td>\n",
       "    </tr>\n",
       "    <tr>\n",
       "      <th>1</th>\n",
       "      <td>Особо важное задание</td>\n",
       "      <td>111013716</td>\n",
       "      <td>2016-09-13 12:00:00+00:00</td>\n",
       "      <td>Художественный</td>\n",
       "      <td>Киностудия \"Мосфильм\"</td>\n",
       "      <td>СССР</td>\n",
       "      <td>Е.Матвеев</td>\n",
       "      <td>NaN</td>\n",
       "      <td>«6+» - для детей старше 6 лет</td>\n",
       "      <td>NaN</td>\n",
       "      <td>NaN</td>\n",
       "      <td>NaN</td>\n",
       "      <td>NaN</td>\n",
       "      <td>6.60</td>\n",
       "      <td>драма,военный</td>\n",
       "      <td>NaN</td>\n",
       "    </tr>\n",
       "    <tr>\n",
       "      <th>2</th>\n",
       "      <td>Особо опасен</td>\n",
       "      <td>221038416</td>\n",
       "      <td>2016-10-10 12:00:00+00:00</td>\n",
       "      <td>Художественный</td>\n",
       "      <td>Юниверсал Пикчерз, Кикстарт Продакшнз, Марк Пл...</td>\n",
       "      <td>США</td>\n",
       "      <td>Тимур Бекмамбетов</td>\n",
       "      <td>Джим Лемли, Джейсон Нетер, Марк Е.Платт, Яйн Смит</td>\n",
       "      <td>«18+» - запрещено для детей</td>\n",
       "      <td>NaN</td>\n",
       "      <td>NaN</td>\n",
       "      <td>NaN</td>\n",
       "      <td>NaN</td>\n",
       "      <td>6.80</td>\n",
       "      <td>фантастика,боевик,триллер</td>\n",
       "      <td>NaN</td>\n",
       "    </tr>\n",
       "    <tr>\n",
       "      <th>3</th>\n",
       "      <td>Особо опасен</td>\n",
       "      <td>221026916</td>\n",
       "      <td>2016-06-10 12:00:00+00:00</td>\n",
       "      <td>Художественный</td>\n",
       "      <td>Юниверсал Пикчерз, Кикстарт Продакшнз, Марк Пл...</td>\n",
       "      <td>США</td>\n",
       "      <td>Тимур Бекмамбетов</td>\n",
       "      <td>Джим Лемли, Джейсон Нетер, Марк Е.Платт, Яйн Смит</td>\n",
       "      <td>«18+» - запрещено для детей</td>\n",
       "      <td>NaN</td>\n",
       "      <td>NaN</td>\n",
       "      <td>NaN</td>\n",
       "      <td>NaN</td>\n",
       "      <td>6.80</td>\n",
       "      <td>фантастика,боевик,триллер</td>\n",
       "      <td>NaN</td>\n",
       "    </tr>\n",
       "    <tr>\n",
       "      <th>4</th>\n",
       "      <td>Особо опасен</td>\n",
       "      <td>221030815</td>\n",
       "      <td>2015-07-29 12:00:00+00:00</td>\n",
       "      <td>Художественный</td>\n",
       "      <td>Юниверсал Пикчерз, Кикстарт Продакшнз, Марк Пл...</td>\n",
       "      <td>США</td>\n",
       "      <td>Тимур Бекмамбетов</td>\n",
       "      <td>Джим Лемли, Джейсон Нетер, Марк Е.Платт, Яйн Смит</td>\n",
       "      <td>«18+» - запрещено для детей</td>\n",
       "      <td>NaN</td>\n",
       "      <td>NaN</td>\n",
       "      <td>NaN</td>\n",
       "      <td>NaN</td>\n",
       "      <td>6.80</td>\n",
       "      <td>фантастика,боевик,триллер</td>\n",
       "      <td>NaN</td>\n",
       "    </tr>\n",
       "    <tr>\n",
       "      <th>...</th>\n",
       "      <td>...</td>\n",
       "      <td>...</td>\n",
       "      <td>...</td>\n",
       "      <td>...</td>\n",
       "      <td>...</td>\n",
       "      <td>...</td>\n",
       "      <td>...</td>\n",
       "      <td>...</td>\n",
       "      <td>...</td>\n",
       "      <td>...</td>\n",
       "      <td>...</td>\n",
       "      <td>...</td>\n",
       "      <td>...</td>\n",
       "      <td>...</td>\n",
       "      <td>...</td>\n",
       "      <td>...</td>\n",
       "    </tr>\n",
       "    <tr>\n",
       "      <th>7481</th>\n",
       "      <td>Сад художника: Американский импрессионизм</td>\n",
       "      <td>126008019</td>\n",
       "      <td>2019-12-23 12:00:00+00:00</td>\n",
       "      <td>Прочие</td>\n",
       "      <td>Севен Артс Продакшнз</td>\n",
       "      <td>Великобритания</td>\n",
       "      <td>Фил Грабски</td>\n",
       "      <td>Фил Грабски</td>\n",
       "      <td>«12+» - для детей старше 12 лет</td>\n",
       "      <td>NaN</td>\n",
       "      <td>NaN</td>\n",
       "      <td>NaN</td>\n",
       "      <td>NaN</td>\n",
       "      <td>NaN</td>\n",
       "      <td>NaN</td>\n",
       "      <td>NaN</td>\n",
       "    </tr>\n",
       "    <tr>\n",
       "      <th>7482</th>\n",
       "      <td>Звериная ярость</td>\n",
       "      <td>121037819</td>\n",
       "      <td>2019-12-24 12:00:00+00:00</td>\n",
       "      <td>Художественный</td>\n",
       "      <td>Дэниел Гродник Продакшнз, Вандерфилм Медиа Кор...</td>\n",
       "      <td>США</td>\n",
       "      <td>Ник Пауэлл</td>\n",
       "      <td>Джефф Боулер, Дэниэл Гродник, Луильо Руис, Брэ...</td>\n",
       "      <td>«16+» - для детей старше 16 лет</td>\n",
       "      <td>NaN</td>\n",
       "      <td>NaN</td>\n",
       "      <td>NaN</td>\n",
       "      <td>NaN</td>\n",
       "      <td>5.40</td>\n",
       "      <td>боевик,триллер</td>\n",
       "      <td>NaN</td>\n",
       "    </tr>\n",
       "    <tr>\n",
       "      <th>7483</th>\n",
       "      <td>Щенячий патруль: Скорей спешим на помощь!</td>\n",
       "      <td>124010819</td>\n",
       "      <td>2019-12-28 12:00:00+00:00</td>\n",
       "      <td>Художественный</td>\n",
       "      <td>Никелодеон Анимейшн Студиос, Спин Мастер</td>\n",
       "      <td>США - Канада</td>\n",
       "      <td>Чарльз Е.Бастьен</td>\n",
       "      <td>Дженнифер Додж</td>\n",
       "      <td>«0+» - для любой зрительской аудитории</td>\n",
       "      <td>NaN</td>\n",
       "      <td>NaN</td>\n",
       "      <td>NaN</td>\n",
       "      <td>NaN</td>\n",
       "      <td>NaN</td>\n",
       "      <td>NaN</td>\n",
       "      <td>NaN</td>\n",
       "    </tr>\n",
       "    <tr>\n",
       "      <th>7484</th>\n",
       "      <td>Машины песенки. Серия \"Испанские мотивы\"</td>\n",
       "      <td>124010619</td>\n",
       "      <td>2019-12-30 12:00:00+00:00</td>\n",
       "      <td>Анимационный</td>\n",
       "      <td>Анимаккорд Лтд., ООО Студия \"АНИМАККОРД\"</td>\n",
       "      <td>Республика Кипр, Россия</td>\n",
       "      <td>А.Беляев</td>\n",
       "      <td>Д.Ловейко</td>\n",
       "      <td>«0+» - для любой зрительской аудитории</td>\n",
       "      <td>NaN</td>\n",
       "      <td>NaN</td>\n",
       "      <td>NaN</td>\n",
       "      <td>NaN</td>\n",
       "      <td>NaN</td>\n",
       "      <td>NaN</td>\n",
       "      <td>NaN</td>\n",
       "    </tr>\n",
       "    <tr>\n",
       "      <th>7485</th>\n",
       "      <td>Машины песенки. Серия \"Когда цветут кактусы\"</td>\n",
       "      <td>124010719</td>\n",
       "      <td>2019-12-30 12:00:00+00:00</td>\n",
       "      <td>Анимационный</td>\n",
       "      <td>Анимаккорд Лтд., ООО Студия \"АНИМАККОРД\"</td>\n",
       "      <td>Республика Кипр, Россия</td>\n",
       "      <td>И.Трусов</td>\n",
       "      <td>Д.Ловейко</td>\n",
       "      <td>«0+» - для любой зрительской аудитории</td>\n",
       "      <td>NaN</td>\n",
       "      <td>NaN</td>\n",
       "      <td>NaN</td>\n",
       "      <td>NaN</td>\n",
       "      <td>6.30</td>\n",
       "      <td>комедия,вестерн</td>\n",
       "      <td>NaN</td>\n",
       "    </tr>\n",
       "  </tbody>\n",
       "</table>\n",
       "<p>7486 rows × 16 columns</p>\n",
       "</div>"
      ],
      "text/plain": [
       "                                             title   puNumber  \\\n",
       "0                                 Открытый простор  221048915   \n",
       "1                             Особо важное задание  111013716   \n",
       "2                                     Особо опасен  221038416   \n",
       "3                                     Особо опасен  221026916   \n",
       "4                                     Особо опасен  221030815   \n",
       "...                                            ...        ...   \n",
       "7481     Сад художника: Американский импрессионизм  126008019   \n",
       "7482                               Звериная ярость  121037819   \n",
       "7483     Щенячий патруль: Скорей спешим на помощь!  124010819   \n",
       "7484      Машины песенки. Серия \"Испанские мотивы\"  124010619   \n",
       "7485  Машины песенки. Серия \"Когда цветут кактусы\"  124010719   \n",
       "\n",
       "               show_start_date             type  \\\n",
       "0    2015-11-27 12:00:00+00:00   Художественный   \n",
       "1    2016-09-13 12:00:00+00:00   Художественный   \n",
       "2    2016-10-10 12:00:00+00:00   Художественный   \n",
       "3    2016-06-10 12:00:00+00:00   Художественный   \n",
       "4    2015-07-29 12:00:00+00:00   Художественный   \n",
       "...                        ...              ...   \n",
       "7481 2019-12-23 12:00:00+00:00           Прочие   \n",
       "7482 2019-12-24 12:00:00+00:00   Художественный   \n",
       "7483 2019-12-28 12:00:00+00:00   Художественный   \n",
       "7484 2019-12-30 12:00:00+00:00     Анимационный   \n",
       "7485 2019-12-30 12:00:00+00:00     Анимационный   \n",
       "\n",
       "                                            film_studio  \\\n",
       "0     Тачстоун Пикчерз, Кобальт Пикчерз, Бикон Пикче...   \n",
       "1                                 Киностудия \"Мосфильм\"   \n",
       "2     Юниверсал Пикчерз, Кикстарт Продакшнз, Марк Пл...   \n",
       "3     Юниверсал Пикчерз, Кикстарт Продакшнз, Марк Пл...   \n",
       "4     Юниверсал Пикчерз, Кикстарт Продакшнз, Марк Пл...   \n",
       "...                                                 ...   \n",
       "7481                               Севен Артс Продакшнз   \n",
       "7482  Дэниел Гродник Продакшнз, Вандерфилм Медиа Кор...   \n",
       "7483           Никелодеон Анимейшн Студиос, Спин Мастер   \n",
       "7484           Анимаккорд Лтд., ООО Студия \"АНИМАККОРД\"   \n",
       "7485           Анимаккорд Лтд., ООО Студия \"АНИМАККОРД\"   \n",
       "\n",
       "           production_country           director  \\\n",
       "0                         США      Кевин Костнер   \n",
       "1                        СССР          Е.Матвеев   \n",
       "2                         США  Тимур Бекмамбетов   \n",
       "3                         США  Тимур Бекмамбетов   \n",
       "4                         США  Тимур Бекмамбетов   \n",
       "...                       ...                ...   \n",
       "7481           Великобритания        Фил Грабски   \n",
       "7482                      США         Ник Пауэлл   \n",
       "7483             США - Канада   Чарльз Е.Бастьен   \n",
       "7484  Республика Кипр, Россия           А.Беляев   \n",
       "7485  Республика Кипр, Россия           И.Трусов   \n",
       "\n",
       "                                               producer  \\\n",
       "0             Дэвид Валдес, Кевин Костнер, Джейк Эбертс   \n",
       "1                                                   NaN   \n",
       "2     Джим Лемли, Джейсон Нетер, Марк Е.Платт, Яйн Смит   \n",
       "3     Джим Лемли, Джейсон Нетер, Марк Е.Платт, Яйн Смит   \n",
       "4     Джим Лемли, Джейсон Нетер, Марк Е.Платт, Яйн Смит   \n",
       "...                                                 ...   \n",
       "7481                                        Фил Грабски   \n",
       "7482  Джефф Боулер, Дэниэл Гродник, Луильо Руис, Брэ...   \n",
       "7483                                     Дженнифер Додж   \n",
       "7484                                          Д.Ловейко   \n",
       "7485                                          Д.Ловейко   \n",
       "\n",
       "                             age_restriction  refundable_support  \\\n",
       "0                «18+» - запрещено для детей                 NaN   \n",
       "1              «6+» - для детей старше 6 лет                 NaN   \n",
       "2                «18+» - запрещено для детей                 NaN   \n",
       "3                «18+» - запрещено для детей                 NaN   \n",
       "4                «18+» - запрещено для детей                 NaN   \n",
       "...                                      ...                 ...   \n",
       "7481         «12+» - для детей старше 12 лет                 NaN   \n",
       "7482         «16+» - для детей старше 16 лет                 NaN   \n",
       "7483  «0+» - для любой зрительской аудитории                 NaN   \n",
       "7484  «0+» - для любой зрительской аудитории                 NaN   \n",
       "7485  «0+» - для любой зрительской аудитории                 NaN   \n",
       "\n",
       "      nonrefundable_support  budget financing_source  ratings  \\\n",
       "0                       NaN     NaN              NaN     7.20   \n",
       "1                       NaN     NaN              NaN     6.60   \n",
       "2                       NaN     NaN              NaN     6.80   \n",
       "3                       NaN     NaN              NaN     6.80   \n",
       "4                       NaN     NaN              NaN     6.80   \n",
       "...                     ...     ...              ...      ...   \n",
       "7481                    NaN     NaN              NaN      NaN   \n",
       "7482                    NaN     NaN              NaN     5.40   \n",
       "7483                    NaN     NaN              NaN      NaN   \n",
       "7484                    NaN     NaN              NaN      NaN   \n",
       "7485                    NaN     NaN              NaN     6.30   \n",
       "\n",
       "                         genres  box_office  \n",
       "0        боевик,драма,мелодрама         NaN  \n",
       "1                 драма,военный         NaN  \n",
       "2     фантастика,боевик,триллер         NaN  \n",
       "3     фантастика,боевик,триллер         NaN  \n",
       "4     фантастика,боевик,триллер         NaN  \n",
       "...                         ...         ...  \n",
       "7481                        NaN         NaN  \n",
       "7482             боевик,триллер         NaN  \n",
       "7483                        NaN         NaN  \n",
       "7484                        NaN         NaN  \n",
       "7485            комедия,вестерн         NaN  \n",
       "\n",
       "[7486 rows x 16 columns]"
      ]
     },
     "execution_count": 16,
     "metadata": {},
     "output_type": "execute_result"
    }
   ],
   "source": [
    "data"
   ]
  },
  {
   "cell_type": "code",
   "execution_count": 17,
   "metadata": {},
   "outputs": [
    {
     "name": "stdout",
     "output_type": "stream",
     "text": [
      "<class 'pandas.core.frame.DataFrame'>\n",
      "Int64Index: 7486 entries, 0 to 7485\n",
      "Data columns (total 16 columns):\n",
      " #   Column                 Non-Null Count  Dtype              \n",
      "---  ------                 --------------  -----              \n",
      " 0   title                  7486 non-null   object             \n",
      " 1   puNumber               7486 non-null   Int64              \n",
      " 2   show_start_date        7486 non-null   datetime64[ns, UTC]\n",
      " 3   type                   7486 non-null   object             \n",
      " 4   film_studio            7468 non-null   object             \n",
      " 5   production_country     7484 non-null   object             \n",
      " 6   director               7477 non-null   object             \n",
      " 7   producer               6918 non-null   object             \n",
      " 8   age_restriction        7486 non-null   object             \n",
      " 9   refundable_support     332 non-null    float64            \n",
      " 10  nonrefundable_support  332 non-null    float64            \n",
      " 11  budget                 332 non-null    float64            \n",
      " 12  financing_source       332 non-null    object             \n",
      " 13  ratings                6490 non-null   float64            \n",
      " 14  genres                 6510 non-null   object             \n",
      " 15  box_office             3158 non-null   float64            \n",
      "dtypes: Int64(1), datetime64[ns, UTC](1), float64(5), object(9)\n",
      "memory usage: 1001.5+ KB\n"
     ]
    }
   ],
   "source": [
    "data.info()"
   ]
  },
  {
   "cell_type": "markdown",
   "metadata": {},
   "source": [
    "Замена прошла корректно."
   ]
  },
  {
   "cell_type": "markdown",
   "metadata": {
    "id": "i0MOLbF-gFyP"
   },
   "source": [
    "#### Шаг 2.2. Изучите пропуски в датафрейме\n",
    "\n",
    "- Объясните, почему заполнили пропуски определённым образом или почему не стали этого делать."
   ]
  },
  {
   "cell_type": "code",
   "execution_count": 18,
   "metadata": {
    "id": "8MJD_lkngFyP"
   },
   "outputs": [
    {
     "data": {
      "text/plain": [
       "title                       0\n",
       "puNumber                    0\n",
       "show_start_date             0\n",
       "type                        0\n",
       "film_studio                18\n",
       "production_country          2\n",
       "director                    9\n",
       "producer                  568\n",
       "age_restriction             0\n",
       "refundable_support       7154\n",
       "nonrefundable_support    7154\n",
       "budget                   7154\n",
       "financing_source         7154\n",
       "ratings                   996\n",
       "genres                    976\n",
       "box_office               4328\n",
       "dtype: int64"
      ]
     },
     "execution_count": 18,
     "metadata": {},
     "output_type": "execute_result"
    }
   ],
   "source": [
    "data.isna().sum()"
   ]
  },
  {
   "cell_type": "markdown",
   "metadata": {},
   "source": [
    "# Вывод                     \n",
    "- puNumber                    0 - Пропуски отсутствуют\n",
    "- show_start_date             0 - Пропуски отсутствуют\n",
    "- type                        0 - Пропуски отсутствуют\n",
    "- film_studio                18 - Пропусков достаточно мало, а придумать им замену не представляется возможным, оставим.\n",
    "- production_country          2 - Пропусков слишком мало, оставляем.\n",
    "- director                    9 - Пропусков слишком мало, оставим.\n",
    "- producer                  568 - Пропусков менее 8%, можно оставить.\n",
    "- age_restriction             0 - Пропуски отсутствуют.\n",
    "- Пропущена значительная часть данный в refundable_support, nonrefundable_support, budget, financing_source. Но в описании указано, что эти данные указаны только для тех фильмов, которые получили государственную поддержку. Также бюджет этих фильмов указан с учетом государственной поддержки;\n",
    "- ratings                   996 - Оставим\n",
    "- genres                    976 - Оставим\n",
    "- box_office               4328 - Недостаточно данных для заполнения"
   ]
  },
  {
   "cell_type": "markdown",
   "metadata": {
    "id": "4c6k1t9ygFyQ"
   },
   "source": [
    "#### Шаг 2.3. Изучите дубликаты в датафрейме\n",
    "- Проверьте, есть ли в данных дубликаты. Опишите причины, которые могли повлиять на появление дублей."
   ]
  },
  {
   "cell_type": "code",
   "execution_count": 19,
   "metadata": {
    "id": "aKck8RIdgFyQ"
   },
   "outputs": [
    {
     "data": {
      "text/plain": [
       "0"
      ]
     },
     "execution_count": 19,
     "metadata": {},
     "output_type": "execute_result"
    }
   ],
   "source": [
    "data.duplicated().sum()"
   ]
  },
  {
   "cell_type": "code",
   "execution_count": 110,
   "metadata": {},
   "outputs": [
    {
     "data": {
      "text/plain": [
       "2"
      ]
     },
     "execution_count": 110,
     "metadata": {},
     "output_type": "execute_result"
    }
   ],
   "source": [
    "data['puNumber'].duplicated().sum()"
   ]
  },
  {
   "cell_type": "code",
   "execution_count": 111,
   "metadata": {},
   "outputs": [
    {
     "data": {
      "text/plain": [
       "714"
      ]
     },
     "execution_count": 111,
     "metadata": {},
     "output_type": "execute_result"
    }
   ],
   "source": [
    "data['title'].duplicated().sum()"
   ]
  },
  {
   "cell_type": "markdown",
   "metadata": {
    "id": "52fOPrEBgFyQ"
   },
   "source": [
    "#### Шаг 2.4. Изучите категориальные значения\n",
    "\n",
    "- Посмотрите, какая общая проблема встречается почти во всех категориальных столбцах;\n",
    "- Исправьте проблемные значения в поле `type`.\n",
    "\n",
    "<div id=\"accordion\">\n",
    "    <div class=\"card\">\n",
    "        <div class=\"card-header\" id=\"headingThree\">\n",
    "            <button class=\"btn btn-link collapsed\" data-toggle=\"collapse\" data-target=\"#collapseHint_1\" aria-expanded=\"false\" aria-controls=\"collapseHint_1\">Подсказка</button>\n",
    "        </div>\n",
    "        <div id=\"collapseHint_1\" class=\"collapse\" aria-labelledby=\"headingThree\" data-parent=\"#accordion\">\n",
    "            <div class=\"card-body\">\n",
    "В поле <code>type</code> есть несколько значений, у которых появился пробел в начале строки. Самый простой способ их «починить» -- использовать метод <a href=\"https://pandas.pydata.org/docs/reference/api/pandas.Series.str.strip.html#pandas.Series.str.strip\">.str.strip</a>. Этот метод удаляет все пробелы, которые встречаются в начале и в конце строки. Применяют его таким образом:<br>\n",
    "<code>df['type'].str.strip()</code>\n",
    "            </div>\n",
    "        </div>\n",
    "    </div>\n",
    "</div>"
   ]
  },
  {
   "cell_type": "code",
   "execution_count": 20,
   "metadata": {
    "id": "PnXKIVdFgFyR"
   },
   "outputs": [
    {
     "data": {
      "text/html": [
       "<div>\n",
       "<style scoped>\n",
       "    .dataframe tbody tr th:only-of-type {\n",
       "        vertical-align: middle;\n",
       "    }\n",
       "\n",
       "    .dataframe tbody tr th {\n",
       "        vertical-align: top;\n",
       "    }\n",
       "\n",
       "    .dataframe thead th {\n",
       "        text-align: right;\n",
       "    }\n",
       "</style>\n",
       "<table border=\"1\" class=\"dataframe\">\n",
       "  <thead>\n",
       "    <tr style=\"text-align: right;\">\n",
       "      <th></th>\n",
       "      <th>title</th>\n",
       "      <th>puNumber</th>\n",
       "      <th>show_start_date</th>\n",
       "      <th>type</th>\n",
       "      <th>film_studio</th>\n",
       "      <th>production_country</th>\n",
       "      <th>director</th>\n",
       "      <th>producer</th>\n",
       "      <th>age_restriction</th>\n",
       "      <th>refundable_support</th>\n",
       "      <th>nonrefundable_support</th>\n",
       "      <th>budget</th>\n",
       "      <th>financing_source</th>\n",
       "      <th>ratings</th>\n",
       "      <th>genres</th>\n",
       "      <th>box_office</th>\n",
       "    </tr>\n",
       "  </thead>\n",
       "  <tbody>\n",
       "    <tr>\n",
       "      <th>110</th>\n",
       "      <td>Гарри Поттер и орден Феникса /По роману Дж.К.Р...</td>\n",
       "      <td>121026316</td>\n",
       "      <td>2016-09-23 12:00:00+00:00</td>\n",
       "      <td>Художественный</td>\n",
       "      <td>Уорнер Бразерс, Хэйдей Филмз</td>\n",
       "      <td>США - Великобритания</td>\n",
       "      <td>Дэвид Йетс</td>\n",
       "      <td>Дэйвид Баррон, Дэйвид Хейман</td>\n",
       "      <td>«16+» - для детей старше 16 лет</td>\n",
       "      <td>NaN</td>\n",
       "      <td>NaN</td>\n",
       "      <td>NaN</td>\n",
       "      <td>NaN</td>\n",
       "      <td>7.70</td>\n",
       "      <td>фэнтези,приключения,семейный</td>\n",
       "      <td>759,526.00</td>\n",
       "    </tr>\n",
       "    <tr>\n",
       "      <th>111</th>\n",
       "      <td>Гарри Поттер и тайная комната /По роману Дж.К....</td>\n",
       "      <td>121026016</td>\n",
       "      <td>2016-09-23 12:00:00+00:00</td>\n",
       "      <td>Художественный</td>\n",
       "      <td>Уорнер Бразерс, Хедэй Филмз/1492 Пикчерз</td>\n",
       "      <td>США</td>\n",
       "      <td>Крис Коламбус</td>\n",
       "      <td>Дейвид Хейман</td>\n",
       "      <td>«12+» - для детей старше 12 лет</td>\n",
       "      <td>NaN</td>\n",
       "      <td>NaN</td>\n",
       "      <td>NaN</td>\n",
       "      <td>NaN</td>\n",
       "      <td>8.00</td>\n",
       "      <td>фэнтези,приключения,семейный</td>\n",
       "      <td>1,093,810.00</td>\n",
       "    </tr>\n",
       "    <tr>\n",
       "      <th>113</th>\n",
       "      <td>Гарри Поттер и узник Азкабана /По роману Дж.К....</td>\n",
       "      <td>121026116</td>\n",
       "      <td>2016-09-23 12:00:00+00:00</td>\n",
       "      <td>Художественный</td>\n",
       "      <td>Хэйдей Филмз, 1492 Пикчерз, Уорнер Бразерс</td>\n",
       "      <td>США</td>\n",
       "      <td>Альфонсо Куарон</td>\n",
       "      <td>Майкл Барната</td>\n",
       "      <td>«12+» - для детей старше 12 лет</td>\n",
       "      <td>NaN</td>\n",
       "      <td>NaN</td>\n",
       "      <td>NaN</td>\n",
       "      <td>NaN</td>\n",
       "      <td>8.20</td>\n",
       "      <td>фэнтези,приключения,семейный</td>\n",
       "      <td>1,125,302.00</td>\n",
       "    </tr>\n",
       "    <tr>\n",
       "      <th>114</th>\n",
       "      <td>Гарри Поттер и философский камень /По роману Д...</td>\n",
       "      <td>121025916</td>\n",
       "      <td>2016-09-23 12:00:00+00:00</td>\n",
       "      <td>Художественный</td>\n",
       "      <td>Уорнер Бразерс, Хэйдэй Филмз/1492 Пикчерз/Данк...</td>\n",
       "      <td>США</td>\n",
       "      <td>Крис Коламбус</td>\n",
       "      <td>Дейвид Хейман</td>\n",
       "      <td>«12+» - для детей старше 12 лет</td>\n",
       "      <td>NaN</td>\n",
       "      <td>NaN</td>\n",
       "      <td>NaN</td>\n",
       "      <td>NaN</td>\n",
       "      <td>8.20</td>\n",
       "      <td>фэнтези,приключения,семейный</td>\n",
       "      <td>1,948,760.00</td>\n",
       "    </tr>\n",
       "    <tr>\n",
       "      <th>122</th>\n",
       "      <td>Гарри Поттер и кубок огня /По роману Дж.К.Ролинг/</td>\n",
       "      <td>121026216</td>\n",
       "      <td>2016-09-23 12:00:00+00:00</td>\n",
       "      <td>Художественный</td>\n",
       "      <td>Уорнер Бразерс, Хэйдэй Филмз</td>\n",
       "      <td>США - Великобритания</td>\n",
       "      <td>Майк Ньюэлл</td>\n",
       "      <td>Дэйвид Хейман</td>\n",
       "      <td>«16+» - для детей старше 16 лет</td>\n",
       "      <td>NaN</td>\n",
       "      <td>NaN</td>\n",
       "      <td>NaN</td>\n",
       "      <td>NaN</td>\n",
       "      <td>7.90</td>\n",
       "      <td>фэнтези,приключения,семейный</td>\n",
       "      <td>843,310.00</td>\n",
       "    </tr>\n",
       "    <tr>\n",
       "      <th>...</th>\n",
       "      <td>...</td>\n",
       "      <td>...</td>\n",
       "      <td>...</td>\n",
       "      <td>...</td>\n",
       "      <td>...</td>\n",
       "      <td>...</td>\n",
       "      <td>...</td>\n",
       "      <td>...</td>\n",
       "      <td>...</td>\n",
       "      <td>...</td>\n",
       "      <td>...</td>\n",
       "      <td>...</td>\n",
       "      <td>...</td>\n",
       "      <td>...</td>\n",
       "      <td>...</td>\n",
       "      <td>...</td>\n",
       "    </tr>\n",
       "    <tr>\n",
       "      <th>6918</th>\n",
       "      <td>Дитя тьмы</td>\n",
       "      <td>121010819</td>\n",
       "      <td>2019-05-23 12:00:00+00:00</td>\n",
       "      <td>Художественный</td>\n",
       "      <td>Брокен Миррор Фильм</td>\n",
       "      <td>Канада</td>\n",
       "      <td>Джереми Люттер</td>\n",
       "      <td>Джереми Люттер, Жослин Расселл, Робин Чан</td>\n",
       "      <td>«18+» - запрещено для детей</td>\n",
       "      <td>NaN</td>\n",
       "      <td>NaN</td>\n",
       "      <td>NaN</td>\n",
       "      <td>NaN</td>\n",
       "      <td>6.90</td>\n",
       "      <td>ужасы,триллер,детектив</td>\n",
       "      <td>2,276,644.94</td>\n",
       "    </tr>\n",
       "    <tr>\n",
       "      <th>7281</th>\n",
       "      <td>Прощание</td>\n",
       "      <td>121028719</td>\n",
       "      <td>2019-10-07 12:00:00+00:00</td>\n",
       "      <td>Художественный</td>\n",
       "      <td>Биг Бич Филмз, Депз оф Филд, Киндред Спирит</td>\n",
       "      <td>США</td>\n",
       "      <td>Лулу Ванг</td>\n",
       "      <td>Анита Го, Даниэль Тейт Мелиа, Эндрю Миано</td>\n",
       "      <td>«16+» - для детей старше 16 лет</td>\n",
       "      <td>NaN</td>\n",
       "      <td>NaN</td>\n",
       "      <td>NaN</td>\n",
       "      <td>NaN</td>\n",
       "      <td>7.20</td>\n",
       "      <td>драма</td>\n",
       "      <td>2,617,932.50</td>\n",
       "    </tr>\n",
       "    <tr>\n",
       "      <th>7289</th>\n",
       "      <td>Игра с огнем</td>\n",
       "      <td>121029319</td>\n",
       "      <td>2019-10-10 12:00:00+00:00</td>\n",
       "      <td>Художественный</td>\n",
       "      <td>Йал Продакшнз, Хопскоч Пикчерз, Фильм Моуд Инт...</td>\n",
       "      <td>США</td>\n",
       "      <td>Майк Ган</td>\n",
       "      <td>Джордан Бекман, Суки Чю</td>\n",
       "      <td>«18+» - запрещено для детей</td>\n",
       "      <td>NaN</td>\n",
       "      <td>NaN</td>\n",
       "      <td>NaN</td>\n",
       "      <td>NaN</td>\n",
       "      <td>5.60</td>\n",
       "      <td>триллер</td>\n",
       "      <td>281,077.00</td>\n",
       "    </tr>\n",
       "    <tr>\n",
       "      <th>7322</th>\n",
       "      <td>Успех</td>\n",
       "      <td>111018519</td>\n",
       "      <td>2019-11-04 12:00:00+00:00</td>\n",
       "      <td>Художественный</td>\n",
       "      <td>ООО \"Кинодом\"</td>\n",
       "      <td>Россия</td>\n",
       "      <td>П.Руминов</td>\n",
       "      <td>С.Бобза, Г.Малков, В.Поляков, М.Кучмент</td>\n",
       "      <td>«12+» - для детей старше 12 лет</td>\n",
       "      <td>5,000,000.00</td>\n",
       "      <td>20,000,000.00</td>\n",
       "      <td>75,000,000.00</td>\n",
       "      <td>Фонд кино</td>\n",
       "      <td>7.80</td>\n",
       "      <td>драма</td>\n",
       "      <td>3,181,218.00</td>\n",
       "    </tr>\n",
       "    <tr>\n",
       "      <th>7438</th>\n",
       "      <td>Зверь</td>\n",
       "      <td>121035919</td>\n",
       "      <td>2019-12-05 12:00:00+00:00</td>\n",
       "      <td>Художественный</td>\n",
       "      <td>Студио энд Нью</td>\n",
       "      <td>Южная Корея</td>\n",
       "      <td>Ли Джон-хо</td>\n",
       "      <td>Чан Гён-ик, Чон Джи-хун, Пэк Кён сук</td>\n",
       "      <td>«18+» - запрещено для детей</td>\n",
       "      <td>NaN</td>\n",
       "      <td>NaN</td>\n",
       "      <td>NaN</td>\n",
       "      <td>NaN</td>\n",
       "      <td>6.50</td>\n",
       "      <td>триллер,драма</td>\n",
       "      <td>175,003.51</td>\n",
       "    </tr>\n",
       "  </tbody>\n",
       "</table>\n",
       "<p>228 rows × 16 columns</p>\n",
       "</div>"
      ],
      "text/plain": [
       "                                                  title   puNumber  \\\n",
       "110   Гарри Поттер и орден Феникса /По роману Дж.К.Р...  121026316   \n",
       "111   Гарри Поттер и тайная комната /По роману Дж.К....  121026016   \n",
       "113   Гарри Поттер и узник Азкабана /По роману Дж.К....  121026116   \n",
       "114   Гарри Поттер и философский камень /По роману Д...  121025916   \n",
       "122   Гарри Поттер и кубок огня /По роману Дж.К.Ролинг/  121026216   \n",
       "...                                                 ...        ...   \n",
       "6918                                          Дитя тьмы  121010819   \n",
       "7281                                           Прощание  121028719   \n",
       "7289                                       Игра с огнем  121029319   \n",
       "7322                                              Успех  111018519   \n",
       "7438                                              Зверь  121035919   \n",
       "\n",
       "               show_start_date             type  \\\n",
       "110  2016-09-23 12:00:00+00:00   Художественный   \n",
       "111  2016-09-23 12:00:00+00:00   Художественный   \n",
       "113  2016-09-23 12:00:00+00:00   Художественный   \n",
       "114  2016-09-23 12:00:00+00:00   Художественный   \n",
       "122  2016-09-23 12:00:00+00:00   Художественный   \n",
       "...                        ...              ...   \n",
       "6918 2019-05-23 12:00:00+00:00   Художественный   \n",
       "7281 2019-10-07 12:00:00+00:00   Художественный   \n",
       "7289 2019-10-10 12:00:00+00:00   Художественный   \n",
       "7322 2019-11-04 12:00:00+00:00   Художественный   \n",
       "7438 2019-12-05 12:00:00+00:00   Художественный   \n",
       "\n",
       "                                            film_studio    production_country  \\\n",
       "110                        Уорнер Бразерс, Хэйдей Филмз  США - Великобритания   \n",
       "111            Уорнер Бразерс, Хедэй Филмз/1492 Пикчерз                   США   \n",
       "113          Хэйдей Филмз, 1492 Пикчерз, Уорнер Бразерс                   США   \n",
       "114   Уорнер Бразерс, Хэйдэй Филмз/1492 Пикчерз/Данк...                   США   \n",
       "122                        Уорнер Бразерс, Хэйдэй Филмз  США - Великобритания   \n",
       "...                                                 ...                   ...   \n",
       "6918                                Брокен Миррор Фильм                Канада   \n",
       "7281        Биг Бич Филмз, Депз оф Филд, Киндред Спирит                   США   \n",
       "7289  Йал Продакшнз, Хопскоч Пикчерз, Фильм Моуд Инт...                   США   \n",
       "7322                                      ООО \"Кинодом\"                Россия   \n",
       "7438                                     Студио энд Нью           Южная Корея   \n",
       "\n",
       "             director                                   producer  \\\n",
       "110        Дэвид Йетс               Дэйвид Баррон, Дэйвид Хейман   \n",
       "111     Крис Коламбус                              Дейвид Хейман   \n",
       "113   Альфонсо Куарон                              Майкл Барната   \n",
       "114     Крис Коламбус                              Дейвид Хейман   \n",
       "122       Майк Ньюэлл                              Дэйвид Хейман   \n",
       "...               ...                                        ...   \n",
       "6918   Джереми Люттер  Джереми Люттер, Жослин Расселл, Робин Чан   \n",
       "7281        Лулу Ванг  Анита Го, Даниэль Тейт Мелиа, Эндрю Миано   \n",
       "7289         Майк Ган                    Джордан Бекман, Суки Чю   \n",
       "7322        П.Руминов    С.Бобза, Г.Малков, В.Поляков, М.Кучмент   \n",
       "7438       Ли Джон-хо       Чан Гён-ик, Чон Джи-хун, Пэк Кён сук   \n",
       "\n",
       "                      age_restriction  refundable_support  \\\n",
       "110   «16+» - для детей старше 16 лет                 NaN   \n",
       "111   «12+» - для детей старше 12 лет                 NaN   \n",
       "113   «12+» - для детей старше 12 лет                 NaN   \n",
       "114   «12+» - для детей старше 12 лет                 NaN   \n",
       "122   «16+» - для детей старше 16 лет                 NaN   \n",
       "...                               ...                 ...   \n",
       "6918      «18+» - запрещено для детей                 NaN   \n",
       "7281  «16+» - для детей старше 16 лет                 NaN   \n",
       "7289      «18+» - запрещено для детей                 NaN   \n",
       "7322  «12+» - для детей старше 12 лет        5,000,000.00   \n",
       "7438      «18+» - запрещено для детей                 NaN   \n",
       "\n",
       "      nonrefundable_support        budget financing_source  ratings  \\\n",
       "110                     NaN           NaN              NaN     7.70   \n",
       "111                     NaN           NaN              NaN     8.00   \n",
       "113                     NaN           NaN              NaN     8.20   \n",
       "114                     NaN           NaN              NaN     8.20   \n",
       "122                     NaN           NaN              NaN     7.90   \n",
       "...                     ...           ...              ...      ...   \n",
       "6918                    NaN           NaN              NaN     6.90   \n",
       "7281                    NaN           NaN              NaN     7.20   \n",
       "7289                    NaN           NaN              NaN     5.60   \n",
       "7322          20,000,000.00 75,000,000.00        Фонд кино     7.80   \n",
       "7438                    NaN           NaN              NaN     6.50   \n",
       "\n",
       "                            genres   box_office  \n",
       "110   фэнтези,приключения,семейный   759,526.00  \n",
       "111   фэнтези,приключения,семейный 1,093,810.00  \n",
       "113   фэнтези,приключения,семейный 1,125,302.00  \n",
       "114   фэнтези,приключения,семейный 1,948,760.00  \n",
       "122   фэнтези,приключения,семейный   843,310.00  \n",
       "...                            ...          ...  \n",
       "6918        ужасы,триллер,детектив 2,276,644.94  \n",
       "7281                         драма 2,617,932.50  \n",
       "7289                       триллер   281,077.00  \n",
       "7322                         драма 3,181,218.00  \n",
       "7438                 триллер,драма   175,003.51  \n",
       "\n",
       "[228 rows x 16 columns]"
      ]
     },
     "execution_count": 20,
     "metadata": {},
     "output_type": "execute_result"
    }
   ],
   "source": [
    "data[(data['title'].duplicated(keep=False)) & (data['box_office'].isna() == False)]"
   ]
  },
  {
   "cell_type": "code",
   "execution_count": 21,
   "metadata": {},
   "outputs": [
    {
     "data": {
      "text/plain": [
       "'Гарри Поттер и орден Феникса /По роману Дж.К.Ролинг/'"
      ]
     },
     "execution_count": 21,
     "metadata": {},
     "output_type": "execute_result"
    }
   ],
   "source": [
    "data.loc[110, 'title']"
   ]
  },
  {
   "cell_type": "code",
   "execution_count": 22,
   "metadata": {},
   "outputs": [
    {
     "data": {
      "text/html": [
       "<div>\n",
       "<style scoped>\n",
       "    .dataframe tbody tr th:only-of-type {\n",
       "        vertical-align: middle;\n",
       "    }\n",
       "\n",
       "    .dataframe tbody tr th {\n",
       "        vertical-align: top;\n",
       "    }\n",
       "\n",
       "    .dataframe thead th {\n",
       "        text-align: right;\n",
       "    }\n",
       "</style>\n",
       "<table border=\"1\" class=\"dataframe\">\n",
       "  <thead>\n",
       "    <tr style=\"text-align: right;\">\n",
       "      <th></th>\n",
       "      <th>title</th>\n",
       "      <th>puNumber</th>\n",
       "      <th>show_start_date</th>\n",
       "      <th>type</th>\n",
       "      <th>film_studio</th>\n",
       "      <th>production_country</th>\n",
       "      <th>director</th>\n",
       "      <th>producer</th>\n",
       "      <th>age_restriction</th>\n",
       "      <th>refundable_support</th>\n",
       "      <th>nonrefundable_support</th>\n",
       "      <th>budget</th>\n",
       "      <th>financing_source</th>\n",
       "      <th>ratings</th>\n",
       "      <th>genres</th>\n",
       "      <th>box_office</th>\n",
       "    </tr>\n",
       "  </thead>\n",
       "  <tbody>\n",
       "    <tr>\n",
       "      <th>109</th>\n",
       "      <td>Гарри Поттер и орден Феникса /По роману Дж.К.Р...</td>\n",
       "      <td>221004916</td>\n",
       "      <td>2016-02-09 12:00:00+00:00</td>\n",
       "      <td>Художественный</td>\n",
       "      <td>Уорнер Бразерс, Хэйдей Филмз</td>\n",
       "      <td>США - Великобритания</td>\n",
       "      <td>Дэвид Йетс</td>\n",
       "      <td>Дэйвид Баррон, Дэйвид Хейман</td>\n",
       "      <td>«16+» - для детей старше 16 лет</td>\n",
       "      <td>NaN</td>\n",
       "      <td>NaN</td>\n",
       "      <td>NaN</td>\n",
       "      <td>NaN</td>\n",
       "      <td>7.70</td>\n",
       "      <td>фэнтези,приключения,семейный</td>\n",
       "      <td>NaN</td>\n",
       "    </tr>\n",
       "    <tr>\n",
       "      <th>110</th>\n",
       "      <td>Гарри Поттер и орден Феникса /По роману Дж.К.Р...</td>\n",
       "      <td>121026316</td>\n",
       "      <td>2016-09-23 12:00:00+00:00</td>\n",
       "      <td>Художественный</td>\n",
       "      <td>Уорнер Бразерс, Хэйдей Филмз</td>\n",
       "      <td>США - Великобритания</td>\n",
       "      <td>Дэвид Йетс</td>\n",
       "      <td>Дэйвид Баррон, Дэйвид Хейман</td>\n",
       "      <td>«16+» - для детей старше 16 лет</td>\n",
       "      <td>NaN</td>\n",
       "      <td>NaN</td>\n",
       "      <td>NaN</td>\n",
       "      <td>NaN</td>\n",
       "      <td>7.70</td>\n",
       "      <td>фэнтези,приключения,семейный</td>\n",
       "      <td>759,526.00</td>\n",
       "    </tr>\n",
       "    <tr>\n",
       "      <th>4427</th>\n",
       "      <td>Гарри Поттер и орден Феникса /По роману Дж.К.Р...</td>\n",
       "      <td>221134510</td>\n",
       "      <td>2010-11-29 12:00:00+00:00</td>\n",
       "      <td>Художественный</td>\n",
       "      <td>Уорнер Бразерс, Хэйдей Филмз</td>\n",
       "      <td>США - Великобритания</td>\n",
       "      <td>Дэвид Йетс</td>\n",
       "      <td>Дэйвид Баррон, Дэйвид Хейман</td>\n",
       "      <td>«16+» - для детей старше 16 лет</td>\n",
       "      <td>NaN</td>\n",
       "      <td>NaN</td>\n",
       "      <td>NaN</td>\n",
       "      <td>NaN</td>\n",
       "      <td>7.70</td>\n",
       "      <td>фэнтези,приключения,семейный</td>\n",
       "      <td>NaN</td>\n",
       "    </tr>\n",
       "  </tbody>\n",
       "</table>\n",
       "</div>"
      ],
      "text/plain": [
       "                                                  title   puNumber  \\\n",
       "109   Гарри Поттер и орден Феникса /По роману Дж.К.Р...  221004916   \n",
       "110   Гарри Поттер и орден Феникса /По роману Дж.К.Р...  121026316   \n",
       "4427  Гарри Поттер и орден Феникса /По роману Дж.К.Р...  221134510   \n",
       "\n",
       "               show_start_date            type                   film_studio  \\\n",
       "109  2016-02-09 12:00:00+00:00  Художественный  Уорнер Бразерс, Хэйдей Филмз   \n",
       "110  2016-09-23 12:00:00+00:00  Художественный  Уорнер Бразерс, Хэйдей Филмз   \n",
       "4427 2010-11-29 12:00:00+00:00  Художественный  Уорнер Бразерс, Хэйдей Филмз   \n",
       "\n",
       "        production_country    director                      producer  \\\n",
       "109   США - Великобритания  Дэвид Йетс  Дэйвид Баррон, Дэйвид Хейман   \n",
       "110   США - Великобритания  Дэвид Йетс  Дэйвид Баррон, Дэйвид Хейман   \n",
       "4427  США - Великобритания  Дэвид Йетс  Дэйвид Баррон, Дэйвид Хейман   \n",
       "\n",
       "                      age_restriction  refundable_support  \\\n",
       "109   «16+» - для детей старше 16 лет                 NaN   \n",
       "110   «16+» - для детей старше 16 лет                 NaN   \n",
       "4427  «16+» - для детей старше 16 лет                 NaN   \n",
       "\n",
       "      nonrefundable_support  budget financing_source  ratings  \\\n",
       "109                     NaN     NaN              NaN     7.70   \n",
       "110                     NaN     NaN              NaN     7.70   \n",
       "4427                    NaN     NaN              NaN     7.70   \n",
       "\n",
       "                            genres  box_office  \n",
       "109   фэнтези,приключения,семейный         NaN  \n",
       "110   фэнтези,приключения,семейный  759,526.00  \n",
       "4427  фэнтези,приключения,семейный         NaN  "
      ]
     },
     "execution_count": 22,
     "metadata": {},
     "output_type": "execute_result"
    }
   ],
   "source": [
    "data[data['title'] == 'Гарри Поттер и орден Феникса /По роману Дж.К.Ролинг/']"
   ]
  },
  {
   "cell_type": "markdown",
   "metadata": {},
   "source": [
    "Получается, что есть одни и те же картины, которые выходили в прокат неоднократно, поэтому у них разные номера прокатных удостоверений."
   ]
  },
  {
   "cell_type": "code",
   "execution_count": 23,
   "metadata": {},
   "outputs": [
    {
     "data": {
      "text/plain": [
       "2"
      ]
     },
     "execution_count": 23,
     "metadata": {},
     "output_type": "execute_result"
    }
   ],
   "source": [
    "data['puNumber'].duplicated().sum()"
   ]
  },
  {
   "cell_type": "code",
   "execution_count": 24,
   "metadata": {},
   "outputs": [
    {
     "data": {
      "text/html": [
       "<div>\n",
       "<style scoped>\n",
       "    .dataframe tbody tr th:only-of-type {\n",
       "        vertical-align: middle;\n",
       "    }\n",
       "\n",
       "    .dataframe tbody tr th {\n",
       "        vertical-align: top;\n",
       "    }\n",
       "\n",
       "    .dataframe thead th {\n",
       "        text-align: right;\n",
       "    }\n",
       "</style>\n",
       "<table border=\"1\" class=\"dataframe\">\n",
       "  <thead>\n",
       "    <tr style=\"text-align: right;\">\n",
       "      <th></th>\n",
       "      <th>title</th>\n",
       "      <th>puNumber</th>\n",
       "      <th>show_start_date</th>\n",
       "      <th>type</th>\n",
       "      <th>film_studio</th>\n",
       "      <th>production_country</th>\n",
       "      <th>director</th>\n",
       "      <th>producer</th>\n",
       "      <th>age_restriction</th>\n",
       "      <th>refundable_support</th>\n",
       "      <th>nonrefundable_support</th>\n",
       "      <th>budget</th>\n",
       "      <th>financing_source</th>\n",
       "      <th>ratings</th>\n",
       "      <th>genres</th>\n",
       "      <th>box_office</th>\n",
       "    </tr>\n",
       "  </thead>\n",
       "  <tbody>\n",
       "    <tr>\n",
       "      <th>4638</th>\n",
       "      <td>Как жениться и остаться холостым</td>\n",
       "      <td>221154310</td>\n",
       "      <td>2010-12-17 12:00:00+00:00</td>\n",
       "      <td>Художественный</td>\n",
       "      <td>Ше Вам, Скрипт Ассосье, Тэ Фэ 1 Фильм Продюксь...</td>\n",
       "      <td>Франция</td>\n",
       "      <td>Эрик Лартиго</td>\n",
       "      <td>Амандин Било, Алан Шаба</td>\n",
       "      <td>«16+» - для детей старше 16 лет</td>\n",
       "      <td>NaN</td>\n",
       "      <td>NaN</td>\n",
       "      <td>NaN</td>\n",
       "      <td>NaN</td>\n",
       "      <td>7.00</td>\n",
       "      <td>мелодрама,комедия</td>\n",
       "      <td>NaN</td>\n",
       "    </tr>\n",
       "    <tr>\n",
       "      <th>4639</th>\n",
       "      <td>Иоанна - женщина на папском престоле /По роман...</td>\n",
       "      <td>221154310</td>\n",
       "      <td>2010-12-17 12:00:00+00:00</td>\n",
       "      <td>Художественный</td>\n",
       "      <td>Константин Фильм, А Эр Ди Дегето Фильм, Дюне ...</td>\n",
       "      <td>Германия - Великобритания - Италия - Испания</td>\n",
       "      <td>Зенке Вортманн</td>\n",
       "      <td>Оливер Бербен, Дорис Д.Хайнце, Фарук Элтан</td>\n",
       "      <td>«16+» - для детей старше 16 лет</td>\n",
       "      <td>NaN</td>\n",
       "      <td>NaN</td>\n",
       "      <td>NaN</td>\n",
       "      <td>NaN</td>\n",
       "      <td>7.60</td>\n",
       "      <td>драма,мелодрама,история</td>\n",
       "      <td>NaN</td>\n",
       "    </tr>\n",
       "    <tr>\n",
       "      <th>5067</th>\n",
       "      <td>Анализируй это!</td>\n",
       "      <td>221054410</td>\n",
       "      <td>2010-05-25 12:00:00+00:00</td>\n",
       "      <td>Художественный</td>\n",
       "      <td>Уорнер Бразерс, Вилладж Роудшоу Филмз ЛТД</td>\n",
       "      <td>США-Австралия</td>\n",
       "      <td>ХЭрольд Рэмис</td>\n",
       "      <td>Джейн Розенталь, Пола Уейнстейн</td>\n",
       "      <td>«16+» - для детей старше 16 лет</td>\n",
       "      <td>NaN</td>\n",
       "      <td>NaN</td>\n",
       "      <td>NaN</td>\n",
       "      <td>NaN</td>\n",
       "      <td>7.40</td>\n",
       "      <td>комедия,криминал</td>\n",
       "      <td>NaN</td>\n",
       "    </tr>\n",
       "    <tr>\n",
       "      <th>5068</th>\n",
       "      <td>Анализируй то!</td>\n",
       "      <td>221054410</td>\n",
       "      <td>2010-05-25 12:00:00+00:00</td>\n",
       "      <td>Художественный</td>\n",
       "      <td>Уорнер Бразерс, Виллидж Роадшоу Пикчерз, Эн-Пи...</td>\n",
       "      <td>США</td>\n",
       "      <td>Гарольд Реймис</td>\n",
       "      <td>Джейн Розенталь, Паул Уэйнстейн</td>\n",
       "      <td>«12+» - для детей старше 12 лет</td>\n",
       "      <td>NaN</td>\n",
       "      <td>NaN</td>\n",
       "      <td>NaN</td>\n",
       "      <td>NaN</td>\n",
       "      <td>6.80</td>\n",
       "      <td>комедия,криминал</td>\n",
       "      <td>NaN</td>\n",
       "    </tr>\n",
       "  </tbody>\n",
       "</table>\n",
       "</div>"
      ],
      "text/plain": [
       "                                                  title   puNumber  \\\n",
       "4638                   Как жениться и остаться холостым  221154310   \n",
       "4639  Иоанна - женщина на папском престоле /По роман...  221154310   \n",
       "5067                                    Анализируй это!  221054410   \n",
       "5068                                     Анализируй то!  221054410   \n",
       "\n",
       "               show_start_date            type  \\\n",
       "4638 2010-12-17 12:00:00+00:00  Художественный   \n",
       "4639 2010-12-17 12:00:00+00:00  Художественный   \n",
       "5067 2010-05-25 12:00:00+00:00  Художественный   \n",
       "5068 2010-05-25 12:00:00+00:00  Художественный   \n",
       "\n",
       "                                            film_studio  \\\n",
       "4638  Ше Вам, Скрипт Ассосье, Тэ Фэ 1 Фильм Продюксь...   \n",
       "4639   Константин Фильм, А Эр Ди Дегето Фильм, Дюне ...   \n",
       "5067          Уорнер Бразерс, Вилладж Роудшоу Филмз ЛТД   \n",
       "5068  Уорнер Бразерс, Виллидж Роадшоу Пикчерз, Эн-Пи...   \n",
       "\n",
       "                                production_country        director  \\\n",
       "4638                                       Франция    Эрик Лартиго   \n",
       "4639  Германия - Великобритания - Италия - Испания  Зенке Вортманн   \n",
       "5067                                 США-Австралия   ХЭрольд Рэмис   \n",
       "5068                                           США  Гарольд Реймис   \n",
       "\n",
       "                                        producer  \\\n",
       "4638                     Амандин Било, Алан Шаба   \n",
       "4639  Оливер Бербен, Дорис Д.Хайнце, Фарук Элтан   \n",
       "5067             Джейн Розенталь, Пола Уейнстейн   \n",
       "5068             Джейн Розенталь, Паул Уэйнстейн   \n",
       "\n",
       "                      age_restriction  refundable_support  \\\n",
       "4638  «16+» - для детей старше 16 лет                 NaN   \n",
       "4639  «16+» - для детей старше 16 лет                 NaN   \n",
       "5067  «16+» - для детей старше 16 лет                 NaN   \n",
       "5068  «12+» - для детей старше 12 лет                 NaN   \n",
       "\n",
       "      nonrefundable_support  budget financing_source  ratings  \\\n",
       "4638                    NaN     NaN              NaN     7.00   \n",
       "4639                    NaN     NaN              NaN     7.60   \n",
       "5067                    NaN     NaN              NaN     7.40   \n",
       "5068                    NaN     NaN              NaN     6.80   \n",
       "\n",
       "                       genres  box_office  \n",
       "4638        мелодрама,комедия         NaN  \n",
       "4639  драма,мелодрама,история         NaN  \n",
       "5067         комедия,криминал         NaN  \n",
       "5068         комедия,криминал         NaN  "
      ]
     },
     "execution_count": 24,
     "metadata": {},
     "output_type": "execute_result"
    }
   ],
   "source": [
    "data[data['puNumber'].duplicated(keep=False)]"
   ]
  },
  {
   "cell_type": "code",
   "execution_count": 25,
   "metadata": {},
   "outputs": [
    {
     "data": {
      "text/html": [
       "<div>\n",
       "<style scoped>\n",
       "    .dataframe tbody tr th:only-of-type {\n",
       "        vertical-align: middle;\n",
       "    }\n",
       "\n",
       "    .dataframe tbody tr th {\n",
       "        vertical-align: top;\n",
       "    }\n",
       "\n",
       "    .dataframe thead th {\n",
       "        text-align: right;\n",
       "    }\n",
       "</style>\n",
       "<table border=\"1\" class=\"dataframe\">\n",
       "  <thead>\n",
       "    <tr style=\"text-align: right;\">\n",
       "      <th></th>\n",
       "      <th>title</th>\n",
       "      <th>puNumber</th>\n",
       "      <th>show_start_date</th>\n",
       "      <th>type</th>\n",
       "      <th>film_studio</th>\n",
       "      <th>production_country</th>\n",
       "      <th>director</th>\n",
       "      <th>producer</th>\n",
       "      <th>age_restriction</th>\n",
       "      <th>refundable_support</th>\n",
       "      <th>nonrefundable_support</th>\n",
       "      <th>budget</th>\n",
       "      <th>financing_source</th>\n",
       "      <th>ratings</th>\n",
       "      <th>genres</th>\n",
       "      <th>box_office</th>\n",
       "    </tr>\n",
       "  </thead>\n",
       "  <tbody>\n",
       "    <tr>\n",
       "      <th>4520</th>\n",
       "      <td>Как жениться и остаться холостым</td>\n",
       "      <td>221142510</td>\n",
       "      <td>2010-12-03 12:00:00+00:00</td>\n",
       "      <td>Художественный</td>\n",
       "      <td>Ше Вам, Скрипт Ассосье, Тэ Фэ 1 Фильм Продюксь...</td>\n",
       "      <td>Франция</td>\n",
       "      <td>Эрик Лартиго</td>\n",
       "      <td>Амандин Било, Алан Шаба</td>\n",
       "      <td>«16+» - для детей старше 16 лет</td>\n",
       "      <td>NaN</td>\n",
       "      <td>NaN</td>\n",
       "      <td>NaN</td>\n",
       "      <td>NaN</td>\n",
       "      <td>7.00</td>\n",
       "      <td>мелодрама,комедия</td>\n",
       "      <td>NaN</td>\n",
       "    </tr>\n",
       "    <tr>\n",
       "      <th>4638</th>\n",
       "      <td>Как жениться и остаться холостым</td>\n",
       "      <td>221154310</td>\n",
       "      <td>2010-12-17 12:00:00+00:00</td>\n",
       "      <td>Художественный</td>\n",
       "      <td>Ше Вам, Скрипт Ассосье, Тэ Фэ 1 Фильм Продюксь...</td>\n",
       "      <td>Франция</td>\n",
       "      <td>Эрик Лартиго</td>\n",
       "      <td>Амандин Било, Алан Шаба</td>\n",
       "      <td>«16+» - для детей старше 16 лет</td>\n",
       "      <td>NaN</td>\n",
       "      <td>NaN</td>\n",
       "      <td>NaN</td>\n",
       "      <td>NaN</td>\n",
       "      <td>7.00</td>\n",
       "      <td>мелодрама,комедия</td>\n",
       "      <td>NaN</td>\n",
       "    </tr>\n",
       "  </tbody>\n",
       "</table>\n",
       "</div>"
      ],
      "text/plain": [
       "                                 title   puNumber           show_start_date  \\\n",
       "4520  Как жениться и остаться холостым  221142510 2010-12-03 12:00:00+00:00   \n",
       "4638  Как жениться и остаться холостым  221154310 2010-12-17 12:00:00+00:00   \n",
       "\n",
       "                type                                        film_studio  \\\n",
       "4520  Художественный  Ше Вам, Скрипт Ассосье, Тэ Фэ 1 Фильм Продюксь...   \n",
       "4638  Художественный  Ше Вам, Скрипт Ассосье, Тэ Фэ 1 Фильм Продюксь...   \n",
       "\n",
       "     production_country      director                 producer  \\\n",
       "4520            Франция  Эрик Лартиго  Амандин Било, Алан Шаба   \n",
       "4638            Франция  Эрик Лартиго  Амандин Било, Алан Шаба   \n",
       "\n",
       "                      age_restriction  refundable_support  \\\n",
       "4520  «16+» - для детей старше 16 лет                 NaN   \n",
       "4638  «16+» - для детей старше 16 лет                 NaN   \n",
       "\n",
       "      nonrefundable_support  budget financing_source  ratings  \\\n",
       "4520                    NaN     NaN              NaN     7.00   \n",
       "4638                    NaN     NaN              NaN     7.00   \n",
       "\n",
       "                 genres  box_office  \n",
       "4520  мелодрама,комедия         NaN  \n",
       "4638  мелодрама,комедия         NaN  "
      ]
     },
     "execution_count": 25,
     "metadata": {},
     "output_type": "execute_result"
    }
   ],
   "source": [
    "data[data['title'] == data.loc[4638, 'title']]"
   ]
  },
  {
   "cell_type": "code",
   "execution_count": 26,
   "metadata": {},
   "outputs": [
    {
     "data": {
      "text/html": [
       "<div>\n",
       "<style scoped>\n",
       "    .dataframe tbody tr th:only-of-type {\n",
       "        vertical-align: middle;\n",
       "    }\n",
       "\n",
       "    .dataframe tbody tr th {\n",
       "        vertical-align: top;\n",
       "    }\n",
       "\n",
       "    .dataframe thead th {\n",
       "        text-align: right;\n",
       "    }\n",
       "</style>\n",
       "<table border=\"1\" class=\"dataframe\">\n",
       "  <thead>\n",
       "    <tr style=\"text-align: right;\">\n",
       "      <th></th>\n",
       "      <th>title</th>\n",
       "      <th>puNumber</th>\n",
       "      <th>show_start_date</th>\n",
       "      <th>type</th>\n",
       "      <th>film_studio</th>\n",
       "      <th>production_country</th>\n",
       "      <th>director</th>\n",
       "      <th>producer</th>\n",
       "      <th>age_restriction</th>\n",
       "      <th>refundable_support</th>\n",
       "      <th>nonrefundable_support</th>\n",
       "      <th>budget</th>\n",
       "      <th>financing_source</th>\n",
       "      <th>ratings</th>\n",
       "      <th>genres</th>\n",
       "      <th>box_office</th>\n",
       "    </tr>\n",
       "  </thead>\n",
       "  <tbody>\n",
       "    <tr>\n",
       "      <th>4050</th>\n",
       "      <td>Иоанна - женщина на папском престоле /По роман...</td>\n",
       "      <td>121005410</td>\n",
       "      <td>2010-03-25 12:00:00+00:00</td>\n",
       "      <td>Художественный</td>\n",
       "      <td>Константин Фильм, А Эр Ди Дегето Фильм, Дюне ...</td>\n",
       "      <td>Германия - Великобритания - Италия - Испания</td>\n",
       "      <td>Зенке Вортманн</td>\n",
       "      <td>Оливер Бербен, Дорис Д.Хайнце, Фарук Элтан</td>\n",
       "      <td>«16+» - для детей старше 16 лет</td>\n",
       "      <td>NaN</td>\n",
       "      <td>NaN</td>\n",
       "      <td>NaN</td>\n",
       "      <td>NaN</td>\n",
       "      <td>7.60</td>\n",
       "      <td>драма,мелодрама,история</td>\n",
       "      <td>NaN</td>\n",
       "    </tr>\n",
       "    <tr>\n",
       "      <th>4513</th>\n",
       "      <td>Иоанна - женщина на папском престоле /По роман...</td>\n",
       "      <td>221141710</td>\n",
       "      <td>2010-12-03 12:00:00+00:00</td>\n",
       "      <td>Художественный</td>\n",
       "      <td>Константин Фильм, А Эр Ди Дегето Фильм, Дюне ...</td>\n",
       "      <td>Германия - Великобритания - Италия - Испания</td>\n",
       "      <td>Зенке Вортманн</td>\n",
       "      <td>Оливер Бербен, Дорис Д.Хайнце, Фарук Элтан</td>\n",
       "      <td>«16+» - для детей старше 16 лет</td>\n",
       "      <td>NaN</td>\n",
       "      <td>NaN</td>\n",
       "      <td>NaN</td>\n",
       "      <td>NaN</td>\n",
       "      <td>7.60</td>\n",
       "      <td>драма,мелодрама,история</td>\n",
       "      <td>NaN</td>\n",
       "    </tr>\n",
       "    <tr>\n",
       "      <th>4639</th>\n",
       "      <td>Иоанна - женщина на папском престоле /По роман...</td>\n",
       "      <td>221154310</td>\n",
       "      <td>2010-12-17 12:00:00+00:00</td>\n",
       "      <td>Художественный</td>\n",
       "      <td>Константин Фильм, А Эр Ди Дегето Фильм, Дюне ...</td>\n",
       "      <td>Германия - Великобритания - Италия - Испания</td>\n",
       "      <td>Зенке Вортманн</td>\n",
       "      <td>Оливер Бербен, Дорис Д.Хайнце, Фарук Элтан</td>\n",
       "      <td>«16+» - для детей старше 16 лет</td>\n",
       "      <td>NaN</td>\n",
       "      <td>NaN</td>\n",
       "      <td>NaN</td>\n",
       "      <td>NaN</td>\n",
       "      <td>7.60</td>\n",
       "      <td>драма,мелодрама,история</td>\n",
       "      <td>NaN</td>\n",
       "    </tr>\n",
       "  </tbody>\n",
       "</table>\n",
       "</div>"
      ],
      "text/plain": [
       "                                                  title   puNumber  \\\n",
       "4050  Иоанна - женщина на папском престоле /По роман...  121005410   \n",
       "4513  Иоанна - женщина на папском престоле /По роман...  221141710   \n",
       "4639  Иоанна - женщина на папском престоле /По роман...  221154310   \n",
       "\n",
       "               show_start_date            type  \\\n",
       "4050 2010-03-25 12:00:00+00:00  Художественный   \n",
       "4513 2010-12-03 12:00:00+00:00  Художественный   \n",
       "4639 2010-12-17 12:00:00+00:00  Художественный   \n",
       "\n",
       "                                            film_studio  \\\n",
       "4050   Константин Фильм, А Эр Ди Дегето Фильм, Дюне ...   \n",
       "4513   Константин Фильм, А Эр Ди Дегето Фильм, Дюне ...   \n",
       "4639   Константин Фильм, А Эр Ди Дегето Фильм, Дюне ...   \n",
       "\n",
       "                                production_country        director  \\\n",
       "4050  Германия - Великобритания - Италия - Испания  Зенке Вортманн   \n",
       "4513  Германия - Великобритания - Италия - Испания  Зенке Вортманн   \n",
       "4639  Германия - Великобритания - Италия - Испания  Зенке Вортманн   \n",
       "\n",
       "                                        producer  \\\n",
       "4050  Оливер Бербен, Дорис Д.Хайнце, Фарук Элтан   \n",
       "4513  Оливер Бербен, Дорис Д.Хайнце, Фарук Элтан   \n",
       "4639  Оливер Бербен, Дорис Д.Хайнце, Фарук Элтан   \n",
       "\n",
       "                      age_restriction  refundable_support  \\\n",
       "4050  «16+» - для детей старше 16 лет                 NaN   \n",
       "4513  «16+» - для детей старше 16 лет                 NaN   \n",
       "4639  «16+» - для детей старше 16 лет                 NaN   \n",
       "\n",
       "      nonrefundable_support  budget financing_source  ratings  \\\n",
       "4050                    NaN     NaN              NaN     7.60   \n",
       "4513                    NaN     NaN              NaN     7.60   \n",
       "4639                    NaN     NaN              NaN     7.60   \n",
       "\n",
       "                       genres  box_office  \n",
       "4050  драма,мелодрама,история         NaN  \n",
       "4513  драма,мелодрама,история         NaN  \n",
       "4639  драма,мелодрама,история         NaN  "
      ]
     },
     "execution_count": 26,
     "metadata": {},
     "output_type": "execute_result"
    }
   ],
   "source": [
    "data[data['title'] == data.loc[4639, 'title']]\n"
   ]
  },
  {
   "cell_type": "code",
   "execution_count": 27,
   "metadata": {},
   "outputs": [
    {
     "data": {
      "text/html": [
       "<div>\n",
       "<style scoped>\n",
       "    .dataframe tbody tr th:only-of-type {\n",
       "        vertical-align: middle;\n",
       "    }\n",
       "\n",
       "    .dataframe tbody tr th {\n",
       "        vertical-align: top;\n",
       "    }\n",
       "\n",
       "    .dataframe thead th {\n",
       "        text-align: right;\n",
       "    }\n",
       "</style>\n",
       "<table border=\"1\" class=\"dataframe\">\n",
       "  <thead>\n",
       "    <tr style=\"text-align: right;\">\n",
       "      <th></th>\n",
       "      <th>title</th>\n",
       "      <th>puNumber</th>\n",
       "      <th>show_start_date</th>\n",
       "      <th>type</th>\n",
       "      <th>film_studio</th>\n",
       "      <th>production_country</th>\n",
       "      <th>director</th>\n",
       "      <th>producer</th>\n",
       "      <th>age_restriction</th>\n",
       "      <th>refundable_support</th>\n",
       "      <th>nonrefundable_support</th>\n",
       "      <th>budget</th>\n",
       "      <th>financing_source</th>\n",
       "      <th>ratings</th>\n",
       "      <th>genres</th>\n",
       "      <th>box_office</th>\n",
       "    </tr>\n",
       "  </thead>\n",
       "  <tbody>\n",
       "    <tr>\n",
       "      <th>4553</th>\n",
       "      <td>Анализируй это!</td>\n",
       "      <td>221147310</td>\n",
       "      <td>2010-12-15 12:00:00+00:00</td>\n",
       "      <td>Художественный</td>\n",
       "      <td>Уорнер Бразерс, Вилладж Роудшоу Филмз ЛТД</td>\n",
       "      <td>США-Австралия</td>\n",
       "      <td>ХЭрольд Рэмис</td>\n",
       "      <td>Джейн Розенталь, Пола Уейнстейн</td>\n",
       "      <td>«16+» - для детей старше 16 лет</td>\n",
       "      <td>NaN</td>\n",
       "      <td>NaN</td>\n",
       "      <td>NaN</td>\n",
       "      <td>NaN</td>\n",
       "      <td>7.40</td>\n",
       "      <td>комедия,криминал</td>\n",
       "      <td>NaN</td>\n",
       "    </tr>\n",
       "    <tr>\n",
       "      <th>5067</th>\n",
       "      <td>Анализируй это!</td>\n",
       "      <td>221054410</td>\n",
       "      <td>2010-05-25 12:00:00+00:00</td>\n",
       "      <td>Художественный</td>\n",
       "      <td>Уорнер Бразерс, Вилладж Роудшоу Филмз ЛТД</td>\n",
       "      <td>США-Австралия</td>\n",
       "      <td>ХЭрольд Рэмис</td>\n",
       "      <td>Джейн Розенталь, Пола Уейнстейн</td>\n",
       "      <td>«16+» - для детей старше 16 лет</td>\n",
       "      <td>NaN</td>\n",
       "      <td>NaN</td>\n",
       "      <td>NaN</td>\n",
       "      <td>NaN</td>\n",
       "      <td>7.40</td>\n",
       "      <td>комедия,криминал</td>\n",
       "      <td>NaN</td>\n",
       "    </tr>\n",
       "  </tbody>\n",
       "</table>\n",
       "</div>"
      ],
      "text/plain": [
       "                title   puNumber           show_start_date            type  \\\n",
       "4553  Анализируй это!  221147310 2010-12-15 12:00:00+00:00  Художественный   \n",
       "5067  Анализируй это!  221054410 2010-05-25 12:00:00+00:00  Художественный   \n",
       "\n",
       "                                    film_studio production_country  \\\n",
       "4553  Уорнер Бразерс, Вилладж Роудшоу Филмз ЛТД      США-Австралия   \n",
       "5067  Уорнер Бразерс, Вилладж Роудшоу Филмз ЛТД      США-Австралия   \n",
       "\n",
       "           director                         producer  \\\n",
       "4553  ХЭрольд Рэмис  Джейн Розенталь, Пола Уейнстейн   \n",
       "5067  ХЭрольд Рэмис  Джейн Розенталь, Пола Уейнстейн   \n",
       "\n",
       "                      age_restriction  refundable_support  \\\n",
       "4553  «16+» - для детей старше 16 лет                 NaN   \n",
       "5067  «16+» - для детей старше 16 лет                 NaN   \n",
       "\n",
       "      nonrefundable_support  budget financing_source  ratings  \\\n",
       "4553                    NaN     NaN              NaN     7.40   \n",
       "5067                    NaN     NaN              NaN     7.40   \n",
       "\n",
       "                genres  box_office  \n",
       "4553  комедия,криминал         NaN  \n",
       "5067  комедия,криминал         NaN  "
      ]
     },
     "execution_count": 27,
     "metadata": {},
     "output_type": "execute_result"
    }
   ],
   "source": [
    "data[data['title'] == data.loc[5067, 'title']]\n"
   ]
  },
  {
   "cell_type": "code",
   "execution_count": 28,
   "metadata": {},
   "outputs": [
    {
     "data": {
      "text/html": [
       "<div>\n",
       "<style scoped>\n",
       "    .dataframe tbody tr th:only-of-type {\n",
       "        vertical-align: middle;\n",
       "    }\n",
       "\n",
       "    .dataframe tbody tr th {\n",
       "        vertical-align: top;\n",
       "    }\n",
       "\n",
       "    .dataframe thead th {\n",
       "        text-align: right;\n",
       "    }\n",
       "</style>\n",
       "<table border=\"1\" class=\"dataframe\">\n",
       "  <thead>\n",
       "    <tr style=\"text-align: right;\">\n",
       "      <th></th>\n",
       "      <th>title</th>\n",
       "      <th>puNumber</th>\n",
       "      <th>show_start_date</th>\n",
       "      <th>type</th>\n",
       "      <th>film_studio</th>\n",
       "      <th>production_country</th>\n",
       "      <th>director</th>\n",
       "      <th>producer</th>\n",
       "      <th>age_restriction</th>\n",
       "      <th>refundable_support</th>\n",
       "      <th>nonrefundable_support</th>\n",
       "      <th>budget</th>\n",
       "      <th>financing_source</th>\n",
       "      <th>ratings</th>\n",
       "      <th>genres</th>\n",
       "      <th>box_office</th>\n",
       "    </tr>\n",
       "  </thead>\n",
       "  <tbody>\n",
       "    <tr>\n",
       "      <th>5068</th>\n",
       "      <td>Анализируй то!</td>\n",
       "      <td>221054410</td>\n",
       "      <td>2010-05-25 12:00:00+00:00</td>\n",
       "      <td>Художественный</td>\n",
       "      <td>Уорнер Бразерс, Виллидж Роадшоу Пикчерз, Эн-Пи...</td>\n",
       "      <td>США</td>\n",
       "      <td>Гарольд Реймис</td>\n",
       "      <td>Джейн Розенталь, Паул Уэйнстейн</td>\n",
       "      <td>«12+» - для детей старше 12 лет</td>\n",
       "      <td>NaN</td>\n",
       "      <td>NaN</td>\n",
       "      <td>NaN</td>\n",
       "      <td>NaN</td>\n",
       "      <td>6.80</td>\n",
       "      <td>комедия,криминал</td>\n",
       "      <td>NaN</td>\n",
       "    </tr>\n",
       "  </tbody>\n",
       "</table>\n",
       "</div>"
      ],
      "text/plain": [
       "               title   puNumber           show_start_date            type  \\\n",
       "5068  Анализируй то!  221054410 2010-05-25 12:00:00+00:00  Художественный   \n",
       "\n",
       "                                            film_studio production_country  \\\n",
       "5068  Уорнер Бразерс, Виллидж Роадшоу Пикчерз, Эн-Пи...                США   \n",
       "\n",
       "            director                         producer  \\\n",
       "5068  Гарольд Реймис  Джейн Розенталь, Паул Уэйнстейн   \n",
       "\n",
       "                      age_restriction  refundable_support  \\\n",
       "5068  «12+» - для детей старше 12 лет                 NaN   \n",
       "\n",
       "      nonrefundable_support  budget financing_source  ratings  \\\n",
       "5068                    NaN     NaN              NaN     6.80   \n",
       "\n",
       "                genres  box_office  \n",
       "5068  комедия,криминал         NaN  "
      ]
     },
     "execution_count": 28,
     "metadata": {},
     "output_type": "execute_result"
    }
   ],
   "source": [
    "data[data['title'] == data.loc[5068, 'title']]\n"
   ]
  },
  {
   "cell_type": "markdown",
   "metadata": {},
   "source": [
    "В поле type есть несколько значений, у которых появился пробел в начале строки. Самый простой способ их «починить» -- использовать метод .str.strip. Этот метод удаляет все пробелы, которые встречаются в начале и в конце строки. Применяют его таким образом:\n",
    "data['type'].str.strip()\n",
    "\n",
    "Во всех категориальных переменных значения разделены запятыми без пробелов (столбец с жанрами), для стран в качестве разделителя \"-\". Будем иметь это ввиду."
   ]
  },
  {
   "cell_type": "code",
   "execution_count": 29,
   "metadata": {},
   "outputs": [],
   "source": [
    "data['type'] = data['type'].str.strip()"
   ]
  },
  {
   "cell_type": "code",
   "execution_count": 30,
   "metadata": {},
   "outputs": [
    {
     "data": {
      "text/plain": [
       "Художественный                5909\n",
       "Анимационный                   829\n",
       "Прочие                         406\n",
       "Документальный                 288\n",
       "Научно-популярный               53\n",
       "Музыкально-развлекательный       1\n",
       "Name: type, dtype: int64"
      ]
     },
     "execution_count": 30,
     "metadata": {},
     "output_type": "execute_result"
    }
   ],
   "source": [
    "# Код ревьюера\n",
    "data['type'].value_counts()"
   ]
  },
  {
   "cell_type": "code",
   "execution_count": 31,
   "metadata": {},
   "outputs": [
    {
     "data": {
      "text/plain": [
       "array(['«18+» - запрещено для детей', '«6+» - для детей старше 6 лет',\n",
       "       '«12+» - для детей старше 12 лет',\n",
       "       '«16+» - для детей старше 16 лет',\n",
       "       '«0+» - для любой зрительской аудитории'], dtype=object)"
      ]
     },
     "execution_count": 31,
     "metadata": {},
     "output_type": "execute_result"
    }
   ],
   "source": [
    "data['age_restriction'].unique()"
   ]
  },
  {
   "cell_type": "code",
   "execution_count": 32,
   "metadata": {},
   "outputs": [
    {
     "data": {
      "text/plain": [
       "array([nan, 'Министерство культуры', 'Фонд кино',\n",
       "       'Министерство культуры, Фонд кино'], dtype=object)"
      ]
     },
     "execution_count": 32,
     "metadata": {},
     "output_type": "execute_result"
    }
   ],
   "source": [
    "data['financing_source'].unique()"
   ]
  },
  {
   "cell_type": "code",
   "execution_count": 33,
   "metadata": {},
   "outputs": [
    {
     "data": {
      "text/plain": [
       "array(['боевик,драма,мелодрама', 'драма,военный',\n",
       "       'фантастика,боевик,триллер', 'драма', 'мелодрама,комедия',\n",
       "       'мюзикл,мелодрама,комедия', 'комедия,криминал',\n",
       "       'боевик,триллер,детектив', 'боевик,драма,приключения',\n",
       "       'драма,спорт', 'триллер,драма,мелодрама', 'комедия,мелодрама',\n",
       "       'драма,мелодрама,комедия', 'драма,мелодрама', 'драма,история',\n",
       "       'драма,мелодрама,семейный', 'комедия,мелодрама,криминал',\n",
       "       'комедия', 'боевик,драма,криминал', 'драма,комедия',\n",
       "       'ужасы,фантастика,комедия', 'мультфильм,короткометражка,мелодрама',\n",
       "       'драма,криминал', 'мультфильм,фантастика,фэнтези',\n",
       "       'триллер,драма,криминал', 'драма,мелодрама,биография',\n",
       "       'драма,комедия,военный', 'фантастика,драма,детектив',\n",
       "       'мюзикл,семейный', nan, 'военный,приключения,драма',\n",
       "       'документальный,драма', 'драма,биография,история',\n",
       "       'боевик,триллер,драма', 'фэнтези,боевик',\n",
       "       'боевик,комедия,криминал', 'мюзикл,комедия,детский',\n",
       "       'комедия,мелодрама,драма', 'мультфильм,фэнтези,комедия',\n",
       "       'комедия,история', 'мелодрама', 'драма,биография,музыка',\n",
       "       'фэнтези,драма,мелодрама', 'триллер,военный',\n",
       "       'драма,мелодрама,военный', 'мюзикл,драма,мелодрама',\n",
       "       'мюзикл,комедия', 'мультфильм,приключения,семейный',\n",
       "       'ужасы,триллер', 'боевик,драма,военный', 'драма,боевик',\n",
       "       'мультфильм,драма,комедия', 'триллер,криминал',\n",
       "       'военный,биография,драма', 'комедия,семейный', 'военный',\n",
       "       'драма,семейный,биография', 'фэнтези,приключения,семейный',\n",
       "       'драма,криминал,биография', 'ужасы,триллер,детектив',\n",
       "       'боевик,история,драма', 'ужасы,триллер,драма',\n",
       "       'драма,криминал,спорт', 'документальный,короткометражка',\n",
       "       'триллер,драма', 'криминал,детектив,приключения',\n",
       "       'драма,комедия,криминал', 'драма,комедия,вестерн',\n",
       "       'драма,мелодрама,детектив', 'мелодрама,биография',\n",
       "       'фэнтези,мелодрама,драма', 'драма,мелодрама,история',\n",
       "       'комедия,приключения,история', 'приключения', 'драма,семейный',\n",
       "       'криминал,детектив', 'мультфильм,короткометражка,ужасы',\n",
       "       'фантастика,триллер,драма', 'фэнтези,мелодрама,комедия',\n",
       "       'драма,биография', 'комедия,криминал,история',\n",
       "       'триллер,драма,детектив', 'фантастика,комедия,приключения',\n",
       "       'фэнтези,семейный', 'ужасы,фантастика,боевик',\n",
       "       'мелодрама,криминал', 'комедия,приключения,мелодрама',\n",
       "       'боевик,триллер,приключения', 'боевик,приключения',\n",
       "       'боевик,триллер,криминал', 'документальный,военный,история',\n",
       "       'драма,музыка', 'боевик,драма', 'приключения,боевик',\n",
       "       'драма,военный,биография', 'триллер,драма,приключения',\n",
       "       'аниме,мультфильм,фэнтези', 'триллер,детектив,драма',\n",
       "       'боевик,триллер,мелодрама', 'боевик,история',\n",
       "       'приключения,история', 'драма,комедия,приключения',\n",
       "       'фэнтези,комедия,приключения', 'драма,вестерн',\n",
       "       'документальный,музыка', 'мелодрама,драма',\n",
       "       'триллер,криминал,детектив', 'ужасы', 'боевик,комедия,приключения',\n",
       "       'мультфильм,фэнтези,боевик', 'боевик,фэнтези,драма',\n",
       "       'фэнтези,драма', 'фэнтези,боевик,комедия',\n",
       "       'приключения,детский,комедия', 'документальный',\n",
       "       'боевик,триллер,комедия', 'мелодрама,комедия,криминал',\n",
       "       'драма,детектив', 'мюзикл,ужасы,триллер', 'детектив,триллер,ужасы',\n",
       "       'ужасы,фэнтези', 'ужасы,фэнтези,триллер', 'мультфильм,драма',\n",
       "       'ужасы,боевик,фантастика', 'боевик', 'фантастика,боевик',\n",
       "       'мелодрама,комедия,приключения', 'триллер,детектив',\n",
       "       'мюзикл,мелодрама,фэнтези', 'криминал', 'триллер,комедия,криминал',\n",
       "       'боевик,приключения,триллер', 'триллер,драма,военный',\n",
       "       'комедия,семейный,музыка', 'комедия,фантастика,мелодрама',\n",
       "       'фантастика,триллер,криминал', 'комедия,драма', 'боевик,военный',\n",
       "       'ужасы,фантастика,триллер', 'фантастика,драма,мелодрама',\n",
       "       'фэнтези,драма,детектив', 'боевик,триллер', 'боевик,драма,история',\n",
       "       'мультфильм,мюзикл,фэнтези', 'для взрослых,драма,мелодрама',\n",
       "       'мультфильм,боевик,детектив', 'фантастика,мелодрама,боевик',\n",
       "       'ужасы,фантастика,детектив', 'фантастика,боевик,приключения',\n",
       "       'мелодрама,комедия,спорт', 'комедия,боевик,приключения',\n",
       "       'документальный,приключения', 'мультфильм,короткометражка,детский',\n",
       "       'комедия,приключения', 'ужасы,драма', 'ужасы,фэнтези,боевик',\n",
       "       'мультфильм,фэнтези,детский', 'мюзикл,боевик,драма',\n",
       "       'семейный,комедия,драма', 'концерт,музыка', 'фэнтези,боевик,драма',\n",
       "       'драма,комедия,музыка', 'фантастика,фэнтези,боевик',\n",
       "       'фэнтези,комедия,семейный', 'фэнтези,драма,комедия',\n",
       "       'мультфильм,мюзикл,драма', 'триллер', 'боевик,криминал,триллер',\n",
       "       'мультфильм,приключения,драма', 'мелодрама,музыка',\n",
       "       'документальный,музыка,концерт', 'мультфильм,семейный',\n",
       "       'мультфильм,комедия,приключения', 'мультфильм,комедия,семейный',\n",
       "       'фантастика,драма', 'фэнтези,боевик,приключения',\n",
       "       'мультфильм,приключения', 'драма,военный,история', 'история',\n",
       "       'драма,приключения,военный',\n",
       "       'документальный,короткометражка,семейный',\n",
       "       'мелодрама,история,триллер', 'ужасы,детектив',\n",
       "       'мюзикл,комедия,приключения', 'драма,спорт,биография',\n",
       "       'фантастика,боевик,комедия', 'фантастика,приключения,детектив',\n",
       "       'короткометражка,драма,военный', 'драма,мультфильм',\n",
       "       'приключения,семейный', 'детектив', 'триллер,приключения',\n",
       "       'аниме,мультфильм,боевик', 'драма,комедия,биография',\n",
       "       'драма,комедия,спорт', 'боевик,мелодрама,комедия',\n",
       "       'семейный,комедия', 'фэнтези,боевик,триллер',\n",
       "       'документальный,фэнтези,семейный', 'фантастика,фэнтези,драма',\n",
       "       'ужасы,комедия,фэнтези', 'документальный,биография,музыка',\n",
       "       'фантастика,боевик,фэнтези', 'ужасы,боевик,триллер',\n",
       "       'комедия,криминал,семейный', 'приключения,драма',\n",
       "       'криминал,драма,триллер', 'драма,детектив,криминал',\n",
       "       'фэнтези,приключения,комедия', 'комедия,спорт',\n",
       "       'мюзикл,фэнтези,мелодрама', 'мультфильм,фэнтези,приключения',\n",
       "       'фантастика,фэнтези,приключения', 'фэнтези',\n",
       "       'фэнтези,приключения,боевик', 'фантастика,боевик,драма',\n",
       "       'криминал,драма', 'криминал,триллер,драма',\n",
       "       'драма,мелодрама,приключения', 'детский,комедия',\n",
       "       'фантастика,драма,боевик', 'мультфильм,семейный,фэнтези',\n",
       "       'концерт,музыка,документальный', 'ужасы,комедия,приключения',\n",
       "       'драма,мелодрама,криминал', 'ужасы,фантастика,фэнтези',\n",
       "       'боевик,комедия', 'мультфильм,фантастика,комедия', 'триллер,ужасы',\n",
       "       'мультфильм,мюзикл,комедия', 'мелодрама,фэнтези,триллер',\n",
       "       'детский,приключения,комедия', 'комедия,детектив',\n",
       "       'аниме,мультфильм,мелодрама', 'документальный,драма,семейный',\n",
       "       'документальный,биография,история', 'военный,боевик,драма',\n",
       "       'ужасы,комедия', 'комедия,приключения,семейный',\n",
       "       'приключения,биография,история', 'детский,приключения,семейный',\n",
       "       'спорт,драма,биография', 'аниме,мультфильм,ужасы',\n",
       "       'фантастика,боевик,криминал', 'мюзикл,драма',\n",
       "       'драма,криминал,детектив', 'аниме,мультфильм,драма',\n",
       "       'драма,триллер,приключения', 'триллер,криминал,драма',\n",
       "       'фэнтези,комедия,драма', 'мультфильм,комедия',\n",
       "       'драма,комедия,история', 'комедия,биография,история',\n",
       "       'мультфильм,фантастика,приключения', 'аниме,мультфильм,фантастика',\n",
       "       'мультфильм,фэнтези,семейный', 'мультфильм,боевик,комедия',\n",
       "       'комедия,криминал,спорт', 'документальный,мюзикл',\n",
       "       'мелодрама,комедия,музыка', 'биография',\n",
       "       'триллер,криминал,комедия', 'фантастика,драма,комедия',\n",
       "       'комедия,драма,мелодрама', 'фантастика,приключения,боевик',\n",
       "       'мультфильм,фэнтези,драма', 'триллер,комедия',\n",
       "       'драма,приключения,биография', 'фантастика,комедия',\n",
       "       'мелодрама,драма,комедия', 'боевик,криминал',\n",
       "       'драма,криминал,боевик', 'мультфильм,мюзикл,детский',\n",
       "       'драма,фэнтези', 'документальный,семейный',\n",
       "       'фэнтези,драма,приключения', 'ужасы,комедия,фантастика',\n",
       "       'драма,мелодрама,музыка', 'фэнтези,драма,семейный',\n",
       "       'триллер,мелодрама,драма', 'вестерн,боевик,драма',\n",
       "       'мультфильм,короткометражка,комедия', 'триллер,драма,история',\n",
       "       'ужасы,фантастика', 'ужасы,мелодрама,комедия',\n",
       "       'фэнтези,приключения', 'фантастика,триллер',\n",
       "       'ужасы,боевик,фэнтези', 'мультфильм,комедия,детский',\n",
       "       'триллер,драма,биография', 'мультфильм,ужасы,фэнтези',\n",
       "       'мультфильм,ужасы,фантастика', 'ужасы,боевик,комедия',\n",
       "       'драма,биография,спорт', 'мультфильм', 'мелодрама,комедия,драма',\n",
       "       'приключения,фантастика,семейный', 'комедия,криминал,детектив',\n",
       "       'ужасы,триллер,комедия', 'криминал,комедия,триллер',\n",
       "       'семейный,приключения,комедия', 'мультфильм,драма,приключения',\n",
       "       'ужасы,драма,детектив', 'драма,приключения,фэнтези',\n",
       "       'фантастика,мультфильм,драма', 'драма,триллер,детектив',\n",
       "       'драма,история,музыка', 'детский', 'триллер,боевик,криминал',\n",
       "       'драма,фантастика', 'комедия,драма,семейный',\n",
       "       'боевик,драма,комедия', 'комедия,ужасы',\n",
       "       'драма,фантастика,триллер', 'фантастика,драма,триллер',\n",
       "       'история,спорт,драма', 'документальный,биография',\n",
       "       'биография,история', 'спорт,драма', 'боевик,фэнтези',\n",
       "       'мультфильм,фэнтези', 'документальный,комедия,история',\n",
       "       'криминал,комедия,боевик', 'фэнтези,приключения,драма',\n",
       "       'музыка,концерт', 'триллер,драма,боевик',\n",
       "       'комедия,криминал,боевик', 'комедия,фантастика,боевик',\n",
       "       'вестерн,приключения,боевик', 'аниме,мультфильм,комедия',\n",
       "       'детектив,криминал,триллер', 'мультфильм,комедия,криминал',\n",
       "       'комедия,приключения,детектив', 'мелодрама,фантастика,драма',\n",
       "       'драма,комедия,семейный', 'приключения,фантастика',\n",
       "       'триллер,детектив,ужасы', 'комедия,приключения,фэнтези',\n",
       "       'фэнтези,триллер,драма', 'мелодрама,приключения,боевик',\n",
       "       'детектив,триллер,криминал', 'фэнтези,семейный,мелодрама',\n",
       "       'военный,драма', 'документальный,приключения,семейный',\n",
       "       'криминал,комедия,драма', 'комедия,фантастика',\n",
       "       'история,биография,драма', 'мелодрама,драма,музыка',\n",
       "       'боевик,мелодрама', 'комедия,криминал,триллер',\n",
       "       'детектив,триллер,боевик', 'комедия,боевик,криминал',\n",
       "       'комедия,вестерн', 'детский,мелодрама,семейный',\n",
       "       'короткометражка,мультфильм', 'комедия,фэнтези',\n",
       "       'фантастика,драма,ужасы', 'триллер,драма,ужасы',\n",
       "       'драма,фэнтези,история', 'комедия,драма,короткометражка',\n",
       "       'фэнтези,триллер,приключения', 'семейный',\n",
       "       'комедия,криминал,драма', 'комедия,фэнтези,ужасы',\n",
       "       'короткометражка,комедия,криминал', 'фантастика',\n",
       "       'триллер,ужасы,драма', 'мелодрама,драма,фэнтези',\n",
       "       'фантастика,приключения,драма', 'боевик,детектив',\n",
       "       'военный,драма,боевик', 'комедия,мелодрама,фэнтези',\n",
       "       'вестерн,криминал,триллер', 'драма,история,триллер',\n",
       "       'мультфильм,фантастика,боевик', 'детектив,драма,криминал',\n",
       "       'приключения,история,драма', 'мультфильм,семейный,детский',\n",
       "       'биография,драма,история', 'триллер,криминал,боевик',\n",
       "       'история,мелодрама', 'приключения,детский',\n",
       "       'музыка,приключения,концерт', 'военный,драма,комедия',\n",
       "       'фэнтези,боевик,военный', 'фантастика,детектив,боевик',\n",
       "       'мультфильм,фэнтези,история', 'биография,мелодрама,драма',\n",
       "       'документальный,биография,спорт', 'фантастика,комедия,детектив',\n",
       "       'музыка,концерт,документальный', 'триллер,боевик,приключения',\n",
       "       'триллер,драма,комедия', 'детектив,криминал',\n",
       "       'мультфильм,приключения,фэнтези', 'мелодрама,приключения',\n",
       "       'комедия,музыка', 'мелодрама,комедия,ужасы',\n",
       "       'драма,криминал,приключения', 'приключения,детектив,мелодрама',\n",
       "       'драма,криминал,фантастика', 'фэнтези,драма,биография',\n",
       "       'детектив,фантастика,криминал', 'триллер,драма,фантастика',\n",
       "       'ужасы,комедия,боевик', 'мелодрама,история', 'триллер,боевик',\n",
       "       'фильм-нуар,триллер,детектив', 'комедия,криминал,приключения',\n",
       "       'ужасы,триллер,мелодрама', 'военный,драма,история',\n",
       "       'драма,спорт,история', 'документальный,драма,история',\n",
       "       'триллер,мелодрама,детектив', 'детский,семейный',\n",
       "       'мюзикл,семейный,драма', 'биография,военный,драма',\n",
       "       'мультфильм,детский', 'боевик,криминал,драма',\n",
       "       'детектив,фэнтези,триллер', 'драма,боевик,приключения',\n",
       "       'драма,мелодрама,фэнтези', 'детектив,история,драма',\n",
       "       'фэнтези,боевик,ужасы', 'ужасы,фэнтези,мелодрама',\n",
       "       'ужасы,приключения', 'боевик,фантастика',\n",
       "       'ужасы,мелодрама,детектив', 'фантастика,триллер,приключения',\n",
       "       'боевик,приключения,история', 'приключения,боевик,триллер',\n",
       "       'детектив,ужасы,криминал', 'семейный,фэнтези', 'мюзикл,мелодрама',\n",
       "       'драма,военный,приключения', 'фантастика,драма,приключения',\n",
       "       'приключения,семейный,драма', 'история,драма,боевик',\n",
       "       'мультфильм,приключения,комедия', 'криминал,драма,комедия',\n",
       "       'ужасы,комедия,драма', 'комедия,семейный,приключения',\n",
       "       'мюзикл,фэнтези,драма', 'драма,вестерн,боевик',\n",
       "       'фантастика,триллер,детектив', 'драма,история,детектив',\n",
       "       'короткометражка,биография', 'мультфильм,приключения,фантастика',\n",
       "       'комедия,триллер', 'мультфильм,приключения,детектив',\n",
       "       'драма,триллер', 'ужасы,триллер,криминал',\n",
       "       'документальный,криминал,военный', 'ужасы,фэнтези,драма',\n",
       "       'фэнтези,комедия', 'ужасы,фэнтези,комедия', 'комедия,музыка,драма',\n",
       "       'мультфильм,приключения,военный', 'мюзикл,фэнтези,комедия',\n",
       "       'боевик,фантастика,приключения', 'триллер,ужасы,криминал',\n",
       "       'ужасы,фантастика,драма', 'фантастика,приключения,семейный',\n",
       "       'короткометражка,музыка', 'мелодрама,детектив,комедия',\n",
       "       'документальный,триллер,биография', 'боевик,фантастика,триллер',\n",
       "       'спорт,драма,комедия', 'фэнтези,мелодрама,приключения',\n",
       "       'триллер,детектив,криминал', 'короткометражка,мелодрама',\n",
       "       'мультфильм,семейный,спорт', 'комедия,фэнтези,мелодрама',\n",
       "       'драма,спорт,комедия', 'история,драма,мелодрама',\n",
       "       'драма,боевик,криминал', 'драма,комедия,триллер',\n",
       "       'аниме,мультфильм', 'документальный,ужасы',\n",
       "       'мультфильм,короткометражка', 'драма,история,военный',\n",
       "       'мультфильм,короткометражка,фэнтези', 'комедия,военный,музыка',\n",
       "       'биография,история,драма', 'ужасы,драма,мелодрама',\n",
       "       'драма,комедия,детектив', 'комедия,семейный,фантастика',\n",
       "       'мультфильм,семейный,комедия', 'история,детектив',\n",
       "       'приключения,мелодрама,детектив', 'мюзикл,комедия,мелодрама',\n",
       "       'драма,фантастика,ужасы', 'мультфильм,ужасы,комедия',\n",
       "       'для взрослых,драма,комедия', 'ужасы,комедия,музыка',\n",
       "       'комедия,история,драма', 'семейный,детектив,детский',\n",
       "       'короткометражка,драма', 'документальный,новости,драма',\n",
       "       'триллер,мелодрама', 'ужасы,драма,вестерн',\n",
       "       'мюзикл,фэнтези,семейный', 'вестерн,драма,триллер',\n",
       "       'приключения,вестерн,боевик', 'семейный,комедия,музыка',\n",
       "       'боевик,драма,вестерн', 'ужасы,драма,триллер',\n",
       "       'фантастика,мелодрама', 'комедия,криминал,биография',\n",
       "       'семейный,мультфильм,комедия', 'комедия,драма,криминал',\n",
       "       'фантастика,боевик,военный', 'приключения,биография,драма',\n",
       "       'приключения,триллер,биография', 'криминал,боевик,триллер',\n",
       "       'боевик,вестерн,приключения', 'история,драма',\n",
       "       'фантастика,фэнтези,комедия', 'мультфильм,детский,комедия',\n",
       "       'мелодрама,комедия,триллер', 'документальный,боевик,приключения',\n",
       "       'драма,приключения', 'мелодрама,военный,драма', 'триллер,фэнтези',\n",
       "       'драма,триллер,биография', 'фэнтези,боевик,семейный',\n",
       "       'фантастика,триллер,комедия', 'документальный,фэнтези',\n",
       "       'комедия,мультфильм,фантастика', 'криминал,биография,комедия',\n",
       "       'биография,спорт,драма', 'приключения,военный',\n",
       "       'мультфильм,семейный,драма', 'документальный,фэнтези,драма',\n",
       "       'комедия,боевик,фантастика', 'семейный,приключения,военный',\n",
       "       'триллер,ужасы,детектив', 'короткометражка',\n",
       "       'мелодрама,триллер,история', 'документальный,история',\n",
       "       'мультфильм,приключения,детский', 'драма,комедия,мультфильм',\n",
       "       'военный,детектив', 'семейный,приключения,документальный',\n",
       "       'детский,фэнтези', 'документальный,комедия', 'комедия,биография',\n",
       "       'криминал,комедия', 'спорт,мелодрама,криминал',\n",
       "       'фантастика,комедия,боевик', 'боевик,приключения,детектив',\n",
       "       'детектив,триллер,драма', 'документальный,фантастика',\n",
       "       'мелодрама,комедия,семейный', 'мультфильм,мелодрама,комедия',\n",
       "       'драма,спорт,семейный', 'фантастика,мелодрама,фэнтези',\n",
       "       'мюзикл,комедия,музыка', 'фантастика,триллер,мелодрама',\n",
       "       'приключения,комедия,фэнтези', 'фэнтези,боевик,детектив',\n",
       "       'фэнтези,боевик,мелодрама', 'комедия,военный',\n",
       "       'драма,спорт,боевик', 'мультфильм,боевик,триллер',\n",
       "       'мелодрама,семейный', 'фантастика,боевик,детектив',\n",
       "       'драма,приключения,история', 'документальный,драма,музыка',\n",
       "       'фантастика,триллер,боевик', 'фэнтези,боевик,вестерн',\n",
       "       'драма,комедия,мелодрама', 'ужасы,фэнтези,приключения',\n",
       "       'триллер,фэнтези,драма', 'мультфильм,мюзикл,мелодрама',\n",
       "       'ужасы,триллер,фантастика', 'триллер,мелодрама,комедия',\n",
       "       'ужасы,комедия,семейный', 'комедия,приключения,музыка',\n",
       "       'документальный,комедия,криминал', 'мелодрама,детектив',\n",
       "       'детский,приключения,фантастика', 'короткометражка,боевик,драма',\n",
       "       'боевик,комедия,семейный', 'фантастика,боевик,мелодрама',\n",
       "       'фэнтези,триллер,мелодрама', 'драма,детектив,история',\n",
       "       'боевик,криминал,детектив', 'мультфильм,фэнтези,мелодрама',\n",
       "       'мелодрама,драма,боевик', 'драма,вестерн,приключения',\n",
       "       'драма,приключения,мелодрама', 'фэнтези,боевик,криминал',\n",
       "       'фантастика,комедия,семейный', 'детский,фэнтези,приключения',\n",
       "       'ужасы,боевик', 'фантастика,мелодрама,комедия',\n",
       "       'семейный,спорт,боевик', 'триллер,биография,драма',\n",
       "       'ужасы,драма,комедия', 'мультфильм,фэнтези,триллер', 'мюзикл',\n",
       "       'боевик,спорт,драма', 'комедия,приключения,вестерн',\n",
       "       'документальный,ужасы,боевик', 'фантастика,боевик,семейный',\n",
       "       'военный,история', 'ужасы,боевик,криминал', 'детектив,триллер',\n",
       "       'драма,семейный,комедия', 'драма,детектив,приключения',\n",
       "       'драма,криминал,история', 'приключения,триллер',\n",
       "       'боевик,драма,биография', 'драма,приключения,триллер',\n",
       "       'комедия,фэнтези,приключения', 'фантастика,боевик,ужасы',\n",
       "       'драма,комедия,фантастика', 'детектив,криминал,драма',\n",
       "       'боевик,триллер,фэнтези', 'приключения,детектив,семейный',\n",
       "       'ужасы,комедия,криминал', 'мультфильм,биография,драма',\n",
       "       'история,боевик,фэнтези', 'детектив,криминал,боевик',\n",
       "       'приключения,фэнтези', 'комедия,приключения,спорт',\n",
       "       'драма,биография,мюзикл', 'комедия,семейный,фэнтези',\n",
       "       'детектив,драма,триллер', 'боевик,приключения,семейный',\n",
       "       'биография,спорт,комедия', 'фантастика,приключения,военный',\n",
       "       'документальный,драма,биография', 'детектив,приключения,драма',\n",
       "       'аниме,мультфильм,приключения', 'семейный,приключения',\n",
       "       'ужасы,фэнтези,детектив', 'семейный,документальный',\n",
       "       'драма,приключения,семейный', 'приключения,история,военный',\n",
       "       'фэнтези,мелодрама', 'фэнтези,триллер,детектив',\n",
       "       'документальный,спорт,биография', 'комедия,триллер,драма',\n",
       "       'драма,ужасы', 'биография,музыка,драма', 'фэнтези,ужасы',\n",
       "       'детектив,мелодрама,фэнтези', 'боевик,военный,история',\n",
       "       'биография,драма,криминал', 'триллер,мелодрама,криминал',\n",
       "       'семейный,мелодрама', 'биография,драма', 'военный,история,драма',\n",
       "       'фантастика,детектив,фэнтези', 'детектив,приключения,триллер',\n",
       "       'фантастика,приключения', 'мультфильм,короткометражка,мюзикл',\n",
       "       'мультфильм,детский,семейный', 'документальный,драма,комедия',\n",
       "       'комедия,приключения,криминал', 'документальный,семейный,музыка',\n",
       "       'мелодрама,музыка,драма', 'детектив,фантастика,триллер',\n",
       "       'драма,мелодрама,триллер', 'биография,драма,военный',\n",
       "       'приключения,фантастика,драма', 'детектив,фильм-нуар,комедия',\n",
       "       'документальный,спорт', 'триллер,фантастика,драма',\n",
       "       'биография,документальный', 'ужасы,фантастика,мелодрама',\n",
       "       'детектив,комедия', 'история,биография,военный',\n",
       "       'криминал,мелодрама', 'драма,криминал,вестерн',\n",
       "       'мелодрама,семейный,приключения', 'триллер,ужасы,мелодрама',\n",
       "       'фэнтези,драма,фильм-нуар', 'детектив,мелодрама',\n",
       "       'комедия,драма,биография', 'драма,военный,боевик',\n",
       "       'драма,комедия,ужасы', 'фантастика,драма,криминал',\n",
       "       'документальный,музыка,биография', 'мультфильм,боевик,приключения',\n",
       "       'короткометражка,фантастика', 'мультфильм,мелодрама,драма',\n",
       "       'боевик,военный,драма', 'фэнтези,семейный,приключения',\n",
       "       'детский,мультфильм,приключения', 'семейный,фэнтези,комедия',\n",
       "       'фэнтези,ужасы,триллер', 'ужасы,триллер,приключения',\n",
       "       'драма,боевик,история', 'фэнтези,комедия,детектив',\n",
       "       'история,приключения', 'аниме,мультфильм,короткометражка',\n",
       "       'драма,военный,триллер', 'биография,криминал,триллер',\n",
       "       'фантастика,фэнтези,детектив', 'вестерн,биография,драма',\n",
       "       'биография,музыка,мюзикл', 'драма,история,биография',\n",
       "       'приключения,драма,фантастика', 'комедия,фэнтези,криминал',\n",
       "       'биография,спорт,история', 'драма,криминал,семейный',\n",
       "       'детектив,боевик,история', 'ужасы,комедия,детектив',\n",
       "       'триллер,приключения,драма', 'фэнтези,комедия,криминал',\n",
       "       'триллер,криминал,приключения', 'комедия,детектив,приключения',\n",
       "       'фэнтези,драма,ужасы', 'ужасы,драма,военный', 'реальное ТВ',\n",
       "       'аниме,мультфильм,детектив', 'приключения,фэнтези,семейный',\n",
       "       'драма,биография,комедия', 'триллер,комедия,ужасы',\n",
       "       'музыка,мелодрама,фэнтези', 'мультфильм,история',\n",
       "       'мультфильм,комедия,фантастика', 'биография,криминал,драма',\n",
       "       'комедия,мелодрама,фантастика', 'криминал,боевик,комедия',\n",
       "       'история,криминал', 'детектив,комедия,драма',\n",
       "       'триллер,фантастика,боевик', 'криминал,боевик',\n",
       "       'комедия,драма,военный', 'драма,триллер,криминал',\n",
       "       'мультфильм,мелодрама,приключения', 'фантастика,фэнтези,триллер',\n",
       "       'короткометражка,драма,триллер', 'военный,боевик,история',\n",
       "       'боевик,драма,триллер', 'документальный,военный,драма',\n",
       "       'драма,криминал,фильм-нуар', 'мультфильм,детский,приключения',\n",
       "       'мелодрама,история,драма'], dtype=object)"
      ]
     },
     "execution_count": 33,
     "metadata": {},
     "output_type": "execute_result"
    }
   ],
   "source": [
    "data['genres'].unique()"
   ]
  },
  {
   "cell_type": "code",
   "execution_count": 34,
   "metadata": {},
   "outputs": [
    {
     "data": {
      "text/plain": [
       "array(['Кевин Костнер', 'Е.Матвеев', 'Тимур Бекмамбетов', ...,\n",
       "       'Ник Пауэлл', 'А.Беляев', 'И.Трусов'], dtype=object)"
      ]
     },
     "execution_count": 34,
     "metadata": {},
     "output_type": "execute_result"
    }
   ],
   "source": [
    "data['director'].unique()"
   ]
  },
  {
   "cell_type": "code",
   "execution_count": 35,
   "metadata": {},
   "outputs": [
    {
     "data": {
      "text/plain": [
       "array(['США', 'СССР', 'Франция', 'СССР, Венгрия',\n",
       "       'Германия-Великобритания', 'Великобритания - Италия',\n",
       "       'Чехословакия', 'США - Франция - Турция', 'Новая Зеландия',\n",
       "       'Канада - Франция - Испания', 'США-Германия',\n",
       "       'США - Великобритания', 'Великобритания', 'США - Германия',\n",
       "       'Франция - Мексика - США', 'Россия, Казахстан, США',\n",
       "       'СССР, Швеция', 'СССР, Франция, Англия, Куба, ГДР', 'Германия',\n",
       "       'Великобритания-США-Германия-КНР',\n",
       "       'СССР, ЧССР, Западный Берлин, ПНР', 'СССР, Италия', 'Гонконг, КНР',\n",
       "       'США - Франция', 'США - Япония - Франция - Великобритания',\n",
       "       'Гонконг - Сингапур - Таиланд - Великобритания', 'США-Канада',\n",
       "       'Франция - Италия - Великобритания - США', 'Франция - США',\n",
       "       'Ирландия-Великобритания-Германия', 'Чехия', 'США-Австралия',\n",
       "       'СССР, Финляндия', 'США-Франция-Великобритания-Австрия',\n",
       "       'США - Бельгия', 'США - Ирландия - Великобритания',\n",
       "       'Великобритания - США',\n",
       "       'Люксембург - Нидерланды - Испания - Великобритания - США - Италия',\n",
       "       'Великобритания - Франция - США', 'Новая Зеландия - США',\n",
       "       'США - Великобритания - Чехия',\n",
       "       'Канада - Франция - Великобритания', 'Ирландия',\n",
       "       'Великобритания - Германия - США',\n",
       "       'США - Франция - Великобритания', 'Япония', 'СССР, Польша',\n",
       "       'Франция - Испания', 'Канада-Франция', 'Германия - Италия - США',\n",
       "       'Аргентина - Бразилия', 'Дания - Швейцария - Бельгия - Франция',\n",
       "       'США - Испания', 'Германия - США',\n",
       "       'Франция - Австрия - Германия - Италия - США', 'Австрия',\n",
       "       'США - Канада - Германия', 'США - Канада',\n",
       "       'СССР - Швейцария - Франция', 'Россия - Казахстан', 'Гонконг',\n",
       "       'Италия', 'США - ОАЭ', 'Россия',\n",
       "       'США - Франция - Испания - Великобритания',\n",
       "       'Великобритания - Франция', 'США-Италия-Испания-Аргентина',\n",
       "       'Франция-Великобритания', 'КНР - Гонконг',\n",
       "       'Франция - Италия - Швейцария', 'США - Новая Зеландия',\n",
       "       'Франция - Бельгия', 'КНР', 'Германия - Великобритания - Австрия',\n",
       "       'Великобритания - Израиль - Франция - Япония - США', 'Швеция',\n",
       "       'Испания', 'Дания', 'Франция - Бельгия - Люксембург',\n",
       "       'США - Индия - ОАЭ',\n",
       "       'Германия-Канада-Великобритания-Швейцария-Франция',\n",
       "       'Мексика - Чили', 'Аргентина', 'Бразилия', 'Чили', 'Австралия',\n",
       "       'Португалия - Франция', 'США - ЮАР', 'Исландия-Ирландия-Германия',\n",
       "       'США-Индонезия', 'Южная Корея', 'Мексика - Испания - Дания - США',\n",
       "       'Великобритания-США', 'Франция - Италия', 'США-Франция',\n",
       "       'США - Венгрия - Великобритания', 'Бельгия-Франция-Италия',\n",
       "       'Чехия - Германия', 'Германия - Франция', 'США-Нидерланды',\n",
       "       'Украина', 'Великобритания - Германия', 'Франция-Бельгия',\n",
       "       'США-Франция-Испания', 'Италия - Франция', 'Канада',\n",
       "       'Швеция-Франция-Дания', 'Германия-Франция-Польша',\n",
       "       'Франция-Великобритания - Германия',\n",
       "       'США - Бразилия - Франция - Австралия - Великобритания - Германия',\n",
       "       'Германия-Австрия', 'Германия-Италия- Шри-Ланка',\n",
       "       'Великобритания - Испания',\n",
       "       'США - Великобритания - Канада - Швеция',\n",
       "       'Босния и Герцеговина - Франция - Великобритания - Германия - Словения - Бельгия - Сербия',\n",
       "       'Великобритания - Франция - Италия - США', 'США-ОАЭ',\n",
       "       'Испания - Франция', 'США-Великобритания', 'США-ЮАР',\n",
       "       'Великобритания-Австралия - США',\n",
       "       'Норвегия - Швеция - Дания - Германия', 'Норвегия', 'Швейцария',\n",
       "       'Греция - Германия - Франция', 'Норвения', 'Южная Корея - США',\n",
       "       'Чили - Франция - США', 'Австрия - Германия - Франция',\n",
       "       'Швеция - Дания', 'Великобритания - Франция - Бельгия - Италия',\n",
       "       'Франция - Германия', 'Грузия - Франция - Люксембург',\n",
       "       'США - Франция - Великобритания - Бразилия ', 'США - КНР',\n",
       "       'Мексика - Франция', 'США - Германия - Гонконг - Сингапур',\n",
       "       'Финляндия - Австрия - Россия', 'Испания - Куба',\n",
       "       'Великобритания - ЮАР', 'Великобритания - Ирландия', 'Израиль',\n",
       "       'Бразилия - Германия - Порртугалия - Франция ',\n",
       "       'Франция - Канада - Бельгия', 'Франция-Испания',\n",
       "       'Испания - Канада - Япония', 'Иран', 'Швеция-Куба',\n",
       "       'США-Великобритания-Ирландия', 'Гонконг - КНР', 'Нидерланды',\n",
       "       'Испания - Канада', 'Япония-Великобритания',\n",
       "       'Великобритания - Норвегия - Дания - Германия',\n",
       "       'Финляндия - Франция - Германия',\n",
       "       'Мексика - Франция - Нидерланды - Германия', 'США - Индия',\n",
       "       'США-Великобритания-Индия', 'США-Канада-Бельгия',\n",
       "       'Республика Узбекистан', 'Италия ', 'Турция',\n",
       "       'Сербия - Словения - Хорватия - Черногория - Македония',\n",
       "       'Киргизия', 'Германия - Нидерланды - Беларусь - Россия - Латвия',\n",
       "       'Индия', 'Нидерланды - Россия - Германия',\n",
       "       'Великобритания - Нидерланды - Франция - Хорватия',\n",
       "       'Канада - Южная Корея',\n",
       "       'Великобритания - Польша - КНР - Индия - Норвегия',\n",
       "       'Япония - Франция - США - Южная Корея - Турция',\n",
       "       'Мексика - Аргентина - Великобритания', 'Израиль - Франция',\n",
       "       'Польша - Португалия - Франция - Великобритания',\n",
       "       'Австралия - США', 'США - Великобритания ',\n",
       "       'Франция - Люксембург - Бельгия', 'Армения',\n",
       "       'Бельгия - Люксембург - Франция - Швейцария',\n",
       "       'США - Великобритания - Канада', 'Норвегия - Швеция',\n",
       "       'Канада - Франция', 'КНР - Гонконг - США',\n",
       "       'США - Сингапур - Малайзия - Индонезия', 'Германия - Россия',\n",
       "       'Япония - Канада', 'Финляндия - Дания - Германия - Ирландия',\n",
       "       'Франция - Люксембург - Германия - Бельгия - Швейцария - Великобритания ',\n",
       "       'Канада - США', 'США-Италия-Испания', 'США-Испания',\n",
       "       'США - Швейцария - Франция', 'Испания - США - Колумбия',\n",
       "       'Канада-ЮАР', 'Франция - Россия',\n",
       "       'Германия - Финляндия - Австралия', 'Дания - Швеция', 'Бельгия',\n",
       "       'Германия - Франция - Австрия', 'Франция-Индия', 'ЮАР',\n",
       "       'Франция-Перу', 'Франция - Канада', 'Республика Беларусь',\n",
       "       'Великобритания - Австрия - Франция - США',\n",
       "       'Австрия-Германия-Франция', 'США-Россия', 'Германия-США',\n",
       "       'США - Южная Корея', 'Канада - КНР',\n",
       "       'Дания - Швеция - Италия - Франция - Германия',\n",
       "       'Франция-Италия-Испания-Венгрия', 'Франция - Германия - Бельгия',\n",
       "       'Франция-Великобритания-Чехия', 'Румыния - Франция - Бельгия',\n",
       "       'Болгария - Франция - Изриль',\n",
       "       'Израиль - Германия - Польша - Бельгия - Франция - Люксембург',\n",
       "       'Россия, Германия, Франция, Бельгия', 'Индонезия',\n",
       "       'Франция - Португалия', 'Великобритания - Пуэрто-Рико',\n",
       "       'СССР, ФРГ, Западный Берлин', 'Россия, Республика Беларусь',\n",
       "       'США, Великобритания', 'Франция - Австрия', 'Бельгия-Нидерланды',\n",
       "       'Великобритания - США - Индия', 'США - Великобритания - Австралия',\n",
       "       'Канада - Франция - США - ОАЭ - Великобритания',\n",
       "       'США - Австралия - Франция',\n",
       "       'Дания-Франция-Бельгия-Германия-Великобритания',\n",
       "       'Испания - Аргентина', 'Исландия - Финляндия',\n",
       "       'Россия-Польша-Голландия-Словакия', 'Дания - Германия - Швеция',\n",
       "       'Южная Корея - США - Канада', 'Таиланд', 'США-Мальта',\n",
       "       'США -Германия',\n",
       "       'Великобритания - Германия - Франция - Кипр - США', 'Мексика',\n",
       "       'США - Великобритания - Ирландия', 'США - Украина',\n",
       "       'США - Финляндия - Испания - Великобритания - Франция',\n",
       "       'Австралия-Великобритания',\n",
       "       'США - Канада - Афганистан - Бельгия - Франция',\n",
       "       'США - Великобритания - Германия - Новая Зеландия - Бельгия - Франция',\n",
       "       'Франция-Канада',\n",
       "       'Ирландия - Финляндия - Бельгия - Великобритания - США - Швейцария',\n",
       "       'Малайзия - США', 'Германия - Италия',\n",
       "       'США - Франция - Бельгия - Италия', 'Франция - Ирландия - Швеция',\n",
       "       'Азербайджан-Россия', 'Великобритания - Италия - Швейцария',\n",
       "       'США - Германия - Великобритания',\n",
       "       'Германия - Бельгия - США -Франция', 'США-Китай', 'Чили - Испания',\n",
       "       'Франция - Швейцария', 'Канада - Испания',\n",
       "       'США - Румыния - Великобритания', 'США - Япония',\n",
       "       'США - Россия - Франция', 'Франция-США', 'Парагвай',\n",
       "       'Германия - Канада', 'США - Канада - Великобритания',\n",
       "       'Финляндия - Канада', 'Уругвай-Мексика-Германия ', 'США - Чили',\n",
       "       'Германия - Аргентина - Нидерланды - Чили',\n",
       "       'США - Канада - Индонезия', 'Армения - Казахстан', 'Финляндия',\n",
       "       'Испания - Италия - Франция',\n",
       "       'Бельгия - Испания - Канада - Нидерланды',\n",
       "       'Великобритания - Франция - Швеция - Бельгия',\n",
       "       'Мексика - Эквадор - Канада - США - Франция - Малайзия - Италия - Аргентина - Германия - Индия  ',\n",
       "       'Франция - Бенльгия', 'Индия - Великобритания',\n",
       "       'Япония - Великобритания - Франция',\n",
       "       'Испания - Уругвай - Аргентина',\n",
       "       'Франция - Италия - Бельгия - Люксембург',\n",
       "       'Франция - Украина - Грузия - Армения',\n",
       "       'Сербия - Германия - Венгрия', 'Франция-Польша', 'Франция ',\n",
       "       'Румыния-США', 'Россия-Азербайджан',\n",
       "       'США - Нидерланды - Бельгия - Венгрия - Греция - Канада',\n",
       "       'Германия - Франция - Люксембург', 'США - Россия',\n",
       "       'Великобритания - США - Франция', 'США - Австралия - Дания',\n",
       "       'Бельгия-Франция', 'США-Мексика',\n",
       "       'Норвегия - Азербайджан - Россия - Колумбия - Великобритания - Венгрия - Румыния - Франция - Грузия',\n",
       "       'СЩА', 'Бразилия - Испания', 'Россия, Франция, Латвия',\n",
       "       'Нидерланды - США - Германия - Канада - Франция - Ирландия - Великобритания',\n",
       "       'Уругвай - Колумбия', 'США - Испания - Болгария',\n",
       "       'Армения - Германия', 'США - Великобритания- Франция - Швеция',\n",
       "       'США - Мексика', 'Австралия-Турция-США', 'Швеция - Германия',\n",
       "       'Польша - Италия - Россия', 'Франция - Бразилия',\n",
       "       'США - Канада - КНР', 'СССР, Венгрия, ЧССР, ГДР',\n",
       "       'Бельгия - Германия - Люксембург', 'СССР  ', 'СССР ', ' СССР ',\n",
       "       'США - Австралия', 'Бразилия - США',\n",
       "       'США - Великобритания - Канада - КНР', 'Франция - Чили',\n",
       "       'Франция - США - Великобритания - Колумбия - Бельгия - Россия',\n",
       "       'Дания - Великобритания - ЮАР', 'СССР   ',\n",
       "       'Россия-США-Канада-Люксембург', 'Россия - Республика Кипр',\n",
       "       'Германия - США - Швеция - Франция',\n",
       "       'Великобритания-Германия-Канада-ЮАР', ' СССР   ', 'СССР     ',\n",
       "       'Ирландия, Канада',\n",
       "       'Япония - Великобритания - Швейцария - Ирландия - Дания - Франция - Польша - Австралия - Канада  ',\n",
       "       'Великобритания, Канада', 'Бельгия - США',\n",
       "       'Великобритания - США - Россия', 'Россия-Украина',\n",
       "       'Германия - США - Великобритания - Израиль', 'Канада - Германия',\n",
       "       'США- Ю.Корея', 'Индия - Мексика',\n",
       "       'Великобритания - Франция - Республика Кипр - Швейцария - США - Сербия',\n",
       "       'Испания - Аргентина - Индия - США',\n",
       "       'Норвегия - Исландия - США - Великобритания ',\n",
       "       'Турция - Германя - Франция', 'Германия - Великобритания',\n",
       "       'Австралия - Германия', 'Мексика - Испания',\n",
       "       'Великобритания - США - Германия - Бельгия',\n",
       "       'США - Чехия - Франция', 'Россия - Италия', 'Франция-Россия',\n",
       "       'Норвегия - Дания - Швеция', 'Франция - Швейцария - Германия',\n",
       "       'Грузия - Украина', 'Россия - Эстония - Финляндия - Беларусь',\n",
       "       'США - Франция - ЮАР', 'Великобритания - США - Швейцария',\n",
       "       'Канада-США', 'Мексика - Нидерланды - Германия - Франция',\n",
       "       'США - Испания - Франция', 'США - Великобритания - КНР',\n",
       "       'США-Франция-Канада',\n",
       "       'Япония, Великобритания, Австрия, Германия, Ю.Корея',\n",
       "       'Великобритания - Ирландия - США', 'Бельгия - Италия - Франция ',\n",
       "       'Швейцария-Германия-ЮАР', 'Великобритания - США - Германия',\n",
       "       'Германия - Исландия', 'Испания - США', 'СССР    ', 'Хорватия',\n",
       "       'Финляндия - Исландия - Швеция',\n",
       "       'Канада - США - Германия - Франция',\n",
       "       'США - Великобритания - Испания', 'Ирландия-Великобритания',\n",
       "       'Аргентина - Испания', 'Австрия - Германия', ' СССР',\n",
       "       'Германия - Швейцария - Франция - Южная Корея - США',\n",
       "       'Украина - Нидерланды', 'Венгрия - Германия - Швеция',\n",
       "       'Германия - Франция -  Польша - Турция - Канада - Италия - Россия ',\n",
       "       'СССР, Афганистан', 'СССР, Монголия', 'Россия-Кипр',\n",
       "       'Россия, Грузия, Испания',\n",
       "       'Великобритания - Нидерланды - Германия - Франция - Бельгия - Австрия ',\n",
       "       'Испания - Великобритания - Франция',\n",
       "       'Дания - Норвегия - Великобритания',\n",
       "       'Бельгия - Франция - Люксембург',\n",
       "       'Италия - Франция - Швейцария - Великобритания',\n",
       "       'Франция - Бельгия - Великобритания - Испания - Германия - США',\n",
       "       'Швейцария - Израиль - Франция - Великобритания',\n",
       "       'Великобритания - США - Канада - Нидерланды - Франция',\n",
       "       'Россия, Италия', 'СССР, Албания',\n",
       "       'Россия, Украина, Республика Беларусь, Литва',\n",
       "       'Финляндия - Великобритания - Германия', 'Россия, Украина, Польша',\n",
       "       'Франция - Италия - Бельгия - КНР',\n",
       "       'Германия - Бельгия - Люксембург - Ирландия', 'КНР - Сингапур',\n",
       "       'Франция - Бельгия - Великобритания - США - Нидерланды - Канада',\n",
       "       'США - Россия - Польша - Германия - Пуэрто Рико',\n",
       "       'Франция - Бельгия - Канада', 'США ', 'Мексика - США',\n",
       "       'США - Гонконг - КНР ', 'Греция - Россия',\n",
       "       'Ирландия - Дания - Бельгия - Люксембург - Франция',\n",
       "       'Эстония - Россия',\n",
       "       'Великобритания - Исландия - Испания - Швейцария - США',\n",
       "       'Австралия - Великобритания - Бельгия - Индия',\n",
       "       'Швеция - Германия - Франция - Норвегия',\n",
       "       'Нидерланды - Бельгия - Германия - Ирландия',\n",
       "       'Нидерланды - Великобритания - Бельгия',\n",
       "       'США - Колумбия - Испания', 'Франция-Испания-Бельгия-Панама',\n",
       "       'США-Великобритания-Чехия-Румыния',\n",
       "       'Аргентина - Уругвай - Россия - Германия - Франция - Нидерланды',\n",
       "       'Швеция - Франция - Норвегия - Дания',\n",
       "       'Италия-Франция-Великобритания', 'Великобритания, Франция',\n",
       "       'Австралия, США', 'Венесуэла',\n",
       "       'Великобритания - США - Австралия - Ирландия - Германия - Куба - Канада',\n",
       "       'Южная Корея - КНР',\n",
       "       'Аргентина - Мексика - Бразилия - Франция - США', 'Швеция - США',\n",
       "       'Франция - Германия - Турция - Катар', 'Франция-Китай',\n",
       "       'Россия, Германия, Великобритания',\n",
       "       'Великобритания - Италия - Испания', 'Италия - Россия',\n",
       "       'Япония - КНР - Южная Корея', 'Россия, Германия',\n",
       "       'Россия-Ирландия', 'Македония - Франция - Великобритания',\n",
       "       'Франция - Бразилия - Италия', 'Россия-США', 'Армения-Россия',\n",
       "       'Россия, Румыния', 'Франция -  Бельгия', 'Грузия-Франция',\n",
       "       'ЮАР - США', 'Великобритания-США-Франция',\n",
       "       'Великобритания - США - Германия - Канада - Австралия',\n",
       "       'США-Ирландия', 'Россия, Республика Кипр',\n",
       "       'Германия - Люксембург - Франция', 'Россия-Франция',\n",
       "       'США - Нидерланды - Финляндия - Великобритания - Италия',\n",
       "       'Республика Кипр', 'Венгрия', 'Франция - США - Норвегия - Дания',\n",
       "       'Германия - Австрия - Ирландия', 'США - Финляндия',\n",
       "       'Италия-Великобритания', 'Россия, Испания',\n",
       "       'США - Великобритания - Болгария', 'Великобритания - Люксембург',\n",
       "       'Индия - США', 'США - Канада - Россия - Франция - Чили - Ирландия',\n",
       "       'Грузия-Россия',\n",
       "       'Дания - Австрия - Ирландия - Финляндия - Норвегия - Швеция - Нидерланды',\n",
       "       'США-КНР', 'Грузия', 'Австралия - Ирландия',\n",
       "       'Великобритания - Канада', 'Италия - Аргентина - Словения ',\n",
       "       'Испания - Франция - Нидерланды - Германия - Бельгия - Великобритания - Канада',\n",
       "       'Франция - Чехия - Бельгия',\n",
       "       'Великобритания - Франция - Германия - США',\n",
       "       'Ирландия - Великобритания - Франция - США - Германия - Нидерланды',\n",
       "       'США - Канада - Япония - КНР', 'Италия-Франция',\n",
       "       'США - Великобритания - Исландия', 'Великобритания-Франция',\n",
       "       'Франция - Германия - Нидерланды', 'Иран ',\n",
       "       'Франция - Германия - Швеция - США - Чехия - Словакия - Великобритания - Нидерланды',\n",
       "       'Франция - Канада - Н.Зеландия - США - Нидерланды - Германия - Швеция - Россия',\n",
       "       'Турция - США',\n",
       "       'Великобритания - США - Канада - Бельгия - Нидерланды - Австрия - Германия',\n",
       "       'Израиль - Франция - Германия - Палестина - США - Австрия - Великобритания',\n",
       "       'Аргентина - Франция - Испания', 'СССР, Россия',\n",
       "       'Великобритания - Франция - Италия - Индия - Дания - КНР - Бангладеш - Камбоджа - Гаити - Уганда',\n",
       "       'Италия - Франция - Швейцария',\n",
       "       'Ирландия - Великобритания - Канада', 'Перу', 'США - Норвегия',\n",
       "       'Испания-Канада', 'Китай-Гонконг', 'США - Германия - КНР',\n",
       "       'Великобритания - Новая Зеландия',\n",
       "       'Франция - Дания - Швеция - КНР',\n",
       "       'США - Великобритания - Германия - Бельгия - Дания',\n",
       "       'США - Франция - Канада - Германия - Австралия - Индия', nan,\n",
       "       'СССР, Румыния, Франция', 'СССР, ГДР', 'Австралия-Ирландия',\n",
       "       'США - Китай', 'Великобритания - Франция - Австрия - Швеция',\n",
       "       'Россия, Таджикистан', 'Нидерланды - Бельгия - Болгария',\n",
       "       'Великобритания - Канада - США', 'Франция - Бельгия - Испания',\n",
       "       'Китай-Гонконг-США', 'Франция - Великобритания', 'США - Вьетнам',\n",
       "       'США - Германия - Франция', 'Германия - Франция - Бельгия',\n",
       "       'США - Италия',\n",
       "       'Германия - Дания - Испания - Швеция - Канада - Эстония - Франция',\n",
       "       'Княжество Андорра - Украина', 'Германия - Люксембург - Бельгия',\n",
       "       'Великобритания - Россия - Украина - США',\n",
       "       'Германия - Бельгия - Люксембург - Норвегия',\n",
       "       'США - Австралия - Новая Зеландия - Великобритания',\n",
       "       'США - Франция - Канада - Великобритания', 'Испания-Колумбия',\n",
       "       'Великобритания - Чехия - Франция', 'Россия, Украина', 'Исландия',\n",
       "       'Великобритания - Франция - Венгрия',\n",
       "       'Россия, Франция, Германия, Бельгия', 'Франция - Македония',\n",
       "       'Нидерланды - Франция - Германия - Бельгия - Швеция - Великобритания',\n",
       "       'Испания - США - Великобритания - Канада', 'Германия - Австрия',\n",
       "       'Республика Казахстан',\n",
       "       'Франция - Испания - Дания - Венгрия - Швейцария', 'Франция-КНР',\n",
       "       'США - Пуэрто-Рико - Франция ', 'Мексика - Тайвань - США',\n",
       "       'Великобритания - Испания - Непал - Индия - Венгрия - Гонконг - Германия - Дания - Бахрейн',\n",
       "       'Великобритания - Аргентина - США - Франция - Россия - Испания',\n",
       "       'КНР - США', 'Италия - США', 'Финляндия - Швеция - Германия',\n",
       "       'Канада- Испания', 'Франция - Бельгия - Чехия',\n",
       "       'Франция-Бельгия-Канада', 'Франция - Германия - США',\n",
       "       'США - Дания', 'Индия - КНР', 'Чехия-Великобритания-США',\n",
       "       'США-ФРГ-Россия', 'Ирландия-Нидерланды-Франция-США-Великобритания',\n",
       "       'Россия, Грузия, Хорватия, Испания',\n",
       "       'Финляндия - Швеция - Норвегия', 'Сербия - Великобритания - США',\n",
       "       'США - Великобритания - Франция - Гонконг', 'Швейцария - Франция',\n",
       "       'Швейцария - Великобритания', 'ОАЭ - США',\n",
       "       'США - Франция - Германия - Канада - Австралия ',\n",
       "       'Германия - Австралия', 'Иран, Франция',\n",
       "       'США - Великобритания - Новая Зеландия', 'США-Колумбия',\n",
       "       'США-Франция-Ирландия', 'Великобритания - Франция - Бельгия',\n",
       "       'США - Великобритания - Япония', 'США - Франция - Германия',\n",
       "       'Польша - Ирландия', 'Ирландия - Великобритания - Франция - США',\n",
       "       'США - Бельгия - Великобритания', 'СССР, ВНР',\n",
       "       'Испания - Франция - США - Великобритания - Бельгия',\n",
       "       'Франция - Дания - США', 'США - Гонконг', 'Бразилия - К;анада',\n",
       "       'Франция-Германия', 'США - Колумбия',\n",
       "       'США - Ирландия - Великобритания - Франция',\n",
       "       'Великобритания - США - Канада', 'Польша - Франция',\n",
       "       'Канада - США - Нидерланды - Великобритания - Аргентина',\n",
       "       'Великобритания - Дания', 'Франция - Бельгия - Япония',\n",
       "       'Россия,  Испания', 'Франция -Бельгия',\n",
       "       'США - Канада - Германия - Франция', 'США-Канада-Франция',\n",
       "       'Россия - Германия', 'Россия-Италия', 'Китай - Гонконг',\n",
       "       'Германия-Австрия-Франция-Италия', 'США-Япония',\n",
       "       'США - Германия - Канада', 'Испания-Мексика',\n",
       "       'США - Япония - Канада - Великобритания - Германия - Франция',\n",
       "       'США -Великобритания - Австралия', 'Россия-Украина-Германия',\n",
       "       'Израиль - Франция - Великобритания - Германия', 'Корея',\n",
       "       'Россия - Болгария', 'США-Индия',\n",
       "       'Германия-Канада-Франция-Бельгия', 'Германия-Кения',\n",
       "       'Франция - Монако', 'Франция-Испания-Швейцария',\n",
       "       'Австрия-Франция-Германия', 'Румыния',\n",
       "       'США-Великобритания-Франция', 'Канада-Великобритания',\n",
       "       'Канада-Бразилия-Япония', 'Германия - Дания - Норвегия',\n",
       "       'Дания - Германия', 'СССР - Италия',\n",
       "       'СССР - ГДР - Польша - Италия',\n",
       "       'США - Испания - Франция - Великобритания', 'Китай',\n",
       "       'Мексика-Аргентина',\n",
       "       'Германия - Великобритания - Италия - Испания',\n",
       "       'Франция-Германия-Великобритания', 'Россия - Германия - Швейцария',\n",
       "       'Франция-Австралия', 'Голландия', 'Швейцария-Франция',\n",
       "       'Россия-Белоруссия', 'Франция - Испания - Тайвань',\n",
       "       'США-Южная Корея-Новая Зеландия', 'Великобритания-Венгрия',\n",
       "       'Россия-Германия', 'Великобритания-Франция-Германия',\n",
       "       'Франция-Германия-Италия', 'Швеция-Финляндия-Франция-Норвегия',\n",
       "       'Франция-Италия', 'Германия-Израиль',\n",
       "       'Швеция - Германия - Дания - Норвегия', 'США-Бельгия',\n",
       "       'Франция-Гонконг-Ирландия', 'Эстония', 'Литва-Россия-Украина',\n",
       "       'Германия - Италия - Франция',\n",
       "       'Великобритания - Австрия - Германия', 'Бельгия - Франция',\n",
       "       'Россия-Казахстан', 'Испания - Мальта',\n",
       "       'Франция-Россия-Румыния-Италия-Бельгия', 'Россия - Польша',\n",
       "       'Испания - Мексика', 'США-Аргентина', 'Великобритания ',\n",
       "       'Израиль-США-Франция', 'США - Новая Зеландия - Япония',\n",
       "       'Франция - Чехия - Великобритания', 'Россия-Польша',\n",
       "       'Германия-Франция-Великобритания', 'США-Германия-Канада',\n",
       "       'США-Гонконг-Китай', 'США - Великобритания - Германия',\n",
       "       'США-Канада-Австралия', 'Япония-США-Франция',\n",
       "       'Франция-Испания-Германия', 'США - Хорватия - Босния-Герцеговина',\n",
       "       'Великобритания - Чехия - Франция - Италия',\n",
       "       'США - Германия - Нидерланды', 'Германия - Франция - Канада',\n",
       "       'Франция-Грузия-Германия-Россия-Украина-Бельгия',\n",
       "       'Великобритания - Франция - Италия', 'Россия - США',\n",
       "       'Франция - Италия - Иран', 'Россия - Азербайджан', 'Греция',\n",
       "       'Дания - США', 'США-Великобритания-Новая Зеландия',\n",
       "       'США-Германия-Австралия', 'США-Канада-Италия',\n",
       "       'США - Япония - Германия', 'Австралия-США',\n",
       "       'Франция - Великобритания - Багамские острова - США',\n",
       "       'Швейцария - Люксембург', 'Швейцария - Австрия',\n",
       "       'Германия - Швейцария', 'Дания-Швеция-Франция-Германия', 'Польша',\n",
       "       'Швейцария-Австрия', 'Бразилия - Канада - США',\n",
       "       'Нидерланды - Россия', 'Португалия', 'Франция-Аргентина',\n",
       "       'Швеция-Франция', 'Франция-Украина', 'Германия-Украина-Нидерланды',\n",
       "       'Италия-Швейцария', 'США-Германия-Великобритания',\n",
       "       'Латвия - Россия', 'Германия-Франция-Великобритания-США',\n",
       "       'Канада - Италия', 'США - Объединенные Арабские Эмираты',\n",
       "       'США-Венгрия', 'Малайзия', 'Россия - Германия - Украина',\n",
       "       'США - Австралия - Мексика', 'Литва - Венгрия', 'Германия - Китай',\n",
       "       'Казахстан', 'Республика Корея',\n",
       "       'США - Германия - Франция - Великобритания - Канада ',\n",
       "       'Бельгия - Германия - Люксембург - Франция', 'Франция - Греция',\n",
       "       'Италия - Канада', 'США - Великобритания - Франция',\n",
       "       'США-Италия-Греция', 'Германия - США - Великобритания - Ирландия',\n",
       "       'Великобритания - Франция - Германия',\n",
       "       'Германия - Нидерланды - ЮАР',\n",
       "       'США-Япония-Германия-Великобритания-Нидерланды',\n",
       "       'США-Япония-Германия-Великобритания',\n",
       "       'Германия - Франция - Польша',\n",
       "       'Таиланд-Великобритания-Франция-Германия-Испания-Нидерланды',\n",
       "       'Германия-Италия-Швейцария',\n",
       "       'Дания - Швеция - Великобритания - Франция - Германия - Нидерланды - Норвегия - Финляндия',\n",
       "       'Франция - Великобритания - Нидерланды - Люксембург',\n",
       "       'Нидерланды-Великобритания-Франция-Италия-Япония',\n",
       "       'Финляндия-Дания-Германия-Ирландия', 'Испания-Аргентина',\n",
       "       'Великобритания - Нидерланды - Франция - США', 'Канада - Мексика',\n",
       "       'США, Франция', 'Канада-Южная Корея-США',\n",
       "       'Великобритания - Франция - Бельгия - США', 'КНР - Канада - США',\n",
       "       'Италия - Франция - Германия',\n",
       "       'Швеция - Германия - Франция - Дания', 'Франция - США - Бельгия',\n",
       "       'Украина - Германия - Латвия - Эстония', 'Австрия - Люксембург',\n",
       "       'Великобритания - КНР', 'Монголия', 'Франция - Дания',\n",
       "       'Швеция - Дания - Финляндия',\n",
       "       'Сингапур - Великобритания - Индонезия - Канада - США',\n",
       "       'США - Германия - Япония', 'Таиланд - США', 'Франция - Нидерланды',\n",
       "       'Великобритания - Румыния', 'США - Мальта',\n",
       "       'Великобритания - Германия - Нидерланды - Дания',\n",
       "       'Франция - Германия - Литва - Нидерланды - Россия',\n",
       "       'США - ЮАР - Гонконг', 'Австралия - Колумбия',\n",
       "       'Великобритания - Польша', 'США - Великобритания - Швеция',\n",
       "       'Франция - Швеция - Дания - Норвегия', 'Болгария - США',\n",
       "       'СССР, ФРГ', 'Бельгия - Нидерланды - Франция',\n",
       "       'Финляндия - Германия', 'Болгария',\n",
       "       'Грузия - Россия - Украина - Хорватия - Германия',\n",
       "       'Франция - Люксембург', 'Франция - Германия - Австрия',\n",
       "       'Норвегия - США', 'Германия-Швеция', 'Франция - Германия - Италия',\n",
       "       'Франция-Германия-Австрия', 'КНР-США',\n",
       "       'Великобритания - Ирландия - США ',\n",
       "       'Дания - Латвия - Россия - США', 'Финляндия - Польша',\n",
       "       'Германия - Бельгия', 'Германия - США - Франция - Испания',\n",
       "       'Бельгия-Германия-Канада-Франция-США-Великобритания',\n",
       "       'Нидерланды - Бельгия - Люксембург', 'Канада-Германия',\n",
       "       'Люксембург - Бельгия - Франция', 'США-Великобритания-Австралия',\n",
       "       'Великобритания, Новая Зеландия', 'Бельгия, Великобритания, США',\n",
       "       'Великобритания, Австралия', 'Исландия, Бельгия',\n",
       "       'Испания - Швейцария - Великобритания - Германия - Новая Зеландия - Нидерланды - Канада',\n",
       "       'Франция, Бельгия', 'Великобритания, США', 'Киргизия-Россия',\n",
       "       'Германия, США', 'Великобритания, США, Испания',\n",
       "       'Италия - Швейцария - Германия', 'Россия, Армения',\n",
       "       'Франция, Германия', 'Китай, Канада, США', 'Германия, Австралия',\n",
       "       'КНР, США', 'США, Великобритания, Люксембург',\n",
       "       'Испания, Ирландия, Бельгия, Франция',\n",
       "       'Великобритания - Гонконг - Венгрия - США - Ирландия',\n",
       "       'США - Пуэрто Рико', 'Аргентина - Испания - Уругвай',\n",
       "       'Израиль - Германия - Франция - Швейцария',\n",
       "       'Великобритания - Мексика - США', 'Испания - Болгария - США',\n",
       "       'Россия-Словакия-Чехия',\n",
       "       'Швейцария - КНР - США - Россия - Республика Корея - Великобритания',\n",
       "       'Россия, Нидерланды, Финляндия',\n",
       "       'Испания - Бельгия - Франция - Португалия - Великобритания',\n",
       "       'Бразилия - Португалия - Франция', 'Швеция - Норвегия',\n",
       "       'Франция - Польша - Бельгия', 'CША', 'Китай, США',\n",
       "       'Италия, Франция, Германия', 'Германия - Австрия - Франция',\n",
       "       'Чехия - Словакия - Хорватия', 'Россия, Польша, Финляндия',\n",
       "       'Россия, Латвия, Чешская Республика',\n",
       "       'Франция - Великобритания - Камбоджа - США - КНР',\n",
       "       'Чехия - Испания - США', 'Германия - Люксембург - Дания',\n",
       "       'Великобритания - Испания - Германия', 'Дания - Исландия',\n",
       "       'Германия, Франция, Великобритания',\n",
       "       'Великобритания - Испания - Италия - Латвия - Франция - Эстония',\n",
       "       'Дания, Швеция, Великобритания, Франция, Германия, Норвегия, Финляндия, Нидерланды, Италия',\n",
       "       'Польша - Франция - Великобритания',\n",
       "       'Дания, Норвегия, Венгрия, Чехия',\n",
       "       'Дания - Франция - Германия - Швеция',\n",
       "       'Великобритания, Швеция, США',\n",
       "       'Канада, Франция, Италия, Швейцария, США', 'США, Индия',\n",
       "       'США - Великобритания - Германия - - Швеция - Канада',\n",
       "       'Италия, Франция', 'Республика Беларусь, Германия, США, Россия',\n",
       "       'Италия-Швейцария-Франция-Германия ',\n",
       "       'Россия - Франция - Великобритания - Латвия', 'Россия-Беларусь',\n",
       "       'Франция - Испания - Румыния - США - Бельгия', 'Италия-США',\n",
       "       'Россия, Австрия', 'Ирландия - Великобритания - США',\n",
       "       'Швейцария, Великобритания, Франция, США, Ирландия',\n",
       "       'Мексика, Франция, Германия, Дания, Швеция', 'Нидерланды, Бельгия',\n",
       "       'Швеция, Норвегия, Финляндия, Франция', 'Испания, Франция, Италия',\n",
       "       'Испания-Франция-Греция-Индия-США-Россия-Великобритания',\n",
       "       'Великобритания - Япония - США',\n",
       "       'Дания, Канада, Норвегия, Австралия, США', 'Аргентина, Испания',\n",
       "       'Россия, Германия, Казахстан, Польша, Китай',\n",
       "       'Португалия, Франция, Польша, США', 'США - Канада - Аргентина',\n",
       "       'Ливан-США', 'Япония - США', 'США, Гонконг ',\n",
       "       'Франция - Россия - Швейцария - Румыния - Венгрия',\n",
       "       'Аргентина-Испания', 'Россия, Сербия', 'США - Болгария - Мексика',\n",
       "       'США - Великобритания - Швейцария - Франция',\n",
       "       'Таиланд - КНР - США',\n",
       "       'Великобритания, Нидерланды, Польша, Швейцария, Франция',\n",
       "       'Ирландия - США',\n",
       "       'Германия - Франция - Великобритания - Польша - США',\n",
       "       'Великобритания-Франция-Италия', 'США - Австралия - Индия',\n",
       "       'Франция - КНР', 'Великобритания - Израиль',\n",
       "       'Великобритания - Норвегия - Кения - Хорватия',\n",
       "       'США - Бразилия - Великобритания - Канада', 'Германия, Бельгия',\n",
       "       'Австралия, Канада', 'США, Великобритания, Франция',\n",
       "       'Кения, Германия', 'Нидерланды, Бельгия, Люксембург', 'Колумбия',\n",
       "       'Латвия - Франция', 'Ирландия, Великобритания',\n",
       "       'Франция - Израиль - Германия', 'Швеция, Франция, Великобритания',\n",
       "       'Бельгия - Люксембург', 'Германия - Бельгия - Великобритания',\n",
       "       'Испания, Франция, Великобритания, Дания, Бельгия, Германия',\n",
       "       'Румыния, ЮАР, Иран, Франция, Канада, Великобритания',\n",
       "       'Германия, Франция', 'США, Япония',\n",
       "       'США, Великобритания, Ирландия, Люксембург', 'Республика Армения',\n",
       "       'США, Франция, Япония', 'Япония, США', 'Канада, США',\n",
       "       'Республика Кипр - Россия',\n",
       "       'Дания - Франция - Италия - Бельгия - Нидерланды',\n",
       "       'Россия - Грузия', 'Италия, Германия', 'Норвегия, Швеция, Дания',\n",
       "       'Республика Кипр, Россия', 'КНР, Индия, Гонконг, США',\n",
       "       'Израиль, Украина', 'США, Россия', 'США - КНР - Индия - Ю.Корея',\n",
       "       'США - Швеция', 'Франция, Канада', 'Россия-Китай',\n",
       "       'Канада, Великобритания', 'США, Германия',\n",
       "       'Канада, США, Каймановы острова',\n",
       "       'Бразилия, Уругвай, Дания, Норвегия, Чили, Швеция',\n",
       "       'Пуэрто-Рико, Великобритания, США',\n",
       "       'Уругвай - Аргентина - Испания',\n",
       "       'США - Великобритания - Италия - Израиль - Сербия - Индия',\n",
       "       'США - Канада - Франция - Индия', 'Великобритания - Россия - КНР',\n",
       "       'Франция, Новая Зеландия', 'Франция, Люксембург, Бельгия',\n",
       "       'Канада, США, Норвегия', 'Италия, Испания',\n",
       "       'Испания - Германия - Нидерланды', 'Бразилия - США - КНР ',\n",
       "       'Великобритания, Германия, Дания, США', '2019',\n",
       "       'Италия - Фрация - Бразилия - Германия',\n",
       "       'Норвегия - Швеция - Россия', 'Великобритания, Япония, США',\n",
       "       'Сша, Канада', 'Бельгия, Канада',\n",
       "       'Великобритания - Австралия - США', 'США, Канада', 'КНР - США ',\n",
       "       'Франция - Финляндия', 'Колумбия - США',\n",
       "       'Великобритания, Франция, Бельгия', 'Норвегия - Нидерланды',\n",
       "       'Великобритания, Канада, США', 'Япония, Великобритания',\n",
       "       'Италия - Бельгия - Франция', 'Россия, Бельгия, Финляндия',\n",
       "       'США, Украина', 'Франция, Норвегия',\n",
       "       'Великобритания, Южная Корея, Канада, США, Индия, Китай, Япония',\n",
       "       'Канада - Норвегия', 'Республика Кипр-Россия', 'Германия, Россия',\n",
       "       'Польша - Франция - Испания - Бразилия - Швеция',\n",
       "       'Австрия, Великобритания, Германия', 'Франция - Сенегал - Бельгия',\n",
       "       'Франция, Бельгия, Люксембург', 'Финляндия, Латвия', 'Пакистан',\n",
       "       'Германия, Франция, США', 'Германия - Великобритания - США',\n",
       "       'КНР - Франция', 'Дания, Норвегия, Швеция, Исландия',\n",
       "       'Республика Кипр, США, Россия', 'Новая Зеландия - КНР',\n",
       "       'Дания - Канада - Швеция - Франция - Германия - Великобритания - США'],\n",
       "      dtype=object)"
      ]
     },
     "execution_count": 35,
     "metadata": {},
     "output_type": "execute_result"
    }
   ],
   "source": [
    "data['production_country'].unique()"
   ]
  },
  {
   "cell_type": "markdown",
   "metadata": {},
   "source": [
    "# Вывод\n",
    "\n",
    "Полностью повторяющих строк нет. Есть дубли в названиях фильмов, это связано с неоднократной выдачей прокатных удостоверений. Исправить это не можем, так как в этом случае утеряется номер прокатного удостоверения. Есть дубли в номерах прокатных удостоверений, это скорее всего связано с тем, что под одним удостоверением выходило в прокат несколько фильмов. Может, эти фильмы \"крутились\" подряд. По крайней мере в реестре на официальном сайте так все и есть: под одним номером - два фильма.\n",
    "В столбце type были лишние пробелы, исправили это. Почти во всех категориальных переменных есть повторяющиеся значения в совокупности с другими. Например: \"драма,триллер\", \"драма,военный\". Это не можем исправить."
   ]
  },
  {
   "cell_type": "markdown",
   "metadata": {
    "id": "XFSN5lrEgFyR"
   },
   "source": [
    "#### Шаг 2.5. Проверьте количественные значения\n",
    "\n",
    "- Проверьте, обнаружились ли в таких столбцах подозрительные данные. Как с такими данными лучше поступить?\n",
    "\n",
    "<div id=\"accordion\">\n",
    "    <div class=\"card\">\n",
    "        <div class=\"card-header\" id=\"headingThree\">\n",
    "            <button class=\"btn btn-link collapsed\" data-toggle=\"collapse\" data-target=\"#collapseHint_budget\" aria-expanded=\"false\" aria-controls=\"collapseHint_budget\">Подсказка</button>\n",
    "        </div>\n",
    "        <div id=\"collapseHint_budget\" class=\"collapse\" aria-labelledby=\"headingThree\" data-parent=\"#accordion\">\n",
    "            <div class=\"card-body\">\n",
    "Обратите внимание на описание столбца <code>budget</code>. Как этот столбец соотносится с двумя другими: <code>refundable_support</code> и <code>nonrefundable_support</code>?\n",
    "            </div>\n",
    "        </div>\n",
    "    </div>\n",
    "</div>"
   ]
  },
  {
   "cell_type": "code",
   "execution_count": 36,
   "metadata": {},
   "outputs": [
    {
     "data": {
      "text/html": [
       "<div>\n",
       "<style scoped>\n",
       "    .dataframe tbody tr th:only-of-type {\n",
       "        vertical-align: middle;\n",
       "    }\n",
       "\n",
       "    .dataframe tbody tr th {\n",
       "        vertical-align: top;\n",
       "    }\n",
       "\n",
       "    .dataframe thead th {\n",
       "        text-align: right;\n",
       "    }\n",
       "</style>\n",
       "<table border=\"1\" class=\"dataframe\">\n",
       "  <thead>\n",
       "    <tr style=\"text-align: right;\">\n",
       "      <th></th>\n",
       "      <th>title</th>\n",
       "      <th>puNumber</th>\n",
       "      <th>show_start_date</th>\n",
       "      <th>type</th>\n",
       "      <th>film_studio</th>\n",
       "      <th>production_country</th>\n",
       "      <th>director</th>\n",
       "      <th>producer</th>\n",
       "      <th>age_restriction</th>\n",
       "      <th>refundable_support</th>\n",
       "      <th>nonrefundable_support</th>\n",
       "      <th>budget</th>\n",
       "      <th>financing_source</th>\n",
       "      <th>ratings</th>\n",
       "      <th>genres</th>\n",
       "      <th>box_office</th>\n",
       "    </tr>\n",
       "  </thead>\n",
       "  <tbody>\n",
       "    <tr>\n",
       "      <th>0</th>\n",
       "      <td>Открытый простор</td>\n",
       "      <td>221048915</td>\n",
       "      <td>2015-11-27 12:00:00+00:00</td>\n",
       "      <td>Художественный</td>\n",
       "      <td>Тачстоун Пикчерз, Кобальт Пикчерз, Бикон Пикче...</td>\n",
       "      <td>США</td>\n",
       "      <td>Кевин Костнер</td>\n",
       "      <td>Дэвид Валдес, Кевин Костнер, Джейк Эбертс</td>\n",
       "      <td>«18+» - запрещено для детей</td>\n",
       "      <td>NaN</td>\n",
       "      <td>NaN</td>\n",
       "      <td>NaN</td>\n",
       "      <td>NaN</td>\n",
       "      <td>7.20</td>\n",
       "      <td>боевик,драма,мелодрама</td>\n",
       "      <td>NaN</td>\n",
       "    </tr>\n",
       "    <tr>\n",
       "      <th>1</th>\n",
       "      <td>Особо важное задание</td>\n",
       "      <td>111013716</td>\n",
       "      <td>2016-09-13 12:00:00+00:00</td>\n",
       "      <td>Художественный</td>\n",
       "      <td>Киностудия \"Мосфильм\"</td>\n",
       "      <td>СССР</td>\n",
       "      <td>Е.Матвеев</td>\n",
       "      <td>NaN</td>\n",
       "      <td>«6+» - для детей старше 6 лет</td>\n",
       "      <td>NaN</td>\n",
       "      <td>NaN</td>\n",
       "      <td>NaN</td>\n",
       "      <td>NaN</td>\n",
       "      <td>6.60</td>\n",
       "      <td>драма,военный</td>\n",
       "      <td>NaN</td>\n",
       "    </tr>\n",
       "    <tr>\n",
       "      <th>2</th>\n",
       "      <td>Особо опасен</td>\n",
       "      <td>221038416</td>\n",
       "      <td>2016-10-10 12:00:00+00:00</td>\n",
       "      <td>Художественный</td>\n",
       "      <td>Юниверсал Пикчерз, Кикстарт Продакшнз, Марк Пл...</td>\n",
       "      <td>США</td>\n",
       "      <td>Тимур Бекмамбетов</td>\n",
       "      <td>Джим Лемли, Джейсон Нетер, Марк Е.Платт, Яйн Смит</td>\n",
       "      <td>«18+» - запрещено для детей</td>\n",
       "      <td>NaN</td>\n",
       "      <td>NaN</td>\n",
       "      <td>NaN</td>\n",
       "      <td>NaN</td>\n",
       "      <td>6.80</td>\n",
       "      <td>фантастика,боевик,триллер</td>\n",
       "      <td>NaN</td>\n",
       "    </tr>\n",
       "    <tr>\n",
       "      <th>3</th>\n",
       "      <td>Особо опасен</td>\n",
       "      <td>221026916</td>\n",
       "      <td>2016-06-10 12:00:00+00:00</td>\n",
       "      <td>Художественный</td>\n",
       "      <td>Юниверсал Пикчерз, Кикстарт Продакшнз, Марк Пл...</td>\n",
       "      <td>США</td>\n",
       "      <td>Тимур Бекмамбетов</td>\n",
       "      <td>Джим Лемли, Джейсон Нетер, Марк Е.Платт, Яйн Смит</td>\n",
       "      <td>«18+» - запрещено для детей</td>\n",
       "      <td>NaN</td>\n",
       "      <td>NaN</td>\n",
       "      <td>NaN</td>\n",
       "      <td>NaN</td>\n",
       "      <td>6.80</td>\n",
       "      <td>фантастика,боевик,триллер</td>\n",
       "      <td>NaN</td>\n",
       "    </tr>\n",
       "    <tr>\n",
       "      <th>4</th>\n",
       "      <td>Особо опасен</td>\n",
       "      <td>221030815</td>\n",
       "      <td>2015-07-29 12:00:00+00:00</td>\n",
       "      <td>Художественный</td>\n",
       "      <td>Юниверсал Пикчерз, Кикстарт Продакшнз, Марк Пл...</td>\n",
       "      <td>США</td>\n",
       "      <td>Тимур Бекмамбетов</td>\n",
       "      <td>Джим Лемли, Джейсон Нетер, Марк Е.Платт, Яйн Смит</td>\n",
       "      <td>«18+» - запрещено для детей</td>\n",
       "      <td>NaN</td>\n",
       "      <td>NaN</td>\n",
       "      <td>NaN</td>\n",
       "      <td>NaN</td>\n",
       "      <td>6.80</td>\n",
       "      <td>фантастика,боевик,триллер</td>\n",
       "      <td>NaN</td>\n",
       "    </tr>\n",
       "  </tbody>\n",
       "</table>\n",
       "</div>"
      ],
      "text/plain": [
       "                  title   puNumber           show_start_date            type  \\\n",
       "0      Открытый простор  221048915 2015-11-27 12:00:00+00:00  Художественный   \n",
       "1  Особо важное задание  111013716 2016-09-13 12:00:00+00:00  Художественный   \n",
       "2          Особо опасен  221038416 2016-10-10 12:00:00+00:00  Художественный   \n",
       "3          Особо опасен  221026916 2016-06-10 12:00:00+00:00  Художественный   \n",
       "4          Особо опасен  221030815 2015-07-29 12:00:00+00:00  Художественный   \n",
       "\n",
       "                                         film_studio production_country  \\\n",
       "0  Тачстоун Пикчерз, Кобальт Пикчерз, Бикон Пикче...                США   \n",
       "1                              Киностудия \"Мосфильм\"               СССР   \n",
       "2  Юниверсал Пикчерз, Кикстарт Продакшнз, Марк Пл...                США   \n",
       "3  Юниверсал Пикчерз, Кикстарт Продакшнз, Марк Пл...                США   \n",
       "4  Юниверсал Пикчерз, Кикстарт Продакшнз, Марк Пл...                США   \n",
       "\n",
       "            director                                           producer  \\\n",
       "0      Кевин Костнер          Дэвид Валдес, Кевин Костнер, Джейк Эбертс   \n",
       "1          Е.Матвеев                                                NaN   \n",
       "2  Тимур Бекмамбетов  Джим Лемли, Джейсон Нетер, Марк Е.Платт, Яйн Смит   \n",
       "3  Тимур Бекмамбетов  Джим Лемли, Джейсон Нетер, Марк Е.Платт, Яйн Смит   \n",
       "4  Тимур Бекмамбетов  Джим Лемли, Джейсон Нетер, Марк Е.Платт, Яйн Смит   \n",
       "\n",
       "                 age_restriction  refundable_support  nonrefundable_support  \\\n",
       "0    «18+» - запрещено для детей                 NaN                    NaN   \n",
       "1  «6+» - для детей старше 6 лет                 NaN                    NaN   \n",
       "2    «18+» - запрещено для детей                 NaN                    NaN   \n",
       "3    «18+» - запрещено для детей                 NaN                    NaN   \n",
       "4    «18+» - запрещено для детей                 NaN                    NaN   \n",
       "\n",
       "   budget financing_source  ratings                     genres  box_office  \n",
       "0     NaN              NaN     7.20     боевик,драма,мелодрама         NaN  \n",
       "1     NaN              NaN     6.60              драма,военный         NaN  \n",
       "2     NaN              NaN     6.80  фантастика,боевик,триллер         NaN  \n",
       "3     NaN              NaN     6.80  фантастика,боевик,триллер         NaN  \n",
       "4     NaN              NaN     6.80  фантастика,боевик,триллер         NaN  "
      ]
     },
     "execution_count": 36,
     "metadata": {},
     "output_type": "execute_result"
    }
   ],
   "source": [
    "data.head()\n"
   ]
  },
  {
   "cell_type": "code",
   "execution_count": 37,
   "metadata": {},
   "outputs": [
    {
     "data": {
      "text/plain": [
       "Index(['title', 'puNumber', 'show_start_date', 'type', 'film_studio',\n",
       "       'production_country', 'director', 'producer', 'age_restriction',\n",
       "       'refundable_support', 'nonrefundable_support', 'budget',\n",
       "       'financing_source', 'ratings', 'genres', 'box_office'],\n",
       "      dtype='object')"
      ]
     },
     "execution_count": 37,
     "metadata": {},
     "output_type": "execute_result"
    }
   ],
   "source": [
    "data.columns\n"
   ]
  },
  {
   "cell_type": "code",
   "execution_count": 38,
   "metadata": {},
   "outputs": [],
   "source": [
    "groups = ['refundable_support', 'nonrefundable_support',\n",
    "          'budget', 'box_office', 'ratings']"
   ]
  },
  {
   "cell_type": "code",
   "execution_count": 39,
   "metadata": {},
   "outputs": [
    {
     "data": {
      "text/html": [
       "<div>\n",
       "<style scoped>\n",
       "    .dataframe tbody tr th:only-of-type {\n",
       "        vertical-align: middle;\n",
       "    }\n",
       "\n",
       "    .dataframe tbody tr th {\n",
       "        vertical-align: top;\n",
       "    }\n",
       "\n",
       "    .dataframe thead th {\n",
       "        text-align: right;\n",
       "    }\n",
       "</style>\n",
       "<table border=\"1\" class=\"dataframe\">\n",
       "  <thead>\n",
       "    <tr style=\"text-align: right;\">\n",
       "      <th></th>\n",
       "      <th>refundable_support</th>\n",
       "      <th>nonrefundable_support</th>\n",
       "      <th>budget</th>\n",
       "      <th>box_office</th>\n",
       "      <th>ratings</th>\n",
       "    </tr>\n",
       "  </thead>\n",
       "  <tbody>\n",
       "    <tr>\n",
       "      <th>count</th>\n",
       "      <td>332.00</td>\n",
       "      <td>332.00</td>\n",
       "      <td>332.00</td>\n",
       "      <td>3,158.00</td>\n",
       "      <td>6,490.00</td>\n",
       "    </tr>\n",
       "    <tr>\n",
       "      <th>mean</th>\n",
       "      <td>11,864,457.83</td>\n",
       "      <td>48,980,988.89</td>\n",
       "      <td>127,229,716.68</td>\n",
       "      <td>76,478,696.16</td>\n",
       "      <td>6.48</td>\n",
       "    </tr>\n",
       "    <tr>\n",
       "      <th>std</th>\n",
       "      <td>24,916,555.26</td>\n",
       "      <td>59,980,117.92</td>\n",
       "      <td>188,588,333.12</td>\n",
       "      <td>240,353,122.82</td>\n",
       "      <td>1.10</td>\n",
       "    </tr>\n",
       "    <tr>\n",
       "      <th>min</th>\n",
       "      <td>0.00</td>\n",
       "      <td>0.00</td>\n",
       "      <td>0.00</td>\n",
       "      <td>0.00</td>\n",
       "      <td>1.00</td>\n",
       "    </tr>\n",
       "    <tr>\n",
       "      <th>25%</th>\n",
       "      <td>0.00</td>\n",
       "      <td>25,000,000.00</td>\n",
       "      <td>42,000,000.00</td>\n",
       "      <td>86,239.00</td>\n",
       "      <td>5.90</td>\n",
       "    </tr>\n",
       "    <tr>\n",
       "      <th>50%</th>\n",
       "      <td>0.00</td>\n",
       "      <td>30,000,000.00</td>\n",
       "      <td>68,649,916.00</td>\n",
       "      <td>2,327,987.55</td>\n",
       "      <td>6.60</td>\n",
       "    </tr>\n",
       "    <tr>\n",
       "      <th>75%</th>\n",
       "      <td>15,000,000.00</td>\n",
       "      <td>40,375,000.00</td>\n",
       "      <td>141,985,319.50</td>\n",
       "      <td>23,979,671.02</td>\n",
       "      <td>7.20</td>\n",
       "    </tr>\n",
       "    <tr>\n",
       "      <th>max</th>\n",
       "      <td>180,000,000.00</td>\n",
       "      <td>400,000,000.00</td>\n",
       "      <td>2,305,074,303.00</td>\n",
       "      <td>3,073,568,690.79</td>\n",
       "      <td>9.20</td>\n",
       "    </tr>\n",
       "  </tbody>\n",
       "</table>\n",
       "</div>"
      ],
      "text/plain": [
       "       refundable_support  nonrefundable_support           budget  \\\n",
       "count              332.00                 332.00           332.00   \n",
       "mean        11,864,457.83          48,980,988.89   127,229,716.68   \n",
       "std         24,916,555.26          59,980,117.92   188,588,333.12   \n",
       "min                  0.00                   0.00             0.00   \n",
       "25%                  0.00          25,000,000.00    42,000,000.00   \n",
       "50%                  0.00          30,000,000.00    68,649,916.00   \n",
       "75%         15,000,000.00          40,375,000.00   141,985,319.50   \n",
       "max        180,000,000.00         400,000,000.00 2,305,074,303.00   \n",
       "\n",
       "            box_office  ratings  \n",
       "count         3,158.00 6,490.00  \n",
       "mean     76,478,696.16     6.48  \n",
       "std     240,353,122.82     1.10  \n",
       "min               0.00     1.00  \n",
       "25%          86,239.00     5.90  \n",
       "50%       2,327,987.55     6.60  \n",
       "75%      23,979,671.02     7.20  \n",
       "max   3,073,568,690.79     9.20  "
      ]
     },
     "execution_count": 39,
     "metadata": {},
     "output_type": "execute_result"
    }
   ],
   "source": [
    "data[groups].describe()\n"
   ]
  },
  {
   "cell_type": "markdown",
   "metadata": {},
   "source": [
    "Видим, что есть фильмы с нулевым бюджетом, посмотрим такие значения"
   ]
  },
  {
   "cell_type": "code",
   "execution_count": 40,
   "metadata": {},
   "outputs": [
    {
     "data": {
      "text/html": [
       "<div>\n",
       "<style scoped>\n",
       "    .dataframe tbody tr th:only-of-type {\n",
       "        vertical-align: middle;\n",
       "    }\n",
       "\n",
       "    .dataframe tbody tr th {\n",
       "        vertical-align: top;\n",
       "    }\n",
       "\n",
       "    .dataframe thead th {\n",
       "        text-align: right;\n",
       "    }\n",
       "</style>\n",
       "<table border=\"1\" class=\"dataframe\">\n",
       "  <thead>\n",
       "    <tr style=\"text-align: right;\">\n",
       "      <th></th>\n",
       "      <th>puNumber</th>\n",
       "      <th>refundable_support</th>\n",
       "      <th>nonrefundable_support</th>\n",
       "      <th>budget</th>\n",
       "      <th>ratings</th>\n",
       "      <th>box_office</th>\n",
       "    </tr>\n",
       "  </thead>\n",
       "  <tbody>\n",
       "    <tr>\n",
       "      <th>count</th>\n",
       "      <td>17.00</td>\n",
       "      <td>17.00</td>\n",
       "      <td>17.00</td>\n",
       "      <td>17.00</td>\n",
       "      <td>16.00</td>\n",
       "      <td>17.00</td>\n",
       "    </tr>\n",
       "    <tr>\n",
       "      <th>mean</th>\n",
       "      <td>112,067,204.47</td>\n",
       "      <td>16,705,882.35</td>\n",
       "      <td>65,174,674.41</td>\n",
       "      <td>0.00</td>\n",
       "      <td>5.72</td>\n",
       "      <td>163,137,294.43</td>\n",
       "    </tr>\n",
       "    <tr>\n",
       "      <th>std</th>\n",
       "      <td>1,473,501.27</td>\n",
       "      <td>20,064,784.78</td>\n",
       "      <td>61,236,204.09</td>\n",
       "      <td>0.00</td>\n",
       "      <td>0.92</td>\n",
       "      <td>251,115,991.43</td>\n",
       "    </tr>\n",
       "    <tr>\n",
       "      <th>min</th>\n",
       "      <td>111,000,415.00</td>\n",
       "      <td>0.00</td>\n",
       "      <td>0.00</td>\n",
       "      <td>0.00</td>\n",
       "      <td>4.30</td>\n",
       "      <td>1,334,699.40</td>\n",
       "    </tr>\n",
       "    <tr>\n",
       "      <th>25%</th>\n",
       "      <td>111,009,615.00</td>\n",
       "      <td>0.00</td>\n",
       "      <td>23,000,000.00</td>\n",
       "      <td>0.00</td>\n",
       "      <td>5.07</td>\n",
       "      <td>50,451,949.00</td>\n",
       "    </tr>\n",
       "    <tr>\n",
       "      <th>50%</th>\n",
       "      <td>111,017,315.00</td>\n",
       "      <td>10,000,000.00</td>\n",
       "      <td>51,000,000.00</td>\n",
       "      <td>0.00</td>\n",
       "      <td>5.70</td>\n",
       "      <td>72,937,783.20</td>\n",
       "    </tr>\n",
       "    <tr>\n",
       "      <th>75%</th>\n",
       "      <td>114,001,715.00</td>\n",
       "      <td>20,000,000.00</td>\n",
       "      <td>75,000,000.00</td>\n",
       "      <td>0.00</td>\n",
       "      <td>6.30</td>\n",
       "      <td>184,487,551.40</td>\n",
       "    </tr>\n",
       "    <tr>\n",
       "      <th>max</th>\n",
       "      <td>114,006,518.00</td>\n",
       "      <td>60,000,000.00</td>\n",
       "      <td>250,000,000.00</td>\n",
       "      <td>0.00</td>\n",
       "      <td>7.80</td>\n",
       "      <td>1,038,321,489.00</td>\n",
       "    </tr>\n",
       "  </tbody>\n",
       "</table>\n",
       "</div>"
      ],
      "text/plain": [
       "            puNumber  refundable_support  nonrefundable_support  budget  \\\n",
       "count          17.00               17.00                  17.00   17.00   \n",
       "mean  112,067,204.47       16,705,882.35          65,174,674.41    0.00   \n",
       "std     1,473,501.27       20,064,784.78          61,236,204.09    0.00   \n",
       "min   111,000,415.00                0.00                   0.00    0.00   \n",
       "25%   111,009,615.00                0.00          23,000,000.00    0.00   \n",
       "50%   111,017,315.00       10,000,000.00          51,000,000.00    0.00   \n",
       "75%   114,001,715.00       20,000,000.00          75,000,000.00    0.00   \n",
       "max   114,006,518.00       60,000,000.00         250,000,000.00    0.00   \n",
       "\n",
       "       ratings       box_office  \n",
       "count    16.00            17.00  \n",
       "mean      5.72   163,137,294.43  \n",
       "std       0.92   251,115,991.43  \n",
       "min       4.30     1,334,699.40  \n",
       "25%       5.07    50,451,949.00  \n",
       "50%       5.70    72,937,783.20  \n",
       "75%       6.30   184,487,551.40  \n",
       "max       7.80 1,038,321,489.00  "
      ]
     },
     "execution_count": 40,
     "metadata": {},
     "output_type": "execute_result"
    }
   ],
   "source": [
    "data[data['budget'] == 0].describe()\n"
   ]
  },
  {
   "cell_type": "markdown",
   "metadata": {},
   "source": [
    "Несмотря на то, что у этих фильмов нулевой бюджет, есть такие фильмы, где сумма поддержки ненулевая. В этом случае бюджет не может быть меньше суммы поддержки. Проверим кинокартины, у которых бюджет меньше суммы возвратных и невозвратных средств."
   ]
  },
  {
   "cell_type": "code",
   "execution_count": 41,
   "metadata": {},
   "outputs": [
    {
     "data": {
      "text/html": [
       "<div>\n",
       "<style scoped>\n",
       "    .dataframe tbody tr th:only-of-type {\n",
       "        vertical-align: middle;\n",
       "    }\n",
       "\n",
       "    .dataframe tbody tr th {\n",
       "        vertical-align: top;\n",
       "    }\n",
       "\n",
       "    .dataframe thead th {\n",
       "        text-align: right;\n",
       "    }\n",
       "</style>\n",
       "<table border=\"1\" class=\"dataframe\">\n",
       "  <thead>\n",
       "    <tr style=\"text-align: right;\">\n",
       "      <th></th>\n",
       "      <th>title</th>\n",
       "      <th>puNumber</th>\n",
       "      <th>show_start_date</th>\n",
       "      <th>type</th>\n",
       "      <th>film_studio</th>\n",
       "      <th>production_country</th>\n",
       "      <th>director</th>\n",
       "      <th>producer</th>\n",
       "      <th>age_restriction</th>\n",
       "      <th>refundable_support</th>\n",
       "      <th>nonrefundable_support</th>\n",
       "      <th>budget</th>\n",
       "      <th>financing_source</th>\n",
       "      <th>ratings</th>\n",
       "      <th>genres</th>\n",
       "      <th>box_office</th>\n",
       "    </tr>\n",
       "  </thead>\n",
       "  <tbody>\n",
       "    <tr>\n",
       "      <th>2053</th>\n",
       "      <td>14+</td>\n",
       "      <td>111023614</td>\n",
       "      <td>2014-12-19 12:00:00+00:00</td>\n",
       "      <td>Художественный</td>\n",
       "      <td>ООО Киностудия  \"Сентябрь\"</td>\n",
       "      <td>Россия</td>\n",
       "      <td>А.Зайцев</td>\n",
       "      <td>О.Гранина, А.Зайцев</td>\n",
       "      <td>«16+» - для детей старше 16 лет</td>\n",
       "      <td>0.00</td>\n",
       "      <td>23,000,000.00</td>\n",
       "      <td>0.00</td>\n",
       "      <td>Министерство культуры, Фонд кино</td>\n",
       "      <td>6.60</td>\n",
       "      <td>мелодрама</td>\n",
       "      <td>10,234,016.10</td>\n",
       "    </tr>\n",
       "    <tr>\n",
       "      <th>2058</th>\n",
       "      <td>Дуxless 2</td>\n",
       "      <td>111000415</td>\n",
       "      <td>2015-01-26 12:00:00+00:00</td>\n",
       "      <td>Художественный</td>\n",
       "      <td>ООО \"Киностудия \"Слово\", ООО \"Арт Пикчерс Студия\"</td>\n",
       "      <td>Россия</td>\n",
       "      <td>Р.Прыгунов</td>\n",
       "      <td>П.Ануров, Ф.Бондарчук, Д.Рудовский</td>\n",
       "      <td>«16+» - для детей старше 16 лет</td>\n",
       "      <td>0.00</td>\n",
       "      <td>75,000,000.00</td>\n",
       "      <td>0.00</td>\n",
       "      <td>Фонд кино</td>\n",
       "      <td>6.60</td>\n",
       "      <td>драма</td>\n",
       "      <td>446,163,511.00</td>\n",
       "    </tr>\n",
       "    <tr>\n",
       "      <th>2472</th>\n",
       "      <td>Воин (2015)</td>\n",
       "      <td>111017315</td>\n",
       "      <td>2015-09-28 12:00:00+00:00</td>\n",
       "      <td>Художественный</td>\n",
       "      <td>ООО \"Форпост Продакшн\", ООО \"Арт Пикчерс Студия\"</td>\n",
       "      <td>Россия</td>\n",
       "      <td>А.Андрианов</td>\n",
       "      <td>ООО \"Арт Пикчерс Студия\"</td>\n",
       "      <td>«12+» - для детей старше 12 лет</td>\n",
       "      <td>10,000,000.00</td>\n",
       "      <td>70,000,000.00</td>\n",
       "      <td>0.00</td>\n",
       "      <td>Фонд кино</td>\n",
       "      <td>7.80</td>\n",
       "      <td>боевик,драма,криминал</td>\n",
       "      <td>196,572,438.40</td>\n",
       "    </tr>\n",
       "    <tr>\n",
       "      <th>2532</th>\n",
       "      <td>Бармен.</td>\n",
       "      <td>111009615</td>\n",
       "      <td>2015-05-26 12:00:00+00:00</td>\n",
       "      <td>Художественный</td>\n",
       "      <td>АО \"ВайТ Медиа\", ООО \"Арт Пикчерс Студия\"</td>\n",
       "      <td>Россия</td>\n",
       "      <td>Д.Штурманова</td>\n",
       "      <td>Т.Вайнштейн</td>\n",
       "      <td>«16+» - для детей старше 16 лет</td>\n",
       "      <td>20,000,000.00</td>\n",
       "      <td>0.00</td>\n",
       "      <td>0.00</td>\n",
       "      <td>Фонд кино</td>\n",
       "      <td>6.20</td>\n",
       "      <td>комедия,фэнтези</td>\n",
       "      <td>67,418,974.80</td>\n",
       "    </tr>\n",
       "    <tr>\n",
       "      <th>2615</th>\n",
       "      <td>Савва. Сердце воина</td>\n",
       "      <td>114001715</td>\n",
       "      <td>2015-07-21 12:00:00+00:00</td>\n",
       "      <td>Анимационный</td>\n",
       "      <td>ООО \"Глюкоза Продакшн\", ООО \"Арт Пикчерс Студия\"</td>\n",
       "      <td>Россия</td>\n",
       "      <td>М.Фадеев</td>\n",
       "      <td>А.Чистяков</td>\n",
       "      <td>«6+» - для детей старше 6 лет</td>\n",
       "      <td>60,000,000.00</td>\n",
       "      <td>100,000,000.00</td>\n",
       "      <td>0.00</td>\n",
       "      <td>Фонд кино</td>\n",
       "      <td>4.60</td>\n",
       "      <td>мультфильм,приключения,фэнтези</td>\n",
       "      <td>184,487,551.40</td>\n",
       "    </tr>\n",
       "    <tr>\n",
       "      <th>2684</th>\n",
       "      <td>Тряпичный союз</td>\n",
       "      <td>111010215</td>\n",
       "      <td>2015-06-08 12:00:00+00:00</td>\n",
       "      <td>Художественный</td>\n",
       "      <td>ООО \"Кинокомпания \"КОКТЕБЕЛЬ\"</td>\n",
       "      <td>Россия</td>\n",
       "      <td>М.Местецкий</td>\n",
       "      <td>Р.Борисевич, А.Кушаев</td>\n",
       "      <td>«18+» - запрещено для детей</td>\n",
       "      <td>0.00</td>\n",
       "      <td>59,000,000.00</td>\n",
       "      <td>0.00</td>\n",
       "      <td>Фонд кино</td>\n",
       "      <td>6.30</td>\n",
       "      <td>комедия,драма</td>\n",
       "      <td>1,957,738.51</td>\n",
       "    </tr>\n",
       "    <tr>\n",
       "      <th>2788</th>\n",
       "      <td>Срочно выйду замуж</td>\n",
       "      <td>111017115</td>\n",
       "      <td>2015-09-30 12:00:00+00:00</td>\n",
       "      <td>Художественный</td>\n",
       "      <td>АО \"ВайТ Медиа\", ООО \"Арт Пикчерс Студия\"</td>\n",
       "      <td>Россия</td>\n",
       "      <td>С Чекалов</td>\n",
       "      <td>Ф.Бондарчук, Т.Вайнштейн, Д.Рудовский</td>\n",
       "      <td>«16+» - для детей старше 16 лет</td>\n",
       "      <td>0.00</td>\n",
       "      <td>35,000,000.00</td>\n",
       "      <td>0.00</td>\n",
       "      <td>Фонд кино</td>\n",
       "      <td>5.10</td>\n",
       "      <td>комедия,мелодрама</td>\n",
       "      <td>72,937,783.20</td>\n",
       "    </tr>\n",
       "    <tr>\n",
       "      <th>2874</th>\n",
       "      <td>Помню - не помню!</td>\n",
       "      <td>111004916</td>\n",
       "      <td>2016-03-01 12:00:00+00:00</td>\n",
       "      <td>Художественный</td>\n",
       "      <td>ООО \"КиноФирма\"</td>\n",
       "      <td>Россия</td>\n",
       "      <td>В.Ровенский</td>\n",
       "      <td>ООО \"КиноФирма\"</td>\n",
       "      <td>«12+» - для детей старше 12 лет</td>\n",
       "      <td>0.00</td>\n",
       "      <td>6,000,000.00</td>\n",
       "      <td>0.00</td>\n",
       "      <td>Министерство культуры</td>\n",
       "      <td>4.30</td>\n",
       "      <td>комедия</td>\n",
       "      <td>15,362,931.43</td>\n",
       "    </tr>\n",
       "    <tr>\n",
       "      <th>3047</th>\n",
       "      <td>Любовь с ограничениями</td>\n",
       "      <td>111008216</td>\n",
       "      <td>2016-04-29 12:00:00+00:00</td>\n",
       "      <td>Художественный</td>\n",
       "      <td>АО \"ВайТ Медиа\", ООО \"Арт Пикчерс Студия\"</td>\n",
       "      <td>Россия</td>\n",
       "      <td>Д.Тюрин</td>\n",
       "      <td>Ф.Бондарчук, Т.Вайнштейн, Д.Рудовский</td>\n",
       "      <td>«16+» - для детей старше 16 лет</td>\n",
       "      <td>19,000,000.00</td>\n",
       "      <td>51,000,000.00</td>\n",
       "      <td>0.00</td>\n",
       "      <td>Фонд кино</td>\n",
       "      <td>6.30</td>\n",
       "      <td>комедия,мелодрама</td>\n",
       "      <td>70,299,052.00</td>\n",
       "    </tr>\n",
       "    <tr>\n",
       "      <th>3565</th>\n",
       "      <td>Притяжение (2016)</td>\n",
       "      <td>111018116</td>\n",
       "      <td>2016-12-16 12:00:00+00:00</td>\n",
       "      <td>Художественный</td>\n",
       "      <td>ООО \"Водород 2011\",  ООО \"Арт Пикчерс Студия\"</td>\n",
       "      <td>Россия</td>\n",
       "      <td>Ф.Бондарчук</td>\n",
       "      <td>ООО \"Арт Пикчерс Студия\"</td>\n",
       "      <td>«12+» - для детей старше 12 лет</td>\n",
       "      <td>0.00</td>\n",
       "      <td>250,000,000.00</td>\n",
       "      <td>0.00</td>\n",
       "      <td>Фонд кино</td>\n",
       "      <td>5.60</td>\n",
       "      <td>фантастика</td>\n",
       "      <td>1,038,321,489.00</td>\n",
       "    </tr>\n",
       "    <tr>\n",
       "      <th>3675</th>\n",
       "      <td>Чудо-юдо</td>\n",
       "      <td>114001817</td>\n",
       "      <td>2017-06-27 12:00:00+00:00</td>\n",
       "      <td>Анимационный</td>\n",
       "      <td>ООО \"КиноФирма\"</td>\n",
       "      <td>Россия</td>\n",
       "      <td>А.Лукичев</td>\n",
       "      <td>ООО \"КиноФирма\"</td>\n",
       "      <td>«6+» - для детей старше 6 лет</td>\n",
       "      <td>20,000,000.00</td>\n",
       "      <td>20,000,000.00</td>\n",
       "      <td>0.00</td>\n",
       "      <td>Фонд кино</td>\n",
       "      <td>5.20</td>\n",
       "      <td>мультфильм,фэнтези,семейный</td>\n",
       "      <td>55,108,014.76</td>\n",
       "    </tr>\n",
       "    <tr>\n",
       "      <th>3739</th>\n",
       "      <td>Мифы</td>\n",
       "      <td>111004317</td>\n",
       "      <td>2017-06-07 12:00:00+00:00</td>\n",
       "      <td>Художественный</td>\n",
       "      <td>ООО \"ХАЙПФИЛМ\", ООО \"Арт Пикчерс Студия\"</td>\n",
       "      <td>Россия</td>\n",
       "      <td>А.Молочников</td>\n",
       "      <td>Ф.Бондарчук, Д.Рудовский, И.Стюарт, М.Османн, ...</td>\n",
       "      <td>«16+» - для детей старше 16 лет</td>\n",
       "      <td>25,000,000.00</td>\n",
       "      <td>20,000,000.00</td>\n",
       "      <td>0.00</td>\n",
       "      <td>Фонд кино</td>\n",
       "      <td>4.80</td>\n",
       "      <td>комедия</td>\n",
       "      <td>50,451,949.00</td>\n",
       "    </tr>\n",
       "    <tr>\n",
       "      <th>5673</th>\n",
       "      <td>Селфи</td>\n",
       "      <td>111012117</td>\n",
       "      <td>2018-02-01 12:00:00+00:00</td>\n",
       "      <td>Художественный</td>\n",
       "      <td>ООО \"Киностудия \"Слово\", ООО \"Арт Пикчерс Студия\"</td>\n",
       "      <td>Россия</td>\n",
       "      <td>Н.Хомерики</td>\n",
       "      <td>П.Ануров, Ф.Бондарчук, Д.Рудовский</td>\n",
       "      <td>«16+» - для детей старше 16 лет</td>\n",
       "      <td>20,000,000.00</td>\n",
       "      <td>40,000,000.00</td>\n",
       "      <td>0.00</td>\n",
       "      <td>Фонд кино</td>\n",
       "      <td>5.80</td>\n",
       "      <td>триллер,драма</td>\n",
       "      <td>225,196,400.03</td>\n",
       "    </tr>\n",
       "    <tr>\n",
       "      <th>5806</th>\n",
       "      <td>Два хвоста</td>\n",
       "      <td>114001018</td>\n",
       "      <td>2018-05-31 12:00:00+00:00</td>\n",
       "      <td>Анимационный</td>\n",
       "      <td>ООО \"ЛИЦЕНЗИОННЫЕ БРЕНДЫ\"</td>\n",
       "      <td>Россия</td>\n",
       "      <td>В.Ровенский, Н.Лопато, В.Азеев</td>\n",
       "      <td>ООО \"ЛИЦЕНЗИОННЫЕ БРЕНДЫ\"</td>\n",
       "      <td>«6+» - для детей старше 6 лет</td>\n",
       "      <td>10,000,000.00</td>\n",
       "      <td>60,000,000.00</td>\n",
       "      <td>0.00</td>\n",
       "      <td>Фонд кино</td>\n",
       "      <td>5.00</td>\n",
       "      <td>мультфильм,детский</td>\n",
       "      <td>106,514,301.03</td>\n",
       "    </tr>\n",
       "    <tr>\n",
       "      <th>6008</th>\n",
       "      <td>Принцесса и дракон</td>\n",
       "      <td>114003018</td>\n",
       "      <td>2018-08-23 12:00:00+00:00</td>\n",
       "      <td>Анимационный</td>\n",
       "      <td>ООО \"ЛИЦЕНЗИОННЫЕ БРЕНДЫ\"</td>\n",
       "      <td>Россия</td>\n",
       "      <td>М.Нефедова</td>\n",
       "      <td>ООО \"ЛИЦЕНЗИОННЫЕ БРЕНДЫ\"</td>\n",
       "      <td>«6+» - для детей старше 6 лет</td>\n",
       "      <td>40,000,000.00</td>\n",
       "      <td>40,000,000.00</td>\n",
       "      <td>0.00</td>\n",
       "      <td>Фонд кино</td>\n",
       "      <td>5.20</td>\n",
       "      <td>мультфильм,фэнтези,детский</td>\n",
       "      <td>83,366,328.66</td>\n",
       "    </tr>\n",
       "    <tr>\n",
       "      <th>6323</th>\n",
       "      <td>Баба Яга</td>\n",
       "      <td>114006518</td>\n",
       "      <td>2018-11-08 12:00:00+00:00</td>\n",
       "      <td>Анимационный</td>\n",
       "      <td>ООО \"Арт Пикчерс Студия\"</td>\n",
       "      <td>Россия</td>\n",
       "      <td>В.Саков</td>\n",
       "      <td>ООО \"Арт Пикчерс Студия\", ООО \"КРИЭЙТИВ АНИМЭЙ...</td>\n",
       "      <td>«6+» - для детей старше 6 лет</td>\n",
       "      <td>0.00</td>\n",
       "      <td>138,969,465.00</td>\n",
       "      <td>0.00</td>\n",
       "      <td>Фонд кино</td>\n",
       "      <td>NaN</td>\n",
       "      <td>NaN</td>\n",
       "      <td>1,334,699.40</td>\n",
       "    </tr>\n",
       "    <tr>\n",
       "      <th>6823</th>\n",
       "      <td>Большое путешествие</td>\n",
       "      <td>114002419</td>\n",
       "      <td>2019-04-20 12:00:00+00:00</td>\n",
       "      <td>Анимационный</td>\n",
       "      <td>ООО \"ЛИЦЕНЗИОННЫЕ БРЕНДЫ\"</td>\n",
       "      <td>Россия</td>\n",
       "      <td>Н.Лопато, В.Ровенский</td>\n",
       "      <td>ООО \"ЛИЦЕНЗИОННЫЕ БРЕНДЫ\"</td>\n",
       "      <td>«6+» - для детей старше 6 лет</td>\n",
       "      <td>60,000,000.00</td>\n",
       "      <td>120,000,000.00</td>\n",
       "      <td>0.00</td>\n",
       "      <td>Фонд кино</td>\n",
       "      <td>6.20</td>\n",
       "      <td>мультфильм,комедия,приключения</td>\n",
       "      <td>147,606,826.51</td>\n",
       "    </tr>\n",
       "  </tbody>\n",
       "</table>\n",
       "</div>"
      ],
      "text/plain": [
       "                       title   puNumber           show_start_date  \\\n",
       "2053                     14+  111023614 2014-12-19 12:00:00+00:00   \n",
       "2058               Дуxless 2  111000415 2015-01-26 12:00:00+00:00   \n",
       "2472             Воин (2015)  111017315 2015-09-28 12:00:00+00:00   \n",
       "2532                 Бармен.  111009615 2015-05-26 12:00:00+00:00   \n",
       "2615     Савва. Сердце воина  114001715 2015-07-21 12:00:00+00:00   \n",
       "2684          Тряпичный союз  111010215 2015-06-08 12:00:00+00:00   \n",
       "2788      Срочно выйду замуж  111017115 2015-09-30 12:00:00+00:00   \n",
       "2874       Помню - не помню!  111004916 2016-03-01 12:00:00+00:00   \n",
       "3047  Любовь с ограничениями  111008216 2016-04-29 12:00:00+00:00   \n",
       "3565       Притяжение (2016)  111018116 2016-12-16 12:00:00+00:00   \n",
       "3675                Чудо-юдо  114001817 2017-06-27 12:00:00+00:00   \n",
       "3739                    Мифы  111004317 2017-06-07 12:00:00+00:00   \n",
       "5673                   Селфи  111012117 2018-02-01 12:00:00+00:00   \n",
       "5806              Два хвоста  114001018 2018-05-31 12:00:00+00:00   \n",
       "6008      Принцесса и дракон  114003018 2018-08-23 12:00:00+00:00   \n",
       "6323                Баба Яга  114006518 2018-11-08 12:00:00+00:00   \n",
       "6823     Большое путешествие  114002419 2019-04-20 12:00:00+00:00   \n",
       "\n",
       "                type                                        film_studio  \\\n",
       "2053  Художественный                         ООО Киностудия  \"Сентябрь\"   \n",
       "2058  Художественный  ООО \"Киностудия \"Слово\", ООО \"Арт Пикчерс Студия\"   \n",
       "2472  Художественный   ООО \"Форпост Продакшн\", ООО \"Арт Пикчерс Студия\"   \n",
       "2532  Художественный          АО \"ВайТ Медиа\", ООО \"Арт Пикчерс Студия\"   \n",
       "2615    Анимационный   ООО \"Глюкоза Продакшн\", ООО \"Арт Пикчерс Студия\"   \n",
       "2684  Художественный                      ООО \"Кинокомпания \"КОКТЕБЕЛЬ\"   \n",
       "2788  Художественный          АО \"ВайТ Медиа\", ООО \"Арт Пикчерс Студия\"   \n",
       "2874  Художественный                                    ООО \"КиноФирма\"   \n",
       "3047  Художественный          АО \"ВайТ Медиа\", ООО \"Арт Пикчерс Студия\"   \n",
       "3565  Художественный      ООО \"Водород 2011\",  ООО \"Арт Пикчерс Студия\"   \n",
       "3675    Анимационный                                    ООО \"КиноФирма\"   \n",
       "3739  Художественный           ООО \"ХАЙПФИЛМ\", ООО \"Арт Пикчерс Студия\"   \n",
       "5673  Художественный  ООО \"Киностудия \"Слово\", ООО \"Арт Пикчерс Студия\"   \n",
       "5806    Анимационный                          ООО \"ЛИЦЕНЗИОННЫЕ БРЕНДЫ\"   \n",
       "6008    Анимационный                          ООО \"ЛИЦЕНЗИОННЫЕ БРЕНДЫ\"   \n",
       "6323    Анимационный                           ООО \"Арт Пикчерс Студия\"   \n",
       "6823    Анимационный                          ООО \"ЛИЦЕНЗИОННЫЕ БРЕНДЫ\"   \n",
       "\n",
       "     production_country                        director  \\\n",
       "2053             Россия                        А.Зайцев   \n",
       "2058             Россия                      Р.Прыгунов   \n",
       "2472             Россия                     А.Андрианов   \n",
       "2532             Россия                    Д.Штурманова   \n",
       "2615             Россия                        М.Фадеев   \n",
       "2684             Россия                     М.Местецкий   \n",
       "2788             Россия                       С Чекалов   \n",
       "2874             Россия                     В.Ровенский   \n",
       "3047             Россия                         Д.Тюрин   \n",
       "3565             Россия                     Ф.Бондарчук   \n",
       "3675             Россия                       А.Лукичев   \n",
       "3739             Россия                    А.Молочников   \n",
       "5673             Россия                      Н.Хомерики   \n",
       "5806             Россия  В.Ровенский, Н.Лопато, В.Азеев   \n",
       "6008             Россия                      М.Нефедова   \n",
       "6323             Россия                         В.Саков   \n",
       "6823             Россия           Н.Лопато, В.Ровенский   \n",
       "\n",
       "                                               producer  \\\n",
       "2053                                О.Гранина, А.Зайцев   \n",
       "2058                 П.Ануров, Ф.Бондарчук, Д.Рудовский   \n",
       "2472                           ООО \"Арт Пикчерс Студия\"   \n",
       "2532                                        Т.Вайнштейн   \n",
       "2615                                         А.Чистяков   \n",
       "2684                              Р.Борисевич, А.Кушаев   \n",
       "2788              Ф.Бондарчук, Т.Вайнштейн, Д.Рудовский   \n",
       "2874                                    ООО \"КиноФирма\"   \n",
       "3047              Ф.Бондарчук, Т.Вайнштейн, Д.Рудовский   \n",
       "3565                           ООО \"Арт Пикчерс Студия\"   \n",
       "3675                                    ООО \"КиноФирма\"   \n",
       "3739  Ф.Бондарчук, Д.Рудовский, И.Стюарт, М.Османн, ...   \n",
       "5673                 П.Ануров, Ф.Бондарчук, Д.Рудовский   \n",
       "5806                          ООО \"ЛИЦЕНЗИОННЫЕ БРЕНДЫ\"   \n",
       "6008                          ООО \"ЛИЦЕНЗИОННЫЕ БРЕНДЫ\"   \n",
       "6323  ООО \"Арт Пикчерс Студия\", ООО \"КРИЭЙТИВ АНИМЭЙ...   \n",
       "6823                          ООО \"ЛИЦЕНЗИОННЫЕ БРЕНДЫ\"   \n",
       "\n",
       "                      age_restriction  refundable_support  \\\n",
       "2053  «16+» - для детей старше 16 лет                0.00   \n",
       "2058  «16+» - для детей старше 16 лет                0.00   \n",
       "2472  «12+» - для детей старше 12 лет       10,000,000.00   \n",
       "2532  «16+» - для детей старше 16 лет       20,000,000.00   \n",
       "2615    «6+» - для детей старше 6 лет       60,000,000.00   \n",
       "2684      «18+» - запрещено для детей                0.00   \n",
       "2788  «16+» - для детей старше 16 лет                0.00   \n",
       "2874  «12+» - для детей старше 12 лет                0.00   \n",
       "3047  «16+» - для детей старше 16 лет       19,000,000.00   \n",
       "3565  «12+» - для детей старше 12 лет                0.00   \n",
       "3675    «6+» - для детей старше 6 лет       20,000,000.00   \n",
       "3739  «16+» - для детей старше 16 лет       25,000,000.00   \n",
       "5673  «16+» - для детей старше 16 лет       20,000,000.00   \n",
       "5806    «6+» - для детей старше 6 лет       10,000,000.00   \n",
       "6008    «6+» - для детей старше 6 лет       40,000,000.00   \n",
       "6323    «6+» - для детей старше 6 лет                0.00   \n",
       "6823    «6+» - для детей старше 6 лет       60,000,000.00   \n",
       "\n",
       "      nonrefundable_support  budget                  financing_source  \\\n",
       "2053          23,000,000.00    0.00  Министерство культуры, Фонд кино   \n",
       "2058          75,000,000.00    0.00                         Фонд кино   \n",
       "2472          70,000,000.00    0.00                         Фонд кино   \n",
       "2532                   0.00    0.00                         Фонд кино   \n",
       "2615         100,000,000.00    0.00                         Фонд кино   \n",
       "2684          59,000,000.00    0.00                         Фонд кино   \n",
       "2788          35,000,000.00    0.00                         Фонд кино   \n",
       "2874           6,000,000.00    0.00             Министерство культуры   \n",
       "3047          51,000,000.00    0.00                         Фонд кино   \n",
       "3565         250,000,000.00    0.00                         Фонд кино   \n",
       "3675          20,000,000.00    0.00                         Фонд кино   \n",
       "3739          20,000,000.00    0.00                         Фонд кино   \n",
       "5673          40,000,000.00    0.00                         Фонд кино   \n",
       "5806          60,000,000.00    0.00                         Фонд кино   \n",
       "6008          40,000,000.00    0.00                         Фонд кино   \n",
       "6323         138,969,465.00    0.00                         Фонд кино   \n",
       "6823         120,000,000.00    0.00                         Фонд кино   \n",
       "\n",
       "      ratings                          genres       box_office  \n",
       "2053     6.60                       мелодрама    10,234,016.10  \n",
       "2058     6.60                           драма   446,163,511.00  \n",
       "2472     7.80           боевик,драма,криминал   196,572,438.40  \n",
       "2532     6.20                 комедия,фэнтези    67,418,974.80  \n",
       "2615     4.60  мультфильм,приключения,фэнтези   184,487,551.40  \n",
       "2684     6.30                   комедия,драма     1,957,738.51  \n",
       "2788     5.10               комедия,мелодрама    72,937,783.20  \n",
       "2874     4.30                         комедия    15,362,931.43  \n",
       "3047     6.30               комедия,мелодрама    70,299,052.00  \n",
       "3565     5.60                      фантастика 1,038,321,489.00  \n",
       "3675     5.20     мультфильм,фэнтези,семейный    55,108,014.76  \n",
       "3739     4.80                         комедия    50,451,949.00  \n",
       "5673     5.80                   триллер,драма   225,196,400.03  \n",
       "5806     5.00              мультфильм,детский   106,514,301.03  \n",
       "6008     5.20      мультфильм,фэнтези,детский    83,366,328.66  \n",
       "6323      NaN                             NaN     1,334,699.40  \n",
       "6823     6.20  мультфильм,комедия,приключения   147,606,826.51  "
      ]
     },
     "execution_count": 41,
     "metadata": {},
     "output_type": "execute_result"
    }
   ],
   "source": [
    "data[(data['refundable_support'] + data['nonrefundable_support']) > data['budget']]\n"
   ]
  },
  {
   "cell_type": "markdown",
   "metadata": {},
   "source": [
    "Такие картины есть. Исправим в них бюджет на сумму поддержки. Для этого напишем функцию.\n",
    "\n"
   ]
  },
  {
   "cell_type": "code",
   "execution_count": 42,
   "metadata": {},
   "outputs": [],
   "source": [
    "def correct_budget(row):\n",
    "    if row['budget'] < (row['refundable_support'] + row['nonrefundable_support']):\n",
    "        return row['refundable_support'] + row['nonrefundable_support']\n",
    "    return row['budget']"
   ]
  },
  {
   "cell_type": "code",
   "execution_count": 43,
   "metadata": {},
   "outputs": [],
   "source": [
    "data['budget_corrected'] = data.apply(correct_budget, axis=1)\n"
   ]
  },
  {
   "cell_type": "code",
   "execution_count": 44,
   "metadata": {},
   "outputs": [
    {
     "data": {
      "text/html": [
       "<div>\n",
       "<style scoped>\n",
       "    .dataframe tbody tr th:only-of-type {\n",
       "        vertical-align: middle;\n",
       "    }\n",
       "\n",
       "    .dataframe tbody tr th {\n",
       "        vertical-align: top;\n",
       "    }\n",
       "\n",
       "    .dataframe thead th {\n",
       "        text-align: right;\n",
       "    }\n",
       "</style>\n",
       "<table border=\"1\" class=\"dataframe\">\n",
       "  <thead>\n",
       "    <tr style=\"text-align: right;\">\n",
       "      <th></th>\n",
       "      <th>title</th>\n",
       "      <th>puNumber</th>\n",
       "      <th>show_start_date</th>\n",
       "      <th>type</th>\n",
       "      <th>film_studio</th>\n",
       "      <th>production_country</th>\n",
       "      <th>director</th>\n",
       "      <th>producer</th>\n",
       "      <th>age_restriction</th>\n",
       "      <th>refundable_support</th>\n",
       "      <th>nonrefundable_support</th>\n",
       "      <th>budget</th>\n",
       "      <th>financing_source</th>\n",
       "      <th>ratings</th>\n",
       "      <th>genres</th>\n",
       "      <th>box_office</th>\n",
       "      <th>budget_corrected</th>\n",
       "    </tr>\n",
       "  </thead>\n",
       "  <tbody>\n",
       "    <tr>\n",
       "      <th>0</th>\n",
       "      <td>Открытый простор</td>\n",
       "      <td>221048915</td>\n",
       "      <td>2015-11-27 12:00:00+00:00</td>\n",
       "      <td>Художественный</td>\n",
       "      <td>Тачстоун Пикчерз, Кобальт Пикчерз, Бикон Пикче...</td>\n",
       "      <td>США</td>\n",
       "      <td>Кевин Костнер</td>\n",
       "      <td>Дэвид Валдес, Кевин Костнер, Джейк Эбертс</td>\n",
       "      <td>«18+» - запрещено для детей</td>\n",
       "      <td>NaN</td>\n",
       "      <td>NaN</td>\n",
       "      <td>NaN</td>\n",
       "      <td>NaN</td>\n",
       "      <td>7.20</td>\n",
       "      <td>боевик,драма,мелодрама</td>\n",
       "      <td>NaN</td>\n",
       "      <td>NaN</td>\n",
       "    </tr>\n",
       "    <tr>\n",
       "      <th>1</th>\n",
       "      <td>Особо важное задание</td>\n",
       "      <td>111013716</td>\n",
       "      <td>2016-09-13 12:00:00+00:00</td>\n",
       "      <td>Художественный</td>\n",
       "      <td>Киностудия \"Мосфильм\"</td>\n",
       "      <td>СССР</td>\n",
       "      <td>Е.Матвеев</td>\n",
       "      <td>NaN</td>\n",
       "      <td>«6+» - для детей старше 6 лет</td>\n",
       "      <td>NaN</td>\n",
       "      <td>NaN</td>\n",
       "      <td>NaN</td>\n",
       "      <td>NaN</td>\n",
       "      <td>6.60</td>\n",
       "      <td>драма,военный</td>\n",
       "      <td>NaN</td>\n",
       "      <td>NaN</td>\n",
       "    </tr>\n",
       "    <tr>\n",
       "      <th>2</th>\n",
       "      <td>Особо опасен</td>\n",
       "      <td>221038416</td>\n",
       "      <td>2016-10-10 12:00:00+00:00</td>\n",
       "      <td>Художественный</td>\n",
       "      <td>Юниверсал Пикчерз, Кикстарт Продакшнз, Марк Пл...</td>\n",
       "      <td>США</td>\n",
       "      <td>Тимур Бекмамбетов</td>\n",
       "      <td>Джим Лемли, Джейсон Нетер, Марк Е.Платт, Яйн Смит</td>\n",
       "      <td>«18+» - запрещено для детей</td>\n",
       "      <td>NaN</td>\n",
       "      <td>NaN</td>\n",
       "      <td>NaN</td>\n",
       "      <td>NaN</td>\n",
       "      <td>6.80</td>\n",
       "      <td>фантастика,боевик,триллер</td>\n",
       "      <td>NaN</td>\n",
       "      <td>NaN</td>\n",
       "    </tr>\n",
       "    <tr>\n",
       "      <th>3</th>\n",
       "      <td>Особо опасен</td>\n",
       "      <td>221026916</td>\n",
       "      <td>2016-06-10 12:00:00+00:00</td>\n",
       "      <td>Художественный</td>\n",
       "      <td>Юниверсал Пикчерз, Кикстарт Продакшнз, Марк Пл...</td>\n",
       "      <td>США</td>\n",
       "      <td>Тимур Бекмамбетов</td>\n",
       "      <td>Джим Лемли, Джейсон Нетер, Марк Е.Платт, Яйн Смит</td>\n",
       "      <td>«18+» - запрещено для детей</td>\n",
       "      <td>NaN</td>\n",
       "      <td>NaN</td>\n",
       "      <td>NaN</td>\n",
       "      <td>NaN</td>\n",
       "      <td>6.80</td>\n",
       "      <td>фантастика,боевик,триллер</td>\n",
       "      <td>NaN</td>\n",
       "      <td>NaN</td>\n",
       "    </tr>\n",
       "    <tr>\n",
       "      <th>4</th>\n",
       "      <td>Особо опасен</td>\n",
       "      <td>221030815</td>\n",
       "      <td>2015-07-29 12:00:00+00:00</td>\n",
       "      <td>Художественный</td>\n",
       "      <td>Юниверсал Пикчерз, Кикстарт Продакшнз, Марк Пл...</td>\n",
       "      <td>США</td>\n",
       "      <td>Тимур Бекмамбетов</td>\n",
       "      <td>Джим Лемли, Джейсон Нетер, Марк Е.Платт, Яйн Смит</td>\n",
       "      <td>«18+» - запрещено для детей</td>\n",
       "      <td>NaN</td>\n",
       "      <td>NaN</td>\n",
       "      <td>NaN</td>\n",
       "      <td>NaN</td>\n",
       "      <td>6.80</td>\n",
       "      <td>фантастика,боевик,триллер</td>\n",
       "      <td>NaN</td>\n",
       "      <td>NaN</td>\n",
       "    </tr>\n",
       "  </tbody>\n",
       "</table>\n",
       "</div>"
      ],
      "text/plain": [
       "                  title   puNumber           show_start_date            type  \\\n",
       "0      Открытый простор  221048915 2015-11-27 12:00:00+00:00  Художественный   \n",
       "1  Особо важное задание  111013716 2016-09-13 12:00:00+00:00  Художественный   \n",
       "2          Особо опасен  221038416 2016-10-10 12:00:00+00:00  Художественный   \n",
       "3          Особо опасен  221026916 2016-06-10 12:00:00+00:00  Художественный   \n",
       "4          Особо опасен  221030815 2015-07-29 12:00:00+00:00  Художественный   \n",
       "\n",
       "                                         film_studio production_country  \\\n",
       "0  Тачстоун Пикчерз, Кобальт Пикчерз, Бикон Пикче...                США   \n",
       "1                              Киностудия \"Мосфильм\"               СССР   \n",
       "2  Юниверсал Пикчерз, Кикстарт Продакшнз, Марк Пл...                США   \n",
       "3  Юниверсал Пикчерз, Кикстарт Продакшнз, Марк Пл...                США   \n",
       "4  Юниверсал Пикчерз, Кикстарт Продакшнз, Марк Пл...                США   \n",
       "\n",
       "            director                                           producer  \\\n",
       "0      Кевин Костнер          Дэвид Валдес, Кевин Костнер, Джейк Эбертс   \n",
       "1          Е.Матвеев                                                NaN   \n",
       "2  Тимур Бекмамбетов  Джим Лемли, Джейсон Нетер, Марк Е.Платт, Яйн Смит   \n",
       "3  Тимур Бекмамбетов  Джим Лемли, Джейсон Нетер, Марк Е.Платт, Яйн Смит   \n",
       "4  Тимур Бекмамбетов  Джим Лемли, Джейсон Нетер, Марк Е.Платт, Яйн Смит   \n",
       "\n",
       "                 age_restriction  refundable_support  nonrefundable_support  \\\n",
       "0    «18+» - запрещено для детей                 NaN                    NaN   \n",
       "1  «6+» - для детей старше 6 лет                 NaN                    NaN   \n",
       "2    «18+» - запрещено для детей                 NaN                    NaN   \n",
       "3    «18+» - запрещено для детей                 NaN                    NaN   \n",
       "4    «18+» - запрещено для детей                 NaN                    NaN   \n",
       "\n",
       "   budget financing_source  ratings                     genres  box_office  \\\n",
       "0     NaN              NaN     7.20     боевик,драма,мелодрама         NaN   \n",
       "1     NaN              NaN     6.60              драма,военный         NaN   \n",
       "2     NaN              NaN     6.80  фантастика,боевик,триллер         NaN   \n",
       "3     NaN              NaN     6.80  фантастика,боевик,триллер         NaN   \n",
       "4     NaN              NaN     6.80  фантастика,боевик,триллер         NaN   \n",
       "\n",
       "   budget_corrected  \n",
       "0               NaN  \n",
       "1               NaN  \n",
       "2               NaN  \n",
       "3               NaN  \n",
       "4               NaN  "
      ]
     },
     "execution_count": 44,
     "metadata": {},
     "output_type": "execute_result"
    }
   ],
   "source": [
    "data.head()\n"
   ]
  },
  {
   "cell_type": "code",
   "execution_count": 45,
   "metadata": {},
   "outputs": [
    {
     "data": {
      "text/html": [
       "<div>\n",
       "<style scoped>\n",
       "    .dataframe tbody tr th:only-of-type {\n",
       "        vertical-align: middle;\n",
       "    }\n",
       "\n",
       "    .dataframe tbody tr th {\n",
       "        vertical-align: top;\n",
       "    }\n",
       "\n",
       "    .dataframe thead th {\n",
       "        text-align: right;\n",
       "    }\n",
       "</style>\n",
       "<table border=\"1\" class=\"dataframe\">\n",
       "  <thead>\n",
       "    <tr style=\"text-align: right;\">\n",
       "      <th></th>\n",
       "      <th>puNumber</th>\n",
       "      <th>refundable_support</th>\n",
       "      <th>nonrefundable_support</th>\n",
       "      <th>budget</th>\n",
       "      <th>ratings</th>\n",
       "      <th>box_office</th>\n",
       "      <th>budget_corrected</th>\n",
       "    </tr>\n",
       "  </thead>\n",
       "  <tbody>\n",
       "    <tr>\n",
       "      <th>count</th>\n",
       "      <td>7,486.00</td>\n",
       "      <td>332.00</td>\n",
       "      <td>332.00</td>\n",
       "      <td>332.00</td>\n",
       "      <td>6,490.00</td>\n",
       "      <td>3,158.00</td>\n",
       "      <td>332.00</td>\n",
       "    </tr>\n",
       "    <tr>\n",
       "      <th>mean</th>\n",
       "      <td>135,178,527.64</td>\n",
       "      <td>11,864,457.83</td>\n",
       "      <td>48,980,988.89</td>\n",
       "      <td>127,229,716.68</td>\n",
       "      <td>6.48</td>\n",
       "      <td>76,478,696.16</td>\n",
       "      <td>131,422,395.80</td>\n",
       "    </tr>\n",
       "    <tr>\n",
       "      <th>std</th>\n",
       "      <td>38,382,177.41</td>\n",
       "      <td>24,916,555.26</td>\n",
       "      <td>59,980,117.92</td>\n",
       "      <td>188,588,333.12</td>\n",
       "      <td>1.10</td>\n",
       "      <td>240,353,122.82</td>\n",
       "      <td>187,148,242.67</td>\n",
       "    </tr>\n",
       "    <tr>\n",
       "      <th>min</th>\n",
       "      <td>0.00</td>\n",
       "      <td>0.00</td>\n",
       "      <td>0.00</td>\n",
       "      <td>0.00</td>\n",
       "      <td>1.00</td>\n",
       "      <td>0.00</td>\n",
       "      <td>6,000,000.00</td>\n",
       "    </tr>\n",
       "    <tr>\n",
       "      <th>25%</th>\n",
       "      <td>112,025,043.00</td>\n",
       "      <td>0.00</td>\n",
       "      <td>25,000,000.00</td>\n",
       "      <td>42,000,000.00</td>\n",
       "      <td>5.90</td>\n",
       "      <td>86,239.00</td>\n",
       "      <td>45,524,799.50</td>\n",
       "    </tr>\n",
       "    <tr>\n",
       "      <th>50%</th>\n",
       "      <td>121,015,464.50</td>\n",
       "      <td>0.00</td>\n",
       "      <td>30,000,000.00</td>\n",
       "      <td>68,649,916.00</td>\n",
       "      <td>6.60</td>\n",
       "      <td>2,327,987.55</td>\n",
       "      <td>71,196,901.50</td>\n",
       "    </tr>\n",
       "    <tr>\n",
       "      <th>75%</th>\n",
       "      <td>124,003,313.75</td>\n",
       "      <td>15,000,000.00</td>\n",
       "      <td>40,375,000.00</td>\n",
       "      <td>141,985,319.50</td>\n",
       "      <td>7.20</td>\n",
       "      <td>23,979,671.02</td>\n",
       "      <td>150,000,000.00</td>\n",
       "    </tr>\n",
       "    <tr>\n",
       "      <th>max</th>\n",
       "      <td>231,001,111.00</td>\n",
       "      <td>180,000,000.00</td>\n",
       "      <td>400,000,000.00</td>\n",
       "      <td>2,305,074,303.00</td>\n",
       "      <td>9.20</td>\n",
       "      <td>3,073,568,690.79</td>\n",
       "      <td>2,305,074,303.00</td>\n",
       "    </tr>\n",
       "  </tbody>\n",
       "</table>\n",
       "</div>"
      ],
      "text/plain": [
       "            puNumber  refundable_support  nonrefundable_support  \\\n",
       "count       7,486.00              332.00                 332.00   \n",
       "mean  135,178,527.64       11,864,457.83          48,980,988.89   \n",
       "std    38,382,177.41       24,916,555.26          59,980,117.92   \n",
       "min             0.00                0.00                   0.00   \n",
       "25%   112,025,043.00                0.00          25,000,000.00   \n",
       "50%   121,015,464.50                0.00          30,000,000.00   \n",
       "75%   124,003,313.75       15,000,000.00          40,375,000.00   \n",
       "max   231,001,111.00      180,000,000.00         400,000,000.00   \n",
       "\n",
       "                budget  ratings       box_office  budget_corrected  \n",
       "count           332.00 6,490.00         3,158.00            332.00  \n",
       "mean    127,229,716.68     6.48    76,478,696.16    131,422,395.80  \n",
       "std     188,588,333.12     1.10   240,353,122.82    187,148,242.67  \n",
       "min               0.00     1.00             0.00      6,000,000.00  \n",
       "25%      42,000,000.00     5.90        86,239.00     45,524,799.50  \n",
       "50%      68,649,916.00     6.60     2,327,987.55     71,196,901.50  \n",
       "75%     141,985,319.50     7.20    23,979,671.02    150,000,000.00  \n",
       "max   2,305,074,303.00     9.20 3,073,568,690.79  2,305,074,303.00  "
      ]
     },
     "execution_count": 45,
     "metadata": {},
     "output_type": "execute_result"
    }
   ],
   "source": [
    "data.describe()\n"
   ]
  },
  {
   "cell_type": "markdown",
   "metadata": {},
   "source": [
    "суммы кол-ва строк совпали"
   ]
  },
  {
   "cell_type": "markdown",
   "metadata": {},
   "source": [
    "Посмотрим, есть ли еще такие строки"
   ]
  },
  {
   "cell_type": "code",
   "execution_count": 46,
   "metadata": {},
   "outputs": [
    {
     "data": {
      "text/plain": [
       "0"
      ]
     },
     "execution_count": 46,
     "metadata": {},
     "output_type": "execute_result"
    }
   ],
   "source": [
    "len(data[(data['refundable_support'] + data['nonrefundable_support']) > data['budget_corrected']])"
   ]
  },
  {
   "cell_type": "code",
   "execution_count": 47,
   "metadata": {},
   "outputs": [],
   "source": [
    "data['budget'] = data['budget_corrected']\n"
   ]
  },
  {
   "cell_type": "code",
   "execution_count": 48,
   "metadata": {},
   "outputs": [],
   "source": [
    "del data['budget_corrected']\n"
   ]
  },
  {
   "cell_type": "code",
   "execution_count": 49,
   "metadata": {},
   "outputs": [
    {
     "data": {
      "text/plain": [
       "Index(['title', 'puNumber', 'show_start_date', 'type', 'film_studio',\n",
       "       'production_country', 'director', 'producer', 'age_restriction',\n",
       "       'refundable_support', 'nonrefundable_support', 'budget',\n",
       "       'financing_source', 'ratings', 'genres', 'box_office'],\n",
       "      dtype='object')"
      ]
     },
     "execution_count": 49,
     "metadata": {},
     "output_type": "execute_result"
    }
   ],
   "source": [
    "data.columns\n"
   ]
  },
  {
   "cell_type": "markdown",
   "metadata": {},
   "source": [
    "# Вывод\n",
    "Заменили нулевые значения бюджета, где сумма поддержки превышала значение бюджета."
   ]
  },
  {
   "cell_type": "markdown",
   "metadata": {
    "id": "Eu6oWp2CgFyS"
   },
   "source": [
    "#### Шаг 2.6. Добавьте новые столбцы\n",
    "\n",
    "\n",
    "\n"
   ]
  },
  {
   "cell_type": "markdown",
   "metadata": {
    "id": "7GgW-UpAgFyS"
   },
   "source": [
    "- Создайте столбец с информацией о годе проката. Выделите год из даты премьеры фильма."
   ]
  },
  {
   "cell_type": "markdown",
   "metadata": {},
   "source": [
    "Несмотря на то, что у этих фильмов нулевой бюджет, есть такие фильмы, где сумма поддержки ненулевая. В этом случае бюджет не может быть меньше суммы поддержки. Проверим кинокартины, у которых бюджет меньше суммы возвратных и невозвратных средств."
   ]
  },
  {
   "cell_type": "markdown",
   "metadata": {
    "id": "nFTDLDYOgFyT"
   },
   "source": [
    "- Создайте два столбца: с именем и фамилией главного режиссёра и основным жанром фильма. В столбцы войдут первые значения из списка режиссёров и жанров соответственно.\n",
    "\n",
    "<div id=\"accordion\">\n",
    "    <div class=\"card\">\n",
    "        <div class=\"card-header\" id=\"headingThree\">\n",
    "            <button class=\"btn btn-link collapsed\" data-toggle=\"collapse\" data-target=\"#collapseHint_2\" aria-expanded=\"false\" aria-controls=\"collapseHint_2\">Подсказка</button>\n",
    "        </div>\n",
    "        <div id=\"collapseHint_2\" class=\"collapse\" aria-labelledby=\"headingThree\" data-parent=\"#accordion\">\n",
    "            <div class=\"card-body\">\n",
    "Чтобы создать такие столбцы, лучше всего использовать собственную функцию. Эту функцию можно применить к двум столбцам сразу. \n",
    "            </div>\n",
    "        </div>\n",
    "    </div>\n",
    "</div>"
   ]
  },
  {
   "cell_type": "code",
   "execution_count": 50,
   "metadata": {
    "id": "LSbRZKbMgFyU"
   },
   "outputs": [],
   "source": [
    "data['show_start_year'] = data['show_start_date'].dt.year"
   ]
  },
  {
   "cell_type": "code",
   "execution_count": 51,
   "metadata": {},
   "outputs": [
    {
     "data": {
      "text/html": [
       "<div>\n",
       "<style scoped>\n",
       "    .dataframe tbody tr th:only-of-type {\n",
       "        vertical-align: middle;\n",
       "    }\n",
       "\n",
       "    .dataframe tbody tr th {\n",
       "        vertical-align: top;\n",
       "    }\n",
       "\n",
       "    .dataframe thead th {\n",
       "        text-align: right;\n",
       "    }\n",
       "</style>\n",
       "<table border=\"1\" class=\"dataframe\">\n",
       "  <thead>\n",
       "    <tr style=\"text-align: right;\">\n",
       "      <th></th>\n",
       "      <th>title</th>\n",
       "      <th>puNumber</th>\n",
       "      <th>show_start_date</th>\n",
       "      <th>type</th>\n",
       "      <th>film_studio</th>\n",
       "      <th>production_country</th>\n",
       "      <th>director</th>\n",
       "      <th>producer</th>\n",
       "      <th>age_restriction</th>\n",
       "      <th>refundable_support</th>\n",
       "      <th>nonrefundable_support</th>\n",
       "      <th>budget</th>\n",
       "      <th>financing_source</th>\n",
       "      <th>ratings</th>\n",
       "      <th>genres</th>\n",
       "      <th>box_office</th>\n",
       "      <th>show_start_year</th>\n",
       "    </tr>\n",
       "  </thead>\n",
       "  <tbody>\n",
       "    <tr>\n",
       "      <th>0</th>\n",
       "      <td>Открытый простор</td>\n",
       "      <td>221048915</td>\n",
       "      <td>2015-11-27 12:00:00+00:00</td>\n",
       "      <td>Художественный</td>\n",
       "      <td>Тачстоун Пикчерз, Кобальт Пикчерз, Бикон Пикче...</td>\n",
       "      <td>США</td>\n",
       "      <td>Кевин Костнер</td>\n",
       "      <td>Дэвид Валдес, Кевин Костнер, Джейк Эбертс</td>\n",
       "      <td>«18+» - запрещено для детей</td>\n",
       "      <td>NaN</td>\n",
       "      <td>NaN</td>\n",
       "      <td>NaN</td>\n",
       "      <td>NaN</td>\n",
       "      <td>7.20</td>\n",
       "      <td>боевик,драма,мелодрама</td>\n",
       "      <td>NaN</td>\n",
       "      <td>2015</td>\n",
       "    </tr>\n",
       "    <tr>\n",
       "      <th>1</th>\n",
       "      <td>Особо важное задание</td>\n",
       "      <td>111013716</td>\n",
       "      <td>2016-09-13 12:00:00+00:00</td>\n",
       "      <td>Художественный</td>\n",
       "      <td>Киностудия \"Мосфильм\"</td>\n",
       "      <td>СССР</td>\n",
       "      <td>Е.Матвеев</td>\n",
       "      <td>NaN</td>\n",
       "      <td>«6+» - для детей старше 6 лет</td>\n",
       "      <td>NaN</td>\n",
       "      <td>NaN</td>\n",
       "      <td>NaN</td>\n",
       "      <td>NaN</td>\n",
       "      <td>6.60</td>\n",
       "      <td>драма,военный</td>\n",
       "      <td>NaN</td>\n",
       "      <td>2016</td>\n",
       "    </tr>\n",
       "    <tr>\n",
       "      <th>2</th>\n",
       "      <td>Особо опасен</td>\n",
       "      <td>221038416</td>\n",
       "      <td>2016-10-10 12:00:00+00:00</td>\n",
       "      <td>Художественный</td>\n",
       "      <td>Юниверсал Пикчерз, Кикстарт Продакшнз, Марк Пл...</td>\n",
       "      <td>США</td>\n",
       "      <td>Тимур Бекмамбетов</td>\n",
       "      <td>Джим Лемли, Джейсон Нетер, Марк Е.Платт, Яйн Смит</td>\n",
       "      <td>«18+» - запрещено для детей</td>\n",
       "      <td>NaN</td>\n",
       "      <td>NaN</td>\n",
       "      <td>NaN</td>\n",
       "      <td>NaN</td>\n",
       "      <td>6.80</td>\n",
       "      <td>фантастика,боевик,триллер</td>\n",
       "      <td>NaN</td>\n",
       "      <td>2016</td>\n",
       "    </tr>\n",
       "    <tr>\n",
       "      <th>3</th>\n",
       "      <td>Особо опасен</td>\n",
       "      <td>221026916</td>\n",
       "      <td>2016-06-10 12:00:00+00:00</td>\n",
       "      <td>Художественный</td>\n",
       "      <td>Юниверсал Пикчерз, Кикстарт Продакшнз, Марк Пл...</td>\n",
       "      <td>США</td>\n",
       "      <td>Тимур Бекмамбетов</td>\n",
       "      <td>Джим Лемли, Джейсон Нетер, Марк Е.Платт, Яйн Смит</td>\n",
       "      <td>«18+» - запрещено для детей</td>\n",
       "      <td>NaN</td>\n",
       "      <td>NaN</td>\n",
       "      <td>NaN</td>\n",
       "      <td>NaN</td>\n",
       "      <td>6.80</td>\n",
       "      <td>фантастика,боевик,триллер</td>\n",
       "      <td>NaN</td>\n",
       "      <td>2016</td>\n",
       "    </tr>\n",
       "    <tr>\n",
       "      <th>4</th>\n",
       "      <td>Особо опасен</td>\n",
       "      <td>221030815</td>\n",
       "      <td>2015-07-29 12:00:00+00:00</td>\n",
       "      <td>Художественный</td>\n",
       "      <td>Юниверсал Пикчерз, Кикстарт Продакшнз, Марк Пл...</td>\n",
       "      <td>США</td>\n",
       "      <td>Тимур Бекмамбетов</td>\n",
       "      <td>Джим Лемли, Джейсон Нетер, Марк Е.Платт, Яйн Смит</td>\n",
       "      <td>«18+» - запрещено для детей</td>\n",
       "      <td>NaN</td>\n",
       "      <td>NaN</td>\n",
       "      <td>NaN</td>\n",
       "      <td>NaN</td>\n",
       "      <td>6.80</td>\n",
       "      <td>фантастика,боевик,триллер</td>\n",
       "      <td>NaN</td>\n",
       "      <td>2015</td>\n",
       "    </tr>\n",
       "  </tbody>\n",
       "</table>\n",
       "</div>"
      ],
      "text/plain": [
       "                  title   puNumber           show_start_date            type  \\\n",
       "0      Открытый простор  221048915 2015-11-27 12:00:00+00:00  Художественный   \n",
       "1  Особо важное задание  111013716 2016-09-13 12:00:00+00:00  Художественный   \n",
       "2          Особо опасен  221038416 2016-10-10 12:00:00+00:00  Художественный   \n",
       "3          Особо опасен  221026916 2016-06-10 12:00:00+00:00  Художественный   \n",
       "4          Особо опасен  221030815 2015-07-29 12:00:00+00:00  Художественный   \n",
       "\n",
       "                                         film_studio production_country  \\\n",
       "0  Тачстоун Пикчерз, Кобальт Пикчерз, Бикон Пикче...                США   \n",
       "1                              Киностудия \"Мосфильм\"               СССР   \n",
       "2  Юниверсал Пикчерз, Кикстарт Продакшнз, Марк Пл...                США   \n",
       "3  Юниверсал Пикчерз, Кикстарт Продакшнз, Марк Пл...                США   \n",
       "4  Юниверсал Пикчерз, Кикстарт Продакшнз, Марк Пл...                США   \n",
       "\n",
       "            director                                           producer  \\\n",
       "0      Кевин Костнер          Дэвид Валдес, Кевин Костнер, Джейк Эбертс   \n",
       "1          Е.Матвеев                                                NaN   \n",
       "2  Тимур Бекмамбетов  Джим Лемли, Джейсон Нетер, Марк Е.Платт, Яйн Смит   \n",
       "3  Тимур Бекмамбетов  Джим Лемли, Джейсон Нетер, Марк Е.Платт, Яйн Смит   \n",
       "4  Тимур Бекмамбетов  Джим Лемли, Джейсон Нетер, Марк Е.Платт, Яйн Смит   \n",
       "\n",
       "                 age_restriction  refundable_support  nonrefundable_support  \\\n",
       "0    «18+» - запрещено для детей                 NaN                    NaN   \n",
       "1  «6+» - для детей старше 6 лет                 NaN                    NaN   \n",
       "2    «18+» - запрещено для детей                 NaN                    NaN   \n",
       "3    «18+» - запрещено для детей                 NaN                    NaN   \n",
       "4    «18+» - запрещено для детей                 NaN                    NaN   \n",
       "\n",
       "   budget financing_source  ratings                     genres  box_office  \\\n",
       "0     NaN              NaN     7.20     боевик,драма,мелодрама         NaN   \n",
       "1     NaN              NaN     6.60              драма,военный         NaN   \n",
       "2     NaN              NaN     6.80  фантастика,боевик,триллер         NaN   \n",
       "3     NaN              NaN     6.80  фантастика,боевик,триллер         NaN   \n",
       "4     NaN              NaN     6.80  фантастика,боевик,триллер         NaN   \n",
       "\n",
       "   show_start_year  \n",
       "0             2015  \n",
       "1             2016  \n",
       "2             2016  \n",
       "3             2016  \n",
       "4             2015  "
      ]
     },
     "execution_count": 51,
     "metadata": {},
     "output_type": "execute_result"
    }
   ],
   "source": [
    "data.head()\n"
   ]
  },
  {
   "cell_type": "code",
   "execution_count": 52,
   "metadata": {},
   "outputs": [
    {
     "data": {
      "text/plain": [
       "2010    985\n",
       "2019    930\n",
       "2018    891\n",
       "2016    818\n",
       "2014    807\n",
       "2015    705\n",
       "2013    630\n",
       "2011    622\n",
       "2012    593\n",
       "2017    505\n",
       "Name: show_start_year, dtype: int64"
      ]
     },
     "execution_count": 52,
     "metadata": {},
     "output_type": "execute_result"
    }
   ],
   "source": [
    "data['show_start_year'].value_counts()\n"
   ]
  },
  {
   "cell_type": "code",
   "execution_count": 53,
   "metadata": {},
   "outputs": [],
   "source": [
    "data['director_first'] =data ['director'].str.split(\",\").str[0]\n",
    "data['genre_first'] = data['genres'].str.split(\",\").str[0]\n",
    "data['director_first'] = data['director_first'].str.strip()\n",
    "data['genre_first'] = data['genre_first'].str.strip()"
   ]
  },
  {
   "cell_type": "code",
   "execution_count": 54,
   "metadata": {},
   "outputs": [
    {
     "data": {
      "text/html": [
       "<div>\n",
       "<style scoped>\n",
       "    .dataframe tbody tr th:only-of-type {\n",
       "        vertical-align: middle;\n",
       "    }\n",
       "\n",
       "    .dataframe tbody tr th {\n",
       "        vertical-align: top;\n",
       "    }\n",
       "\n",
       "    .dataframe thead th {\n",
       "        text-align: right;\n",
       "    }\n",
       "</style>\n",
       "<table border=\"1\" class=\"dataframe\">\n",
       "  <thead>\n",
       "    <tr style=\"text-align: right;\">\n",
       "      <th></th>\n",
       "      <th>title</th>\n",
       "      <th>puNumber</th>\n",
       "      <th>show_start_date</th>\n",
       "      <th>type</th>\n",
       "      <th>film_studio</th>\n",
       "      <th>production_country</th>\n",
       "      <th>director</th>\n",
       "      <th>producer</th>\n",
       "      <th>age_restriction</th>\n",
       "      <th>refundable_support</th>\n",
       "      <th>nonrefundable_support</th>\n",
       "      <th>budget</th>\n",
       "      <th>financing_source</th>\n",
       "      <th>ratings</th>\n",
       "      <th>genres</th>\n",
       "      <th>box_office</th>\n",
       "      <th>show_start_year</th>\n",
       "      <th>director_first</th>\n",
       "      <th>genre_first</th>\n",
       "    </tr>\n",
       "  </thead>\n",
       "  <tbody>\n",
       "    <tr>\n",
       "      <th>0</th>\n",
       "      <td>Открытый простор</td>\n",
       "      <td>221048915</td>\n",
       "      <td>2015-11-27 12:00:00+00:00</td>\n",
       "      <td>Художественный</td>\n",
       "      <td>Тачстоун Пикчерз, Кобальт Пикчерз, Бикон Пикче...</td>\n",
       "      <td>США</td>\n",
       "      <td>Кевин Костнер</td>\n",
       "      <td>Дэвид Валдес, Кевин Костнер, Джейк Эбертс</td>\n",
       "      <td>«18+» - запрещено для детей</td>\n",
       "      <td>NaN</td>\n",
       "      <td>NaN</td>\n",
       "      <td>NaN</td>\n",
       "      <td>NaN</td>\n",
       "      <td>7.20</td>\n",
       "      <td>боевик,драма,мелодрама</td>\n",
       "      <td>NaN</td>\n",
       "      <td>2015</td>\n",
       "      <td>Кевин Костнер</td>\n",
       "      <td>боевик</td>\n",
       "    </tr>\n",
       "    <tr>\n",
       "      <th>1</th>\n",
       "      <td>Особо важное задание</td>\n",
       "      <td>111013716</td>\n",
       "      <td>2016-09-13 12:00:00+00:00</td>\n",
       "      <td>Художественный</td>\n",
       "      <td>Киностудия \"Мосфильм\"</td>\n",
       "      <td>СССР</td>\n",
       "      <td>Е.Матвеев</td>\n",
       "      <td>NaN</td>\n",
       "      <td>«6+» - для детей старше 6 лет</td>\n",
       "      <td>NaN</td>\n",
       "      <td>NaN</td>\n",
       "      <td>NaN</td>\n",
       "      <td>NaN</td>\n",
       "      <td>6.60</td>\n",
       "      <td>драма,военный</td>\n",
       "      <td>NaN</td>\n",
       "      <td>2016</td>\n",
       "      <td>Е.Матвеев</td>\n",
       "      <td>драма</td>\n",
       "    </tr>\n",
       "    <tr>\n",
       "      <th>2</th>\n",
       "      <td>Особо опасен</td>\n",
       "      <td>221038416</td>\n",
       "      <td>2016-10-10 12:00:00+00:00</td>\n",
       "      <td>Художественный</td>\n",
       "      <td>Юниверсал Пикчерз, Кикстарт Продакшнз, Марк Пл...</td>\n",
       "      <td>США</td>\n",
       "      <td>Тимур Бекмамбетов</td>\n",
       "      <td>Джим Лемли, Джейсон Нетер, Марк Е.Платт, Яйн Смит</td>\n",
       "      <td>«18+» - запрещено для детей</td>\n",
       "      <td>NaN</td>\n",
       "      <td>NaN</td>\n",
       "      <td>NaN</td>\n",
       "      <td>NaN</td>\n",
       "      <td>6.80</td>\n",
       "      <td>фантастика,боевик,триллер</td>\n",
       "      <td>NaN</td>\n",
       "      <td>2016</td>\n",
       "      <td>Тимур Бекмамбетов</td>\n",
       "      <td>фантастика</td>\n",
       "    </tr>\n",
       "    <tr>\n",
       "      <th>3</th>\n",
       "      <td>Особо опасен</td>\n",
       "      <td>221026916</td>\n",
       "      <td>2016-06-10 12:00:00+00:00</td>\n",
       "      <td>Художественный</td>\n",
       "      <td>Юниверсал Пикчерз, Кикстарт Продакшнз, Марк Пл...</td>\n",
       "      <td>США</td>\n",
       "      <td>Тимур Бекмамбетов</td>\n",
       "      <td>Джим Лемли, Джейсон Нетер, Марк Е.Платт, Яйн Смит</td>\n",
       "      <td>«18+» - запрещено для детей</td>\n",
       "      <td>NaN</td>\n",
       "      <td>NaN</td>\n",
       "      <td>NaN</td>\n",
       "      <td>NaN</td>\n",
       "      <td>6.80</td>\n",
       "      <td>фантастика,боевик,триллер</td>\n",
       "      <td>NaN</td>\n",
       "      <td>2016</td>\n",
       "      <td>Тимур Бекмамбетов</td>\n",
       "      <td>фантастика</td>\n",
       "    </tr>\n",
       "    <tr>\n",
       "      <th>4</th>\n",
       "      <td>Особо опасен</td>\n",
       "      <td>221030815</td>\n",
       "      <td>2015-07-29 12:00:00+00:00</td>\n",
       "      <td>Художественный</td>\n",
       "      <td>Юниверсал Пикчерз, Кикстарт Продакшнз, Марк Пл...</td>\n",
       "      <td>США</td>\n",
       "      <td>Тимур Бекмамбетов</td>\n",
       "      <td>Джим Лемли, Джейсон Нетер, Марк Е.Платт, Яйн Смит</td>\n",
       "      <td>«18+» - запрещено для детей</td>\n",
       "      <td>NaN</td>\n",
       "      <td>NaN</td>\n",
       "      <td>NaN</td>\n",
       "      <td>NaN</td>\n",
       "      <td>6.80</td>\n",
       "      <td>фантастика,боевик,триллер</td>\n",
       "      <td>NaN</td>\n",
       "      <td>2015</td>\n",
       "      <td>Тимур Бекмамбетов</td>\n",
       "      <td>фантастика</td>\n",
       "    </tr>\n",
       "  </tbody>\n",
       "</table>\n",
       "</div>"
      ],
      "text/plain": [
       "                  title   puNumber           show_start_date            type  \\\n",
       "0      Открытый простор  221048915 2015-11-27 12:00:00+00:00  Художественный   \n",
       "1  Особо важное задание  111013716 2016-09-13 12:00:00+00:00  Художественный   \n",
       "2          Особо опасен  221038416 2016-10-10 12:00:00+00:00  Художественный   \n",
       "3          Особо опасен  221026916 2016-06-10 12:00:00+00:00  Художественный   \n",
       "4          Особо опасен  221030815 2015-07-29 12:00:00+00:00  Художественный   \n",
       "\n",
       "                                         film_studio production_country  \\\n",
       "0  Тачстоун Пикчерз, Кобальт Пикчерз, Бикон Пикче...                США   \n",
       "1                              Киностудия \"Мосфильм\"               СССР   \n",
       "2  Юниверсал Пикчерз, Кикстарт Продакшнз, Марк Пл...                США   \n",
       "3  Юниверсал Пикчерз, Кикстарт Продакшнз, Марк Пл...                США   \n",
       "4  Юниверсал Пикчерз, Кикстарт Продакшнз, Марк Пл...                США   \n",
       "\n",
       "            director                                           producer  \\\n",
       "0      Кевин Костнер          Дэвид Валдес, Кевин Костнер, Джейк Эбертс   \n",
       "1          Е.Матвеев                                                NaN   \n",
       "2  Тимур Бекмамбетов  Джим Лемли, Джейсон Нетер, Марк Е.Платт, Яйн Смит   \n",
       "3  Тимур Бекмамбетов  Джим Лемли, Джейсон Нетер, Марк Е.Платт, Яйн Смит   \n",
       "4  Тимур Бекмамбетов  Джим Лемли, Джейсон Нетер, Марк Е.Платт, Яйн Смит   \n",
       "\n",
       "                 age_restriction  refundable_support  nonrefundable_support  \\\n",
       "0    «18+» - запрещено для детей                 NaN                    NaN   \n",
       "1  «6+» - для детей старше 6 лет                 NaN                    NaN   \n",
       "2    «18+» - запрещено для детей                 NaN                    NaN   \n",
       "3    «18+» - запрещено для детей                 NaN                    NaN   \n",
       "4    «18+» - запрещено для детей                 NaN                    NaN   \n",
       "\n",
       "   budget financing_source  ratings                     genres  box_office  \\\n",
       "0     NaN              NaN     7.20     боевик,драма,мелодрама         NaN   \n",
       "1     NaN              NaN     6.60              драма,военный         NaN   \n",
       "2     NaN              NaN     6.80  фантастика,боевик,триллер         NaN   \n",
       "3     NaN              NaN     6.80  фантастика,боевик,триллер         NaN   \n",
       "4     NaN              NaN     6.80  фантастика,боевик,триллер         NaN   \n",
       "\n",
       "   show_start_year     director_first genre_first  \n",
       "0             2015      Кевин Костнер      боевик  \n",
       "1             2016          Е.Матвеев       драма  \n",
       "2             2016  Тимур Бекмамбетов  фантастика  \n",
       "3             2016  Тимур Бекмамбетов  фантастика  \n",
       "4             2015  Тимур Бекмамбетов  фантастика  "
      ]
     },
     "execution_count": 54,
     "metadata": {},
     "output_type": "execute_result"
    }
   ],
   "source": [
    "data.head()\n"
   ]
  },
  {
   "cell_type": "code",
   "execution_count": 55,
   "metadata": {},
   "outputs": [
    {
     "data": {
      "text/html": [
       "<div>\n",
       "<style scoped>\n",
       "    .dataframe tbody tr th:only-of-type {\n",
       "        vertical-align: middle;\n",
       "    }\n",
       "\n",
       "    .dataframe tbody tr th {\n",
       "        vertical-align: top;\n",
       "    }\n",
       "\n",
       "    .dataframe thead th {\n",
       "        text-align: right;\n",
       "    }\n",
       "</style>\n",
       "<table border=\"1\" class=\"dataframe\">\n",
       "  <thead>\n",
       "    <tr style=\"text-align: right;\">\n",
       "      <th></th>\n",
       "      <th>director_first</th>\n",
       "      <th>genre_first</th>\n",
       "      <th>director</th>\n",
       "      <th>genres</th>\n",
       "    </tr>\n",
       "  </thead>\n",
       "  <tbody>\n",
       "    <tr>\n",
       "      <th>2924</th>\n",
       "      <td>Питер Соллетт</td>\n",
       "      <td>драма</td>\n",
       "      <td>Питер Соллетт</td>\n",
       "      <td>драма</td>\n",
       "    </tr>\n",
       "    <tr>\n",
       "      <th>6170</th>\n",
       "      <td>М.Мошкова</td>\n",
       "      <td>NaN</td>\n",
       "      <td>М.Мошкова</td>\n",
       "      <td>NaN</td>\n",
       "    </tr>\n",
       "    <tr>\n",
       "      <th>4128</th>\n",
       "      <td>Деон Тейлор</td>\n",
       "      <td>ужасы</td>\n",
       "      <td>Деон Тейлор</td>\n",
       "      <td>ужасы</td>\n",
       "    </tr>\n",
       "    <tr>\n",
       "      <th>233</th>\n",
       "      <td>М.Хуциев</td>\n",
       "      <td>драма</td>\n",
       "      <td>М.Хуциев</td>\n",
       "      <td>драма</td>\n",
       "    </tr>\n",
       "    <tr>\n",
       "      <th>928</th>\n",
       "      <td>Бертран Блие</td>\n",
       "      <td>драма</td>\n",
       "      <td>Бертран Блие</td>\n",
       "      <td>драма,комедия</td>\n",
       "    </tr>\n",
       "    <tr>\n",
       "      <th>2623</th>\n",
       "      <td>Пейтон Рид</td>\n",
       "      <td>фантастика</td>\n",
       "      <td>Пейтон Рид</td>\n",
       "      <td>фантастика,боевик,комедия</td>\n",
       "    </tr>\n",
       "    <tr>\n",
       "      <th>1813</th>\n",
       "      <td>А.Кириллов</td>\n",
       "      <td>драма</td>\n",
       "      <td>А.Кириллов</td>\n",
       "      <td>драма,музыка</td>\n",
       "    </tr>\n",
       "    <tr>\n",
       "      <th>2203</th>\n",
       "      <td>Пол Хаггис</td>\n",
       "      <td>драма</td>\n",
       "      <td>Пол Хаггис</td>\n",
       "      <td>драма,мелодрама</td>\n",
       "    </tr>\n",
       "    <tr>\n",
       "      <th>2357</th>\n",
       "      <td>Мишель Дэннер</td>\n",
       "      <td>драма</td>\n",
       "      <td>Мишель Дэннер</td>\n",
       "      <td>драма</td>\n",
       "    </tr>\n",
       "    <tr>\n",
       "      <th>3562</th>\n",
       "      <td>Иджинио Страффи</td>\n",
       "      <td>NaN</td>\n",
       "      <td>Иджинио Страффи</td>\n",
       "      <td>NaN</td>\n",
       "    </tr>\n",
       "  </tbody>\n",
       "</table>\n",
       "</div>"
      ],
      "text/plain": [
       "       director_first genre_first         director                     genres\n",
       "2924    Питер Соллетт       драма    Питер Соллетт                      драма\n",
       "6170        М.Мошкова         NaN        М.Мошкова                        NaN\n",
       "4128      Деон Тейлор       ужасы      Деон Тейлор                      ужасы\n",
       "233          М.Хуциев       драма         М.Хуциев                      драма\n",
       "928      Бертран Блие       драма     Бертран Блие              драма,комедия\n",
       "2623       Пейтон Рид  фантастика       Пейтон Рид  фантастика,боевик,комедия\n",
       "1813       А.Кириллов       драма       А.Кириллов               драма,музыка\n",
       "2203       Пол Хаггис       драма       Пол Хаггис            драма,мелодрама\n",
       "2357    Мишель Дэннер       драма    Мишель Дэннер                      драма\n",
       "3562  Иджинио Страффи         NaN  Иджинио Страффи                        NaN"
      ]
     },
     "execution_count": 55,
     "metadata": {},
     "output_type": "execute_result"
    }
   ],
   "source": [
    "# Код ревьюера\n",
    "data[['director_first', 'genre_first', 'director', 'genres']].sample(10)"
   ]
  },
  {
   "cell_type": "markdown",
   "metadata": {
    "id": "1FsCXHwdgFyU"
   },
   "source": [
    "- Посчитайте, какую долю от общего бюджета фильма составляет государственная поддержка."
   ]
  },
  {
   "cell_type": "code",
   "execution_count": 56,
   "metadata": {
    "id": "LV6qFuZLgFyV"
   },
   "outputs": [],
   "source": [
    "data['ratio_help_to_budget'] = (data['refundable_support'] + data['nonrefundable_support']) / data['budget']"
   ]
  },
  {
   "cell_type": "code",
   "execution_count": 57,
   "metadata": {},
   "outputs": [
    {
     "data": {
      "text/html": [
       "<div>\n",
       "<style scoped>\n",
       "    .dataframe tbody tr th:only-of-type {\n",
       "        vertical-align: middle;\n",
       "    }\n",
       "\n",
       "    .dataframe tbody tr th {\n",
       "        vertical-align: top;\n",
       "    }\n",
       "\n",
       "    .dataframe thead th {\n",
       "        text-align: right;\n",
       "    }\n",
       "</style>\n",
       "<table border=\"1\" class=\"dataframe\">\n",
       "  <thead>\n",
       "    <tr style=\"text-align: right;\">\n",
       "      <th></th>\n",
       "      <th>puNumber</th>\n",
       "      <th>refundable_support</th>\n",
       "      <th>nonrefundable_support</th>\n",
       "      <th>budget</th>\n",
       "      <th>ratings</th>\n",
       "      <th>box_office</th>\n",
       "      <th>show_start_year</th>\n",
       "      <th>ratio_help_to_budget</th>\n",
       "    </tr>\n",
       "  </thead>\n",
       "  <tbody>\n",
       "    <tr>\n",
       "      <th>count</th>\n",
       "      <td>7,486.00</td>\n",
       "      <td>332.00</td>\n",
       "      <td>332.00</td>\n",
       "      <td>332.00</td>\n",
       "      <td>6,490.00</td>\n",
       "      <td>3,158.00</td>\n",
       "      <td>7,486.00</td>\n",
       "      <td>332.00</td>\n",
       "    </tr>\n",
       "    <tr>\n",
       "      <th>mean</th>\n",
       "      <td>135,178,527.64</td>\n",
       "      <td>11,864,457.83</td>\n",
       "      <td>48,980,988.89</td>\n",
       "      <td>131,422,395.80</td>\n",
       "      <td>6.48</td>\n",
       "      <td>76,478,696.16</td>\n",
       "      <td>2,014.59</td>\n",
       "      <td>0.54</td>\n",
       "    </tr>\n",
       "    <tr>\n",
       "      <th>std</th>\n",
       "      <td>38,382,177.41</td>\n",
       "      <td>24,916,555.26</td>\n",
       "      <td>59,980,117.92</td>\n",
       "      <td>187,148,242.67</td>\n",
       "      <td>1.10</td>\n",
       "      <td>240,353,122.82</td>\n",
       "      <td>3.01</td>\n",
       "      <td>0.20</td>\n",
       "    </tr>\n",
       "    <tr>\n",
       "      <th>min</th>\n",
       "      <td>0.00</td>\n",
       "      <td>0.00</td>\n",
       "      <td>0.00</td>\n",
       "      <td>6,000,000.00</td>\n",
       "      <td>1.00</td>\n",
       "      <td>0.00</td>\n",
       "      <td>2,010.00</td>\n",
       "      <td>0.04</td>\n",
       "    </tr>\n",
       "    <tr>\n",
       "      <th>25%</th>\n",
       "      <td>112,025,043.00</td>\n",
       "      <td>0.00</td>\n",
       "      <td>25,000,000.00</td>\n",
       "      <td>45,524,799.50</td>\n",
       "      <td>5.90</td>\n",
       "      <td>86,239.00</td>\n",
       "      <td>2,012.00</td>\n",
       "      <td>0.38</td>\n",
       "    </tr>\n",
       "    <tr>\n",
       "      <th>50%</th>\n",
       "      <td>121,015,464.50</td>\n",
       "      <td>0.00</td>\n",
       "      <td>30,000,000.00</td>\n",
       "      <td>71,196,901.50</td>\n",
       "      <td>6.60</td>\n",
       "      <td>2,327,987.55</td>\n",
       "      <td>2,015.00</td>\n",
       "      <td>0.61</td>\n",
       "    </tr>\n",
       "    <tr>\n",
       "      <th>75%</th>\n",
       "      <td>124,003,313.75</td>\n",
       "      <td>15,000,000.00</td>\n",
       "      <td>40,375,000.00</td>\n",
       "      <td>150,000,000.00</td>\n",
       "      <td>7.20</td>\n",
       "      <td>23,979,671.02</td>\n",
       "      <td>2,017.00</td>\n",
       "      <td>0.66</td>\n",
       "    </tr>\n",
       "    <tr>\n",
       "      <th>max</th>\n",
       "      <td>231,001,111.00</td>\n",
       "      <td>180,000,000.00</td>\n",
       "      <td>400,000,000.00</td>\n",
       "      <td>2,305,074,303.00</td>\n",
       "      <td>9.20</td>\n",
       "      <td>3,073,568,690.79</td>\n",
       "      <td>2,019.00</td>\n",
       "      <td>1.00</td>\n",
       "    </tr>\n",
       "  </tbody>\n",
       "</table>\n",
       "</div>"
      ],
      "text/plain": [
       "            puNumber  refundable_support  nonrefundable_support  \\\n",
       "count       7,486.00              332.00                 332.00   \n",
       "mean  135,178,527.64       11,864,457.83          48,980,988.89   \n",
       "std    38,382,177.41       24,916,555.26          59,980,117.92   \n",
       "min             0.00                0.00                   0.00   \n",
       "25%   112,025,043.00                0.00          25,000,000.00   \n",
       "50%   121,015,464.50                0.00          30,000,000.00   \n",
       "75%   124,003,313.75       15,000,000.00          40,375,000.00   \n",
       "max   231,001,111.00      180,000,000.00         400,000,000.00   \n",
       "\n",
       "                budget  ratings       box_office  show_start_year  \\\n",
       "count           332.00 6,490.00         3,158.00         7,486.00   \n",
       "mean    131,422,395.80     6.48    76,478,696.16         2,014.59   \n",
       "std     187,148,242.67     1.10   240,353,122.82             3.01   \n",
       "min       6,000,000.00     1.00             0.00         2,010.00   \n",
       "25%      45,524,799.50     5.90        86,239.00         2,012.00   \n",
       "50%      71,196,901.50     6.60     2,327,987.55         2,015.00   \n",
       "75%     150,000,000.00     7.20    23,979,671.02         2,017.00   \n",
       "max   2,305,074,303.00     9.20 3,073,568,690.79         2,019.00   \n",
       "\n",
       "       ratio_help_to_budget  \n",
       "count                332.00  \n",
       "mean                   0.54  \n",
       "std                    0.20  \n",
       "min                    0.04  \n",
       "25%                    0.38  \n",
       "50%                    0.61  \n",
       "75%                    0.66  \n",
       "max                    1.00  "
      ]
     },
     "execution_count": 57,
     "metadata": {},
     "output_type": "execute_result"
    }
   ],
   "source": [
    "data.describe()\n"
   ]
  },
  {
   "cell_type": "markdown",
   "metadata": {},
   "source": [
    "# Вывод\n",
    "\n",
    "- Выделили год из даты премьеры и добавили в новый столбец;\n",
    "- Выделили первого в списке режиссера и жанр, также значения добавили в новые столбцы;\n",
    "- Посчитали долю государственной поддержки по отношению к бюджету."
   ]
  },
  {
   "cell_type": "markdown",
   "metadata": {
    "id": "6t4EukPLgFyV"
   },
   "source": [
    "### Шаг 3. Проведите исследовательский анализ данных\n"
   ]
  },
  {
   "cell_type": "markdown",
   "metadata": {
    "id": "vAH8WCzugFyV"
   },
   "source": [
    "- Посмотрите, сколько фильмов выходило в прокат каждый год. Обратите внимание, что данные о прокате в кинотеатрах известны не для всех фильмов. Посчитайте, какую долю составляют фильмы с указанной информацией о прокате в кинотеатрах."
   ]
  },
  {
   "cell_type": "code",
   "execution_count": 58,
   "metadata": {
    "id": "ABeV47y7gFyW"
   },
   "outputs": [
    {
     "data": {
      "text/plain": [
       "3158"
      ]
     },
     "execution_count": 58,
     "metadata": {},
     "output_type": "execute_result"
    }
   ],
   "source": [
    "data.groupby('show_start_year')['box_office'].count().sum()\n"
   ]
  },
  {
   "cell_type": "code",
   "execution_count": 59,
   "metadata": {},
   "outputs": [],
   "source": [
    "t_one = data.groupby('show_start_year')['box_office'].count().reset_index()\n"
   ]
  },
  {
   "cell_type": "code",
   "execution_count": 60,
   "metadata": {},
   "outputs": [
    {
     "data": {
      "text/html": [
       "<div>\n",
       "<style scoped>\n",
       "    .dataframe tbody tr th:only-of-type {\n",
       "        vertical-align: middle;\n",
       "    }\n",
       "\n",
       "    .dataframe tbody tr th {\n",
       "        vertical-align: top;\n",
       "    }\n",
       "\n",
       "    .dataframe thead th {\n",
       "        text-align: right;\n",
       "    }\n",
       "</style>\n",
       "<table border=\"1\" class=\"dataframe\">\n",
       "  <thead>\n",
       "    <tr style=\"text-align: right;\">\n",
       "      <th></th>\n",
       "      <th>show_start_year</th>\n",
       "      <th>box_office</th>\n",
       "    </tr>\n",
       "  </thead>\n",
       "  <tbody>\n",
       "    <tr>\n",
       "      <th>0</th>\n",
       "      <td>2010</td>\n",
       "      <td>105</td>\n",
       "    </tr>\n",
       "    <tr>\n",
       "      <th>1</th>\n",
       "      <td>2011</td>\n",
       "      <td>109</td>\n",
       "    </tr>\n",
       "    <tr>\n",
       "      <th>2</th>\n",
       "      <td>2012</td>\n",
       "      <td>128</td>\n",
       "    </tr>\n",
       "    <tr>\n",
       "      <th>3</th>\n",
       "      <td>2013</td>\n",
       "      <td>184</td>\n",
       "    </tr>\n",
       "    <tr>\n",
       "      <th>4</th>\n",
       "      <td>2014</td>\n",
       "      <td>279</td>\n",
       "    </tr>\n",
       "    <tr>\n",
       "      <th>5</th>\n",
       "      <td>2015</td>\n",
       "      <td>465</td>\n",
       "    </tr>\n",
       "    <tr>\n",
       "      <th>6</th>\n",
       "      <td>2016</td>\n",
       "      <td>526</td>\n",
       "    </tr>\n",
       "    <tr>\n",
       "      <th>7</th>\n",
       "      <td>2017</td>\n",
       "      <td>357</td>\n",
       "    </tr>\n",
       "    <tr>\n",
       "      <th>8</th>\n",
       "      <td>2018</td>\n",
       "      <td>475</td>\n",
       "    </tr>\n",
       "    <tr>\n",
       "      <th>9</th>\n",
       "      <td>2019</td>\n",
       "      <td>530</td>\n",
       "    </tr>\n",
       "  </tbody>\n",
       "</table>\n",
       "</div>"
      ],
      "text/plain": [
       "   show_start_year  box_office\n",
       "0             2010         105\n",
       "1             2011         109\n",
       "2             2012         128\n",
       "3             2013         184\n",
       "4             2014         279\n",
       "5             2015         465\n",
       "6             2016         526\n",
       "7             2017         357\n",
       "8             2018         475\n",
       "9             2019         530"
      ]
     },
     "execution_count": 60,
     "metadata": {},
     "output_type": "execute_result"
    }
   ],
   "source": [
    "t_one"
   ]
  },
  {
   "cell_type": "code",
   "execution_count": 61,
   "metadata": {},
   "outputs": [],
   "source": [
    "t_two = (data[['show_start_year','box_office']].groupby(\n",
    "    'show_start_year'\n",
    "    ).apply(lambda x : x['box_office'].apply(pd.notna).mean()) * 100).to_frame(\n",
    "    ).reset_index()"
   ]
  },
  {
   "cell_type": "code",
   "execution_count": 62,
   "metadata": {},
   "outputs": [
    {
     "data": {
      "text/html": [
       "<div>\n",
       "<style scoped>\n",
       "    .dataframe tbody tr th:only-of-type {\n",
       "        vertical-align: middle;\n",
       "    }\n",
       "\n",
       "    .dataframe tbody tr th {\n",
       "        vertical-align: top;\n",
       "    }\n",
       "\n",
       "    .dataframe thead th {\n",
       "        text-align: right;\n",
       "    }\n",
       "</style>\n",
       "<table border=\"1\" class=\"dataframe\">\n",
       "  <thead>\n",
       "    <tr style=\"text-align: right;\">\n",
       "      <th></th>\n",
       "      <th>show_start_year</th>\n",
       "      <th>0</th>\n",
       "    </tr>\n",
       "  </thead>\n",
       "  <tbody>\n",
       "    <tr>\n",
       "      <th>0</th>\n",
       "      <td>2010</td>\n",
       "      <td>10.66</td>\n",
       "    </tr>\n",
       "    <tr>\n",
       "      <th>1</th>\n",
       "      <td>2011</td>\n",
       "      <td>17.52</td>\n",
       "    </tr>\n",
       "    <tr>\n",
       "      <th>2</th>\n",
       "      <td>2012</td>\n",
       "      <td>21.59</td>\n",
       "    </tr>\n",
       "    <tr>\n",
       "      <th>3</th>\n",
       "      <td>2013</td>\n",
       "      <td>29.21</td>\n",
       "    </tr>\n",
       "    <tr>\n",
       "      <th>4</th>\n",
       "      <td>2014</td>\n",
       "      <td>34.57</td>\n",
       "    </tr>\n",
       "    <tr>\n",
       "      <th>5</th>\n",
       "      <td>2015</td>\n",
       "      <td>65.96</td>\n",
       "    </tr>\n",
       "    <tr>\n",
       "      <th>6</th>\n",
       "      <td>2016</td>\n",
       "      <td>64.30</td>\n",
       "    </tr>\n",
       "    <tr>\n",
       "      <th>7</th>\n",
       "      <td>2017</td>\n",
       "      <td>70.69</td>\n",
       "    </tr>\n",
       "    <tr>\n",
       "      <th>8</th>\n",
       "      <td>2018</td>\n",
       "      <td>53.31</td>\n",
       "    </tr>\n",
       "    <tr>\n",
       "      <th>9</th>\n",
       "      <td>2019</td>\n",
       "      <td>56.99</td>\n",
       "    </tr>\n",
       "  </tbody>\n",
       "</table>\n",
       "</div>"
      ],
      "text/plain": [
       "   show_start_year     0\n",
       "0             2010 10.66\n",
       "1             2011 17.52\n",
       "2             2012 21.59\n",
       "3             2013 29.21\n",
       "4             2014 34.57\n",
       "5             2015 65.96\n",
       "6             2016 64.30\n",
       "7             2017 70.69\n",
       "8             2018 53.31\n",
       "9             2019 56.99"
      ]
     },
     "execution_count": 62,
     "metadata": {},
     "output_type": "execute_result"
    }
   ],
   "source": [
    "t_two"
   ]
  },
  {
   "cell_type": "code",
   "execution_count": 63,
   "metadata": {},
   "outputs": [],
   "source": [
    "t = t_one.merge(t_two, how='left', on='show_start_year')\n"
   ]
  },
  {
   "cell_type": "code",
   "execution_count": 64,
   "metadata": {},
   "outputs": [],
   "source": [
    "t.rename(columns={'box_office' : 'films_in_cinema_count', 0 : 'cinema_part'}, inplace=True)\n"
   ]
  },
  {
   "cell_type": "code",
   "execution_count": 65,
   "metadata": {},
   "outputs": [
    {
     "data": {
      "text/html": [
       "<div>\n",
       "<style scoped>\n",
       "    .dataframe tbody tr th:only-of-type {\n",
       "        vertical-align: middle;\n",
       "    }\n",
       "\n",
       "    .dataframe tbody tr th {\n",
       "        vertical-align: top;\n",
       "    }\n",
       "\n",
       "    .dataframe thead th {\n",
       "        text-align: right;\n",
       "    }\n",
       "</style>\n",
       "<table border=\"1\" class=\"dataframe\">\n",
       "  <thead>\n",
       "    <tr style=\"text-align: right;\">\n",
       "      <th></th>\n",
       "      <th>show_start_year</th>\n",
       "      <th>films_in_cinema_count</th>\n",
       "      <th>cinema_part</th>\n",
       "    </tr>\n",
       "  </thead>\n",
       "  <tbody>\n",
       "    <tr>\n",
       "      <th>0</th>\n",
       "      <td>2010</td>\n",
       "      <td>105</td>\n",
       "      <td>10.66</td>\n",
       "    </tr>\n",
       "    <tr>\n",
       "      <th>1</th>\n",
       "      <td>2011</td>\n",
       "      <td>109</td>\n",
       "      <td>17.52</td>\n",
       "    </tr>\n",
       "    <tr>\n",
       "      <th>2</th>\n",
       "      <td>2012</td>\n",
       "      <td>128</td>\n",
       "      <td>21.59</td>\n",
       "    </tr>\n",
       "    <tr>\n",
       "      <th>3</th>\n",
       "      <td>2013</td>\n",
       "      <td>184</td>\n",
       "      <td>29.21</td>\n",
       "    </tr>\n",
       "    <tr>\n",
       "      <th>4</th>\n",
       "      <td>2014</td>\n",
       "      <td>279</td>\n",
       "      <td>34.57</td>\n",
       "    </tr>\n",
       "    <tr>\n",
       "      <th>5</th>\n",
       "      <td>2015</td>\n",
       "      <td>465</td>\n",
       "      <td>65.96</td>\n",
       "    </tr>\n",
       "    <tr>\n",
       "      <th>6</th>\n",
       "      <td>2016</td>\n",
       "      <td>526</td>\n",
       "      <td>64.30</td>\n",
       "    </tr>\n",
       "    <tr>\n",
       "      <th>7</th>\n",
       "      <td>2017</td>\n",
       "      <td>357</td>\n",
       "      <td>70.69</td>\n",
       "    </tr>\n",
       "    <tr>\n",
       "      <th>8</th>\n",
       "      <td>2018</td>\n",
       "      <td>475</td>\n",
       "      <td>53.31</td>\n",
       "    </tr>\n",
       "    <tr>\n",
       "      <th>9</th>\n",
       "      <td>2019</td>\n",
       "      <td>530</td>\n",
       "      <td>56.99</td>\n",
       "    </tr>\n",
       "  </tbody>\n",
       "</table>\n",
       "</div>"
      ],
      "text/plain": [
       "   show_start_year  films_in_cinema_count  cinema_part\n",
       "0             2010                    105        10.66\n",
       "1             2011                    109        17.52\n",
       "2             2012                    128        21.59\n",
       "3             2013                    184        29.21\n",
       "4             2014                    279        34.57\n",
       "5             2015                    465        65.96\n",
       "6             2016                    526        64.30\n",
       "7             2017                    357        70.69\n",
       "8             2018                    475        53.31\n",
       "9             2019                    530        56.99"
      ]
     },
     "execution_count": 65,
     "metadata": {},
     "output_type": "execute_result"
    }
   ],
   "source": [
    "t"
   ]
  },
  {
   "cell_type": "code",
   "execution_count": 66,
   "metadata": {},
   "outputs": [
    {
     "data": {
      "image/png": "[encoded data removed]",
      "text/plain": [
       "<Figure size 432x288 with 1 Axes>"
      ]
     },
     "metadata": {
      "needs_background": "light"
     },
     "output_type": "display_data"
    }
   ],
   "source": [
    "sns.barplot(x='show_start_year', y='films_in_cinema_count', data=t);\n",
    "plt.title('Кол-во фильмов по годам, показанных в кинотеатрах');\n",
    "plt.xlabel('Год');\n",
    "plt.ylabel('Количество');"
   ]
  },
  {
   "cell_type": "code",
   "execution_count": 67,
   "metadata": {},
   "outputs": [
    {
     "data": {
      "image/png": "[encoded data removed]",
      "text/plain": [
       "<Figure size 432x288 with 1 Axes>"
      ]
     },
     "metadata": {
      "needs_background": "light"
     },
     "output_type": "display_data"
    }
   ],
   "source": [
    "sns.barplot(x='show_start_year', y='cinema_part', data=t);\n",
    "plt.title('Доля фильмов, показанных в кинотеатрах');\n",
    "plt.xlabel('Год');\n",
    "plt.ylabel('Проценты');"
   ]
  },
  {
   "cell_type": "code",
   "execution_count": 68,
   "metadata": {},
   "outputs": [
    {
     "data": {
      "text/html": [
       "<div>\n",
       "<style scoped>\n",
       "    .dataframe tbody tr th:only-of-type {\n",
       "        vertical-align: middle;\n",
       "    }\n",
       "\n",
       "    .dataframe tbody tr th {\n",
       "        vertical-align: top;\n",
       "    }\n",
       "\n",
       "    .dataframe thead th {\n",
       "        text-align: right;\n",
       "    }\n",
       "</style>\n",
       "<table border=\"1\" class=\"dataframe\">\n",
       "  <thead>\n",
       "    <tr style=\"text-align: right;\">\n",
       "      <th></th>\n",
       "      <th>show_start_year</th>\n",
       "      <th>films_in_cinema_count</th>\n",
       "      <th>cinema_part</th>\n",
       "    </tr>\n",
       "  </thead>\n",
       "  <tbody>\n",
       "    <tr>\n",
       "      <th>show_start_year</th>\n",
       "      <td>1.00</td>\n",
       "      <td>0.91</td>\n",
       "      <td>0.87</td>\n",
       "    </tr>\n",
       "    <tr>\n",
       "      <th>films_in_cinema_count</th>\n",
       "      <td>0.91</td>\n",
       "      <td>1.00</td>\n",
       "      <td>0.90</td>\n",
       "    </tr>\n",
       "    <tr>\n",
       "      <th>cinema_part</th>\n",
       "      <td>0.87</td>\n",
       "      <td>0.90</td>\n",
       "      <td>1.00</td>\n",
       "    </tr>\n",
       "  </tbody>\n",
       "</table>\n",
       "</div>"
      ],
      "text/plain": [
       "                       show_start_year  films_in_cinema_count  cinema_part\n",
       "show_start_year                   1.00                   0.91         0.87\n",
       "films_in_cinema_count             0.91                   1.00         0.90\n",
       "cinema_part                       0.87                   0.90         1.00"
      ]
     },
     "execution_count": 68,
     "metadata": {},
     "output_type": "execute_result"
    }
   ],
   "source": [
    "t.corr()"
   ]
  },
  {
   "cell_type": "markdown",
   "metadata": {},
   "source": [
    "# Вывод\n",
    "\n",
    "Данные неоднородны. В данной выборке меньше всего фильмов, показанных в кинотеатре, с 2010 по 2014. Доля варьируется от 10 до 34 процентов. В связи с этим нельзя говорить о том, что в эти годы было меньше всего кинопоказов. Самый большое количество кинопоказов в кинотеатрах в 2019, хотя доля этих фильмов за этот год в нашей выборке не самая большая в сравнение с другими годами."
   ]
  },
  {
   "cell_type": "markdown",
   "metadata": {
    "id": "BEOdcIrIgFyW"
   },
   "source": [
    "- Изучите, как менялась динамика проката по годам. В каком году сумма сборов была минимальной? А максимальной?"
   ]
  },
  {
   "cell_type": "code",
   "execution_count": 69,
   "metadata": {},
   "outputs": [],
   "source": [
    "t = data.groupby('show_start_year')['box_office'].agg('sum')"
   ]
  },
  {
   "cell_type": "code",
   "execution_count": 70,
   "metadata": {},
   "outputs": [
    {
     "data": {
      "text/plain": [
       "show_start_year\n",
       "2010        2,428,654.00\n",
       "2011       14,102,765.00\n",
       "2012        6,955,423.00\n",
       "2013       29,799,706.20\n",
       "2014    7,444,951,859.20\n",
       "2015   39,497,365,196.40\n",
       "2016   47,866,299,741.91\n",
       "2017   48,563,707,217.51\n",
       "2018   49,668,403,134.32\n",
       "2019   48,425,708,779.59\n",
       "Name: box_office, dtype: float64"
      ]
     },
     "execution_count": 70,
     "metadata": {},
     "output_type": "execute_result"
    }
   ],
   "source": [
    "t"
   ]
  },
  {
   "cell_type": "code",
   "execution_count": 71,
   "metadata": {},
   "outputs": [
    {
     "data": {
      "image/png": "[encoded data removed]",
      "text/plain": [
       "<Figure size 432x288 with 1 Axes>"
      ]
     },
     "metadata": {
      "needs_background": "light"
     },
     "output_type": "display_data"
    }
   ],
   "source": [
    "sns.lineplot(data=t)\n",
    "plt.title('Сумма кассовых сборов фильмов по годам');\n",
    "plt.xlabel('Год');\n",
    "plt.ylabel('Рубли');\n",
    "plt.show()"
   ]
  },
  {
   "cell_type": "code",
   "execution_count": 72,
   "metadata": {},
   "outputs": [
    {
     "data": {
      "image/png": "[encoded data removed]",
      "text/plain": [
       "<Figure size 432x288 with 1 Axes>"
      ]
     },
     "metadata": {
      "needs_background": "light"
     },
     "output_type": "display_data"
    }
   ],
   "source": [
    "sns.lineplot(data=data.groupby('show_start_year')['box_office'].agg(['mean', 'median']))\n",
    "plt.title('Сумма кассовых сборов фильмов по годам');\n",
    "plt.xlabel('Год');\n",
    "plt.ylabel('Рубли');\n",
    "plt.show()"
   ]
  },
  {
   "cell_type": "markdown",
   "metadata": {},
   "source": [
    "# Вывод\n",
    "\n",
    " Опять же, смотря, как считать. Если нужно учитывать в принципе сумму сборов по годам, то максимум приходится на 2018 год. Года с 2010 по 2014 в расчет не берем, так как по ним меньше всего данных, поэтому минимум приходится на 2015 год\n",
    "\n"
   ]
  },
  {
   "cell_type": "markdown",
   "metadata": {
    "id": "G-7qS-N-gFyY"
   },
   "source": [
    "- С помощью сводной таблицы посчитайте среднюю и медианную сумму сборов для каждого года."
   ]
  },
  {
   "cell_type": "code",
   "execution_count": 73,
   "metadata": {
    "id": "jmp-rgg9gFyY"
   },
   "outputs": [],
   "source": [
    "t = data.groupby('show_start_year')['box_office'].agg(['mean', 'median'])\n"
   ]
  },
  {
   "cell_type": "code",
   "execution_count": 74,
   "metadata": {},
   "outputs": [
    {
     "data": {
      "text/html": [
       "<div>\n",
       "<style scoped>\n",
       "    .dataframe tbody tr th:only-of-type {\n",
       "        vertical-align: middle;\n",
       "    }\n",
       "\n",
       "    .dataframe tbody tr th {\n",
       "        vertical-align: top;\n",
       "    }\n",
       "\n",
       "    .dataframe thead th {\n",
       "        text-align: right;\n",
       "    }\n",
       "</style>\n",
       "<table border=\"1\" class=\"dataframe\">\n",
       "  <thead>\n",
       "    <tr style=\"text-align: right;\">\n",
       "      <th></th>\n",
       "      <th>mean</th>\n",
       "      <th>median</th>\n",
       "    </tr>\n",
       "    <tr>\n",
       "      <th>show_start_year</th>\n",
       "      <th></th>\n",
       "      <th></th>\n",
       "    </tr>\n",
       "  </thead>\n",
       "  <tbody>\n",
       "    <tr>\n",
       "      <th>2010</th>\n",
       "      <td>23,130.04</td>\n",
       "      <td>1,700.00</td>\n",
       "    </tr>\n",
       "    <tr>\n",
       "      <th>2011</th>\n",
       "      <td>129,383.17</td>\n",
       "      <td>3,000.00</td>\n",
       "    </tr>\n",
       "    <tr>\n",
       "      <th>2012</th>\n",
       "      <td>54,339.24</td>\n",
       "      <td>5,660.00</td>\n",
       "    </tr>\n",
       "    <tr>\n",
       "      <th>2013</th>\n",
       "      <td>161,954.92</td>\n",
       "      <td>3,522.50</td>\n",
       "    </tr>\n",
       "    <tr>\n",
       "      <th>2014</th>\n",
       "      <td>26,684,415.27</td>\n",
       "      <td>18,160.00</td>\n",
       "    </tr>\n",
       "    <tr>\n",
       "      <th>2015</th>\n",
       "      <td>84,940,570.31</td>\n",
       "      <td>4,920,933.00</td>\n",
       "    </tr>\n",
       "    <tr>\n",
       "      <th>2016</th>\n",
       "      <td>91,000,569.85</td>\n",
       "      <td>3,846,679.41</td>\n",
       "    </tr>\n",
       "    <tr>\n",
       "      <th>2017</th>\n",
       "      <td>136,032,793.33</td>\n",
       "      <td>9,968,340.00</td>\n",
       "    </tr>\n",
       "    <tr>\n",
       "      <th>2018</th>\n",
       "      <td>104,565,059.23</td>\n",
       "      <td>8,891,102.21</td>\n",
       "    </tr>\n",
       "    <tr>\n",
       "      <th>2019</th>\n",
       "      <td>91,369,261.85</td>\n",
       "      <td>4,627,798.34</td>\n",
       "    </tr>\n",
       "  </tbody>\n",
       "</table>\n",
       "</div>"
      ],
      "text/plain": [
       "                          mean       median\n",
       "show_start_year                            \n",
       "2010                 23,130.04     1,700.00\n",
       "2011                129,383.17     3,000.00\n",
       "2012                 54,339.24     5,660.00\n",
       "2013                161,954.92     3,522.50\n",
       "2014             26,684,415.27    18,160.00\n",
       "2015             84,940,570.31 4,920,933.00\n",
       "2016             91,000,569.85 3,846,679.41\n",
       "2017            136,032,793.33 9,968,340.00\n",
       "2018            104,565,059.23 8,891,102.21\n",
       "2019             91,369,261.85 4,627,798.34"
      ]
     },
     "execution_count": 74,
     "metadata": {},
     "output_type": "execute_result"
    }
   ],
   "source": [
    "t"
   ]
  },
  {
   "cell_type": "code",
   "execution_count": 75,
   "metadata": {},
   "outputs": [
    {
     "data": {
      "image/png": "[encoded data removed]",
      "text/plain": [
       "<Figure size 432x288 with 1 Axes>"
      ]
     },
     "metadata": {
      "needs_background": "light"
     },
     "output_type": "display_data"
    }
   ],
   "source": [
    "sns.lineplot(data=t)\n",
    "plt.title('Сумма кассовых сборов фильмов по годам');\n",
    "plt.xlabel('Год');\n",
    "plt.ylabel('Сумма');\n",
    "plt.show()"
   ]
  },
  {
   "cell_type": "markdown",
   "metadata": {},
   "source": [
    "# Вывод\n",
    "\n",
    "Видим, что для сборов очень большой разброс данных, это видно из разницы между средней и медианой. Это означает, что в данных присутствуют значения с невероятно большими сборами по сравнению с остальными. Для кино это нормально. В среднем, самый прибыльный \"кассовый\" год был 2017. Это видно и по медиане, и по средней."
   ]
  },
  {
   "cell_type": "markdown",
   "metadata": {
    "id": "Ok89WFwJgFyZ"
   },
   "source": [
    "- Определите, влияет ли возрастное ограничение аудитории («6+», «12+», «16+», «18+» и т. д.) на сборы фильма в прокате в период с 2015 по 2019 год? Фильмы с каким возрастным ограничением собрали больше всего денег в прокате? Меняется ли картина в зависимости от года? Если да, предположите, с чем это может быть связано."
   ]
  },
  {
   "cell_type": "code",
   "execution_count": 76,
   "metadata": {},
   "outputs": [],
   "source": [
    "pd.set_option('display.float_format', lambda x: '%.3f' % x)"
   ]
  },
  {
   "cell_type": "code",
   "execution_count": 77,
   "metadata": {
    "id": "jsSbEqfjgFya"
   },
   "outputs": [
    {
     "data": {
      "text/plain": [
       "age_restriction\n",
       "«0+» - для любой зрительской аудитории     809077425.970\n",
       "«18+» - запрещено для детей              40759615572.120\n",
       "«6+» - для детей старше 6 лет            55798610799.680\n",
       "«12+» - для детей старше 12 лет          60619446628.330\n",
       "«16+» - для детей старше 16 лет          76034733643.630\n",
       "Name: box_office, dtype: float64"
      ]
     },
     "execution_count": 77,
     "metadata": {},
     "output_type": "execute_result"
    }
   ],
   "source": [
    "data.query('2015 <= show_start_year').groupby('age_restriction')['box_office'].sum().sort_values()"
   ]
  },
  {
   "cell_type": "markdown",
   "metadata": {},
   "source": [
    "В период с 2015 по 2019 год больше всего кассовых сборов у фильмов 16+"
   ]
  },
  {
   "cell_type": "code",
   "execution_count": 78,
   "metadata": {},
   "outputs": [],
   "source": [
    "t = data.query('2015 <= show_start_year').groupby(['show_start_year', 'age_restriction'])['box_office'].agg('sum').reset_index()"
   ]
  },
  {
   "cell_type": "code",
   "execution_count": 79,
   "metadata": {},
   "outputs": [
    {
     "data": {
      "text/html": [
       "<div>\n",
       "<style scoped>\n",
       "    .dataframe tbody tr th:only-of-type {\n",
       "        vertical-align: middle;\n",
       "    }\n",
       "\n",
       "    .dataframe tbody tr th {\n",
       "        vertical-align: top;\n",
       "    }\n",
       "\n",
       "    .dataframe thead th {\n",
       "        text-align: right;\n",
       "    }\n",
       "</style>\n",
       "<table border=\"1\" class=\"dataframe\">\n",
       "  <thead>\n",
       "    <tr style=\"text-align: right;\">\n",
       "      <th></th>\n",
       "      <th>show_start_year</th>\n",
       "      <th>age_restriction</th>\n",
       "      <th>box_office</th>\n",
       "    </tr>\n",
       "  </thead>\n",
       "  <tbody>\n",
       "    <tr>\n",
       "      <th>0</th>\n",
       "      <td>2015</td>\n",
       "      <td>«0+» - для любой зрительской аудитории</td>\n",
       "      <td>379054578.370</td>\n",
       "    </tr>\n",
       "    <tr>\n",
       "      <th>1</th>\n",
       "      <td>2015</td>\n",
       "      <td>«12+» - для детей старше 12 лет</td>\n",
       "      <td>13616082008.910</td>\n",
       "    </tr>\n",
       "    <tr>\n",
       "      <th>2</th>\n",
       "      <td>2015</td>\n",
       "      <td>«16+» - для детей старше 16 лет</td>\n",
       "      <td>11368120870.270</td>\n",
       "    </tr>\n",
       "    <tr>\n",
       "      <th>3</th>\n",
       "      <td>2015</td>\n",
       "      <td>«18+» - запрещено для детей</td>\n",
       "      <td>5432308367.440</td>\n",
       "    </tr>\n",
       "    <tr>\n",
       "      <th>4</th>\n",
       "      <td>2015</td>\n",
       "      <td>«6+» - для детей старше 6 лет</td>\n",
       "      <td>8701799371.410</td>\n",
       "    </tr>\n",
       "    <tr>\n",
       "      <th>5</th>\n",
       "      <td>2016</td>\n",
       "      <td>«0+» - для любой зрительской аудитории</td>\n",
       "      <td>150228848.670</td>\n",
       "    </tr>\n",
       "    <tr>\n",
       "      <th>6</th>\n",
       "      <td>2016</td>\n",
       "      <td>«12+» - для детей старше 12 лет</td>\n",
       "      <td>12204446524.390</td>\n",
       "    </tr>\n",
       "    <tr>\n",
       "      <th>7</th>\n",
       "      <td>2016</td>\n",
       "      <td>«16+» - для детей старше 16 лет</td>\n",
       "      <td>16664548541.740</td>\n",
       "    </tr>\n",
       "    <tr>\n",
       "      <th>8</th>\n",
       "      <td>2016</td>\n",
       "      <td>«18+» - запрещено для детей</td>\n",
       "      <td>6793929818.870</td>\n",
       "    </tr>\n",
       "    <tr>\n",
       "      <th>9</th>\n",
       "      <td>2016</td>\n",
       "      <td>«6+» - для детей старше 6 лет</td>\n",
       "      <td>12053146008.240</td>\n",
       "    </tr>\n",
       "    <tr>\n",
       "      <th>10</th>\n",
       "      <td>2017</td>\n",
       "      <td>«0+» - для любой зрительской аудитории</td>\n",
       "      <td>229598930.000</td>\n",
       "    </tr>\n",
       "    <tr>\n",
       "      <th>11</th>\n",
       "      <td>2017</td>\n",
       "      <td>«12+» - для детей старше 12 лет</td>\n",
       "      <td>7851427660.670</td>\n",
       "    </tr>\n",
       "    <tr>\n",
       "      <th>12</th>\n",
       "      <td>2017</td>\n",
       "      <td>«16+» - для детей старше 16 лет</td>\n",
       "      <td>18745042900.060</td>\n",
       "    </tr>\n",
       "    <tr>\n",
       "      <th>13</th>\n",
       "      <td>2017</td>\n",
       "      <td>«18+» - запрещено для детей</td>\n",
       "      <td>9651495581.020</td>\n",
       "    </tr>\n",
       "    <tr>\n",
       "      <th>14</th>\n",
       "      <td>2017</td>\n",
       "      <td>«6+» - для детей старше 6 лет</td>\n",
       "      <td>12086142145.760</td>\n",
       "    </tr>\n",
       "    <tr>\n",
       "      <th>15</th>\n",
       "      <td>2018</td>\n",
       "      <td>«0+» - для любой зрительской аудитории</td>\n",
       "      <td>32449002.110</td>\n",
       "    </tr>\n",
       "    <tr>\n",
       "      <th>16</th>\n",
       "      <td>2018</td>\n",
       "      <td>«12+» - для детей старше 12 лет</td>\n",
       "      <td>14267291660.690</td>\n",
       "    </tr>\n",
       "    <tr>\n",
       "      <th>17</th>\n",
       "      <td>2018</td>\n",
       "      <td>«16+» - для детей старше 16 лет</td>\n",
       "      <td>16503602346.960</td>\n",
       "    </tr>\n",
       "    <tr>\n",
       "      <th>18</th>\n",
       "      <td>2018</td>\n",
       "      <td>«18+» - запрещено для детей</td>\n",
       "      <td>8760085501.150</td>\n",
       "    </tr>\n",
       "    <tr>\n",
       "      <th>19</th>\n",
       "      <td>2018</td>\n",
       "      <td>«6+» - для детей старше 6 лет</td>\n",
       "      <td>10104974623.410</td>\n",
       "    </tr>\n",
       "    <tr>\n",
       "      <th>20</th>\n",
       "      <td>2019</td>\n",
       "      <td>«0+» - для любой зрительской аудитории</td>\n",
       "      <td>17746066.820</td>\n",
       "    </tr>\n",
       "    <tr>\n",
       "      <th>21</th>\n",
       "      <td>2019</td>\n",
       "      <td>«12+» - для детей старше 12 лет</td>\n",
       "      <td>12680198773.670</td>\n",
       "    </tr>\n",
       "    <tr>\n",
       "      <th>22</th>\n",
       "      <td>2019</td>\n",
       "      <td>«16+» - для детей старше 16 лет</td>\n",
       "      <td>12753418984.600</td>\n",
       "    </tr>\n",
       "    <tr>\n",
       "      <th>23</th>\n",
       "      <td>2019</td>\n",
       "      <td>«18+» - запрещено для детей</td>\n",
       "      <td>10121796303.640</td>\n",
       "    </tr>\n",
       "    <tr>\n",
       "      <th>24</th>\n",
       "      <td>2019</td>\n",
       "      <td>«6+» - для детей старше 6 лет</td>\n",
       "      <td>12852548650.860</td>\n",
       "    </tr>\n",
       "  </tbody>\n",
       "</table>\n",
       "</div>"
      ],
      "text/plain": [
       "    show_start_year                         age_restriction      box_office\n",
       "0              2015  «0+» - для любой зрительской аудитории   379054578.370\n",
       "1              2015         «12+» - для детей старше 12 лет 13616082008.910\n",
       "2              2015         «16+» - для детей старше 16 лет 11368120870.270\n",
       "3              2015             «18+» - запрещено для детей  5432308367.440\n",
       "4              2015           «6+» - для детей старше 6 лет  8701799371.410\n",
       "5              2016  «0+» - для любой зрительской аудитории   150228848.670\n",
       "6              2016         «12+» - для детей старше 12 лет 12204446524.390\n",
       "7              2016         «16+» - для детей старше 16 лет 16664548541.740\n",
       "8              2016             «18+» - запрещено для детей  6793929818.870\n",
       "9              2016           «6+» - для детей старше 6 лет 12053146008.240\n",
       "10             2017  «0+» - для любой зрительской аудитории   229598930.000\n",
       "11             2017         «12+» - для детей старше 12 лет  7851427660.670\n",
       "12             2017         «16+» - для детей старше 16 лет 18745042900.060\n",
       "13             2017             «18+» - запрещено для детей  9651495581.020\n",
       "14             2017           «6+» - для детей старше 6 лет 12086142145.760\n",
       "15             2018  «0+» - для любой зрительской аудитории    32449002.110\n",
       "16             2018         «12+» - для детей старше 12 лет 14267291660.690\n",
       "17             2018         «16+» - для детей старше 16 лет 16503602346.960\n",
       "18             2018             «18+» - запрещено для детей  8760085501.150\n",
       "19             2018           «6+» - для детей старше 6 лет 10104974623.410\n",
       "20             2019  «0+» - для любой зрительской аудитории    17746066.820\n",
       "21             2019         «12+» - для детей старше 12 лет 12680198773.670\n",
       "22             2019         «16+» - для детей старше 16 лет 12753418984.600\n",
       "23             2019             «18+» - запрещено для детей 10121796303.640\n",
       "24             2019           «6+» - для детей старше 6 лет 12852548650.860"
      ]
     },
     "execution_count": 79,
     "metadata": {},
     "output_type": "execute_result"
    }
   ],
   "source": [
    "t"
   ]
  },
  {
   "cell_type": "code",
   "execution_count": 80,
   "metadata": {},
   "outputs": [
    {
     "data": {
      "image/png": "[encoded data removed]",
      "text/plain": [
       "<Figure size 617.875x360 with 1 Axes>"
      ]
     },
     "metadata": {
      "needs_background": "light"
     },
     "output_type": "display_data"
    }
   ],
   "source": [
    "fg = sns.catplot(x='show_start_year', y='box_office', hue='age_restriction', data=t, kind='bar');\n",
    "plt.title('Сумма сборов фильмов');\n",
    "plt.xlabel('Год');\n",
    "plt.ylabel('Сумма сборов по годам в рублях');\n"
   ]
  },
  {
   "cell_type": "markdown",
   "metadata": {},
   "source": [
    "По графику почти во все годы лидирует по сборам кино 16+, в 2015 в лидерах кино 12+, а в 2019 - 6+"
   ]
  },
  {
   "cell_type": "markdown",
   "metadata": {},
   "source": [
    "# Вывод\n",
    "\n",
    "Больше всего денег собрало кино 16+, но лидирует такие киноленты не во все года."
   ]
  },
  {
   "cell_type": "markdown",
   "metadata": {
    "id": "l_Kg6Ku4gFya"
   },
   "source": [
    "### Шаг 4. Исследуйте фильмы, которые получили государственную поддержку\n",
    "\n",
    "На этом этапе нет конкретных инструкций и заданий — поищите интересные закономерности в данных. Посмотрите, сколько выделяют средств на поддержку кино. Проверьте, хорошо ли окупаются такие фильмы, какой у них рейтинг."
   ]
  },
  {
   "cell_type": "code",
   "execution_count": 81,
   "metadata": {
    "id": "W9QKpjUdgFyb"
   },
   "outputs": [],
   "source": [
    "t= data[data['budget'].isna() == False].copy()"
   ]
  },
  {
   "cell_type": "code",
   "execution_count": 82,
   "metadata": {},
   "outputs": [
    {
     "data": {
      "text/html": [
       "<div>\n",
       "<style scoped>\n",
       "    .dataframe tbody tr th:only-of-type {\n",
       "        vertical-align: middle;\n",
       "    }\n",
       "\n",
       "    .dataframe tbody tr th {\n",
       "        vertical-align: top;\n",
       "    }\n",
       "\n",
       "    .dataframe thead th {\n",
       "        text-align: right;\n",
       "    }\n",
       "</style>\n",
       "<table border=\"1\" class=\"dataframe\">\n",
       "  <thead>\n",
       "    <tr style=\"text-align: right;\">\n",
       "      <th></th>\n",
       "      <th>title</th>\n",
       "      <th>puNumber</th>\n",
       "      <th>show_start_date</th>\n",
       "      <th>type</th>\n",
       "      <th>film_studio</th>\n",
       "      <th>production_country</th>\n",
       "      <th>director</th>\n",
       "      <th>producer</th>\n",
       "      <th>age_restriction</th>\n",
       "      <th>refundable_support</th>\n",
       "      <th>nonrefundable_support</th>\n",
       "      <th>budget</th>\n",
       "      <th>financing_source</th>\n",
       "      <th>ratings</th>\n",
       "      <th>genres</th>\n",
       "      <th>box_office</th>\n",
       "      <th>show_start_year</th>\n",
       "      <th>director_first</th>\n",
       "      <th>genre_first</th>\n",
       "      <th>ratio_help_to_budget</th>\n",
       "    </tr>\n",
       "  </thead>\n",
       "  <tbody>\n",
       "    <tr>\n",
       "      <th>1281</th>\n",
       "      <td>Пока еще жива</td>\n",
       "      <td>111005313</td>\n",
       "      <td>2013-10-11 12:00:00+00:00</td>\n",
       "      <td>Художественный</td>\n",
       "      <td>АНО содействия развитию кинематографии \"Ангел-...</td>\n",
       "      <td>Россия</td>\n",
       "      <td>А.Атанесян</td>\n",
       "      <td>А.Атанесян, М.Бабаханов, Р.Бутко</td>\n",
       "      <td>«16+» - для детей старше 16 лет</td>\n",
       "      <td>0.000</td>\n",
       "      <td>26500000.000</td>\n",
       "      <td>79411900.000</td>\n",
       "      <td>Министерство культуры</td>\n",
       "      <td>8.100</td>\n",
       "      <td>драма,мелодрама</td>\n",
       "      <td>365353.600</td>\n",
       "      <td>2013</td>\n",
       "      <td>А.Атанесян</td>\n",
       "      <td>драма</td>\n",
       "      <td>0.334</td>\n",
       "    </tr>\n",
       "    <tr>\n",
       "      <th>1448</th>\n",
       "      <td>Бесславные придурки</td>\n",
       "      <td>111003314</td>\n",
       "      <td>2014-03-28 12:00:00+00:00</td>\n",
       "      <td>Художественный</td>\n",
       "      <td>ООО \"Компания \"АТК-Студио\"</td>\n",
       "      <td>Россия</td>\n",
       "      <td>А.Якимчук</td>\n",
       "      <td>А.Тютрюмов</td>\n",
       "      <td>«12+» - для детей старше 12 лет</td>\n",
       "      <td>0.000</td>\n",
       "      <td>26000000.000</td>\n",
       "      <td>37142857.000</td>\n",
       "      <td>Министерство культуры</td>\n",
       "      <td>NaN</td>\n",
       "      <td>NaN</td>\n",
       "      <td>28140.000</td>\n",
       "      <td>2014</td>\n",
       "      <td>А.Якимчук</td>\n",
       "      <td>NaN</td>\n",
       "      <td>0.700</td>\n",
       "    </tr>\n",
       "    <tr>\n",
       "      <th>1498</th>\n",
       "      <td>Невидимки</td>\n",
       "      <td>111004213</td>\n",
       "      <td>2013-09-10 12:00:00+00:00</td>\n",
       "      <td>Художественный</td>\n",
       "      <td>ООО \"Компания \"РЕАЛ-ДАКОТА\"</td>\n",
       "      <td>Россия</td>\n",
       "      <td>Р.Давлетьяров, С.Комаров</td>\n",
       "      <td>Р.Давлетьяров, А.Котелевский, А.Олейников</td>\n",
       "      <td>«12+» - для детей старше 12 лет</td>\n",
       "      <td>0.000</td>\n",
       "      <td>107847945.000</td>\n",
       "      <td>176023490.000</td>\n",
       "      <td>Фонд кино</td>\n",
       "      <td>5.300</td>\n",
       "      <td>комедия,фантастика</td>\n",
       "      <td>19957031.500</td>\n",
       "      <td>2013</td>\n",
       "      <td>Р.Давлетьяров</td>\n",
       "      <td>комедия</td>\n",
       "      <td>0.613</td>\n",
       "    </tr>\n",
       "    <tr>\n",
       "      <th>1524</th>\n",
       "      <td>БЕРЦЫ</td>\n",
       "      <td>111004314</td>\n",
       "      <td>2014-05-05 12:00:00+00:00</td>\n",
       "      <td>Художественный</td>\n",
       "      <td>ООО \"Студия \"Пассажир\"</td>\n",
       "      <td>Россия</td>\n",
       "      <td>Е.Миндадзе (псевдоним Катя Шагалова)</td>\n",
       "      <td>Л.Антонова</td>\n",
       "      <td>«16+» - для детей старше 16 лет</td>\n",
       "      <td>0.000</td>\n",
       "      <td>28000000.000</td>\n",
       "      <td>40574140.000</td>\n",
       "      <td>Министерство культуры</td>\n",
       "      <td>4.200</td>\n",
       "      <td>драма</td>\n",
       "      <td>55917.500</td>\n",
       "      <td>2014</td>\n",
       "      <td>Е.Миндадзе (псевдоним Катя Шагалова)</td>\n",
       "      <td>драма</td>\n",
       "      <td>0.690</td>\n",
       "    </tr>\n",
       "    <tr>\n",
       "      <th>1792</th>\n",
       "      <td>Братья Ч</td>\n",
       "      <td>111004414</td>\n",
       "      <td>2014-04-23 12:00:00+00:00</td>\n",
       "      <td>Художественный</td>\n",
       "      <td>ООО \"Студия \"Пассажир\"</td>\n",
       "      <td>Россия</td>\n",
       "      <td>М.Угаров</td>\n",
       "      <td>А.Миндадзе, Л.Антонова</td>\n",
       "      <td>«16+» - для детей старше 16 лет</td>\n",
       "      <td>0.000</td>\n",
       "      <td>25000000.000</td>\n",
       "      <td>40015122.000</td>\n",
       "      <td>Министерство культуры</td>\n",
       "      <td>6.400</td>\n",
       "      <td>драма</td>\n",
       "      <td>232100.000</td>\n",
       "      <td>2014</td>\n",
       "      <td>М.Угаров</td>\n",
       "      <td>драма</td>\n",
       "      <td>0.625</td>\n",
       "    </tr>\n",
       "    <tr>\n",
       "      <th>...</th>\n",
       "      <td>...</td>\n",
       "      <td>...</td>\n",
       "      <td>...</td>\n",
       "      <td>...</td>\n",
       "      <td>...</td>\n",
       "      <td>...</td>\n",
       "      <td>...</td>\n",
       "      <td>...</td>\n",
       "      <td>...</td>\n",
       "      <td>...</td>\n",
       "      <td>...</td>\n",
       "      <td>...</td>\n",
       "      <td>...</td>\n",
       "      <td>...</td>\n",
       "      <td>...</td>\n",
       "      <td>...</td>\n",
       "      <td>...</td>\n",
       "      <td>...</td>\n",
       "      <td>...</td>\n",
       "      <td>...</td>\n",
       "    </tr>\n",
       "    <tr>\n",
       "      <th>7464</th>\n",
       "      <td>Союз спасения</td>\n",
       "      <td>111022019</td>\n",
       "      <td>2019-12-26 12:00:00+00:00</td>\n",
       "      <td>Художественный</td>\n",
       "      <td>ЗАО \"Дирекция кино\"</td>\n",
       "      <td>Россия</td>\n",
       "      <td>А.Кравчук</td>\n",
       "      <td>А.Максимов, К.Эрнст</td>\n",
       "      <td>«12+» - для детей старше 12 лет</td>\n",
       "      <td>100000000.000</td>\n",
       "      <td>400000000.000</td>\n",
       "      <td>980000000.000</td>\n",
       "      <td>Фонд кино</td>\n",
       "      <td>6.000</td>\n",
       "      <td>история,биография,драма</td>\n",
       "      <td>717703185.530</td>\n",
       "      <td>2019</td>\n",
       "      <td>А.Кравчук</td>\n",
       "      <td>история</td>\n",
       "      <td>0.510</td>\n",
       "    </tr>\n",
       "    <tr>\n",
       "      <th>7466</th>\n",
       "      <td>Иван Царевич и Серый Волк 4</td>\n",
       "      <td>114005019</td>\n",
       "      <td>2019-12-20 12:00:00+00:00</td>\n",
       "      <td>Анимационный</td>\n",
       "      <td>ООО \"Студия анимационного кино \"Мельница\"</td>\n",
       "      <td>Россия</td>\n",
       "      <td>Д.Шмидт, К.Феоктистов</td>\n",
       "      <td>С.Сельянов, А.Боярский</td>\n",
       "      <td>«6+» - для детей старше 6 лет</td>\n",
       "      <td>100000000.000</td>\n",
       "      <td>0.000</td>\n",
       "      <td>190000000.000</td>\n",
       "      <td>Фонд кино</td>\n",
       "      <td>6.700</td>\n",
       "      <td>мультфильм,приключения,семейный</td>\n",
       "      <td>501069235.000</td>\n",
       "      <td>2019</td>\n",
       "      <td>Д.Шмидт</td>\n",
       "      <td>мультфильм</td>\n",
       "      <td>0.526</td>\n",
       "    </tr>\n",
       "    <tr>\n",
       "      <th>7474</th>\n",
       "      <td>Вторжение</td>\n",
       "      <td>111022519</td>\n",
       "      <td>2019-12-23 12:00:00+00:00</td>\n",
       "      <td>Художественный</td>\n",
       "      <td>ООО \"Арт Пикчерс Студия\", ООО \"Водород 2011\"</td>\n",
       "      <td>Россия</td>\n",
       "      <td>Ф.Бондарчук</td>\n",
       "      <td>Ф.Бондарчук, М.Врубель, А.Андрющенко, Д.Рудовский</td>\n",
       "      <td>«12+» - для детей старше 12 лет</td>\n",
       "      <td>100000000.000</td>\n",
       "      <td>400000000.000</td>\n",
       "      <td>944000000.000</td>\n",
       "      <td>Фонд кино</td>\n",
       "      <td>5.700</td>\n",
       "      <td>фантастика,боевик</td>\n",
       "      <td>NaN</td>\n",
       "      <td>2019</td>\n",
       "      <td>Ф.Бондарчук</td>\n",
       "      <td>фантастика</td>\n",
       "      <td>0.530</td>\n",
       "    </tr>\n",
       "    <tr>\n",
       "      <th>7476</th>\n",
       "      <td>Я свободен</td>\n",
       "      <td>111023019</td>\n",
       "      <td>2019-12-26 12:00:00+00:00</td>\n",
       "      <td>Художественный</td>\n",
       "      <td>АО \"ТПО \"Киностудия им. М.Горького\"</td>\n",
       "      <td>Россия</td>\n",
       "      <td>И.Северов</td>\n",
       "      <td>С.Зернов</td>\n",
       "      <td>«12+» - для детей старше 12 лет</td>\n",
       "      <td>0.000</td>\n",
       "      <td>30000000.000</td>\n",
       "      <td>46154000.000</td>\n",
       "      <td>Министерство культуры</td>\n",
       "      <td>5.900</td>\n",
       "      <td>драма</td>\n",
       "      <td>NaN</td>\n",
       "      <td>2019</td>\n",
       "      <td>И.Северов</td>\n",
       "      <td>драма</td>\n",
       "      <td>0.650</td>\n",
       "    </tr>\n",
       "    <tr>\n",
       "      <th>7478</th>\n",
       "      <td>(Не)идеальный мужчина</td>\n",
       "      <td>111023119</td>\n",
       "      <td>2019-12-24 12:00:00+00:00</td>\n",
       "      <td>Художественный</td>\n",
       "      <td>ООО \"Нон-Стоп Продакшн\"</td>\n",
       "      <td>Россия</td>\n",
       "      <td>М.Бальчюнас (псевдоним М.Вайсберг)</td>\n",
       "      <td>С.Мелькумов, А.Роднянский, М.Вайсберг, Р.Минас...</td>\n",
       "      <td>«12+» - для детей старше 12 лет</td>\n",
       "      <td>40000000.000</td>\n",
       "      <td>60000000.000</td>\n",
       "      <td>150147502.000</td>\n",
       "      <td>Фонд кино</td>\n",
       "      <td>4.500</td>\n",
       "      <td>комедия,фантастика,мелодрама</td>\n",
       "      <td>NaN</td>\n",
       "      <td>2019</td>\n",
       "      <td>М.Бальчюнас (псевдоним М.Вайсберг)</td>\n",
       "      <td>комедия</td>\n",
       "      <td>0.666</td>\n",
       "    </tr>\n",
       "  </tbody>\n",
       "</table>\n",
       "<p>332 rows × 20 columns</p>\n",
       "</div>"
      ],
      "text/plain": [
       "                            title   puNumber           show_start_date  \\\n",
       "1281                Пока еще жива  111005313 2013-10-11 12:00:00+00:00   \n",
       "1448          Бесславные придурки  111003314 2014-03-28 12:00:00+00:00   \n",
       "1498                    Невидимки  111004213 2013-09-10 12:00:00+00:00   \n",
       "1524                        БЕРЦЫ  111004314 2014-05-05 12:00:00+00:00   \n",
       "1792                     Братья Ч  111004414 2014-04-23 12:00:00+00:00   \n",
       "...                           ...        ...                       ...   \n",
       "7464                Союз спасения  111022019 2019-12-26 12:00:00+00:00   \n",
       "7466  Иван Царевич и Серый Волк 4  114005019 2019-12-20 12:00:00+00:00   \n",
       "7474                    Вторжение  111022519 2019-12-23 12:00:00+00:00   \n",
       "7476                   Я свободен  111023019 2019-12-26 12:00:00+00:00   \n",
       "7478        (Не)идеальный мужчина  111023119 2019-12-24 12:00:00+00:00   \n",
       "\n",
       "                type                                        film_studio  \\\n",
       "1281  Художественный  АНО содействия развитию кинематографии \"Ангел-...   \n",
       "1448  Художественный                         ООО \"Компания \"АТК-Студио\"   \n",
       "1498  Художественный                        ООО \"Компания \"РЕАЛ-ДАКОТА\"   \n",
       "1524  Художественный                             ООО \"Студия \"Пассажир\"   \n",
       "1792  Художественный                             ООО \"Студия \"Пассажир\"   \n",
       "...              ...                                                ...   \n",
       "7464  Художественный                                ЗАО \"Дирекция кино\"   \n",
       "7466    Анимационный          ООО \"Студия анимационного кино \"Мельница\"   \n",
       "7474  Художественный       ООО \"Арт Пикчерс Студия\", ООО \"Водород 2011\"   \n",
       "7476  Художественный                АО \"ТПО \"Киностудия им. М.Горького\"   \n",
       "7478  Художественный                           ООО \"Нон-Стоп Продакшн\"    \n",
       "\n",
       "     production_country                              director  \\\n",
       "1281             Россия                            А.Атанесян   \n",
       "1448             Россия                             А.Якимчук   \n",
       "1498             Россия              Р.Давлетьяров, С.Комаров   \n",
       "1524             Россия  Е.Миндадзе (псевдоним Катя Шагалова)   \n",
       "1792             Россия                              М.Угаров   \n",
       "...                 ...                                   ...   \n",
       "7464             Россия                             А.Кравчук   \n",
       "7466             Россия                 Д.Шмидт, К.Феоктистов   \n",
       "7474             Россия                           Ф.Бондарчук   \n",
       "7476             Россия                             И.Северов   \n",
       "7478             Россия    М.Бальчюнас (псевдоним М.Вайсберг)   \n",
       "\n",
       "                                               producer  \\\n",
       "1281                   А.Атанесян, М.Бабаханов, Р.Бутко   \n",
       "1448                                         А.Тютрюмов   \n",
       "1498          Р.Давлетьяров, А.Котелевский, А.Олейников   \n",
       "1524                                         Л.Антонова   \n",
       "1792                             А.Миндадзе, Л.Антонова   \n",
       "...                                                 ...   \n",
       "7464                                А.Максимов, К.Эрнст   \n",
       "7466                             С.Сельянов, А.Боярский   \n",
       "7474  Ф.Бондарчук, М.Врубель, А.Андрющенко, Д.Рудовский   \n",
       "7476                                           С.Зернов   \n",
       "7478  С.Мелькумов, А.Роднянский, М.Вайсберг, Р.Минас...   \n",
       "\n",
       "                      age_restriction  refundable_support  \\\n",
       "1281  «16+» - для детей старше 16 лет               0.000   \n",
       "1448  «12+» - для детей старше 12 лет               0.000   \n",
       "1498  «12+» - для детей старше 12 лет               0.000   \n",
       "1524  «16+» - для детей старше 16 лет               0.000   \n",
       "1792  «16+» - для детей старше 16 лет               0.000   \n",
       "...                               ...                 ...   \n",
       "7464  «12+» - для детей старше 12 лет       100000000.000   \n",
       "7466    «6+» - для детей старше 6 лет       100000000.000   \n",
       "7474  «12+» - для детей старше 12 лет       100000000.000   \n",
       "7476  «12+» - для детей старше 12 лет               0.000   \n",
       "7478  «12+» - для детей старше 12 лет        40000000.000   \n",
       "\n",
       "      nonrefundable_support        budget       financing_source  ratings  \\\n",
       "1281           26500000.000  79411900.000  Министерство культуры    8.100   \n",
       "1448           26000000.000  37142857.000  Министерство культуры      NaN   \n",
       "1498          107847945.000 176023490.000              Фонд кино    5.300   \n",
       "1524           28000000.000  40574140.000  Министерство культуры    4.200   \n",
       "1792           25000000.000  40015122.000  Министерство культуры    6.400   \n",
       "...                     ...           ...                    ...      ...   \n",
       "7464          400000000.000 980000000.000              Фонд кино    6.000   \n",
       "7466                  0.000 190000000.000              Фонд кино    6.700   \n",
       "7474          400000000.000 944000000.000              Фонд кино    5.700   \n",
       "7476           30000000.000  46154000.000  Министерство культуры    5.900   \n",
       "7478           60000000.000 150147502.000              Фонд кино    4.500   \n",
       "\n",
       "                               genres    box_office  show_start_year  \\\n",
       "1281                  драма,мелодрама    365353.600             2013   \n",
       "1448                              NaN     28140.000             2014   \n",
       "1498               комедия,фантастика  19957031.500             2013   \n",
       "1524                            драма     55917.500             2014   \n",
       "1792                            драма    232100.000             2014   \n",
       "...                               ...           ...              ...   \n",
       "7464          история,биография,драма 717703185.530             2019   \n",
       "7466  мультфильм,приключения,семейный 501069235.000             2019   \n",
       "7474                фантастика,боевик           NaN             2019   \n",
       "7476                            драма           NaN             2019   \n",
       "7478     комедия,фантастика,мелодрама           NaN             2019   \n",
       "\n",
       "                            director_first genre_first  ratio_help_to_budget  \n",
       "1281                            А.Атанесян       драма                 0.334  \n",
       "1448                             А.Якимчук         NaN                 0.700  \n",
       "1498                         Р.Давлетьяров     комедия                 0.613  \n",
       "1524  Е.Миндадзе (псевдоним Катя Шагалова)       драма                 0.690  \n",
       "1792                              М.Угаров       драма                 0.625  \n",
       "...                                    ...         ...                   ...  \n",
       "7464                             А.Кравчук     история                 0.510  \n",
       "7466                               Д.Шмидт  мультфильм                 0.526  \n",
       "7474                           Ф.Бондарчук  фантастика                 0.530  \n",
       "7476                             И.Северов       драма                 0.650  \n",
       "7478    М.Бальчюнас (псевдоним М.Вайсберг)     комедия                 0.666  \n",
       "\n",
       "[332 rows x 20 columns]"
      ]
     },
     "execution_count": 82,
     "metadata": {},
     "output_type": "execute_result"
    }
   ],
   "source": [
    "t"
   ]
  },
  {
   "cell_type": "markdown",
   "metadata": {},
   "source": [
    "Создадим столбец с суммой гос. поддержки"
   ]
  },
  {
   "cell_type": "code",
   "execution_count": 83,
   "metadata": {},
   "outputs": [],
   "source": [
    "t['total_support'] = t['refundable_support'] + t['nonrefundable_support']"
   ]
  },
  {
   "cell_type": "markdown",
   "metadata": {},
   "source": [
    "А также добавим столбец payback с разностью между сборами и бюджетом."
   ]
  },
  {
   "cell_type": "code",
   "execution_count": 84,
   "metadata": {},
   "outputs": [],
   "source": [
    "t['payback'] = t['box_office'] - t['budget']"
   ]
  },
  {
   "cell_type": "code",
   "execution_count": 85,
   "metadata": {},
   "outputs": [
    {
     "data": {
      "text/html": [
       "<div>\n",
       "<style scoped>\n",
       "    .dataframe tbody tr th:only-of-type {\n",
       "        vertical-align: middle;\n",
       "    }\n",
       "\n",
       "    .dataframe tbody tr th {\n",
       "        vertical-align: top;\n",
       "    }\n",
       "\n",
       "    .dataframe thead th {\n",
       "        text-align: right;\n",
       "    }\n",
       "</style>\n",
       "<table border=\"1\" class=\"dataframe\">\n",
       "  <thead>\n",
       "    <tr style=\"text-align: right;\">\n",
       "      <th></th>\n",
       "      <th>puNumber</th>\n",
       "      <th>refundable_support</th>\n",
       "      <th>nonrefundable_support</th>\n",
       "      <th>budget</th>\n",
       "      <th>ratings</th>\n",
       "      <th>box_office</th>\n",
       "      <th>show_start_year</th>\n",
       "      <th>ratio_help_to_budget</th>\n",
       "      <th>total_support</th>\n",
       "      <th>payback</th>\n",
       "    </tr>\n",
       "  </thead>\n",
       "  <tbody>\n",
       "    <tr>\n",
       "      <th>count</th>\n",
       "      <td>332.000</td>\n",
       "      <td>332.000</td>\n",
       "      <td>332.000</td>\n",
       "      <td>332.000</td>\n",
       "      <td>314.000</td>\n",
       "      <td>318.000</td>\n",
       "      <td>332.000</td>\n",
       "      <td>332.000</td>\n",
       "      <td>332.000</td>\n",
       "      <td>318.000</td>\n",
       "    </tr>\n",
       "    <tr>\n",
       "      <th>mean</th>\n",
       "      <td>111593819.096</td>\n",
       "      <td>11864457.831</td>\n",
       "      <td>48980988.892</td>\n",
       "      <td>131422395.795</td>\n",
       "      <td>6.001</td>\n",
       "      <td>132432420.046</td>\n",
       "      <td>2016.720</td>\n",
       "      <td>0.542</td>\n",
       "      <td>60845446.723</td>\n",
       "      <td>425697.962</td>\n",
       "    </tr>\n",
       "    <tr>\n",
       "      <th>std</th>\n",
       "      <td>5703031.322</td>\n",
       "      <td>24916555.264</td>\n",
       "      <td>59980117.923</td>\n",
       "      <td>187148242.667</td>\n",
       "      <td>1.124</td>\n",
       "      <td>334837856.986</td>\n",
       "      <td>1.641</td>\n",
       "      <td>0.197</td>\n",
       "      <td>72755459.467</td>\n",
       "      <td>315910432.271</td>\n",
       "    </tr>\n",
       "    <tr>\n",
       "      <th>min</th>\n",
       "      <td>111000115.000</td>\n",
       "      <td>0.000</td>\n",
       "      <td>0.000</td>\n",
       "      <td>6000000.000</td>\n",
       "      <td>1.000</td>\n",
       "      <td>1550.000</td>\n",
       "      <td>2013.000</td>\n",
       "      <td>0.044</td>\n",
       "      <td>3000000.000</td>\n",
       "      <td>-1971477243.410</td>\n",
       "    </tr>\n",
       "    <tr>\n",
       "      <th>25%</th>\n",
       "      <td>111004891.500</td>\n",
       "      <td>0.000</td>\n",
       "      <td>25000000.000</td>\n",
       "      <td>45524799.500</td>\n",
       "      <td>5.300</td>\n",
       "      <td>1236675.500</td>\n",
       "      <td>2015.000</td>\n",
       "      <td>0.385</td>\n",
       "      <td>25333750.000</td>\n",
       "      <td>-70694429.750</td>\n",
       "    </tr>\n",
       "    <tr>\n",
       "      <th>50%</th>\n",
       "      <td>111010367.000</td>\n",
       "      <td>0.000</td>\n",
       "      <td>30000000.000</td>\n",
       "      <td>71196901.500</td>\n",
       "      <td>6.200</td>\n",
       "      <td>15720067.715</td>\n",
       "      <td>2017.000</td>\n",
       "      <td>0.614</td>\n",
       "      <td>35000000.000</td>\n",
       "      <td>-40680816.250</td>\n",
       "    </tr>\n",
       "    <tr>\n",
       "      <th>75%</th>\n",
       "      <td>111017815.750</td>\n",
       "      <td>15000000.000</td>\n",
       "      <td>40375000.000</td>\n",
       "      <td>150000000.000</td>\n",
       "      <td>6.700</td>\n",
       "      <td>106373008.273</td>\n",
       "      <td>2018.000</td>\n",
       "      <td>0.661</td>\n",
       "      <td>60000000.000</td>\n",
       "      <td>-2362182.185</td>\n",
       "    </tr>\n",
       "    <tr>\n",
       "      <th>max</th>\n",
       "      <td>214010116.000</td>\n",
       "      <td>180000000.000</td>\n",
       "      <td>400000000.000</td>\n",
       "      <td>2305074303.000</td>\n",
       "      <td>8.500</td>\n",
       "      <td>3073568690.790</td>\n",
       "      <td>2019.000</td>\n",
       "      <td>1.000</td>\n",
       "      <td>500000000.000</td>\n",
       "      <td>2913568690.790</td>\n",
       "    </tr>\n",
       "  </tbody>\n",
       "</table>\n",
       "</div>"
      ],
      "text/plain": [
       "           puNumber  refundable_support  nonrefundable_support         budget  \\\n",
       "count       332.000             332.000                332.000        332.000   \n",
       "mean  111593819.096        11864457.831           48980988.892  131422395.795   \n",
       "std     5703031.322        24916555.264           59980117.923  187148242.667   \n",
       "min   111000115.000               0.000                  0.000    6000000.000   \n",
       "25%   111004891.500               0.000           25000000.000   45524799.500   \n",
       "50%   111010367.000               0.000           30000000.000   71196901.500   \n",
       "75%   111017815.750        15000000.000           40375000.000  150000000.000   \n",
       "max   214010116.000       180000000.000          400000000.000 2305074303.000   \n",
       "\n",
       "       ratings     box_office  show_start_year  ratio_help_to_budget  \\\n",
       "count  314.000        318.000          332.000               332.000   \n",
       "mean     6.001  132432420.046         2016.720                 0.542   \n",
       "std      1.124  334837856.986            1.641                 0.197   \n",
       "min      1.000       1550.000         2013.000                 0.044   \n",
       "25%      5.300    1236675.500         2015.000                 0.385   \n",
       "50%      6.200   15720067.715         2017.000                 0.614   \n",
       "75%      6.700  106373008.273         2018.000                 0.661   \n",
       "max      8.500 3073568690.790         2019.000                 1.000   \n",
       "\n",
       "       total_support         payback  \n",
       "count        332.000         318.000  \n",
       "mean    60845446.723      425697.962  \n",
       "std     72755459.467   315910432.271  \n",
       "min      3000000.000 -1971477243.410  \n",
       "25%     25333750.000   -70694429.750  \n",
       "50%     35000000.000   -40680816.250  \n",
       "75%     60000000.000    -2362182.185  \n",
       "max    500000000.000  2913568690.790  "
      ]
     },
     "execution_count": 85,
     "metadata": {},
     "output_type": "execute_result"
    }
   ],
   "source": [
    "t.describe()"
   ]
  },
  {
   "cell_type": "markdown",
   "metadata": {},
   "source": [
    "Видим, что соотношение гос. поддержки к бюджету в среднем 55%. То есть, в среднем половина бюджета - гос. поддержка. Также интересно, что \"в среднем\" фильмы имеют чистую прибыль в 425 тыс. рублей, но по таблице больше 75% фильмов убыточно. Об этом говорит отрицательное значение квантиле 75. Такой огромный разброс говорит о том, что в данных есть хиты, которые бьют рекорды по сборам.\n",
    "\n",
    " "
   ]
  },
  {
   "cell_type": "code",
   "execution_count": 86,
   "metadata": {},
   "outputs": [
    {
     "data": {
      "text/plain": [
       "show_start_year\n",
       "2013     2\n",
       "2014    16\n",
       "2015    86\n",
       "2016    61\n",
       "2017    41\n",
       "2018    56\n",
       "2019    70\n",
       "Name: total_support, dtype: int64"
      ]
     },
     "execution_count": 86,
     "metadata": {},
     "output_type": "execute_result"
    }
   ],
   "source": [
    "\n",
    "t.groupby('show_start_year')['total_support'].count()"
   ]
  },
  {
   "cell_type": "code",
   "execution_count": 87,
   "metadata": {},
   "outputs": [
    {
     "data": {
      "image/png": "[encoded data removed]",
      "text/plain": [
       "<Figure size 432x288 with 1 Axes>"
      ]
     },
     "metadata": {
      "needs_background": "light"
     },
     "output_type": "display_data"
    }
   ],
   "source": [
    "t.groupby('show_start_year')['total_support'].count().plot(ylim=0, grid=True, style='o-');\n",
    "plt.title('Фильмы с гос. поддержкой');\n",
    "plt.xlabel('Год');\n",
    "plt.ylabel('Количество');"
   ]
  },
  {
   "cell_type": "markdown",
   "metadata": {},
   "source": [
    "За 2013 и 2014 данных мало. Эти года не будем учитывать при анализе."
   ]
  },
  {
   "cell_type": "code",
   "execution_count": 88,
   "metadata": {},
   "outputs": [],
   "source": [
    "t = t[t['show_start_year'] > 2014]"
   ]
  },
  {
   "cell_type": "markdown",
   "metadata": {},
   "source": [
    "Сколько вообще выделялось денег за каждый год."
   ]
  },
  {
   "cell_type": "code",
   "execution_count": 89,
   "metadata": {},
   "outputs": [
    {
     "data": {
      "text/plain": [
       "show_start_year\n",
       "2015   3656241459.000\n",
       "2016   4303155482.000\n",
       "2017   3183971662.000\n",
       "2018   3446969465.000\n",
       "2019   4904000000.000\n",
       "Name: total_support, dtype: float64"
      ]
     },
     "execution_count": 89,
     "metadata": {},
     "output_type": "execute_result"
    }
   ],
   "source": [
    "t.groupby('show_start_year')['total_support'].sum()"
   ]
  },
  {
   "cell_type": "code",
   "execution_count": 90,
   "metadata": {},
   "outputs": [
    {
     "data": {
      "image/png": "[encoded data removed]",
      "text/plain": [
       "<Figure size 432x288 with 1 Axes>"
      ]
     },
     "metadata": {
      "needs_background": "light"
     },
     "output_type": "display_data"
    }
   ],
   "source": [
    "t.groupby('show_start_year')['total_support'].agg(\n",
    "    ['sum', 'max']).plot(grid=True, ylim=0, style='o-');\n",
    "plt.title('Гос. поддержка');\n",
    "plt.xlabel('Год');\n",
    "plt.ylabel('Рубли');"
   ]
  },
  {
   "cell_type": "code",
   "execution_count": 91,
   "metadata": {},
   "outputs": [
    {
     "data": {
      "image/png": "[encoded data removed]",
      "text/plain": [
       "<Figure size 432x288 with 1 Axes>"
      ]
     },
     "metadata": {
      "needs_background": "light"
     },
     "output_type": "display_data"
    }
   ],
   "source": [
    "t.groupby('show_start_year')['total_support'].agg(\n",
    "    ['mean', 'median']).plot(grid=True, ylim=0, style='o-');\n",
    "plt.title('Гос. поддержка');\n",
    "plt.xlabel('Год');\n",
    "plt.ylabel('Рубли');"
   ]
  },
  {
   "cell_type": "markdown",
   "metadata": {},
   "source": [
    "Соотнесем с рейтингом"
   ]
  },
  {
   "cell_type": "code",
   "execution_count": 92,
   "metadata": {},
   "outputs": [
    {
     "data": {
      "image/png": "[encoded data removed]",
      "text/plain": [
       "<Figure size 432x288 with 1 Axes>"
      ]
     },
     "metadata": {
      "needs_background": "light"
     },
     "output_type": "display_data"
    }
   ],
   "source": [
    "t.groupby('show_start_year')['ratings'].agg(\n",
    "    ['max', 'min', 'mean', 'median']).plot(grid=True, ylim=0, style='o-')\n",
    "plt.title('Гос. поддержка');\n",
    "plt.xlabel('Год');\n",
    "plt.ylabel('Рубли');"
   ]
  },
  {
   "cell_type": "markdown",
   "metadata": {},
   "source": [
    "Если смотреть по медиане рейтинга, то 2016 год был самым худшим. Медиана оценки в этом году (2016) около 1 балла (Ужас!). Если смотреть на среднее арифметическое, то здесь тоже на графике \"провал\" по сравнению с остальными годами. \"В среднем\" по остальным годам особых изменений в рейтинге нет. Больше всего поддержки было в 2019 году, а меньше всего в 2017 году. Картина с самым высоким рейтингом выходила в 2016 году. Тот же год был второй по сумме поддержки. Если смотреть среднюю сумму поддержки на каждый фильм, то в 2017 году была самая большая сумма на фильм, а по медиане в 2018 году."
   ]
  },
  {
   "cell_type": "code",
   "execution_count": 93,
   "metadata": {},
   "outputs": [
    {
     "data": {
      "text/html": [
       "<div>\n",
       "<style scoped>\n",
       "    .dataframe tbody tr th:only-of-type {\n",
       "        vertical-align: middle;\n",
       "    }\n",
       "\n",
       "    .dataframe tbody tr th {\n",
       "        vertical-align: top;\n",
       "    }\n",
       "\n",
       "    .dataframe thead th {\n",
       "        text-align: right;\n",
       "    }\n",
       "</style>\n",
       "<table border=\"1\" class=\"dataframe\">\n",
       "  <thead>\n",
       "    <tr style=\"text-align: right;\">\n",
       "      <th></th>\n",
       "      <th>puNumber</th>\n",
       "      <th>refundable_support</th>\n",
       "      <th>nonrefundable_support</th>\n",
       "      <th>budget</th>\n",
       "      <th>ratings</th>\n",
       "      <th>box_office</th>\n",
       "      <th>show_start_year</th>\n",
       "      <th>ratio_help_to_budget</th>\n",
       "      <th>total_support</th>\n",
       "      <th>payback</th>\n",
       "    </tr>\n",
       "  </thead>\n",
       "  <tbody>\n",
       "    <tr>\n",
       "      <th>puNumber</th>\n",
       "      <td>1.000</td>\n",
       "      <td>0.007</td>\n",
       "      <td>-0.031</td>\n",
       "      <td>-0.019</td>\n",
       "      <td>0.039</td>\n",
       "      <td>0.045</td>\n",
       "      <td>-0.028</td>\n",
       "      <td>0.013</td>\n",
       "      <td>-0.023</td>\n",
       "      <td>-0.013</td>\n",
       "    </tr>\n",
       "    <tr>\n",
       "      <th>refundable_support</th>\n",
       "      <td>0.007</td>\n",
       "      <td>1.000</td>\n",
       "      <td>0.361</td>\n",
       "      <td>0.655</td>\n",
       "      <td>0.012</td>\n",
       "      <td>0.308</td>\n",
       "      <td>0.064</td>\n",
       "      <td>0.009</td>\n",
       "      <td>0.640</td>\n",
       "      <td>-0.046</td>\n",
       "    </tr>\n",
       "    <tr>\n",
       "      <th>nonrefundable_support</th>\n",
       "      <td>-0.031</td>\n",
       "      <td>0.361</td>\n",
       "      <td>1.000</td>\n",
       "      <td>0.619</td>\n",
       "      <td>0.145</td>\n",
       "      <td>0.457</td>\n",
       "      <td>0.107</td>\n",
       "      <td>0.139</td>\n",
       "      <td>0.948</td>\n",
       "      <td>0.141</td>\n",
       "    </tr>\n",
       "    <tr>\n",
       "      <th>budget</th>\n",
       "      <td>-0.019</td>\n",
       "      <td>0.655</td>\n",
       "      <td>0.619</td>\n",
       "      <td>1.000</td>\n",
       "      <td>0.104</td>\n",
       "      <td>0.373</td>\n",
       "      <td>0.156</td>\n",
       "      <td>-0.281</td>\n",
       "      <td>0.735</td>\n",
       "      <td>-0.189</td>\n",
       "    </tr>\n",
       "    <tr>\n",
       "      <th>ratings</th>\n",
       "      <td>0.039</td>\n",
       "      <td>0.012</td>\n",
       "      <td>0.145</td>\n",
       "      <td>0.104</td>\n",
       "      <td>1.000</td>\n",
       "      <td>0.161</td>\n",
       "      <td>0.061</td>\n",
       "      <td>-0.051</td>\n",
       "      <td>0.123</td>\n",
       "      <td>0.100</td>\n",
       "    </tr>\n",
       "    <tr>\n",
       "      <th>box_office</th>\n",
       "      <td>0.045</td>\n",
       "      <td>0.308</td>\n",
       "      <td>0.457</td>\n",
       "      <td>0.373</td>\n",
       "      <td>0.161</td>\n",
       "      <td>1.000</td>\n",
       "      <td>0.106</td>\n",
       "      <td>-0.080</td>\n",
       "      <td>0.489</td>\n",
       "      <td>0.841</td>\n",
       "    </tr>\n",
       "    <tr>\n",
       "      <th>show_start_year</th>\n",
       "      <td>-0.028</td>\n",
       "      <td>0.064</td>\n",
       "      <td>0.107</td>\n",
       "      <td>0.156</td>\n",
       "      <td>0.061</td>\n",
       "      <td>0.106</td>\n",
       "      <td>1.000</td>\n",
       "      <td>-0.106</td>\n",
       "      <td>0.110</td>\n",
       "      <td>0.018</td>\n",
       "    </tr>\n",
       "    <tr>\n",
       "      <th>ratio_help_to_budget</th>\n",
       "      <td>0.013</td>\n",
       "      <td>0.009</td>\n",
       "      <td>0.139</td>\n",
       "      <td>-0.281</td>\n",
       "      <td>-0.051</td>\n",
       "      <td>-0.080</td>\n",
       "      <td>-0.106</td>\n",
       "      <td>1.000</td>\n",
       "      <td>0.117</td>\n",
       "      <td>0.089</td>\n",
       "    </tr>\n",
       "    <tr>\n",
       "      <th>total_support</th>\n",
       "      <td>-0.023</td>\n",
       "      <td>0.640</td>\n",
       "      <td>0.948</td>\n",
       "      <td>0.735</td>\n",
       "      <td>0.123</td>\n",
       "      <td>0.489</td>\n",
       "      <td>0.110</td>\n",
       "      <td>0.117</td>\n",
       "      <td>1.000</td>\n",
       "      <td>0.101</td>\n",
       "    </tr>\n",
       "    <tr>\n",
       "      <th>payback</th>\n",
       "      <td>-0.013</td>\n",
       "      <td>-0.046</td>\n",
       "      <td>0.141</td>\n",
       "      <td>-0.189</td>\n",
       "      <td>0.100</td>\n",
       "      <td>0.841</td>\n",
       "      <td>0.018</td>\n",
       "      <td>0.089</td>\n",
       "      <td>0.101</td>\n",
       "      <td>1.000</td>\n",
       "    </tr>\n",
       "  </tbody>\n",
       "</table>\n",
       "</div>"
      ],
      "text/plain": [
       "                       puNumber  refundable_support  nonrefundable_support  \\\n",
       "puNumber                  1.000               0.007                 -0.031   \n",
       "refundable_support        0.007               1.000                  0.361   \n",
       "nonrefundable_support    -0.031               0.361                  1.000   \n",
       "budget                   -0.019               0.655                  0.619   \n",
       "ratings                   0.039               0.012                  0.145   \n",
       "box_office                0.045               0.308                  0.457   \n",
       "show_start_year          -0.028               0.064                  0.107   \n",
       "ratio_help_to_budget      0.013               0.009                  0.139   \n",
       "total_support            -0.023               0.640                  0.948   \n",
       "payback                  -0.013              -0.046                  0.141   \n",
       "\n",
       "                       budget  ratings  box_office  show_start_year  \\\n",
       "puNumber               -0.019    0.039       0.045           -0.028   \n",
       "refundable_support      0.655    0.012       0.308            0.064   \n",
       "nonrefundable_support   0.619    0.145       0.457            0.107   \n",
       "budget                  1.000    0.104       0.373            0.156   \n",
       "ratings                 0.104    1.000       0.161            0.061   \n",
       "box_office              0.373    0.161       1.000            0.106   \n",
       "show_start_year         0.156    0.061       0.106            1.000   \n",
       "ratio_help_to_budget   -0.281   -0.051      -0.080           -0.106   \n",
       "total_support           0.735    0.123       0.489            0.110   \n",
       "payback                -0.189    0.100       0.841            0.018   \n",
       "\n",
       "                       ratio_help_to_budget  total_support  payback  \n",
       "puNumber                              0.013         -0.023   -0.013  \n",
       "refundable_support                    0.009          0.640   -0.046  \n",
       "nonrefundable_support                 0.139          0.948    0.141  \n",
       "budget                               -0.281          0.735   -0.189  \n",
       "ratings                              -0.051          0.123    0.100  \n",
       "box_office                           -0.080          0.489    0.841  \n",
       "show_start_year                      -0.106          0.110    0.018  \n",
       "ratio_help_to_budget                  1.000          0.117    0.089  \n",
       "total_support                         0.117          1.000    0.101  \n",
       "payback                               0.089          0.101    1.000  "
      ]
     },
     "execution_count": 93,
     "metadata": {},
     "output_type": "execute_result"
    }
   ],
   "source": [
    "t.corr()"
   ]
  },
  {
   "cell_type": "code",
   "execution_count": 94,
   "metadata": {},
   "outputs": [
    {
     "data": {
      "image/png": "[encoded data removed]",
      "text/plain": [
       "<Figure size 432x288 with 2 Axes>"
      ]
     },
     "metadata": {
      "needs_background": "light"
     },
     "output_type": "display_data"
    }
   ],
   "source": [
    "sns.heatmap(\n",
    "    t.corr(), annot = True, vmin=-1, vmax=1,\n",
    "    center= 0, cmap= 'coolwarm', linewidths=3, linecolor='black',\n",
    ");"
   ]
  },
  {
   "cell_type": "markdown",
   "metadata": {},
   "source": [
    "По табличке корреляции можно увидеть, что с поддержкой растет и бюджет (\"очевидно же\"). А вот на рейтинг сумма поддержки особо не влияет."
   ]
  },
  {
   "cell_type": "markdown",
   "metadata": {},
   "source": [
    "Еще можно построить диаграмму рассеяния в зависимости суммы поддержки от рейтинга."
   ]
  },
  {
   "cell_type": "code",
   "execution_count": 95,
   "metadata": {},
   "outputs": [
    {
     "data": {
      "image/png": "[encoded data removed]",
      "text/plain": [
       "<Figure size 432x432 with 3 Axes>"
      ]
     },
     "metadata": {
      "needs_background": "light"
     },
     "output_type": "display_data"
    }
   ],
   "source": [
    "sns.jointplot(data=t, x='total_support', y='ratings', kind='scatter');"
   ]
  },
  {
   "cell_type": "code",
   "execution_count": 96,
   "metadata": {},
   "outputs": [
    {
     "data": {
      "image/png": "[encoded data removed]",
      "text/plain": [
       "<Figure size 432x432 with 3 Axes>"
      ]
     },
     "metadata": {
      "needs_background": "light"
     },
     "output_type": "display_data"
    }
   ],
   "source": [
    "sns.jointplot(data=t, x='total_support', y='ratings', kind='hist');"
   ]
  },
  {
   "cell_type": "markdown",
   "metadata": {},
   "source": [
    "В выборке преобладают картины с поддержкой до 100 млн рублей. И, в среднем, видим, что хотя бы картины с суммой поддержки больше 200 млн рублей не опускаются в рейтинге ниже 5 баллов (достижение фонда кино). Но и среди самых дорогих фильмов нет тех, которые бы были оценены больше 8 баллов."
   ]
  },
  {
   "cell_type": "markdown",
   "metadata": {},
   "source": [
    "Такую же диаграмму можно сделать и в зависимости от окупаемости"
   ]
  },
  {
   "cell_type": "code",
   "execution_count": 97,
   "metadata": {},
   "outputs": [
    {
     "data": {
      "image/png": "[encoded data removed]",
      "text/plain": [
       "<Figure size 432x432 with 3 Axes>"
      ]
     },
     "metadata": {
      "needs_background": "light"
     },
     "output_type": "display_data"
    }
   ],
   "source": [
    "sns.jointplot(data=t, x='total_support', y='payback', kind='scatter');\n",
    "plt.ylim(-1000000000, 1000000000);"
   ]
  },
  {
   "cell_type": "code",
   "execution_count": 98,
   "metadata": {},
   "outputs": [
    {
     "data": {
      "image/png": "[encoded data removed]",
      "text/plain": [
       "<Figure size 432x432 with 3 Axes>"
      ]
     },
     "metadata": {
      "needs_background": "light"
     },
     "output_type": "display_data"
    }
   ],
   "source": [
    "sns.jointplot(data=t, x='total_support', y='payback', kind='hist');\n",
    "plt.ylim(-1000000000, 1000000000);"
   ]
  },
  {
   "cell_type": "markdown",
   "metadata": {},
   "source": [
    "По этим графикам видим, что большая часть картин все же не окупается."
   ]
  },
  {
   "cell_type": "markdown",
   "metadata": {},
   "source": [
    "Еще можем посмотреть, какие жанры фильмов больше всего поддерживаются, и, какие с самый высокой средней оценкой."
   ]
  },
  {
   "cell_type": "code",
   "execution_count": 99,
   "metadata": {},
   "outputs": [],
   "source": [
    "table = t.groupby('genre_first')[['total_support', 'ratings']].agg(['count', 'sum', 'mean','median'])"
   ]
  },
  {
   "cell_type": "code",
   "execution_count": 100,
   "metadata": {},
   "outputs": [],
   "source": [
    "table.columns = ['_'.join(col).strip() for col in table.columns.values]"
   ]
  },
  {
   "cell_type": "markdown",
   "metadata": {},
   "source": [
    "Возьмем топ-10 по кол-ву картин"
   ]
  },
  {
   "cell_type": "code",
   "execution_count": 101,
   "metadata": {},
   "outputs": [],
   "source": [
    "table = table.sort_values(by='total_support_count', ascending=False).head(10)"
   ]
  },
  {
   "cell_type": "code",
   "execution_count": 102,
   "metadata": {},
   "outputs": [
    {
     "data": {
      "text/html": [
       "<div>\n",
       "<style scoped>\n",
       "    .dataframe tbody tr th:only-of-type {\n",
       "        vertical-align: middle;\n",
       "    }\n",
       "\n",
       "    .dataframe tbody tr th {\n",
       "        vertical-align: top;\n",
       "    }\n",
       "\n",
       "    .dataframe thead th {\n",
       "        text-align: right;\n",
       "    }\n",
       "</style>\n",
       "<table border=\"1\" class=\"dataframe\">\n",
       "  <thead>\n",
       "    <tr style=\"text-align: right;\">\n",
       "      <th></th>\n",
       "      <th>total_support_count</th>\n",
       "      <th>total_support_sum</th>\n",
       "      <th>total_support_mean</th>\n",
       "      <th>total_support_median</th>\n",
       "      <th>ratings_count</th>\n",
       "      <th>ratings_sum</th>\n",
       "      <th>ratings_mean</th>\n",
       "      <th>ratings_median</th>\n",
       "    </tr>\n",
       "    <tr>\n",
       "      <th>genre_first</th>\n",
       "      <th></th>\n",
       "      <th></th>\n",
       "      <th></th>\n",
       "      <th></th>\n",
       "      <th></th>\n",
       "      <th></th>\n",
       "      <th></th>\n",
       "      <th></th>\n",
       "    </tr>\n",
       "  </thead>\n",
       "  <tbody>\n",
       "    <tr>\n",
       "      <th>драма</th>\n",
       "      <td>85</td>\n",
       "      <td>5018904333.000</td>\n",
       "      <td>59045933.329</td>\n",
       "      <td>30000000.000</td>\n",
       "      <td>84</td>\n",
       "      <td>536.800</td>\n",
       "      <td>6.390</td>\n",
       "      <td>6.450</td>\n",
       "    </tr>\n",
       "    <tr>\n",
       "      <th>комедия</th>\n",
       "      <td>71</td>\n",
       "      <td>3052435000.000</td>\n",
       "      <td>42992042.254</td>\n",
       "      <td>35000000.000</td>\n",
       "      <td>71</td>\n",
       "      <td>391.100</td>\n",
       "      <td>5.508</td>\n",
       "      <td>5.800</td>\n",
       "    </tr>\n",
       "    <tr>\n",
       "      <th>мультфильм</th>\n",
       "      <td>30</td>\n",
       "      <td>2391520000.000</td>\n",
       "      <td>79717333.333</td>\n",
       "      <td>65000000.000</td>\n",
       "      <td>30</td>\n",
       "      <td>173.300</td>\n",
       "      <td>5.777</td>\n",
       "      <td>6.150</td>\n",
       "    </tr>\n",
       "    <tr>\n",
       "      <th>триллер</th>\n",
       "      <td>15</td>\n",
       "      <td>769645285.000</td>\n",
       "      <td>51309685.667</td>\n",
       "      <td>40000000.000</td>\n",
       "      <td>15</td>\n",
       "      <td>85.600</td>\n",
       "      <td>5.707</td>\n",
       "      <td>5.600</td>\n",
       "    </tr>\n",
       "    <tr>\n",
       "      <th>мелодрама</th>\n",
       "      <td>13</td>\n",
       "      <td>350000000.000</td>\n",
       "      <td>26923076.923</td>\n",
       "      <td>28000000.000</td>\n",
       "      <td>13</td>\n",
       "      <td>75.900</td>\n",
       "      <td>5.838</td>\n",
       "      <td>5.900</td>\n",
       "    </tr>\n",
       "    <tr>\n",
       "      <th>фэнтези</th>\n",
       "      <td>11</td>\n",
       "      <td>1032900000.000</td>\n",
       "      <td>93900000.000</td>\n",
       "      <td>34000000.000</td>\n",
       "      <td>11</td>\n",
       "      <td>67.000</td>\n",
       "      <td>6.091</td>\n",
       "      <td>6.800</td>\n",
       "    </tr>\n",
       "    <tr>\n",
       "      <th>ужасы</th>\n",
       "      <td>10</td>\n",
       "      <td>355000000.000</td>\n",
       "      <td>35500000.000</td>\n",
       "      <td>30000000.000</td>\n",
       "      <td>10</td>\n",
       "      <td>52.000</td>\n",
       "      <td>5.200</td>\n",
       "      <td>5.100</td>\n",
       "    </tr>\n",
       "    <tr>\n",
       "      <th>фантастика</th>\n",
       "      <td>10</td>\n",
       "      <td>1381000000.000</td>\n",
       "      <td>138100000.000</td>\n",
       "      <td>85000000.000</td>\n",
       "      <td>9</td>\n",
       "      <td>51.600</td>\n",
       "      <td>5.733</td>\n",
       "      <td>5.700</td>\n",
       "    </tr>\n",
       "    <tr>\n",
       "      <th>военный</th>\n",
       "      <td>9</td>\n",
       "      <td>422000866.000</td>\n",
       "      <td>46888985.111</td>\n",
       "      <td>45000000.000</td>\n",
       "      <td>9</td>\n",
       "      <td>58.200</td>\n",
       "      <td>6.467</td>\n",
       "      <td>6.400</td>\n",
       "    </tr>\n",
       "    <tr>\n",
       "      <th>приключения</th>\n",
       "      <td>7</td>\n",
       "      <td>696000000.000</td>\n",
       "      <td>99428571.429</td>\n",
       "      <td>40000000.000</td>\n",
       "      <td>7</td>\n",
       "      <td>41.100</td>\n",
       "      <td>5.871</td>\n",
       "      <td>5.700</td>\n",
       "    </tr>\n",
       "  </tbody>\n",
       "</table>\n",
       "</div>"
      ],
      "text/plain": [
       "             total_support_count  total_support_sum  total_support_mean  \\\n",
       "genre_first                                                               \n",
       "драма                         85     5018904333.000        59045933.329   \n",
       "комедия                       71     3052435000.000        42992042.254   \n",
       "мультфильм                    30     2391520000.000        79717333.333   \n",
       "триллер                       15      769645285.000        51309685.667   \n",
       "мелодрама                     13      350000000.000        26923076.923   \n",
       "фэнтези                       11     1032900000.000        93900000.000   \n",
       "ужасы                         10      355000000.000        35500000.000   \n",
       "фантастика                    10     1381000000.000       138100000.000   \n",
       "военный                        9      422000866.000        46888985.111   \n",
       "приключения                    7      696000000.000        99428571.429   \n",
       "\n",
       "             total_support_median  ratings_count  ratings_sum  ratings_mean  \\\n",
       "genre_first                                                                   \n",
       "драма                30000000.000             84      536.800         6.390   \n",
       "комедия              35000000.000             71      391.100         5.508   \n",
       "мультфильм           65000000.000             30      173.300         5.777   \n",
       "триллер              40000000.000             15       85.600         5.707   \n",
       "мелодрама            28000000.000             13       75.900         5.838   \n",
       "фэнтези              34000000.000             11       67.000         6.091   \n",
       "ужасы                30000000.000             10       52.000         5.200   \n",
       "фантастика           85000000.000              9       51.600         5.733   \n",
       "военный              45000000.000              9       58.200         6.467   \n",
       "приключения          40000000.000              7       41.100         5.871   \n",
       "\n",
       "             ratings_median  \n",
       "genre_first                  \n",
       "драма                 6.450  \n",
       "комедия               5.800  \n",
       "мультфильм            6.150  \n",
       "триллер               5.600  \n",
       "мелодрама             5.900  \n",
       "фэнтези               6.800  \n",
       "ужасы                 5.100  \n",
       "фантастика            5.700  \n",
       "военный               6.400  \n",
       "приключения           5.700  "
      ]
     },
     "execution_count": 102,
     "metadata": {},
     "output_type": "execute_result"
    }
   ],
   "source": [
    "table"
   ]
  },
  {
   "cell_type": "markdown",
   "metadata": {},
   "source": [
    "В топ-3 по сумме финансирования вошли: драма, комедия, мультфильм. Из этих трех лучшие оценки у драм, средняя оценка - 6.4, что считается по меркам \"Кинопоиска\" - \"на троечку\"."
   ]
  },
  {
   "cell_type": "code",
   "execution_count": 103,
   "metadata": {},
   "outputs": [],
   "source": [
    "new_table = t.groupby('genre_first')['total_support'].agg(['count', 'mean', 'median']).reset_index(\n",
    ").sort_values(by='count', ascending=False).head(10)"
   ]
  },
  {
   "cell_type": "code",
   "execution_count": 104,
   "metadata": {},
   "outputs": [
    {
     "data": {
      "text/html": [
       "<div>\n",
       "<style scoped>\n",
       "    .dataframe tbody tr th:only-of-type {\n",
       "        vertical-align: middle;\n",
       "    }\n",
       "\n",
       "    .dataframe tbody tr th {\n",
       "        vertical-align: top;\n",
       "    }\n",
       "\n",
       "    .dataframe thead th {\n",
       "        text-align: right;\n",
       "    }\n",
       "</style>\n",
       "<table border=\"1\" class=\"dataframe\">\n",
       "  <thead>\n",
       "    <tr style=\"text-align: right;\">\n",
       "      <th></th>\n",
       "      <th>genre_first</th>\n",
       "      <th>count</th>\n",
       "      <th>mean</th>\n",
       "      <th>median</th>\n",
       "    </tr>\n",
       "  </thead>\n",
       "  <tbody>\n",
       "    <tr>\n",
       "      <th>18</th>\n",
       "      <td>фантастика</td>\n",
       "      <td>10</td>\n",
       "      <td>138100000.000</td>\n",
       "      <td>85000000.000</td>\n",
       "    </tr>\n",
       "    <tr>\n",
       "      <th>12</th>\n",
       "      <td>приключения</td>\n",
       "      <td>7</td>\n",
       "      <td>99428571.429</td>\n",
       "      <td>40000000.000</td>\n",
       "    </tr>\n",
       "    <tr>\n",
       "      <th>19</th>\n",
       "      <td>фэнтези</td>\n",
       "      <td>11</td>\n",
       "      <td>93900000.000</td>\n",
       "      <td>34000000.000</td>\n",
       "    </tr>\n",
       "    <tr>\n",
       "      <th>10</th>\n",
       "      <td>мультфильм</td>\n",
       "      <td>30</td>\n",
       "      <td>79717333.333</td>\n",
       "      <td>65000000.000</td>\n",
       "    </tr>\n",
       "    <tr>\n",
       "      <th>5</th>\n",
       "      <td>драма</td>\n",
       "      <td>85</td>\n",
       "      <td>59045933.329</td>\n",
       "      <td>30000000.000</td>\n",
       "    </tr>\n",
       "    <tr>\n",
       "      <th>16</th>\n",
       "      <td>триллер</td>\n",
       "      <td>15</td>\n",
       "      <td>51309685.667</td>\n",
       "      <td>40000000.000</td>\n",
       "    </tr>\n",
       "    <tr>\n",
       "      <th>2</th>\n",
       "      <td>военный</td>\n",
       "      <td>9</td>\n",
       "      <td>46888985.111</td>\n",
       "      <td>45000000.000</td>\n",
       "    </tr>\n",
       "    <tr>\n",
       "      <th>7</th>\n",
       "      <td>комедия</td>\n",
       "      <td>71</td>\n",
       "      <td>42992042.254</td>\n",
       "      <td>35000000.000</td>\n",
       "    </tr>\n",
       "    <tr>\n",
       "      <th>17</th>\n",
       "      <td>ужасы</td>\n",
       "      <td>10</td>\n",
       "      <td>35500000.000</td>\n",
       "      <td>30000000.000</td>\n",
       "    </tr>\n",
       "    <tr>\n",
       "      <th>9</th>\n",
       "      <td>мелодрама</td>\n",
       "      <td>13</td>\n",
       "      <td>26923076.923</td>\n",
       "      <td>28000000.000</td>\n",
       "    </tr>\n",
       "  </tbody>\n",
       "</table>\n",
       "</div>"
      ],
      "text/plain": [
       "    genre_first  count          mean       median\n",
       "18   фантастика     10 138100000.000 85000000.000\n",
       "12  приключения      7  99428571.429 40000000.000\n",
       "19      фэнтези     11  93900000.000 34000000.000\n",
       "10   мультфильм     30  79717333.333 65000000.000\n",
       "5         драма     85  59045933.329 30000000.000\n",
       "16      триллер     15  51309685.667 40000000.000\n",
       "2       военный      9  46888985.111 45000000.000\n",
       "7       комедия     71  42992042.254 35000000.000\n",
       "17        ужасы     10  35500000.000 30000000.000\n",
       "9     мелодрама     13  26923076.923 28000000.000"
      ]
     },
     "execution_count": 104,
     "metadata": {},
     "output_type": "execute_result"
    }
   ],
   "source": [
    "new_table.sort_values(by='mean', ascending=False)"
   ]
  },
  {
   "cell_type": "code",
   "execution_count": 105,
   "metadata": {},
   "outputs": [
    {
     "data": {
      "text/html": [
       "<div>\n",
       "<style scoped>\n",
       "    .dataframe tbody tr th:only-of-type {\n",
       "        vertical-align: middle;\n",
       "    }\n",
       "\n",
       "    .dataframe tbody tr th {\n",
       "        vertical-align: top;\n",
       "    }\n",
       "\n",
       "    .dataframe thead th {\n",
       "        text-align: right;\n",
       "    }\n",
       "</style>\n",
       "<table border=\"1\" class=\"dataframe\">\n",
       "  <thead>\n",
       "    <tr style=\"text-align: right;\">\n",
       "      <th></th>\n",
       "      <th>genre_first</th>\n",
       "      <th>count</th>\n",
       "      <th>mean</th>\n",
       "      <th>median</th>\n",
       "    </tr>\n",
       "  </thead>\n",
       "  <tbody>\n",
       "    <tr>\n",
       "      <th>18</th>\n",
       "      <td>фантастика</td>\n",
       "      <td>10</td>\n",
       "      <td>138100000.000</td>\n",
       "      <td>85000000.000</td>\n",
       "    </tr>\n",
       "    <tr>\n",
       "      <th>10</th>\n",
       "      <td>мультфильм</td>\n",
       "      <td>30</td>\n",
       "      <td>79717333.333</td>\n",
       "      <td>65000000.000</td>\n",
       "    </tr>\n",
       "    <tr>\n",
       "      <th>2</th>\n",
       "      <td>военный</td>\n",
       "      <td>9</td>\n",
       "      <td>46888985.111</td>\n",
       "      <td>45000000.000</td>\n",
       "    </tr>\n",
       "    <tr>\n",
       "      <th>16</th>\n",
       "      <td>триллер</td>\n",
       "      <td>15</td>\n",
       "      <td>51309685.667</td>\n",
       "      <td>40000000.000</td>\n",
       "    </tr>\n",
       "    <tr>\n",
       "      <th>12</th>\n",
       "      <td>приключения</td>\n",
       "      <td>7</td>\n",
       "      <td>99428571.429</td>\n",
       "      <td>40000000.000</td>\n",
       "    </tr>\n",
       "    <tr>\n",
       "      <th>7</th>\n",
       "      <td>комедия</td>\n",
       "      <td>71</td>\n",
       "      <td>42992042.254</td>\n",
       "      <td>35000000.000</td>\n",
       "    </tr>\n",
       "    <tr>\n",
       "      <th>19</th>\n",
       "      <td>фэнтези</td>\n",
       "      <td>11</td>\n",
       "      <td>93900000.000</td>\n",
       "      <td>34000000.000</td>\n",
       "    </tr>\n",
       "    <tr>\n",
       "      <th>5</th>\n",
       "      <td>драма</td>\n",
       "      <td>85</td>\n",
       "      <td>59045933.329</td>\n",
       "      <td>30000000.000</td>\n",
       "    </tr>\n",
       "    <tr>\n",
       "      <th>17</th>\n",
       "      <td>ужасы</td>\n",
       "      <td>10</td>\n",
       "      <td>35500000.000</td>\n",
       "      <td>30000000.000</td>\n",
       "    </tr>\n",
       "    <tr>\n",
       "      <th>9</th>\n",
       "      <td>мелодрама</td>\n",
       "      <td>13</td>\n",
       "      <td>26923076.923</td>\n",
       "      <td>28000000.000</td>\n",
       "    </tr>\n",
       "  </tbody>\n",
       "</table>\n",
       "</div>"
      ],
      "text/plain": [
       "    genre_first  count          mean       median\n",
       "18   фантастика     10 138100000.000 85000000.000\n",
       "10   мультфильм     30  79717333.333 65000000.000\n",
       "2       военный      9  46888985.111 45000000.000\n",
       "16      триллер     15  51309685.667 40000000.000\n",
       "12  приключения      7  99428571.429 40000000.000\n",
       "7       комедия     71  42992042.254 35000000.000\n",
       "19      фэнтези     11  93900000.000 34000000.000\n",
       "5         драма     85  59045933.329 30000000.000\n",
       "17        ужасы     10  35500000.000 30000000.000\n",
       "9     мелодрама     13  26923076.923 28000000.000"
      ]
     },
     "execution_count": 105,
     "metadata": {},
     "output_type": "execute_result"
    }
   ],
   "source": [
    "new_table.sort_values(by='median', ascending=False)"
   ]
  },
  {
   "cell_type": "code",
   "execution_count": 106,
   "metadata": {},
   "outputs": [
    {
     "name": "stderr",
     "output_type": "stream",
     "text": [
      "/tmp/ipykernel_96/3113694131.py:1: FutureWarning: Indexing with multiple keys (implicitly converted to a tuple of keys) will be deprecated, use a list instead.\n",
      "  table = t.groupby('director_first')['total_support', 'payback', 'ratings'].agg(['count', 'sum', 'mean','median'])\n"
     ]
    }
   ],
   "source": [
    "table = t.groupby('director_first')['total_support', 'payback', 'ratings'].agg(['count', 'sum', 'mean','median'])"
   ]
  },
  {
   "cell_type": "code",
   "execution_count": 107,
   "metadata": {},
   "outputs": [],
   "source": [
    "table.columns = ['_'.join(col).strip() for col in table.columns.values]\n"
   ]
  },
  {
   "cell_type": "code",
   "execution_count": 108,
   "metadata": {},
   "outputs": [
    {
     "data": {
      "text/html": [
       "<div>\n",
       "<style scoped>\n",
       "    .dataframe tbody tr th:only-of-type {\n",
       "        vertical-align: middle;\n",
       "    }\n",
       "\n",
       "    .dataframe tbody tr th {\n",
       "        vertical-align: top;\n",
       "    }\n",
       "\n",
       "    .dataframe thead th {\n",
       "        text-align: right;\n",
       "    }\n",
       "</style>\n",
       "<table border=\"1\" class=\"dataframe\">\n",
       "  <thead>\n",
       "    <tr style=\"text-align: right;\">\n",
       "      <th></th>\n",
       "      <th>total_support_count</th>\n",
       "      <th>total_support_sum</th>\n",
       "      <th>total_support_mean</th>\n",
       "      <th>total_support_median</th>\n",
       "      <th>payback_count</th>\n",
       "      <th>payback_sum</th>\n",
       "      <th>payback_mean</th>\n",
       "      <th>payback_median</th>\n",
       "      <th>ratings_count</th>\n",
       "      <th>ratings_sum</th>\n",
       "      <th>ratings_mean</th>\n",
       "      <th>ratings_median</th>\n",
       "    </tr>\n",
       "    <tr>\n",
       "      <th>director_first</th>\n",
       "      <th></th>\n",
       "      <th></th>\n",
       "      <th></th>\n",
       "      <th></th>\n",
       "      <th></th>\n",
       "      <th></th>\n",
       "      <th></th>\n",
       "      <th></th>\n",
       "      <th></th>\n",
       "      <th></th>\n",
       "      <th></th>\n",
       "      <th></th>\n",
       "    </tr>\n",
       "  </thead>\n",
       "  <tbody>\n",
       "    <tr>\n",
       "      <th>Ф.Бондарчук</th>\n",
       "      <td>2</td>\n",
       "      <td>750000000.000</td>\n",
       "      <td>375000000.000</td>\n",
       "      <td>375000000.000</td>\n",
       "      <td>1</td>\n",
       "      <td>788321489.000</td>\n",
       "      <td>788321489.000</td>\n",
       "      <td>788321489.000</td>\n",
       "      <td>2</td>\n",
       "      <td>11.300</td>\n",
       "      <td>5.650</td>\n",
       "      <td>5.650</td>\n",
       "    </tr>\n",
       "    <tr>\n",
       "      <th>Н.Хомерики</th>\n",
       "      <td>3</td>\n",
       "      <td>660000000.000</td>\n",
       "      <td>220000000.000</td>\n",
       "      <td>300000000.000</td>\n",
       "      <td>3</td>\n",
       "      <td>-325561715.770</td>\n",
       "      <td>-108520571.923</td>\n",
       "      <td>-92930337.200</td>\n",
       "      <td>3</td>\n",
       "      <td>18.100</td>\n",
       "      <td>6.033</td>\n",
       "      <td>5.800</td>\n",
       "    </tr>\n",
       "    <tr>\n",
       "      <th>А.Кравчук</th>\n",
       "      <td>1</td>\n",
       "      <td>500000000.000</td>\n",
       "      <td>500000000.000</td>\n",
       "      <td>500000000.000</td>\n",
       "      <td>1</td>\n",
       "      <td>-262296814.470</td>\n",
       "      <td>-262296814.470</td>\n",
       "      <td>-262296814.470</td>\n",
       "      <td>1</td>\n",
       "      <td>6.000</td>\n",
       "      <td>6.000</td>\n",
       "      <td>6.000</td>\n",
       "    </tr>\n",
       "    <tr>\n",
       "      <th>А.Мизгирев</th>\n",
       "      <td>1</td>\n",
       "      <td>450000000.000</td>\n",
       "      <td>450000000.000</td>\n",
       "      <td>450000000.000</td>\n",
       "      <td>1</td>\n",
       "      <td>-319915396.400</td>\n",
       "      <td>-319915396.400</td>\n",
       "      <td>-319915396.400</td>\n",
       "      <td>1</td>\n",
       "      <td>6.600</td>\n",
       "      <td>6.600</td>\n",
       "      <td>6.600</td>\n",
       "    </tr>\n",
       "    <tr>\n",
       "      <th>Н.Лебедев</th>\n",
       "      <td>1</td>\n",
       "      <td>442104482.000</td>\n",
       "      <td>442104482.000</td>\n",
       "      <td>442104482.000</td>\n",
       "      <td>1</td>\n",
       "      <td>766971523.000</td>\n",
       "      <td>766971523.000</td>\n",
       "      <td>766971523.000</td>\n",
       "      <td>1</td>\n",
       "      <td>7.600</td>\n",
       "      <td>7.600</td>\n",
       "      <td>7.600</td>\n",
       "    </tr>\n",
       "    <tr>\n",
       "      <th>А.Мегердичев</th>\n",
       "      <td>1</td>\n",
       "      <td>400000000.000</td>\n",
       "      <td>400000000.000</td>\n",
       "      <td>400000000.000</td>\n",
       "      <td>1</td>\n",
       "      <td>2189493953.000</td>\n",
       "      <td>2189493953.000</td>\n",
       "      <td>2189493953.000</td>\n",
       "      <td>1</td>\n",
       "      <td>7.500</td>\n",
       "      <td>7.500</td>\n",
       "      <td>7.500</td>\n",
       "    </tr>\n",
       "    <tr>\n",
       "      <th>Р.Давлетьяров</th>\n",
       "      <td>4</td>\n",
       "      <td>352000000.000</td>\n",
       "      <td>88000000.000</td>\n",
       "      <td>86000000.000</td>\n",
       "      <td>4</td>\n",
       "      <td>-315100846.060</td>\n",
       "      <td>-78775211.515</td>\n",
       "      <td>-100033476.030</td>\n",
       "      <td>4</td>\n",
       "      <td>28.600</td>\n",
       "      <td>7.150</td>\n",
       "      <td>7.100</td>\n",
       "    </tr>\n",
       "    <tr>\n",
       "      <th>Д.Дьяченко</th>\n",
       "      <td>4</td>\n",
       "      <td>351000000.000</td>\n",
       "      <td>87750000.000</td>\n",
       "      <td>83000000.000</td>\n",
       "      <td>4</td>\n",
       "      <td>1624203322.120</td>\n",
       "      <td>406050830.530</td>\n",
       "      <td>154837534.750</td>\n",
       "      <td>4</td>\n",
       "      <td>22.600</td>\n",
       "      <td>5.650</td>\n",
       "      <td>5.450</td>\n",
       "    </tr>\n",
       "    <tr>\n",
       "      <th>И.Шурховецкий</th>\n",
       "      <td>1</td>\n",
       "      <td>350000000.000</td>\n",
       "      <td>350000000.000</td>\n",
       "      <td>350000000.000</td>\n",
       "      <td>1</td>\n",
       "      <td>90392336.000</td>\n",
       "      <td>90392336.000</td>\n",
       "      <td>90392336.000</td>\n",
       "      <td>1</td>\n",
       "      <td>6.400</td>\n",
       "      <td>6.400</td>\n",
       "      <td>6.400</td>\n",
       "    </tr>\n",
       "    <tr>\n",
       "      <th>Д.Киселев</th>\n",
       "      <td>2</td>\n",
       "      <td>350000000.000</td>\n",
       "      <td>175000000.000</td>\n",
       "      <td>175000000.000</td>\n",
       "      <td>2</td>\n",
       "      <td>696959413.000</td>\n",
       "      <td>348479706.500</td>\n",
       "      <td>348479706.500</td>\n",
       "      <td>2</td>\n",
       "      <td>13.300</td>\n",
       "      <td>6.650</td>\n",
       "      <td>6.650</td>\n",
       "    </tr>\n",
       "  </tbody>\n",
       "</table>\n",
       "</div>"
      ],
      "text/plain": [
       "                total_support_count  total_support_sum  total_support_mean  \\\n",
       "director_first                                                               \n",
       "Ф.Бондарчук                       2      750000000.000       375000000.000   \n",
       "Н.Хомерики                        3      660000000.000       220000000.000   \n",
       "А.Кравчук                         1      500000000.000       500000000.000   \n",
       "А.Мизгирев                        1      450000000.000       450000000.000   \n",
       "Н.Лебедев                         1      442104482.000       442104482.000   \n",
       "А.Мегердичев                      1      400000000.000       400000000.000   \n",
       "Р.Давлетьяров                     4      352000000.000        88000000.000   \n",
       "Д.Дьяченко                        4      351000000.000        87750000.000   \n",
       "И.Шурховецкий                     1      350000000.000       350000000.000   \n",
       "Д.Киселев                         2      350000000.000       175000000.000   \n",
       "\n",
       "                total_support_median  payback_count    payback_sum  \\\n",
       "director_first                                                       \n",
       "Ф.Бондарчук            375000000.000              1  788321489.000   \n",
       "Н.Хомерики             300000000.000              3 -325561715.770   \n",
       "А.Кравчук              500000000.000              1 -262296814.470   \n",
       "А.Мизгирев             450000000.000              1 -319915396.400   \n",
       "Н.Лебедев              442104482.000              1  766971523.000   \n",
       "А.Мегердичев           400000000.000              1 2189493953.000   \n",
       "Р.Давлетьяров           86000000.000              4 -315100846.060   \n",
       "Д.Дьяченко              83000000.000              4 1624203322.120   \n",
       "И.Шурховецкий          350000000.000              1   90392336.000   \n",
       "Д.Киселев              175000000.000              2  696959413.000   \n",
       "\n",
       "                 payback_mean  payback_median  ratings_count  ratings_sum  \\\n",
       "director_first                                                              \n",
       "Ф.Бондарчук     788321489.000   788321489.000              2       11.300   \n",
       "Н.Хомерики     -108520571.923   -92930337.200              3       18.100   \n",
       "А.Кравчук      -262296814.470  -262296814.470              1        6.000   \n",
       "А.Мизгирев     -319915396.400  -319915396.400              1        6.600   \n",
       "Н.Лебедев       766971523.000   766971523.000              1        7.600   \n",
       "А.Мегердичев   2189493953.000  2189493953.000              1        7.500   \n",
       "Р.Давлетьяров   -78775211.515  -100033476.030              4       28.600   \n",
       "Д.Дьяченко      406050830.530   154837534.750              4       22.600   \n",
       "И.Шурховецкий    90392336.000    90392336.000              1        6.400   \n",
       "Д.Киселев       348479706.500   348479706.500              2       13.300   \n",
       "\n",
       "                ratings_mean  ratings_median  \n",
       "director_first                                \n",
       "Ф.Бондарчук            5.650           5.650  \n",
       "Н.Хомерики             6.033           5.800  \n",
       "А.Кравчук              6.000           6.000  \n",
       "А.Мизгирев             6.600           6.600  \n",
       "Н.Лебедев              7.600           7.600  \n",
       "А.Мегердичев           7.500           7.500  \n",
       "Р.Давлетьяров          7.150           7.100  \n",
       "Д.Дьяченко             5.650           5.450  \n",
       "И.Шурховецкий          6.400           6.400  \n",
       "Д.Киселев              6.650           6.650  "
      ]
     },
     "execution_count": 108,
     "metadata": {},
     "output_type": "execute_result"
    }
   ],
   "source": [
    "table.sort_values(by='total_support_sum', ascending=False).head(10)"
   ]
  },
  {
   "cell_type": "markdown",
   "metadata": {},
   "source": [
    "Больше всего поддержки получил Федор Бондарчук. При гос. поддержке он снял две кинокартины. Но данные о выручке есть только по одной. Это фильм \"Притяжение\". Чистая прибыль составила 788 млн рублей. Хотя рейтинг совсем не высокий - чуть меньше 6 балов. Второй по \"вливаниям\" гос. поддержки - Николай Хомерики. В целом, его картины сильно убыточны (может, из-за \"освоенного\" бюджета?), хотя, в среднем, рейтинг будет повыше, чем у фильмов Бондарчука. Но есть в этом списке особый претендент - это Николай Лебедев. Его фильм \"Экипаж\" и заработал денег, и имеет вполне хорошую оценку (7.6). Попробуем отсортировать теперь по выручке"
   ]
  },
  {
   "cell_type": "code",
   "execution_count": 109,
   "metadata": {},
   "outputs": [
    {
     "data": {
      "text/html": [
       "<div>\n",
       "<style scoped>\n",
       "    .dataframe tbody tr th:only-of-type {\n",
       "        vertical-align: middle;\n",
       "    }\n",
       "\n",
       "    .dataframe tbody tr th {\n",
       "        vertical-align: top;\n",
       "    }\n",
       "\n",
       "    .dataframe thead th {\n",
       "        text-align: right;\n",
       "    }\n",
       "</style>\n",
       "<table border=\"1\" class=\"dataframe\">\n",
       "  <thead>\n",
       "    <tr style=\"text-align: right;\">\n",
       "      <th></th>\n",
       "      <th>total_support_count</th>\n",
       "      <th>total_support_sum</th>\n",
       "      <th>total_support_mean</th>\n",
       "      <th>total_support_median</th>\n",
       "      <th>payback_count</th>\n",
       "      <th>payback_sum</th>\n",
       "      <th>payback_mean</th>\n",
       "      <th>payback_median</th>\n",
       "      <th>ratings_count</th>\n",
       "      <th>ratings_sum</th>\n",
       "      <th>ratings_mean</th>\n",
       "      <th>ratings_median</th>\n",
       "    </tr>\n",
       "    <tr>\n",
       "      <th>director_first</th>\n",
       "      <th></th>\n",
       "      <th></th>\n",
       "      <th></th>\n",
       "      <th></th>\n",
       "      <th></th>\n",
       "      <th></th>\n",
       "      <th></th>\n",
       "      <th></th>\n",
       "      <th></th>\n",
       "      <th></th>\n",
       "      <th></th>\n",
       "      <th></th>\n",
       "    </tr>\n",
       "  </thead>\n",
       "  <tbody>\n",
       "    <tr>\n",
       "      <th>К.Шипенко</th>\n",
       "      <td>2</td>\n",
       "      <td>285000000.000</td>\n",
       "      <td>142500000.000</td>\n",
       "      <td>142500000.000</td>\n",
       "      <td>2</td>\n",
       "      <td>3172514510.790</td>\n",
       "      <td>1586257255.395</td>\n",
       "      <td>1586257255.395</td>\n",
       "      <td>2</td>\n",
       "      <td>14.200</td>\n",
       "      <td>7.100</td>\n",
       "      <td>7.100</td>\n",
       "    </tr>\n",
       "    <tr>\n",
       "      <th>А.Мегердичев</th>\n",
       "      <td>1</td>\n",
       "      <td>400000000.000</td>\n",
       "      <td>400000000.000</td>\n",
       "      <td>400000000.000</td>\n",
       "      <td>1</td>\n",
       "      <td>2189493953.000</td>\n",
       "      <td>2189493953.000</td>\n",
       "      <td>2189493953.000</td>\n",
       "      <td>1</td>\n",
       "      <td>7.500</td>\n",
       "      <td>7.500</td>\n",
       "      <td>7.500</td>\n",
       "    </tr>\n",
       "    <tr>\n",
       "      <th>А.Сидоров</th>\n",
       "      <td>1</td>\n",
       "      <td>180000000.000</td>\n",
       "      <td>180000000.000</td>\n",
       "      <td>180000000.000</td>\n",
       "      <td>1</td>\n",
       "      <td>1707969287.520</td>\n",
       "      <td>1707969287.520</td>\n",
       "      <td>1707969287.520</td>\n",
       "      <td>1</td>\n",
       "      <td>6.500</td>\n",
       "      <td>6.500</td>\n",
       "      <td>6.500</td>\n",
       "    </tr>\n",
       "    <tr>\n",
       "      <th>Д.Дьяченко</th>\n",
       "      <td>4</td>\n",
       "      <td>351000000.000</td>\n",
       "      <td>87750000.000</td>\n",
       "      <td>83000000.000</td>\n",
       "      <td>4</td>\n",
       "      <td>1624203322.120</td>\n",
       "      <td>406050830.530</td>\n",
       "      <td>154837534.750</td>\n",
       "      <td>4</td>\n",
       "      <td>22.600</td>\n",
       "      <td>5.650</td>\n",
       "      <td>5.450</td>\n",
       "    </tr>\n",
       "    <tr>\n",
       "      <th>О.Трофим</th>\n",
       "      <td>1</td>\n",
       "      <td>85000000.000</td>\n",
       "      <td>85000000.000</td>\n",
       "      <td>85000000.000</td>\n",
       "      <td>1</td>\n",
       "      <td>1297146575.890</td>\n",
       "      <td>1297146575.890</td>\n",
       "      <td>1297146575.890</td>\n",
       "      <td>0</td>\n",
       "      <td>0.000</td>\n",
       "      <td>NaN</td>\n",
       "      <td>NaN</td>\n",
       "    </tr>\n",
       "    <tr>\n",
       "      <th>Ф.Бондарчук</th>\n",
       "      <td>2</td>\n",
       "      <td>750000000.000</td>\n",
       "      <td>375000000.000</td>\n",
       "      <td>375000000.000</td>\n",
       "      <td>1</td>\n",
       "      <td>788321489.000</td>\n",
       "      <td>788321489.000</td>\n",
       "      <td>788321489.000</td>\n",
       "      <td>2</td>\n",
       "      <td>11.300</td>\n",
       "      <td>5.650</td>\n",
       "      <td>5.650</td>\n",
       "    </tr>\n",
       "    <tr>\n",
       "      <th>Н.Лебедев</th>\n",
       "      <td>1</td>\n",
       "      <td>442104482.000</td>\n",
       "      <td>442104482.000</td>\n",
       "      <td>442104482.000</td>\n",
       "      <td>1</td>\n",
       "      <td>766971523.000</td>\n",
       "      <td>766971523.000</td>\n",
       "      <td>766971523.000</td>\n",
       "      <td>1</td>\n",
       "      <td>7.600</td>\n",
       "      <td>7.600</td>\n",
       "      <td>7.600</td>\n",
       "    </tr>\n",
       "    <tr>\n",
       "      <th>Д.Шмидт</th>\n",
       "      <td>3</td>\n",
       "      <td>215000000.000</td>\n",
       "      <td>71666666.667</td>\n",
       "      <td>75000000.000</td>\n",
       "      <td>3</td>\n",
       "      <td>698312261.000</td>\n",
       "      <td>232770753.667</td>\n",
       "      <td>311069235.000</td>\n",
       "      <td>3</td>\n",
       "      <td>18.600</td>\n",
       "      <td>6.200</td>\n",
       "      <td>6.200</td>\n",
       "    </tr>\n",
       "    <tr>\n",
       "      <th>Д.Киселев</th>\n",
       "      <td>2</td>\n",
       "      <td>350000000.000</td>\n",
       "      <td>175000000.000</td>\n",
       "      <td>175000000.000</td>\n",
       "      <td>2</td>\n",
       "      <td>696959413.000</td>\n",
       "      <td>348479706.500</td>\n",
       "      <td>348479706.500</td>\n",
       "      <td>2</td>\n",
       "      <td>13.300</td>\n",
       "      <td>6.650</td>\n",
       "      <td>6.650</td>\n",
       "    </tr>\n",
       "    <tr>\n",
       "      <th>Т.Бекмамбетов</th>\n",
       "      <td>2</td>\n",
       "      <td>250000000.000</td>\n",
       "      <td>125000000.000</td>\n",
       "      <td>125000000.000</td>\n",
       "      <td>2</td>\n",
       "      <td>615037455.970</td>\n",
       "      <td>307518727.985</td>\n",
       "      <td>307518727.985</td>\n",
       "      <td>2</td>\n",
       "      <td>11.700</td>\n",
       "      <td>5.850</td>\n",
       "      <td>5.850</td>\n",
       "    </tr>\n",
       "  </tbody>\n",
       "</table>\n",
       "</div>"
      ],
      "text/plain": [
       "                total_support_count  total_support_sum  total_support_mean  \\\n",
       "director_first                                                               \n",
       "К.Шипенко                         2      285000000.000       142500000.000   \n",
       "А.Мегердичев                      1      400000000.000       400000000.000   \n",
       "А.Сидоров                         1      180000000.000       180000000.000   \n",
       "Д.Дьяченко                        4      351000000.000        87750000.000   \n",
       "О.Трофим                          1       85000000.000        85000000.000   \n",
       "Ф.Бондарчук                       2      750000000.000       375000000.000   \n",
       "Н.Лебедев                         1      442104482.000       442104482.000   \n",
       "Д.Шмидт                           3      215000000.000        71666666.667   \n",
       "Д.Киселев                         2      350000000.000       175000000.000   \n",
       "Т.Бекмамбетов                     2      250000000.000       125000000.000   \n",
       "\n",
       "                total_support_median  payback_count    payback_sum  \\\n",
       "director_first                                                       \n",
       "К.Шипенко              142500000.000              2 3172514510.790   \n",
       "А.Мегердичев           400000000.000              1 2189493953.000   \n",
       "А.Сидоров              180000000.000              1 1707969287.520   \n",
       "Д.Дьяченко              83000000.000              4 1624203322.120   \n",
       "О.Трофим                85000000.000              1 1297146575.890   \n",
       "Ф.Бондарчук            375000000.000              1  788321489.000   \n",
       "Н.Лебедев              442104482.000              1  766971523.000   \n",
       "Д.Шмидт                 75000000.000              3  698312261.000   \n",
       "Д.Киселев              175000000.000              2  696959413.000   \n",
       "Т.Бекмамбетов          125000000.000              2  615037455.970   \n",
       "\n",
       "                 payback_mean  payback_median  ratings_count  ratings_sum  \\\n",
       "director_first                                                              \n",
       "К.Шипенко      1586257255.395  1586257255.395              2       14.200   \n",
       "А.Мегердичев   2189493953.000  2189493953.000              1        7.500   \n",
       "А.Сидоров      1707969287.520  1707969287.520              1        6.500   \n",
       "Д.Дьяченко      406050830.530   154837534.750              4       22.600   \n",
       "О.Трофим       1297146575.890  1297146575.890              0        0.000   \n",
       "Ф.Бондарчук     788321489.000   788321489.000              2       11.300   \n",
       "Н.Лебедев       766971523.000   766971523.000              1        7.600   \n",
       "Д.Шмидт         232770753.667   311069235.000              3       18.600   \n",
       "Д.Киселев       348479706.500   348479706.500              2       13.300   \n",
       "Т.Бекмамбетов   307518727.985   307518727.985              2       11.700   \n",
       "\n",
       "                ratings_mean  ratings_median  \n",
       "director_first                                \n",
       "К.Шипенко              7.100           7.100  \n",
       "А.Мегердичев           7.500           7.500  \n",
       "А.Сидоров              6.500           6.500  \n",
       "Д.Дьяченко             5.650           5.450  \n",
       "О.Трофим                 NaN             NaN  \n",
       "Ф.Бондарчук            5.650           5.650  \n",
       "Н.Лебедев              7.600           7.600  \n",
       "Д.Шмидт                6.200           6.200  \n",
       "Д.Киселев              6.650           6.650  \n",
       "Т.Бекмамбетов          5.850           5.850  "
      ]
     },
     "execution_count": 109,
     "metadata": {},
     "output_type": "execute_result"
    }
   ],
   "source": [
    "table.sort_values(by='payback_sum', ascending=False).head(10)"
   ]
  },
  {
   "cell_type": "markdown",
   "metadata": {},
   "source": [
    "В таком списке теперь Бондарчук не в лидерах, но далеко не ушел. На первом месте Клим Шипенко. Его картины \"Салют-7\" и \"Холоп\" имеют хорошие оценки (7.4 и 6.8) и заработали больше всех. Также в ТОП-10 ворвался Бекмамбетов на последней строчке. У его \"Ёлок\" так себе оценки, но зато прибыльные (хоть и \"последние\"). Пора делать выводы."
   ]
  },
  {
   "cell_type": "markdown",
   "metadata": {},
   "source": [
    "# Вывод\n",
    "\n",
    "В мире киноиндустрии не все так однозначно. Фильмы, в среднем, не окупаются, но при этом государственный фонд все равно в прибыли за счет хитов. При этом \"хиты\" могут иметь \"так себе\" оценки (средние), но приносить прибыль. Большего всего фильмов при поддержке снято в жанре \"драма\", на втором месте - \"комедия\". Самый большая сумма гос. поддержки была выделена Федору Бондарчуку. Он \"не подвел\" и снял фильм, который был прибылен и даже попал в топ-10 по прибыли. Самый \"денежный\" режиссер - Клим Шипенко. Его картины были самыми прибыльными. Кстати, у Шипенко еще есть один фильм - \"Текст\", но в выборку он не попал."
   ]
  },
  {
   "cell_type": "markdown",
   "metadata": {
    "id": "V2gYwMcPgFyd"
   },
   "source": [
    "### Шаг 5. Напишите общий вывод"
   ]
  },
  {
   "cell_type": "markdown",
   "metadata": {},
   "source": [
    "# Общий вывод\n",
    "\n",
    "В датасете есть дубликаты по названию фильма, но у этих кинокартин разные номера прокатных удостоверений, поэтому оставили данные без доп. обработки; Также есть фильмы с одинаковыми номерами прокатных удостоверений, но, проверив, такие фильмы на официальном - подтвердили, что все так и есть. Видимо, под одним номером может быть в прокате несколько фильмов. В бюджете фильмов были нулевые значения. В таких строках нулевой бюджет заменили на сумму поддержки. Для анализа добавили дополнительные столбцы с годом старта показа картины, первого в списке режиссера, и первого в списке жанра, а также отношение суммы поддержки к бюджету. Больше всего фильмов было показано в кинотеатре в 2019 году, чуть меньше - в 2016. Минимальная сумма сборов была в 2015, максимальная в 2018. Наибольшая \"средняя\" сумма сборов приходится на 2017 год. Больше всего сборов у фильмов 16+. Если смотреть по годам, то в 2017 году кино 16+ принесло больше всех денег, но в 2015 более \"кассовое\" кино было 12+. Больше всего было денег выделено гос. фондом в 2019 году, чуть меньше - в 2016. Но в среднем по медиане самый большой бюджет на каждый фильм приходится на 2018 год. Самые худшие (по рейтингу) фильмы были в прокате в 2016 году. В остальные годы средняя оценка была около 6 баллов. На рейтинг фильма увеличение суммы поддержки особо не влияет. Несмотря на убыточность более 75% фильмов в данной выборке, за счет хитов киноиндустрия окупается. Больше всего фильмов с суммой поддержки до 100 млн рублей, такие фильмы, в основном, с рейтингом чуть больше 6 балов. При этом нет плохих фильмов (с оценкой ниже 5 балов) с суммой поддержки больше 200 млн рублей. По количеству и по сумме поддержки на первом месте жанр \"драма\", на втором \"комедия\". Самую большую сумму поддержки получил Федор Бондарчук."
   ]
  },
  {
   "cell_type": "code",
   "execution_count": null,
   "metadata": {},
   "outputs": [],
   "source": []
  }
 ],
 "metadata": {
  "ExecuteTimeLog": [
   {
    "duration": 537,
    "start_time": "2021-07-07T10:12:08.634Z"
   },
   {
    "duration": 206,
    "start_time": "2021-07-07T10:12:30.191Z"
   },
   {
    "duration": 227,
    "start_time": "2021-07-07T10:12:33.078Z"
   },
   {
    "duration": 153,
    "start_time": "2021-07-07T10:13:42.146Z"
   },
   {
    "duration": 233,
    "start_time": "2021-07-07T10:30:09.252Z"
   },
   {
    "duration": 19,
    "start_time": "2021-07-07T10:30:15.577Z"
   },
   {
    "duration": 18,
    "start_time": "2021-07-07T10:30:57.348Z"
   },
   {
    "duration": 19,
    "start_time": "2021-07-07T10:31:17.452Z"
   },
   {
    "duration": 21,
    "start_time": "2021-07-07T10:31:32.227Z"
   },
   {
    "duration": 27,
    "start_time": "2021-07-07T10:32:06.588Z"
   },
   {
    "duration": 23,
    "start_time": "2021-07-07T10:32:43.645Z"
   },
   {
    "duration": 24,
    "start_time": "2021-07-07T10:33:06.948Z"
   },
   {
    "duration": 7,
    "start_time": "2021-07-07T10:33:28.558Z"
   },
   {
    "duration": 23,
    "start_time": "2021-07-07T10:33:43.761Z"
   },
   {
    "duration": 28,
    "start_time": "2021-07-07T10:34:13.466Z"
   },
   {
    "duration": 23,
    "start_time": "2021-07-07T10:35:56.187Z"
   },
   {
    "duration": 6,
    "start_time": "2021-07-07T10:36:48.182Z"
   },
   {
    "duration": 14,
    "start_time": "2021-07-07T10:37:49.641Z"
   },
   {
    "duration": 6,
    "start_time": "2021-07-07T10:38:06.694Z"
   },
   {
    "duration": 6,
    "start_time": "2021-07-07T10:38:13.493Z"
   },
   {
    "duration": 19,
    "start_time": "2021-07-07T10:38:44.056Z"
   },
   {
    "duration": 186,
    "start_time": "2021-07-07T10:48:35.618Z"
   },
   {
    "duration": 24,
    "start_time": "2021-07-07T10:48:51.498Z"
   },
   {
    "duration": 20,
    "start_time": "2021-07-07T10:48:59.415Z"
   },
   {
    "duration": 20,
    "start_time": "2021-07-07T10:53:02.195Z"
   },
   {
    "duration": 188,
    "start_time": "2021-07-07T10:54:40.486Z"
   },
   {
    "duration": 115,
    "start_time": "2021-07-07T10:54:52.552Z"
   },
   {
    "duration": 214,
    "start_time": "2021-07-07T10:54:56.354Z"
   },
   {
    "duration": 47,
    "start_time": "2021-07-07T10:54:58.282Z"
   },
   {
    "duration": 217,
    "start_time": "2021-07-07T10:59:16.075Z"
   },
   {
    "duration": 51,
    "start_time": "2021-07-07T10:59:16.243Z"
   },
   {
    "duration": 578,
    "start_time": "2021-07-07T10:59:18.774Z"
   },
   {
    "duration": 161,
    "start_time": "2021-07-07T10:59:21.238Z"
   },
   {
    "duration": 59,
    "start_time": "2021-07-07T10:59:21.453Z"
   },
   {
    "duration": 3,
    "start_time": "2021-07-07T11:02:10.786Z"
   },
   {
    "duration": 13,
    "start_time": "2021-07-07T11:07:07.722Z"
   },
   {
    "duration": 26,
    "start_time": "2021-07-07T11:07:17.958Z"
   },
   {
    "duration": 22,
    "start_time": "2021-07-07T11:08:17.939Z"
   },
   {
    "duration": 212,
    "start_time": "2021-07-07T11:08:19.665Z"
   },
   {
    "duration": 21,
    "start_time": "2021-07-07T11:08:29.945Z"
   },
   {
    "duration": 31,
    "start_time": "2021-07-07T11:08:38.899Z"
   },
   {
    "duration": 23,
    "start_time": "2021-07-07T11:08:54.527Z"
   },
   {
    "duration": 8,
    "start_time": "2021-07-07T11:18:55.974Z"
   },
   {
    "duration": 7,
    "start_time": "2021-07-07T11:19:03.639Z"
   },
   {
    "duration": 7,
    "start_time": "2021-07-07T11:19:06.444Z"
   },
   {
    "duration": 578,
    "start_time": "2021-07-07T12:09:59.576Z"
   },
   {
    "duration": 195,
    "start_time": "2021-07-07T12:10:00.156Z"
   },
   {
    "duration": 115,
    "start_time": "2021-07-07T12:10:00.353Z"
   },
   {
    "duration": 3,
    "start_time": "2021-07-07T12:10:00.470Z"
   },
   {
    "duration": 32,
    "start_time": "2021-07-07T12:10:00.474Z"
   },
   {
    "duration": 23,
    "start_time": "2021-07-07T12:10:00.508Z"
   },
   {
    "duration": 19,
    "start_time": "2021-07-07T12:10:00.533Z"
   },
   {
    "duration": 44,
    "start_time": "2021-07-07T12:10:00.553Z"
   },
   {
    "duration": 7,
    "start_time": "2021-07-07T12:10:00.600Z"
   },
   {
    "duration": 7,
    "start_time": "2021-07-07T12:19:45.761Z"
   },
   {
    "duration": 21,
    "start_time": "2021-07-07T12:21:35.482Z"
   },
   {
    "duration": 21,
    "start_time": "2021-07-07T12:29:23.569Z"
   },
   {
    "duration": 525,
    "start_time": "2021-07-07T12:29:44.542Z"
   },
   {
    "duration": 214,
    "start_time": "2021-07-07T12:29:45.069Z"
   },
   {
    "duration": 92,
    "start_time": "2021-07-07T12:29:45.285Z"
   },
   {
    "duration": 3,
    "start_time": "2021-07-07T12:29:45.379Z"
   },
   {
    "duration": 28,
    "start_time": "2021-07-07T12:29:45.384Z"
   },
   {
    "duration": 23,
    "start_time": "2021-07-07T12:29:45.413Z"
   },
   {
    "duration": 21,
    "start_time": "2021-07-07T12:29:45.437Z"
   },
   {
    "duration": 41,
    "start_time": "2021-07-07T12:29:45.460Z"
   },
   {
    "duration": 7,
    "start_time": "2021-07-07T12:29:45.502Z"
   },
   {
    "duration": 20,
    "start_time": "2021-07-07T12:29:45.511Z"
   },
   {
    "duration": 12,
    "start_time": "2021-07-07T12:34:02.800Z"
   },
   {
    "duration": 7,
    "start_time": "2021-07-07T12:35:10.479Z"
   },
   {
    "duration": 8,
    "start_time": "2021-07-07T12:35:22.440Z"
   },
   {
    "duration": 6,
    "start_time": "2021-07-07T12:35:35.649Z"
   },
   {
    "duration": 6,
    "start_time": "2021-07-07T12:35:43.107Z"
   },
   {
    "duration": 22,
    "start_time": "2021-07-07T12:38:03.029Z"
   },
   {
    "duration": 10,
    "start_time": "2021-07-07T12:38:06.592Z"
   },
   {
    "duration": 563,
    "start_time": "2021-07-07T12:38:46.493Z"
   },
   {
    "duration": 265,
    "start_time": "2021-07-07T12:38:47.058Z"
   },
   {
    "duration": 94,
    "start_time": "2021-07-07T12:38:47.325Z"
   },
   {
    "duration": 3,
    "start_time": "2021-07-07T12:38:47.422Z"
   },
   {
    "duration": 30,
    "start_time": "2021-07-07T12:38:47.427Z"
   },
   {
    "duration": 16,
    "start_time": "2021-07-07T12:38:53.305Z"
   },
   {
    "duration": 10,
    "start_time": "2021-07-07T12:38:53.499Z"
   },
   {
    "duration": 8,
    "start_time": "2021-07-07T12:39:48.161Z"
   },
   {
    "duration": 27,
    "start_time": "2021-07-07T12:41:17.629Z"
   },
   {
    "duration": 17,
    "start_time": "2021-07-07T12:41:17.867Z"
   },
   {
    "duration": 21,
    "start_time": "2021-07-07T12:41:19.310Z"
   },
   {
    "duration": 7,
    "start_time": "2021-07-07T12:41:19.544Z"
   },
   {
    "duration": 20,
    "start_time": "2021-07-07T12:41:20.504Z"
   },
   {
    "duration": 554,
    "start_time": "2021-07-07T12:56:23.696Z"
   },
   {
    "duration": 200,
    "start_time": "2021-07-07T12:56:25.234Z"
   },
   {
    "duration": 119,
    "start_time": "2021-07-07T12:56:25.480Z"
   },
   {
    "duration": 4,
    "start_time": "2021-07-07T12:56:25.762Z"
   },
   {
    "duration": 26,
    "start_time": "2021-07-07T12:56:27.172Z"
   },
   {
    "duration": 12,
    "start_time": "2021-07-07T12:56:29.051Z"
   },
   {
    "duration": 10,
    "start_time": "2021-07-07T12:56:29.291Z"
   },
   {
    "duration": 8,
    "start_time": "2021-07-07T12:56:29.623Z"
   },
   {
    "duration": 28,
    "start_time": "2021-07-07T12:56:32.137Z"
   },
   {
    "duration": 19,
    "start_time": "2021-07-07T12:56:39.785Z"
   },
   {
    "duration": 20,
    "start_time": "2021-07-07T12:56:44.297Z"
   },
   {
    "duration": 7,
    "start_time": "2021-07-07T12:56:45.392Z"
   },
   {
    "duration": 23,
    "start_time": "2021-07-07T12:56:46.615Z"
   },
   {
    "duration": 4,
    "start_time": "2021-07-07T12:57:06.625Z"
   },
   {
    "duration": 32,
    "start_time": "2021-07-07T12:57:36.690Z"
   },
   {
    "duration": 18,
    "start_time": "2021-07-07T12:58:00.149Z"
   },
   {
    "duration": 15,
    "start_time": "2021-07-07T12:59:16.793Z"
   },
   {
    "duration": 7,
    "start_time": "2021-07-07T13:19:22.624Z"
   },
   {
    "duration": 6,
    "start_time": "2021-07-07T14:17:33.527Z"
   },
   {
    "duration": 9,
    "start_time": "2021-07-07T14:17:48.409Z"
   },
   {
    "duration": 8,
    "start_time": "2021-07-07T14:20:13.060Z"
   },
   {
    "duration": 8,
    "start_time": "2021-07-07T14:20:37.957Z"
   },
   {
    "duration": 8,
    "start_time": "2021-07-07T14:20:47.470Z"
   },
   {
    "duration": 9,
    "start_time": "2021-07-07T14:20:54.503Z"
   },
   {
    "duration": 10,
    "start_time": "2021-07-07T14:28:57.763Z"
   },
   {
    "duration": 3,
    "start_time": "2021-07-07T14:30:23.377Z"
   },
   {
    "duration": 3,
    "start_time": "2021-07-07T14:30:36.489Z"
   },
   {
    "duration": 103,
    "start_time": "2021-07-07T14:30:52.351Z"
   },
   {
    "duration": 8,
    "start_time": "2021-07-07T14:30:54.763Z"
   },
   {
    "duration": 8,
    "start_time": "2021-07-07T14:31:29.301Z"
   },
   {
    "duration": 13,
    "start_time": "2021-07-07T14:31:44.516Z"
   },
   {
    "duration": 7,
    "start_time": "2021-07-07T14:33:10.972Z"
   },
   {
    "duration": 11,
    "start_time": "2021-07-07T14:33:27.780Z"
   },
   {
    "duration": 8,
    "start_time": "2021-07-07T14:34:44.588Z"
   },
   {
    "duration": 57,
    "start_time": "2021-07-07T14:35:59.042Z"
   },
   {
    "duration": 3,
    "start_time": "2021-07-07T14:36:28.168Z"
   },
   {
    "duration": 5,
    "start_time": "2021-07-07T14:36:46.254Z"
   },
   {
    "duration": 4,
    "start_time": "2021-07-07T14:36:52.714Z"
   },
   {
    "duration": 3,
    "start_time": "2021-07-07T14:36:56.612Z"
   },
   {
    "duration": 4,
    "start_time": "2021-07-07T14:36:57.049Z"
   },
   {
    "duration": 3,
    "start_time": "2021-07-07T14:39:21.214Z"
   },
   {
    "duration": 7,
    "start_time": "2021-07-07T14:39:52.406Z"
   },
   {
    "duration": 11,
    "start_time": "2021-07-07T14:39:58.576Z"
   },
   {
    "duration": 9,
    "start_time": "2021-07-07T14:40:26.301Z"
   },
   {
    "duration": 10,
    "start_time": "2021-07-07T14:40:31.704Z"
   },
   {
    "duration": 11,
    "start_time": "2021-07-07T14:40:36.249Z"
   },
   {
    "duration": 10,
    "start_time": "2021-07-07T14:40:39.783Z"
   },
   {
    "duration": 9,
    "start_time": "2021-07-07T14:40:48.558Z"
   },
   {
    "duration": 10,
    "start_time": "2021-07-07T14:40:57.143Z"
   },
   {
    "duration": 9,
    "start_time": "2021-07-07T14:41:06.074Z"
   },
   {
    "duration": 4324,
    "start_time": "2021-07-07T14:41:22.004Z"
   },
   {
    "duration": 11,
    "start_time": "2021-07-07T14:41:33.392Z"
   },
   {
    "duration": 9,
    "start_time": "2021-07-07T14:41:39.288Z"
   },
   {
    "duration": 569,
    "start_time": "2021-07-07T14:42:14.387Z"
   },
   {
    "duration": 197,
    "start_time": "2021-07-07T14:42:14.959Z"
   },
   {
    "duration": 84,
    "start_time": "2021-07-07T14:42:16.052Z"
   },
   {
    "duration": 4,
    "start_time": "2021-07-07T14:42:16.900Z"
   },
   {
    "duration": 27,
    "start_time": "2021-07-07T14:42:19.898Z"
   },
   {
    "duration": 12,
    "start_time": "2021-07-07T14:42:21.577Z"
   },
   {
    "duration": 9,
    "start_time": "2021-07-07T14:42:21.813Z"
   },
   {
    "duration": 9,
    "start_time": "2021-07-07T14:42:22.569Z"
   },
   {
    "duration": 29,
    "start_time": "2021-07-07T14:42:25.837Z"
   },
   {
    "duration": 20,
    "start_time": "2021-07-07T14:42:27.003Z"
   },
   {
    "duration": 21,
    "start_time": "2021-07-07T14:42:28.767Z"
   },
   {
    "duration": 7,
    "start_time": "2021-07-07T14:42:29.838Z"
   },
   {
    "duration": 4,
    "start_time": "2021-07-07T14:43:25.493Z"
   },
   {
    "duration": 7,
    "start_time": "2021-07-07T14:43:26.573Z"
   },
   {
    "duration": 10,
    "start_time": "2021-07-07T14:43:31.639Z"
   },
   {
    "duration": 9,
    "start_time": "2021-07-07T14:43:32.046Z"
   },
   {
    "duration": 10,
    "start_time": "2021-07-07T14:43:33.301Z"
   },
   {
    "duration": 12,
    "start_time": "2021-07-07T14:43:33.658Z"
   },
   {
    "duration": 8,
    "start_time": "2021-07-07T14:43:34.552Z"
   },
   {
    "duration": 9,
    "start_time": "2021-07-07T14:43:35.058Z"
   },
   {
    "duration": 12,
    "start_time": "2021-07-07T14:43:35.914Z"
   },
   {
    "duration": 17,
    "start_time": "2021-07-07T14:45:34.368Z"
   },
   {
    "duration": 512,
    "start_time": "2021-07-07T14:51:58.236Z"
   },
   {
    "duration": 223,
    "start_time": "2021-07-07T14:51:58.750Z"
   },
   {
    "duration": 93,
    "start_time": "2021-07-07T14:51:58.977Z"
   },
   {
    "duration": 4,
    "start_time": "2021-07-07T14:51:59.071Z"
   },
   {
    "duration": 37,
    "start_time": "2021-07-07T14:51:59.077Z"
   },
   {
    "duration": 18,
    "start_time": "2021-07-07T14:51:59.116Z"
   },
   {
    "duration": 10,
    "start_time": "2021-07-07T14:51:59.137Z"
   },
   {
    "duration": 8,
    "start_time": "2021-07-07T14:51:59.149Z"
   },
   {
    "duration": 54,
    "start_time": "2021-07-07T14:51:59.158Z"
   },
   {
    "duration": 18,
    "start_time": "2021-07-07T14:51:59.213Z"
   },
   {
    "duration": 22,
    "start_time": "2021-07-07T14:51:59.232Z"
   },
   {
    "duration": 36,
    "start_time": "2021-07-07T14:51:59.255Z"
   },
   {
    "duration": 7,
    "start_time": "2021-07-07T14:51:59.293Z"
   },
   {
    "duration": 10,
    "start_time": "2021-07-07T14:51:59.302Z"
   },
   {
    "duration": 9,
    "start_time": "2021-07-07T14:51:59.313Z"
   },
   {
    "duration": 11,
    "start_time": "2021-07-07T14:51:59.324Z"
   },
   {
    "duration": 8,
    "start_time": "2021-07-07T14:51:59.337Z"
   },
   {
    "duration": 46,
    "start_time": "2021-07-07T14:51:59.347Z"
   },
   {
    "duration": 22,
    "start_time": "2021-07-07T14:51:59.395Z"
   },
   {
    "duration": 24,
    "start_time": "2021-07-07T14:57:32.911Z"
   },
   {
    "duration": 7,
    "start_time": "2021-07-07T14:58:22.070Z"
   },
   {
    "duration": 4,
    "start_time": "2021-07-07T14:59:11.239Z"
   },
   {
    "duration": 25,
    "start_time": "2021-07-07T15:07:22.208Z"
   },
   {
    "duration": 16,
    "start_time": "2021-07-07T15:08:25.560Z"
   },
   {
    "duration": 15,
    "start_time": "2021-07-07T15:08:40.647Z"
   },
   {
    "duration": 14,
    "start_time": "2021-07-07T15:08:46.669Z"
   },
   {
    "duration": 533,
    "start_time": "2021-07-07T15:18:07.440Z"
   },
   {
    "duration": 173,
    "start_time": "2021-07-07T15:18:07.974Z"
   },
   {
    "duration": 84,
    "start_time": "2021-07-07T15:18:08.149Z"
   },
   {
    "duration": 3,
    "start_time": "2021-07-07T15:18:08.235Z"
   },
   {
    "duration": 30,
    "start_time": "2021-07-07T15:18:08.240Z"
   },
   {
    "duration": 22,
    "start_time": "2021-07-07T15:18:08.272Z"
   },
   {
    "duration": 11,
    "start_time": "2021-07-07T15:18:08.295Z"
   },
   {
    "duration": 11,
    "start_time": "2021-07-07T15:18:08.309Z"
   },
   {
    "duration": 40,
    "start_time": "2021-07-07T15:18:08.322Z"
   },
   {
    "duration": 42,
    "start_time": "2021-07-07T15:18:08.364Z"
   },
   {
    "duration": 22,
    "start_time": "2021-07-07T15:18:08.408Z"
   },
   {
    "duration": 5,
    "start_time": "2021-07-07T15:18:08.432Z"
   },
   {
    "duration": 13,
    "start_time": "2021-07-07T15:18:08.439Z"
   },
   {
    "duration": 9,
    "start_time": "2021-07-07T15:18:08.454Z"
   },
   {
    "duration": 32,
    "start_time": "2021-07-07T15:18:08.465Z"
   },
   {
    "duration": 10,
    "start_time": "2021-07-07T15:18:08.501Z"
   },
   {
    "duration": 7,
    "start_time": "2021-07-07T15:18:08.513Z"
   },
   {
    "duration": 11,
    "start_time": "2021-07-07T15:18:08.521Z"
   },
   {
    "duration": 17,
    "start_time": "2021-07-07T15:18:08.534Z"
   },
   {
    "duration": 44,
    "start_time": "2021-07-07T15:18:08.553Z"
   },
   {
    "duration": 22,
    "start_time": "2021-07-07T15:18:08.599Z"
   },
   {
    "duration": 61,
    "start_time": "2021-07-07T15:18:08.622Z"
   },
   {
    "duration": 7,
    "start_time": "2021-07-07T15:18:39.457Z"
   },
   {
    "duration": 5,
    "start_time": "2021-07-07T16:05:17.020Z"
   },
   {
    "duration": 5,
    "start_time": "2021-07-07T16:51:28.794Z"
   },
   {
    "duration": 546,
    "start_time": "2021-07-07T16:52:26.306Z"
   },
   {
    "duration": 203,
    "start_time": "2021-07-07T16:52:27.523Z"
   },
   {
    "duration": 85,
    "start_time": "2021-07-07T16:52:27.736Z"
   },
   {
    "duration": 4,
    "start_time": "2021-07-07T16:52:27.899Z"
   },
   {
    "duration": 25,
    "start_time": "2021-07-07T16:52:28.674Z"
   },
   {
    "duration": 8,
    "start_time": "2021-07-07T16:52:32.956Z"
   },
   {
    "duration": 18,
    "start_time": "2021-07-07T16:52:35.616Z"
   },
   {
    "duration": 6,
    "start_time": "2021-07-07T16:52:36.913Z"
   },
   {
    "duration": 11,
    "start_time": "2021-07-07T16:52:40.258Z"
   },
   {
    "duration": 10,
    "start_time": "2021-07-07T16:52:46.251Z"
   },
   {
    "duration": 8,
    "start_time": "2021-07-07T16:52:47.182Z"
   },
   {
    "duration": 27,
    "start_time": "2021-07-07T16:53:20.391Z"
   },
   {
    "duration": 20,
    "start_time": "2021-07-07T16:53:22.022Z"
   },
   {
    "duration": 23,
    "start_time": "2021-07-07T16:53:23.690Z"
   },
   {
    "duration": 8,
    "start_time": "2021-07-07T16:53:24.261Z"
   },
   {
    "duration": 4,
    "start_time": "2021-07-07T16:53:38.733Z"
   },
   {
    "duration": 7,
    "start_time": "2021-07-07T16:53:40.445Z"
   },
   {
    "duration": 11,
    "start_time": "2021-07-07T16:53:41.348Z"
   },
   {
    "duration": 13,
    "start_time": "2021-07-07T16:53:45.250Z"
   },
   {
    "duration": 12,
    "start_time": "2021-07-07T16:53:45.467Z"
   },
   {
    "duration": 4,
    "start_time": "2021-07-07T16:55:32.704Z"
   },
   {
    "duration": 12,
    "start_time": "2021-07-07T16:55:49.012Z"
   },
   {
    "duration": 18,
    "start_time": "2021-07-07T16:55:49.547Z"
   },
   {
    "duration": 611,
    "start_time": "2021-07-07T16:58:35.156Z"
   },
   {
    "duration": 200,
    "start_time": "2021-07-07T16:58:35.770Z"
   },
   {
    "duration": 86,
    "start_time": "2021-07-07T16:58:35.972Z"
   },
   {
    "duration": 3,
    "start_time": "2021-07-07T16:58:36.060Z"
   },
   {
    "duration": 27,
    "start_time": "2021-07-07T16:58:36.065Z"
   },
   {
    "duration": 8,
    "start_time": "2021-07-07T16:58:36.094Z"
   },
   {
    "duration": 17,
    "start_time": "2021-07-07T16:58:36.103Z"
   },
   {
    "duration": 5,
    "start_time": "2021-07-07T16:58:36.123Z"
   },
   {
    "duration": 11,
    "start_time": "2021-07-07T16:58:36.130Z"
   },
   {
    "duration": 7,
    "start_time": "2021-07-07T16:58:36.143Z"
   },
   {
    "duration": 37,
    "start_time": "2021-07-07T16:58:36.152Z"
   },
   {
    "duration": 27,
    "start_time": "2021-07-07T16:58:36.191Z"
   },
   {
    "duration": 19,
    "start_time": "2021-07-07T16:58:36.219Z"
   },
   {
    "duration": 49,
    "start_time": "2021-07-07T16:58:36.240Z"
   },
   {
    "duration": 6,
    "start_time": "2021-07-07T16:58:36.291Z"
   },
   {
    "duration": 3,
    "start_time": "2021-07-07T16:58:36.299Z"
   },
   {
    "duration": 13,
    "start_time": "2021-07-07T16:58:36.304Z"
   },
   {
    "duration": 10,
    "start_time": "2021-07-07T16:58:36.319Z"
   },
   {
    "duration": 10,
    "start_time": "2021-07-07T16:58:36.331Z"
   },
   {
    "duration": 44,
    "start_time": "2021-07-07T16:58:36.343Z"
   },
   {
    "duration": 4,
    "start_time": "2021-07-07T16:58:36.388Z"
   },
   {
    "duration": 13,
    "start_time": "2021-07-07T16:58:36.394Z"
   },
   {
    "duration": 16,
    "start_time": "2021-07-07T16:58:36.410Z"
   },
   {
    "duration": 8,
    "start_time": "2021-07-07T17:02:31.629Z"
   },
   {
    "duration": 8,
    "start_time": "2021-07-07T17:02:34.308Z"
   },
   {
    "duration": 6,
    "start_time": "2021-07-07T17:05:13.483Z"
   },
   {
    "duration": 17,
    "start_time": "2021-07-07T17:05:20.606Z"
   },
   {
    "duration": 7,
    "start_time": "2021-07-07T17:05:34.638Z"
   },
   {
    "duration": 3,
    "start_time": "2021-07-07T17:06:31.883Z"
   },
   {
    "duration": 570,
    "start_time": "2021-07-07T17:06:37.165Z"
   },
   {
    "duration": 174,
    "start_time": "2021-07-07T17:06:37.737Z"
   },
   {
    "duration": 47,
    "start_time": "2021-07-07T17:06:37.913Z"
   },
   {
    "duration": 3,
    "start_time": "2021-07-07T17:06:37.962Z"
   },
   {
    "duration": 27,
    "start_time": "2021-07-07T17:06:37.967Z"
   },
   {
    "duration": 7,
    "start_time": "2021-07-07T17:06:37.996Z"
   },
   {
    "duration": 16,
    "start_time": "2021-07-07T17:06:38.005Z"
   },
   {
    "duration": 6,
    "start_time": "2021-07-07T17:06:38.024Z"
   },
   {
    "duration": 12,
    "start_time": "2021-07-07T17:06:38.031Z"
   },
   {
    "duration": 41,
    "start_time": "2021-07-07T17:06:38.045Z"
   },
   {
    "duration": 8,
    "start_time": "2021-07-07T17:06:38.088Z"
   },
   {
    "duration": 26,
    "start_time": "2021-07-07T17:06:38.098Z"
   },
   {
    "duration": 17,
    "start_time": "2021-07-07T17:06:38.126Z"
   },
   {
    "duration": 43,
    "start_time": "2021-07-07T17:06:38.144Z"
   },
   {
    "duration": 6,
    "start_time": "2021-07-07T17:06:38.188Z"
   },
   {
    "duration": 5,
    "start_time": "2021-07-07T17:06:38.195Z"
   },
   {
    "duration": 9,
    "start_time": "2021-07-07T17:06:38.201Z"
   },
   {
    "duration": 12,
    "start_time": "2021-07-07T17:06:38.212Z"
   },
   {
    "duration": 11,
    "start_time": "2021-07-07T17:06:38.226Z"
   },
   {
    "duration": 47,
    "start_time": "2021-07-07T17:06:38.239Z"
   },
   {
    "duration": 4,
    "start_time": "2021-07-07T17:06:38.288Z"
   },
   {
    "duration": 13,
    "start_time": "2021-07-07T17:06:38.293Z"
   },
   {
    "duration": 5,
    "start_time": "2021-07-07T17:06:38.309Z"
   },
   {
    "duration": 18,
    "start_time": "2021-07-07T17:06:38.325Z"
   },
   {
    "duration": 20,
    "start_time": "2021-07-07T17:07:02.805Z"
   },
   {
    "duration": 19,
    "start_time": "2021-07-07T17:07:08.527Z"
   },
   {
    "duration": 19,
    "start_time": "2021-07-07T17:07:12.758Z"
   },
   {
    "duration": 22,
    "start_time": "2021-07-07T17:07:17.497Z"
   },
   {
    "duration": 19,
    "start_time": "2021-07-07T17:07:19.645Z"
   },
   {
    "duration": 10,
    "start_time": "2021-07-07T17:07:34.239Z"
   },
   {
    "duration": 17,
    "start_time": "2021-07-07T17:07:54.144Z"
   },
   {
    "duration": 14,
    "start_time": "2021-07-07T17:08:14.357Z"
   },
   {
    "duration": 616,
    "start_time": "2021-07-07T17:08:45.254Z"
   },
   {
    "duration": 178,
    "start_time": "2021-07-07T17:08:45.872Z"
   },
   {
    "duration": 60,
    "start_time": "2021-07-07T17:08:46.054Z"
   },
   {
    "duration": 3,
    "start_time": "2021-07-07T17:08:46.116Z"
   },
   {
    "duration": 26,
    "start_time": "2021-07-07T17:08:46.121Z"
   },
   {
    "duration": 7,
    "start_time": "2021-07-07T17:08:46.149Z"
   },
   {
    "duration": 17,
    "start_time": "2021-07-07T17:08:46.158Z"
   },
   {
    "duration": 14,
    "start_time": "2021-07-07T17:08:46.176Z"
   },
   {
    "duration": 17,
    "start_time": "2021-07-07T17:08:46.193Z"
   },
   {
    "duration": 9,
    "start_time": "2021-07-07T17:08:46.211Z"
   },
   {
    "duration": 21,
    "start_time": "2021-07-07T17:08:46.221Z"
   },
   {
    "duration": 49,
    "start_time": "2021-07-07T17:08:46.244Z"
   },
   {
    "duration": 24,
    "start_time": "2021-07-07T17:08:46.295Z"
   },
   {
    "duration": 22,
    "start_time": "2021-07-07T17:08:46.321Z"
   },
   {
    "duration": 6,
    "start_time": "2021-07-07T17:08:46.345Z"
   },
   {
    "duration": 5,
    "start_time": "2021-07-07T17:08:46.353Z"
   },
   {
    "duration": 13,
    "start_time": "2021-07-07T17:08:46.386Z"
   },
   {
    "duration": 12,
    "start_time": "2021-07-07T17:08:46.402Z"
   },
   {
    "duration": 10,
    "start_time": "2021-07-07T17:08:46.415Z"
   },
   {
    "duration": 7,
    "start_time": "2021-07-07T17:08:46.427Z"
   },
   {
    "duration": 8,
    "start_time": "2021-07-07T17:08:46.435Z"
   },
   {
    "duration": 68,
    "start_time": "2021-07-07T17:08:46.446Z"
   },
   {
    "duration": 13,
    "start_time": "2021-07-07T17:08:46.516Z"
   },
   {
    "duration": 78,
    "start_time": "2021-07-07T17:08:46.530Z"
   },
   {
    "duration": 40,
    "start_time": "2021-07-07T17:09:08.185Z"
   },
   {
    "duration": 16,
    "start_time": "2021-07-07T17:09:19.324Z"
   },
   {
    "duration": 21,
    "start_time": "2021-07-07T17:09:23.290Z"
   },
   {
    "duration": 13,
    "start_time": "2021-07-07T17:09:54.812Z"
   },
   {
    "duration": 13,
    "start_time": "2021-07-07T17:10:02.039Z"
   },
   {
    "duration": 10,
    "start_time": "2021-07-07T17:10:29.632Z"
   },
   {
    "duration": 13,
    "start_time": "2021-07-07T17:10:52.372Z"
   },
   {
    "duration": 13,
    "start_time": "2021-07-07T17:11:17.270Z"
   },
   {
    "duration": 13,
    "start_time": "2021-07-07T17:14:59.284Z"
   },
   {
    "duration": 547,
    "start_time": "2021-07-07T17:18:52.403Z"
   },
   {
    "duration": 163,
    "start_time": "2021-07-07T17:18:52.952Z"
   },
   {
    "duration": 44,
    "start_time": "2021-07-07T17:18:53.117Z"
   },
   {
    "duration": 3,
    "start_time": "2021-07-07T17:18:53.162Z"
   },
   {
    "duration": 26,
    "start_time": "2021-07-07T17:18:53.167Z"
   },
   {
    "duration": 6,
    "start_time": "2021-07-07T17:18:53.195Z"
   },
   {
    "duration": 15,
    "start_time": "2021-07-07T17:18:53.203Z"
   },
   {
    "duration": 5,
    "start_time": "2021-07-07T17:18:53.220Z"
   },
   {
    "duration": 11,
    "start_time": "2021-07-07T17:18:53.228Z"
   },
   {
    "duration": 9,
    "start_time": "2021-07-07T17:18:53.241Z"
   },
   {
    "duration": 41,
    "start_time": "2021-07-07T17:18:53.252Z"
   },
   {
    "duration": 33,
    "start_time": "2021-07-07T17:18:53.295Z"
   },
   {
    "duration": 19,
    "start_time": "2021-07-07T17:18:53.330Z"
   },
   {
    "duration": 49,
    "start_time": "2021-07-07T17:18:53.350Z"
   },
   {
    "duration": 5,
    "start_time": "2021-07-07T17:18:53.401Z"
   },
   {
    "duration": 5,
    "start_time": "2021-07-07T17:18:53.408Z"
   },
   {
    "duration": 11,
    "start_time": "2021-07-07T17:18:53.414Z"
   },
   {
    "duration": 9,
    "start_time": "2021-07-07T17:18:53.427Z"
   },
   {
    "duration": 10,
    "start_time": "2021-07-07T17:18:53.437Z"
   },
   {
    "duration": 39,
    "start_time": "2021-07-07T17:18:53.448Z"
   },
   {
    "duration": 26,
    "start_time": "2021-07-07T17:18:55.799Z"
   },
   {
    "duration": 598,
    "start_time": "2021-07-07T17:20:17.862Z"
   },
   {
    "duration": 161,
    "start_time": "2021-07-07T17:20:18.462Z"
   },
   {
    "duration": 45,
    "start_time": "2021-07-07T17:20:18.626Z"
   },
   {
    "duration": 4,
    "start_time": "2021-07-07T17:20:18.673Z"
   },
   {
    "duration": 38,
    "start_time": "2021-07-07T17:20:26.877Z"
   },
   {
    "duration": 7,
    "start_time": "2021-07-07T17:20:37.405Z"
   },
   {
    "duration": 19,
    "start_time": "2021-07-07T17:20:51.534Z"
   },
   {
    "duration": 5,
    "start_time": "2021-07-07T17:20:57.228Z"
   },
   {
    "duration": 7,
    "start_time": "2021-07-07T17:21:08.235Z"
   },
   {
    "duration": 19,
    "start_time": "2021-07-07T17:21:42.158Z"
   },
   {
    "duration": 14,
    "start_time": "2021-07-07T17:21:50.225Z"
   },
   {
    "duration": 22,
    "start_time": "2021-07-07T17:22:54.104Z"
   },
   {
    "duration": 5,
    "start_time": "2021-07-07T17:22:56.371Z"
   },
   {
    "duration": 14,
    "start_time": "2021-07-07T17:22:58.316Z"
   },
   {
    "duration": 5,
    "start_time": "2021-07-07T17:22:58.493Z"
   },
   {
    "duration": 35,
    "start_time": "2021-07-07T17:22:59.666Z"
   },
   {
    "duration": 6,
    "start_time": "2021-07-07T17:23:02.410Z"
   },
   {
    "duration": 611,
    "start_time": "2021-07-07T17:24:59.664Z"
   },
   {
    "duration": 178,
    "start_time": "2021-07-07T17:25:01.945Z"
   },
   {
    "duration": 47,
    "start_time": "2021-07-07T17:25:02.125Z"
   },
   {
    "duration": 2,
    "start_time": "2021-07-07T17:25:07.903Z"
   },
   {
    "duration": 254,
    "start_time": "2021-07-07T17:25:08.232Z"
   },
   {
    "duration": 182,
    "start_time": "2021-07-07T17:25:08.671Z"
   },
   {
    "duration": 6,
    "start_time": "2021-07-07T17:25:13.104Z"
   },
   {
    "duration": 36,
    "start_time": "2021-07-07T17:25:13.662Z"
   },
   {
    "duration": 7,
    "start_time": "2021-07-07T17:25:14.528Z"
   },
   {
    "duration": 24,
    "start_time": "2021-07-07T17:25:27.982Z"
   },
   {
    "duration": 3,
    "start_time": "2021-07-07T17:25:48.982Z"
   },
   {
    "duration": 165,
    "start_time": "2021-07-07T17:25:48.987Z"
   },
   {
    "duration": 50,
    "start_time": "2021-07-07T17:25:49.154Z"
   },
   {
    "duration": 4,
    "start_time": "2021-07-07T17:25:49.206Z"
   },
   {
    "duration": 26,
    "start_time": "2021-07-07T17:25:49.212Z"
   },
   {
    "duration": 7,
    "start_time": "2021-07-07T17:25:49.240Z"
   },
   {
    "duration": 16,
    "start_time": "2021-07-07T17:25:49.249Z"
   },
   {
    "duration": 22,
    "start_time": "2021-07-07T17:25:49.266Z"
   },
   {
    "duration": 16,
    "start_time": "2021-07-07T17:25:49.291Z"
   },
   {
    "duration": 9,
    "start_time": "2021-07-07T17:25:49.309Z"
   },
   {
    "duration": 7,
    "start_time": "2021-07-07T17:25:49.319Z"
   },
   {
    "duration": 28,
    "start_time": "2021-07-07T17:25:49.328Z"
   },
   {
    "duration": 44,
    "start_time": "2021-07-07T17:25:49.357Z"
   },
   {
    "duration": 22,
    "start_time": "2021-07-07T17:25:49.403Z"
   },
   {
    "duration": 7,
    "start_time": "2021-07-07T17:25:49.427Z"
   },
   {
    "duration": 3,
    "start_time": "2021-07-07T17:25:49.436Z"
   },
   {
    "duration": 44,
    "start_time": "2021-07-07T17:25:49.441Z"
   },
   {
    "duration": 12,
    "start_time": "2021-07-07T17:25:49.488Z"
   },
   {
    "duration": 13,
    "start_time": "2021-07-07T17:25:49.502Z"
   },
   {
    "duration": 10,
    "start_time": "2021-07-07T17:25:49.516Z"
   },
   {
    "duration": 62,
    "start_time": "2021-07-07T17:25:49.527Z"
   },
   {
    "duration": 26,
    "start_time": "2021-07-07T17:26:51.809Z"
   },
   {
    "duration": 26,
    "start_time": "2021-07-07T17:26:55.759Z"
   },
   {
    "duration": 26,
    "start_time": "2021-07-07T17:27:04.501Z"
   },
   {
    "duration": 25,
    "start_time": "2021-07-07T17:28:24.859Z"
   },
   {
    "duration": 21,
    "start_time": "2021-07-07T17:28:55.250Z"
   },
   {
    "duration": 21,
    "start_time": "2021-07-07T17:28:58.885Z"
   },
   {
    "duration": 7,
    "start_time": "2021-07-07T17:45:40.972Z"
   },
   {
    "duration": 13,
    "start_time": "2021-07-07T17:45:42.529Z"
   },
   {
    "duration": 27,
    "start_time": "2021-07-07T17:45:51.026Z"
   },
   {
    "duration": 518,
    "start_time": "2021-07-07T17:46:15.532Z"
   },
   {
    "duration": 235,
    "start_time": "2021-07-07T17:46:16.053Z"
   },
   {
    "duration": 80,
    "start_time": "2021-07-07T17:46:16.292Z"
   },
   {
    "duration": 5,
    "start_time": "2021-07-07T17:46:16.373Z"
   },
   {
    "duration": 26,
    "start_time": "2021-07-07T17:46:16.380Z"
   },
   {
    "duration": 7,
    "start_time": "2021-07-07T17:46:16.408Z"
   },
   {
    "duration": 16,
    "start_time": "2021-07-07T17:46:16.418Z"
   },
   {
    "duration": 5,
    "start_time": "2021-07-07T17:46:16.436Z"
   },
   {
    "duration": 13,
    "start_time": "2021-07-07T17:46:16.442Z"
   },
   {
    "duration": 35,
    "start_time": "2021-07-07T17:46:16.456Z"
   },
   {
    "duration": 8,
    "start_time": "2021-07-07T17:46:16.493Z"
   },
   {
    "duration": 28,
    "start_time": "2021-07-07T17:46:16.502Z"
   },
   {
    "duration": 17,
    "start_time": "2021-07-07T17:46:16.532Z"
   },
   {
    "duration": 44,
    "start_time": "2021-07-07T17:46:16.551Z"
   },
   {
    "duration": 6,
    "start_time": "2021-07-07T17:46:16.597Z"
   },
   {
    "duration": 4,
    "start_time": "2021-07-07T17:46:16.605Z"
   },
   {
    "duration": 9,
    "start_time": "2021-07-07T17:46:16.610Z"
   },
   {
    "duration": 9,
    "start_time": "2021-07-07T17:46:16.621Z"
   },
   {
    "duration": 10,
    "start_time": "2021-07-07T17:46:16.632Z"
   },
   {
    "duration": 43,
    "start_time": "2021-07-07T17:46:16.644Z"
   },
   {
    "duration": 26,
    "start_time": "2021-07-07T17:46:16.689Z"
   },
   {
    "duration": 19,
    "start_time": "2021-07-07T17:46:16.718Z"
   },
   {
    "duration": 8,
    "start_time": "2021-07-07T17:46:16.738Z"
   },
   {
    "duration": 43,
    "start_time": "2021-07-07T17:46:16.747Z"
   },
   {
    "duration": 19,
    "start_time": "2021-07-07T17:46:16.791Z"
   },
   {
    "duration": 9,
    "start_time": "2021-07-07T17:46:16.812Z"
   },
   {
    "duration": 60,
    "start_time": "2021-07-07T17:46:16.822Z"
   },
   {
    "duration": -8,
    "start_time": "2021-07-07T17:46:16.892Z"
   },
   {
    "duration": 12,
    "start_time": "2021-07-07T17:48:47.707Z"
   },
   {
    "duration": 553,
    "start_time": "2021-07-07T18:10:09.350Z"
   },
   {
    "duration": 230,
    "start_time": "2021-07-07T18:10:09.905Z"
   },
   {
    "duration": 97,
    "start_time": "2021-07-07T18:10:10.137Z"
   },
   {
    "duration": 5,
    "start_time": "2021-07-07T18:10:10.236Z"
   },
   {
    "duration": 29,
    "start_time": "2021-07-07T18:10:10.242Z"
   },
   {
    "duration": 7,
    "start_time": "2021-07-07T18:10:10.272Z"
   },
   {
    "duration": 15,
    "start_time": "2021-07-07T18:10:10.281Z"
   },
   {
    "duration": 4,
    "start_time": "2021-07-07T18:10:10.299Z"
   },
   {
    "duration": 14,
    "start_time": "2021-07-07T18:10:10.305Z"
   },
   {
    "duration": 8,
    "start_time": "2021-07-07T18:10:10.321Z"
   },
   {
    "duration": 8,
    "start_time": "2021-07-07T18:10:10.331Z"
   },
   {
    "duration": 56,
    "start_time": "2021-07-07T18:10:10.341Z"
   },
   {
    "duration": 19,
    "start_time": "2021-07-07T18:10:10.399Z"
   },
   {
    "duration": 23,
    "start_time": "2021-07-07T18:10:10.419Z"
   },
   {
    "duration": 6,
    "start_time": "2021-07-07T18:10:10.444Z"
   },
   {
    "duration": 9,
    "start_time": "2021-07-07T18:10:10.451Z"
   },
   {
    "duration": 30,
    "start_time": "2021-07-07T18:10:10.462Z"
   },
   {
    "duration": 9,
    "start_time": "2021-07-07T18:10:10.494Z"
   },
   {
    "duration": 14,
    "start_time": "2021-07-07T18:10:10.505Z"
   },
   {
    "duration": 7,
    "start_time": "2021-07-07T18:10:10.521Z"
   },
   {
    "duration": 26,
    "start_time": "2021-07-07T18:10:10.530Z"
   },
   {
    "duration": 44,
    "start_time": "2021-07-07T18:10:10.558Z"
   },
   {
    "duration": 7,
    "start_time": "2021-07-07T18:10:10.605Z"
   },
   {
    "duration": 11,
    "start_time": "2021-07-07T18:10:10.614Z"
   },
   {
    "duration": 19,
    "start_time": "2021-07-07T18:10:10.626Z"
   },
   {
    "duration": 44,
    "start_time": "2021-07-07T18:10:10.646Z"
   },
   {
    "duration": 516,
    "start_time": "2021-07-07T18:14:00.826Z"
   },
   {
    "duration": 230,
    "start_time": "2021-07-07T18:14:01.344Z"
   },
   {
    "duration": 105,
    "start_time": "2021-07-07T18:14:01.576Z"
   },
   {
    "duration": 5,
    "start_time": "2021-07-07T18:14:01.683Z"
   },
   {
    "duration": 46,
    "start_time": "2021-07-07T18:14:01.690Z"
   },
   {
    "duration": 7,
    "start_time": "2021-07-07T18:14:01.738Z"
   },
   {
    "duration": 20,
    "start_time": "2021-07-07T18:14:01.747Z"
   },
   {
    "duration": 16,
    "start_time": "2021-07-07T18:14:01.769Z"
   },
   {
    "duration": 14,
    "start_time": "2021-07-07T18:14:01.787Z"
   },
   {
    "duration": 15,
    "start_time": "2021-07-07T18:14:01.803Z"
   },
   {
    "duration": 12,
    "start_time": "2021-07-07T18:14:01.820Z"
   },
   {
    "duration": 35,
    "start_time": "2021-07-07T18:14:01.833Z"
   },
   {
    "duration": 31,
    "start_time": "2021-07-07T18:14:01.869Z"
   },
   {
    "duration": 37,
    "start_time": "2021-07-07T18:14:01.902Z"
   },
   {
    "duration": 8,
    "start_time": "2021-07-07T18:14:01.942Z"
   },
   {
    "duration": 16,
    "start_time": "2021-07-07T18:14:01.952Z"
   },
   {
    "duration": 13,
    "start_time": "2021-07-07T18:14:01.970Z"
   },
   {
    "duration": 32,
    "start_time": "2021-07-07T18:14:01.985Z"
   },
   {
    "duration": 11,
    "start_time": "2021-07-07T18:14:02.019Z"
   },
   {
    "duration": 22,
    "start_time": "2021-07-07T18:14:02.031Z"
   },
   {
    "duration": 27,
    "start_time": "2021-07-07T18:14:02.055Z"
   },
   {
    "duration": 18,
    "start_time": "2021-07-07T18:14:02.084Z"
   },
   {
    "duration": 18,
    "start_time": "2021-07-07T18:14:02.106Z"
   },
   {
    "duration": 11,
    "start_time": "2021-07-07T18:14:02.126Z"
   },
   {
    "duration": 21,
    "start_time": "2021-07-07T18:14:02.138Z"
   },
   {
    "duration": 32,
    "start_time": "2021-07-07T18:14:02.161Z"
   },
   {
    "duration": 28,
    "start_time": "2021-07-07T18:14:44.295Z"
   },
   {
    "duration": 6,
    "start_time": "2021-07-07T18:15:05.834Z"
   },
   {
    "duration": 511,
    "start_time": "2021-07-07T18:15:41.541Z"
   },
   {
    "duration": 183,
    "start_time": "2021-07-07T18:15:42.054Z"
   },
   {
    "duration": 50,
    "start_time": "2021-07-07T18:15:42.239Z"
   },
   {
    "duration": 5,
    "start_time": "2021-07-07T18:15:42.291Z"
   },
   {
    "duration": 48,
    "start_time": "2021-07-07T18:15:42.297Z"
   },
   {
    "duration": 8,
    "start_time": "2021-07-07T18:15:42.346Z"
   },
   {
    "duration": 17,
    "start_time": "2021-07-07T18:15:42.356Z"
   },
   {
    "duration": 15,
    "start_time": "2021-07-07T18:15:42.375Z"
   },
   {
    "duration": 12,
    "start_time": "2021-07-07T18:15:42.392Z"
   },
   {
    "duration": 7,
    "start_time": "2021-07-07T18:15:42.406Z"
   },
   {
    "duration": 7,
    "start_time": "2021-07-07T18:15:42.415Z"
   },
   {
    "duration": 29,
    "start_time": "2021-07-07T18:15:42.423Z"
   },
   {
    "duration": 43,
    "start_time": "2021-07-07T18:15:42.453Z"
   },
   {
    "duration": 18,
    "start_time": "2021-07-07T18:15:42.497Z"
   },
   {
    "duration": 6,
    "start_time": "2021-07-07T18:15:42.516Z"
   },
   {
    "duration": 3,
    "start_time": "2021-07-07T18:15:42.523Z"
   },
   {
    "duration": 18,
    "start_time": "2021-07-07T18:15:42.528Z"
   },
   {
    "duration": 10,
    "start_time": "2021-07-07T18:15:42.547Z"
   },
   {
    "duration": 36,
    "start_time": "2021-07-07T18:15:42.559Z"
   },
   {
    "duration": 8,
    "start_time": "2021-07-07T18:15:42.597Z"
   },
   {
    "duration": 28,
    "start_time": "2021-07-07T18:15:42.606Z"
   },
   {
    "duration": 52,
    "start_time": "2021-07-07T18:15:42.635Z"
   },
   {
    "duration": 7,
    "start_time": "2021-07-07T18:15:42.690Z"
   },
   {
    "duration": 10,
    "start_time": "2021-07-07T18:15:42.699Z"
   },
   {
    "duration": 19,
    "start_time": "2021-07-07T18:15:42.711Z"
   },
   {
    "duration": 9,
    "start_time": "2021-07-07T18:15:42.732Z"
   },
   {
    "duration": 5,
    "start_time": "2021-07-07T18:15:42.743Z"
   },
   {
    "duration": 1450,
    "start_time": "2021-07-07T18:15:51.984Z"
   },
   {
    "duration": 161,
    "start_time": "2021-07-07T18:15:53.435Z"
   },
   {
    "duration": 124,
    "start_time": "2021-07-07T18:15:53.598Z"
   },
   {
    "duration": 5,
    "start_time": "2021-07-07T18:15:53.724Z"
   },
   {
    "duration": 34,
    "start_time": "2021-07-07T18:15:53.730Z"
   },
   {
    "duration": 7,
    "start_time": "2021-07-07T18:15:53.765Z"
   },
   {
    "duration": 15,
    "start_time": "2021-07-07T18:15:53.773Z"
   },
   {
    "duration": 5,
    "start_time": "2021-07-07T18:15:53.791Z"
   },
   {
    "duration": 19,
    "start_time": "2021-07-07T18:15:53.798Z"
   },
   {
    "duration": 9,
    "start_time": "2021-07-07T18:15:53.818Z"
   },
   {
    "duration": 19,
    "start_time": "2021-07-07T18:15:53.828Z"
   },
   {
    "duration": 27,
    "start_time": "2021-07-07T18:15:53.848Z"
   },
   {
    "duration": 16,
    "start_time": "2021-07-07T18:15:53.884Z"
   },
   {
    "duration": 29,
    "start_time": "2021-07-07T18:15:53.901Z"
   },
   {
    "duration": 5,
    "start_time": "2021-07-07T18:15:53.932Z"
   },
   {
    "duration": 15,
    "start_time": "2021-07-07T18:15:53.939Z"
   },
   {
    "duration": 13,
    "start_time": "2021-07-07T18:15:53.956Z"
   },
   {
    "duration": 20,
    "start_time": "2021-07-07T18:15:53.971Z"
   },
   {
    "duration": 14,
    "start_time": "2021-07-07T18:15:53.992Z"
   },
   {
    "duration": 9,
    "start_time": "2021-07-07T18:15:54.009Z"
   },
   {
    "duration": 28,
    "start_time": "2021-07-07T18:15:54.020Z"
   },
   {
    "duration": 50,
    "start_time": "2021-07-07T18:15:54.051Z"
   },
   {
    "duration": 8,
    "start_time": "2021-07-07T18:15:54.105Z"
   },
   {
    "duration": 11,
    "start_time": "2021-07-07T18:15:54.115Z"
   },
   {
    "duration": 20,
    "start_time": "2021-07-07T18:15:54.128Z"
   },
   {
    "duration": 13,
    "start_time": "2021-07-07T18:15:54.184Z"
   },
   {
    "duration": 7,
    "start_time": "2021-07-07T18:15:54.199Z"
   },
   {
    "duration": 7,
    "start_time": "2021-07-07T18:17:08.042Z"
   },
   {
    "duration": 8,
    "start_time": "2021-07-07T18:17:21.008Z"
   },
   {
    "duration": 7,
    "start_time": "2021-07-07T18:17:29.003Z"
   },
   {
    "duration": 8,
    "start_time": "2021-07-07T18:17:32.492Z"
   },
   {
    "duration": 9,
    "start_time": "2021-07-07T18:17:41.758Z"
   },
   {
    "duration": 255,
    "start_time": "2021-07-07T18:20:20.897Z"
   },
   {
    "duration": 173,
    "start_time": "2021-07-07T18:20:26.636Z"
   },
   {
    "duration": 7,
    "start_time": "2021-07-07T18:21:47.164Z"
   },
   {
    "duration": 254,
    "start_time": "2021-07-07T18:23:08.703Z"
   },
   {
    "duration": 21,
    "start_time": "2021-07-07T18:23:22.506Z"
   },
   {
    "duration": 315,
    "start_time": "2021-07-07T18:25:54.801Z"
   },
   {
    "duration": 34,
    "start_time": "2021-07-07T18:26:51.817Z"
   },
   {
    "duration": 327,
    "start_time": "2021-07-07T18:26:56.147Z"
   },
   {
    "duration": 342,
    "start_time": "2021-07-07T18:27:15.887Z"
   },
   {
    "duration": 302,
    "start_time": "2021-07-07T18:28:18.569Z"
   },
   {
    "duration": 226,
    "start_time": "2021-07-07T18:29:20.879Z"
   },
   {
    "duration": 207,
    "start_time": "2021-07-07T18:29:58.114Z"
   },
   {
    "duration": 140,
    "start_time": "2021-07-07T18:32:04.372Z"
   },
   {
    "duration": 158,
    "start_time": "2021-07-07T18:32:32.508Z"
   },
   {
    "duration": 145,
    "start_time": "2021-07-07T18:32:41.365Z"
   },
   {
    "duration": 132,
    "start_time": "2021-07-07T18:32:45.199Z"
   },
   {
    "duration": 11,
    "start_time": "2021-07-07T18:35:24.679Z"
   },
   {
    "duration": 268,
    "start_time": "2021-07-07T18:36:16.145Z"
   },
   {
    "duration": 227,
    "start_time": "2021-07-07T18:37:04.918Z"
   },
   {
    "duration": 3,
    "start_time": "2021-07-07T18:37:33.012Z"
   },
   {
    "duration": 671,
    "start_time": "2021-07-07T18:37:38.295Z"
   },
   {
    "duration": 54,
    "start_time": "2021-07-07T18:37:53.406Z"
   },
   {
    "duration": 631,
    "start_time": "2021-07-07T18:37:56.463Z"
   },
   {
    "duration": 19,
    "start_time": "2021-07-07T18:39:40.535Z"
   },
   {
    "duration": 20,
    "start_time": "2021-07-07T18:40:12.236Z"
   },
   {
    "duration": 633,
    "start_time": "2021-07-07T18:42:00.398Z"
   },
   {
    "duration": 218,
    "start_time": "2021-07-07T18:42:01.033Z"
   },
   {
    "duration": 49,
    "start_time": "2021-07-07T18:42:01.253Z"
   },
   {
    "duration": 5,
    "start_time": "2021-07-07T18:42:01.303Z"
   },
   {
    "duration": 27,
    "start_time": "2021-07-07T18:42:01.310Z"
   },
   {
    "duration": 8,
    "start_time": "2021-07-07T18:42:01.339Z"
   },
   {
    "duration": 20,
    "start_time": "2021-07-07T18:42:01.348Z"
   },
   {
    "duration": 6,
    "start_time": "2021-07-07T18:42:01.386Z"
   },
   {
    "duration": 16,
    "start_time": "2021-07-07T18:42:01.394Z"
   },
   {
    "duration": 9,
    "start_time": "2021-07-07T18:42:01.411Z"
   },
   {
    "duration": 11,
    "start_time": "2021-07-07T18:42:01.421Z"
   },
   {
    "duration": 31,
    "start_time": "2021-07-07T18:42:01.434Z"
   },
   {
    "duration": 18,
    "start_time": "2021-07-07T18:42:01.485Z"
   },
   {
    "duration": 23,
    "start_time": "2021-07-07T18:42:01.505Z"
   },
   {
    "duration": 6,
    "start_time": "2021-07-07T18:42:01.530Z"
   },
   {
    "duration": 10,
    "start_time": "2021-07-07T18:42:01.538Z"
   },
   {
    "duration": 13,
    "start_time": "2021-07-07T18:42:01.550Z"
   },
   {
    "duration": 24,
    "start_time": "2021-07-07T18:42:01.564Z"
   },
   {
    "duration": 20,
    "start_time": "2021-07-07T18:42:01.590Z"
   },
   {
    "duration": 8,
    "start_time": "2021-07-07T18:42:01.611Z"
   },
   {
    "duration": 31,
    "start_time": "2021-07-07T18:42:01.620Z"
   },
   {
    "duration": 39,
    "start_time": "2021-07-07T18:42:01.653Z"
   },
   {
    "duration": 8,
    "start_time": "2021-07-07T18:42:01.696Z"
   },
   {
    "duration": 13,
    "start_time": "2021-07-07T18:42:01.705Z"
   },
   {
    "duration": 20,
    "start_time": "2021-07-07T18:42:01.720Z"
   },
   {
    "duration": 12,
    "start_time": "2021-07-07T18:42:01.741Z"
   },
   {
    "duration": 35,
    "start_time": "2021-07-07T18:42:01.755Z"
   },
   {
    "duration": 14,
    "start_time": "2021-07-07T18:42:01.792Z"
   },
   {
    "duration": 188,
    "start_time": "2021-07-07T18:42:01.808Z"
   },
   {
    "duration": 19,
    "start_time": "2021-07-07T18:42:01.998Z"
   },
   {
    "duration": 175,
    "start_time": "2021-07-07T18:42:02.019Z"
   },
   {
    "duration": 134,
    "start_time": "2021-07-07T18:42:02.196Z"
   },
   {
    "duration": 10,
    "start_time": "2021-07-07T18:42:02.331Z"
   },
   {
    "duration": 19,
    "start_time": "2021-07-07T18:42:02.343Z"
   },
   {
    "duration": 628,
    "start_time": "2021-07-07T18:46:30.701Z"
   },
   {
    "duration": 183,
    "start_time": "2021-07-07T18:46:31.331Z"
   },
   {
    "duration": 48,
    "start_time": "2021-07-07T18:46:31.516Z"
   },
   {
    "duration": 5,
    "start_time": "2021-07-07T18:46:31.566Z"
   },
   {
    "duration": 28,
    "start_time": "2021-07-07T18:46:31.572Z"
   },
   {
    "duration": 8,
    "start_time": "2021-07-07T18:46:31.602Z"
   },
   {
    "duration": 19,
    "start_time": "2021-07-07T18:46:31.611Z"
   },
   {
    "duration": 6,
    "start_time": "2021-07-07T18:46:31.633Z"
   },
   {
    "duration": 17,
    "start_time": "2021-07-07T18:46:31.642Z"
   },
   {
    "duration": 10,
    "start_time": "2021-07-07T18:46:31.684Z"
   },
   {
    "duration": 9,
    "start_time": "2021-07-07T18:46:31.695Z"
   },
   {
    "duration": 28,
    "start_time": "2021-07-07T18:46:31.705Z"
   },
   {
    "duration": 18,
    "start_time": "2021-07-07T18:46:31.735Z"
   },
   {
    "duration": 48,
    "start_time": "2021-07-07T18:46:31.755Z"
   },
   {
    "duration": 6,
    "start_time": "2021-07-07T18:46:31.804Z"
   },
   {
    "duration": 4,
    "start_time": "2021-07-07T18:46:31.812Z"
   },
   {
    "duration": 9,
    "start_time": "2021-07-07T18:46:31.817Z"
   },
   {
    "duration": 10,
    "start_time": "2021-07-07T18:46:31.827Z"
   },
   {
    "duration": 12,
    "start_time": "2021-07-07T18:46:31.838Z"
   },
   {
    "duration": 39,
    "start_time": "2021-07-07T18:46:31.851Z"
   },
   {
    "duration": 24,
    "start_time": "2021-07-07T18:46:31.892Z"
   },
   {
    "duration": 15,
    "start_time": "2021-07-07T18:46:31.918Z"
   },
   {
    "duration": 7,
    "start_time": "2021-07-07T18:46:31.936Z"
   },
   {
    "duration": 8,
    "start_time": "2021-07-07T18:46:31.944Z"
   },
   {
    "duration": 19,
    "start_time": "2021-07-07T18:46:31.984Z"
   },
   {
    "duration": 10,
    "start_time": "2021-07-07T18:46:32.004Z"
   },
   {
    "duration": 5,
    "start_time": "2021-07-07T18:46:32.016Z"
   },
   {
    "duration": 9,
    "start_time": "2021-07-07T18:46:32.023Z"
   },
   {
    "duration": 199,
    "start_time": "2021-07-07T18:46:32.033Z"
   },
   {
    "duration": 19,
    "start_time": "2021-07-07T18:46:32.234Z"
   },
   {
    "duration": 159,
    "start_time": "2021-07-07T18:46:32.255Z"
   },
   {
    "duration": 134,
    "start_time": "2021-07-07T18:46:32.416Z"
   },
   {
    "duration": 10,
    "start_time": "2021-07-07T18:46:32.552Z"
   },
   {
    "duration": 34,
    "start_time": "2021-07-07T18:46:32.563Z"
   },
   {
    "duration": 1039,
    "start_time": "2021-07-08T08:41:09.419Z"
   },
   {
    "duration": 333,
    "start_time": "2021-07-08T08:41:10.459Z"
   },
   {
    "duration": 173,
    "start_time": "2021-07-08T08:41:10.794Z"
   },
   {
    "duration": 5,
    "start_time": "2021-07-08T08:41:10.968Z"
   },
   {
    "duration": 25,
    "start_time": "2021-07-08T08:41:10.975Z"
   },
   {
    "duration": 9,
    "start_time": "2021-07-08T08:41:11.002Z"
   },
   {
    "duration": 18,
    "start_time": "2021-07-08T08:41:11.013Z"
   },
   {
    "duration": 6,
    "start_time": "2021-07-08T08:41:11.033Z"
   },
   {
    "duration": 44,
    "start_time": "2021-07-08T08:41:11.042Z"
   },
   {
    "duration": 10,
    "start_time": "2021-07-08T08:41:11.088Z"
   },
   {
    "duration": 9,
    "start_time": "2021-07-08T08:41:11.100Z"
   },
   {
    "duration": 27,
    "start_time": "2021-07-08T08:41:11.111Z"
   },
   {
    "duration": 46,
    "start_time": "2021-07-08T08:41:11.140Z"
   },
   {
    "duration": 17,
    "start_time": "2021-07-08T08:41:11.187Z"
   },
   {
    "duration": 6,
    "start_time": "2021-07-08T08:41:11.206Z"
   },
   {
    "duration": 5,
    "start_time": "2021-07-08T08:41:11.213Z"
   },
   {
    "duration": 10,
    "start_time": "2021-07-08T08:41:11.219Z"
   },
   {
    "duration": 9,
    "start_time": "2021-07-08T08:41:11.230Z"
   },
   {
    "duration": 45,
    "start_time": "2021-07-08T08:41:11.241Z"
   },
   {
    "duration": 7,
    "start_time": "2021-07-08T08:41:11.287Z"
   },
   {
    "duration": 24,
    "start_time": "2021-07-08T08:41:11.296Z"
   },
   {
    "duration": 16,
    "start_time": "2021-07-08T08:41:11.322Z"
   },
   {
    "duration": 7,
    "start_time": "2021-07-08T08:41:11.341Z"
   },
   {
    "duration": 41,
    "start_time": "2021-07-08T08:41:11.349Z"
   },
   {
    "duration": 17,
    "start_time": "2021-07-08T08:41:11.391Z"
   },
   {
    "duration": 9,
    "start_time": "2021-07-08T08:41:11.410Z"
   },
   {
    "duration": 5,
    "start_time": "2021-07-08T08:41:11.421Z"
   },
   {
    "duration": 6,
    "start_time": "2021-07-08T08:41:11.428Z"
   },
   {
    "duration": 198,
    "start_time": "2021-07-08T08:41:11.435Z"
   },
   {
    "duration": 18,
    "start_time": "2021-07-08T08:41:11.635Z"
   },
   {
    "duration": 155,
    "start_time": "2021-07-08T08:41:11.655Z"
   },
   {
    "duration": 138,
    "start_time": "2021-07-08T08:41:11.811Z"
   },
   {
    "duration": 10,
    "start_time": "2021-07-08T08:41:11.950Z"
   },
   {
    "duration": 29,
    "start_time": "2021-07-08T08:41:11.961Z"
   },
   {
    "duration": 171,
    "start_time": "2021-07-08T08:47:44.522Z"
   },
   {
    "duration": 124,
    "start_time": "2021-07-08T08:47:46.872Z"
   },
   {
    "duration": 191,
    "start_time": "2021-07-08T08:47:58.148Z"
   },
   {
    "duration": 191,
    "start_time": "2021-07-08T08:48:07.412Z"
   },
   {
    "duration": 261,
    "start_time": "2021-07-08T08:48:10.385Z"
   },
   {
    "duration": 255,
    "start_time": "2021-07-08T08:48:14.494Z"
   },
   {
    "duration": 219,
    "start_time": "2021-07-08T08:48:22.752Z"
   },
   {
    "duration": 173,
    "start_time": "2021-07-08T08:49:06.395Z"
   },
   {
    "duration": 180,
    "start_time": "2021-07-08T08:49:21.011Z"
   },
   {
    "duration": 6,
    "start_time": "2021-07-08T08:50:31.697Z"
   },
   {
    "duration": 10,
    "start_time": "2021-07-08T08:50:47.394Z"
   },
   {
    "duration": 11,
    "start_time": "2021-07-08T08:53:49.332Z"
   },
   {
    "duration": 171,
    "start_time": "2021-07-08T08:54:28.408Z"
   },
   {
    "duration": 636,
    "start_time": "2021-07-08T09:02:48.385Z"
   },
   {
    "duration": 227,
    "start_time": "2021-07-08T09:02:49.023Z"
   },
   {
    "duration": 104,
    "start_time": "2021-07-08T09:02:49.252Z"
   },
   {
    "duration": 5,
    "start_time": "2021-07-08T09:02:49.358Z"
   },
   {
    "duration": 27,
    "start_time": "2021-07-08T09:02:49.365Z"
   },
   {
    "duration": 8,
    "start_time": "2021-07-08T09:02:49.394Z"
   },
   {
    "duration": 18,
    "start_time": "2021-07-08T09:02:49.404Z"
   },
   {
    "duration": 6,
    "start_time": "2021-07-08T09:02:49.424Z"
   },
   {
    "duration": 11,
    "start_time": "2021-07-08T09:02:49.433Z"
   },
   {
    "duration": 13,
    "start_time": "2021-07-08T09:02:49.485Z"
   },
   {
    "duration": 9,
    "start_time": "2021-07-08T09:02:49.500Z"
   },
   {
    "duration": 38,
    "start_time": "2021-07-08T09:02:49.511Z"
   },
   {
    "duration": 42,
    "start_time": "2021-07-08T09:02:49.551Z"
   },
   {
    "duration": 21,
    "start_time": "2021-07-08T09:02:49.594Z"
   },
   {
    "duration": 6,
    "start_time": "2021-07-08T09:02:49.616Z"
   },
   {
    "duration": 3,
    "start_time": "2021-07-08T09:02:49.623Z"
   },
   {
    "duration": 9,
    "start_time": "2021-07-08T09:02:49.628Z"
   },
   {
    "duration": 52,
    "start_time": "2021-07-08T09:02:49.638Z"
   },
   {
    "duration": 11,
    "start_time": "2021-07-08T09:02:49.692Z"
   },
   {
    "duration": 8,
    "start_time": "2021-07-08T09:02:49.704Z"
   },
   {
    "duration": 27,
    "start_time": "2021-07-08T09:02:49.713Z"
   },
   {
    "duration": 59,
    "start_time": "2021-07-08T09:02:49.741Z"
   },
   {
    "duration": 8,
    "start_time": "2021-07-08T09:02:49.803Z"
   },
   {
    "duration": 14,
    "start_time": "2021-07-08T09:02:49.813Z"
   },
   {
    "duration": 20,
    "start_time": "2021-07-08T09:02:49.829Z"
   },
   {
    "duration": 44,
    "start_time": "2021-07-08T09:02:49.851Z"
   },
   {
    "duration": 14,
    "start_time": "2021-07-08T09:02:49.896Z"
   },
   {
    "duration": 221,
    "start_time": "2021-07-08T09:02:49.912Z"
   },
   {
    "duration": 6,
    "start_time": "2021-07-08T09:02:50.134Z"
   },
   {
    "duration": 206,
    "start_time": "2021-07-08T09:02:50.142Z"
   },
   {
    "duration": 19,
    "start_time": "2021-07-08T09:02:50.350Z"
   },
   {
    "duration": 21,
    "start_time": "2021-07-08T09:02:50.370Z"
   },
   {
    "duration": 20,
    "start_time": "2021-07-08T09:02:50.393Z"
   },
   {
    "duration": 5,
    "start_time": "2021-07-08T09:02:50.414Z"
   },
   {
    "duration": 5,
    "start_time": "2021-07-08T09:03:34.173Z"
   },
   {
    "duration": 6,
    "start_time": "2021-07-08T09:04:49.062Z"
   },
   {
    "duration": 9,
    "start_time": "2021-07-08T09:04:50.118Z"
   },
   {
    "duration": 14,
    "start_time": "2021-07-08T09:04:58.512Z"
   },
   {
    "duration": 9,
    "start_time": "2021-07-08T09:05:10.988Z"
   },
   {
    "duration": 11,
    "start_time": "2021-07-08T09:05:11.743Z"
   },
   {
    "duration": 7,
    "start_time": "2021-07-08T09:05:25.677Z"
   },
   {
    "duration": 13,
    "start_time": "2021-07-08T09:05:47.189Z"
   },
   {
    "duration": 13,
    "start_time": "2021-07-08T09:05:54.755Z"
   },
   {
    "duration": 4,
    "start_time": "2021-07-08T09:06:29.189Z"
   },
   {
    "duration": 244,
    "start_time": "2021-07-08T09:06:29.195Z"
   },
   {
    "duration": 91,
    "start_time": "2021-07-08T09:06:29.441Z"
   },
   {
    "duration": 4,
    "start_time": "2021-07-08T09:06:29.534Z"
   },
   {
    "duration": 28,
    "start_time": "2021-07-08T09:06:29.540Z"
   },
   {
    "duration": 6,
    "start_time": "2021-07-08T09:06:29.570Z"
   },
   {
    "duration": 18,
    "start_time": "2021-07-08T09:06:29.578Z"
   },
   {
    "duration": 5,
    "start_time": "2021-07-08T09:06:29.597Z"
   },
   {
    "duration": 13,
    "start_time": "2021-07-08T09:06:29.605Z"
   },
   {
    "duration": 8,
    "start_time": "2021-07-08T09:06:29.620Z"
   },
   {
    "duration": 7,
    "start_time": "2021-07-08T09:06:29.630Z"
   },
   {
    "duration": 63,
    "start_time": "2021-07-08T09:06:29.639Z"
   },
   {
    "duration": 17,
    "start_time": "2021-07-08T09:06:29.704Z"
   },
   {
    "duration": 20,
    "start_time": "2021-07-08T09:06:29.723Z"
   },
   {
    "duration": 6,
    "start_time": "2021-07-08T09:06:29.745Z"
   },
   {
    "duration": 3,
    "start_time": "2021-07-08T09:06:29.752Z"
   },
   {
    "duration": 7,
    "start_time": "2021-07-08T09:06:29.785Z"
   },
   {
    "duration": 11,
    "start_time": "2021-07-08T09:06:29.794Z"
   },
   {
    "duration": 15,
    "start_time": "2021-07-08T09:06:29.807Z"
   },
   {
    "duration": 8,
    "start_time": "2021-07-08T09:06:29.823Z"
   },
   {
    "duration": 70,
    "start_time": "2021-07-08T09:06:29.832Z"
   },
   {
    "duration": 17,
    "start_time": "2021-07-08T09:06:29.903Z"
   },
   {
    "duration": 9,
    "start_time": "2021-07-08T09:06:29.921Z"
   },
   {
    "duration": 9,
    "start_time": "2021-07-08T09:06:29.932Z"
   },
   {
    "duration": 57,
    "start_time": "2021-07-08T09:06:29.942Z"
   },
   {
    "duration": 11,
    "start_time": "2021-07-08T09:06:30.001Z"
   },
   {
    "duration": 19,
    "start_time": "2021-07-08T09:06:30.016Z"
   },
   {
    "duration": 217,
    "start_time": "2021-07-08T09:06:30.037Z"
   },
   {
    "duration": 6,
    "start_time": "2021-07-08T09:06:30.255Z"
   },
   {
    "duration": 205,
    "start_time": "2021-07-08T09:06:30.263Z"
   },
   {
    "duration": 27,
    "start_time": "2021-07-08T09:06:30.470Z"
   },
   {
    "duration": 11,
    "start_time": "2021-07-08T09:06:30.500Z"
   },
   {
    "duration": 31,
    "start_time": "2021-07-08T09:06:30.513Z"
   },
   {
    "duration": 18,
    "start_time": "2021-07-08T09:06:30.546Z"
   },
   {
    "duration": 11,
    "start_time": "2021-07-08T09:06:30.566Z"
   },
   {
    "duration": 19,
    "start_time": "2021-07-08T09:06:30.579Z"
   },
   {
    "duration": 20,
    "start_time": "2021-07-08T09:06:49.466Z"
   },
   {
    "duration": 9,
    "start_time": "2021-07-08T09:06:51.994Z"
   },
   {
    "duration": 20,
    "start_time": "2021-07-08T09:06:52.273Z"
   },
   {
    "duration": 246,
    "start_time": "2021-07-08T09:10:21.272Z"
   },
   {
    "duration": 84,
    "start_time": "2021-07-08T09:10:21.436Z"
   },
   {
    "duration": 7,
    "start_time": "2021-07-08T09:10:37.608Z"
   },
   {
    "duration": 189,
    "start_time": "2021-07-08T09:10:38.573Z"
   },
   {
    "duration": 185,
    "start_time": "2021-07-08T09:10:53.181Z"
   },
   {
    "duration": 11,
    "start_time": "2021-07-08T09:10:59.549Z"
   },
   {
    "duration": 42,
    "start_time": "2021-07-08T09:10:59.709Z"
   },
   {
    "duration": 12,
    "start_time": "2021-07-08T09:11:02.857Z"
   },
   {
    "duration": 28,
    "start_time": "2021-07-08T09:11:10.062Z"
   },
   {
    "duration": 249,
    "start_time": "2021-07-08T09:11:37.388Z"
   },
   {
    "duration": 232,
    "start_time": "2021-07-08T09:11:49.485Z"
   },
   {
    "duration": 453,
    "start_time": "2021-07-08T09:12:01.546Z"
   },
   {
    "duration": 440,
    "start_time": "2021-07-08T09:12:12.347Z"
   },
   {
    "duration": 213,
    "start_time": "2021-07-08T09:13:32.196Z"
   },
   {
    "duration": 172,
    "start_time": "2021-07-08T09:14:07.400Z"
   },
   {
    "duration": 185,
    "start_time": "2021-07-08T09:14:14.905Z"
   },
   {
    "duration": 209,
    "start_time": "2021-07-08T09:14:40.109Z"
   },
   {
    "duration": 201,
    "start_time": "2021-07-08T09:14:54.506Z"
   },
   {
    "duration": 622,
    "start_time": "2021-07-08T09:18:14.497Z"
   },
   {
    "duration": 220,
    "start_time": "2021-07-08T09:18:15.121Z"
   },
   {
    "duration": 79,
    "start_time": "2021-07-08T09:18:15.343Z"
   },
   {
    "duration": 4,
    "start_time": "2021-07-08T09:18:15.425Z"
   },
   {
    "duration": 24,
    "start_time": "2021-07-08T09:18:15.431Z"
   },
   {
    "duration": 8,
    "start_time": "2021-07-08T09:18:15.457Z"
   },
   {
    "duration": 16,
    "start_time": "2021-07-08T09:18:15.466Z"
   },
   {
    "duration": 5,
    "start_time": "2021-07-08T09:18:15.484Z"
   },
   {
    "duration": 10,
    "start_time": "2021-07-08T09:18:15.493Z"
   },
   {
    "duration": 8,
    "start_time": "2021-07-08T09:18:15.504Z"
   },
   {
    "duration": 7,
    "start_time": "2021-07-08T09:18:15.513Z"
   },
   {
    "duration": 26,
    "start_time": "2021-07-08T09:18:15.522Z"
   },
   {
    "duration": 49,
    "start_time": "2021-07-08T09:18:15.550Z"
   },
   {
    "duration": 21,
    "start_time": "2021-07-08T09:18:15.601Z"
   },
   {
    "duration": 8,
    "start_time": "2021-07-08T09:18:15.624Z"
   },
   {
    "duration": 3,
    "start_time": "2021-07-08T09:18:15.634Z"
   },
   {
    "duration": 8,
    "start_time": "2021-07-08T09:18:15.639Z"
   },
   {
    "duration": 45,
    "start_time": "2021-07-08T09:18:15.649Z"
   },
   {
    "duration": 13,
    "start_time": "2021-07-08T09:18:15.696Z"
   },
   {
    "duration": 10,
    "start_time": "2021-07-08T09:18:15.711Z"
   },
   {
    "duration": 64,
    "start_time": "2021-07-08T09:18:15.722Z"
   },
   {
    "duration": 19,
    "start_time": "2021-07-08T09:18:15.788Z"
   },
   {
    "duration": 9,
    "start_time": "2021-07-08T09:18:15.809Z"
   },
   {
    "duration": 9,
    "start_time": "2021-07-08T09:18:15.820Z"
   },
   {
    "duration": 18,
    "start_time": "2021-07-08T09:18:15.831Z"
   },
   {
    "duration": 43,
    "start_time": "2021-07-08T09:18:15.851Z"
   },
   {
    "duration": 12,
    "start_time": "2021-07-08T09:18:15.897Z"
   },
   {
    "duration": 219,
    "start_time": "2021-07-08T09:18:15.911Z"
   },
   {
    "duration": 8,
    "start_time": "2021-07-08T09:18:16.132Z"
   },
   {
    "duration": 199,
    "start_time": "2021-07-08T09:18:16.141Z"
   },
   {
    "duration": 18,
    "start_time": "2021-07-08T09:18:16.341Z"
   },
   {
    "duration": 24,
    "start_time": "2021-07-08T09:18:16.361Z"
   },
   {
    "duration": 24,
    "start_time": "2021-07-08T09:18:16.387Z"
   },
   {
    "duration": 211,
    "start_time": "2021-07-08T09:18:16.413Z"
   },
   {
    "duration": 18,
    "start_time": "2021-07-08T09:18:16.626Z"
   },
   {
    "duration": 596,
    "start_time": "2021-07-08T10:06:33.623Z"
   },
   {
    "duration": 181,
    "start_time": "2021-07-08T10:06:34.221Z"
   },
   {
    "duration": 176,
    "start_time": "2021-07-08T10:06:34.635Z"
   },
   {
    "duration": 239,
    "start_time": "2021-07-08T10:06:55.572Z"
   },
   {
    "duration": 6,
    "start_time": "2021-07-08T10:06:57.687Z"
   },
   {
    "duration": 4,
    "start_time": "2021-07-08T10:07:03.956Z"
   },
   {
    "duration": 4,
    "start_time": "2021-07-08T10:07:10.376Z"
   },
   {
    "duration": 4,
    "start_time": "2021-07-08T10:17:19.889Z"
   },
   {
    "duration": 3,
    "start_time": "2021-07-08T10:19:19.407Z"
   },
   {
    "duration": 197,
    "start_time": "2021-07-08T10:19:19.412Z"
   },
   {
    "duration": 127,
    "start_time": "2021-07-08T10:19:19.611Z"
   },
   {
    "duration": 4,
    "start_time": "2021-07-08T10:19:19.740Z"
   },
   {
    "duration": 27,
    "start_time": "2021-07-08T10:19:19.746Z"
   },
   {
    "duration": 7,
    "start_time": "2021-07-08T10:19:19.775Z"
   },
   {
    "duration": 30,
    "start_time": "2021-07-08T10:19:19.784Z"
   },
   {
    "duration": 7,
    "start_time": "2021-07-08T10:19:19.817Z"
   },
   {
    "duration": 26,
    "start_time": "2021-07-08T10:19:19.826Z"
   },
   {
    "duration": 18,
    "start_time": "2021-07-08T10:19:19.854Z"
   },
   {
    "duration": 14,
    "start_time": "2021-07-08T10:19:19.874Z"
   },
   {
    "duration": 48,
    "start_time": "2021-07-08T10:19:19.890Z"
   },
   {
    "duration": 17,
    "start_time": "2021-07-08T10:19:19.940Z"
   },
   {
    "duration": 38,
    "start_time": "2021-07-08T10:19:19.959Z"
   },
   {
    "duration": 8,
    "start_time": "2021-07-08T10:19:19.999Z"
   },
   {
    "duration": 15,
    "start_time": "2021-07-08T10:19:20.009Z"
   },
   {
    "duration": 22,
    "start_time": "2021-07-08T10:19:20.026Z"
   },
   {
    "duration": 10,
    "start_time": "2021-07-08T10:19:20.050Z"
   },
   {
    "duration": 10,
    "start_time": "2021-07-08T10:19:20.062Z"
   },
   {
    "duration": 20,
    "start_time": "2021-07-08T10:19:20.073Z"
   },
   {
    "duration": 29,
    "start_time": "2021-07-08T10:19:20.095Z"
   },
   {
    "duration": 17,
    "start_time": "2021-07-08T10:19:20.126Z"
   },
   {
    "duration": 40,
    "start_time": "2021-07-08T10:19:20.146Z"
   },
   {
    "duration": 15,
    "start_time": "2021-07-08T10:19:20.189Z"
   },
   {
    "duration": 19,
    "start_time": "2021-07-08T10:19:20.206Z"
   },
   {
    "duration": 10,
    "start_time": "2021-07-08T10:19:20.226Z"
   },
   {
    "duration": 11,
    "start_time": "2021-07-08T10:19:20.238Z"
   },
   {
    "duration": 297,
    "start_time": "2021-07-08T10:19:20.250Z"
   },
   {
    "duration": 6,
    "start_time": "2021-07-08T10:19:20.549Z"
   },
   {
    "duration": 191,
    "start_time": "2021-07-08T10:19:20.557Z"
   },
   {
    "duration": 19,
    "start_time": "2021-07-08T10:19:20.750Z"
   },
   {
    "duration": 20,
    "start_time": "2021-07-08T10:19:20.771Z"
   },
   {
    "duration": 15,
    "start_time": "2021-07-08T10:19:20.793Z"
   },
   {
    "duration": 222,
    "start_time": "2021-07-08T10:19:20.809Z"
   },
   {
    "duration": 20,
    "start_time": "2021-07-08T10:19:21.033Z"
   },
   {
    "duration": 27,
    "start_time": "2021-07-08T10:45:04.055Z"
   },
   {
    "duration": 8,
    "start_time": "2021-07-08T10:45:08.478Z"
   },
   {
    "duration": 8,
    "start_time": "2021-07-08T10:45:31.982Z"
   },
   {
    "duration": 10,
    "start_time": "2021-07-08T10:46:01.221Z"
   },
   {
    "duration": 17,
    "start_time": "2021-07-08T10:46:40.011Z"
   },
   {
    "duration": 193,
    "start_time": "2021-07-08T10:48:19.471Z"
   },
   {
    "duration": 225,
    "start_time": "2021-07-08T10:49:26.480Z"
   },
   {
    "duration": 204,
    "start_time": "2021-07-08T10:49:59.992Z"
   },
   {
    "duration": 435,
    "start_time": "2021-07-08T10:50:06.779Z"
   },
   {
    "duration": 199,
    "start_time": "2021-07-08T10:50:14.891Z"
   },
   {
    "duration": 204,
    "start_time": "2021-07-08T10:50:18.501Z"
   },
   {
    "duration": 244,
    "start_time": "2021-07-08T10:50:23.359Z"
   },
   {
    "duration": 192,
    "start_time": "2021-07-08T10:50:29.135Z"
   },
   {
    "duration": 218,
    "start_time": "2021-07-08T10:50:33.092Z"
   },
   {
    "duration": 207,
    "start_time": "2021-07-08T10:52:45.381Z"
   },
   {
    "duration": 5,
    "start_time": "2021-07-08T10:53:34.641Z"
   },
   {
    "duration": 196,
    "start_time": "2021-07-08T10:53:41.478Z"
   },
   {
    "duration": 43,
    "start_time": "2021-07-08T10:53:50.335Z"
   },
   {
    "duration": 32,
    "start_time": "2021-07-08T10:53:55.294Z"
   },
   {
    "duration": 55,
    "start_time": "2021-07-08T10:54:09.675Z"
   },
   {
    "duration": 16,
    "start_time": "2021-07-08T10:54:12.260Z"
   },
   {
    "duration": 15,
    "start_time": "2021-07-08T10:54:49.150Z"
   },
   {
    "duration": 20,
    "start_time": "2021-07-08T10:56:07.596Z"
   },
   {
    "duration": 16,
    "start_time": "2021-07-08T10:58:26.276Z"
   },
   {
    "duration": 22,
    "start_time": "2021-07-08T10:59:00.486Z"
   },
   {
    "duration": 18,
    "start_time": "2021-07-08T11:02:09.653Z"
   },
   {
    "duration": 10,
    "start_time": "2021-07-08T11:03:44.331Z"
   },
   {
    "duration": 10,
    "start_time": "2021-07-08T11:03:54.055Z"
   },
   {
    "duration": 12,
    "start_time": "2021-07-08T11:04:41.967Z"
   },
   {
    "duration": 24,
    "start_time": "2021-07-08T11:07:30.732Z"
   },
   {
    "duration": 6,
    "start_time": "2021-07-08T11:07:37.364Z"
   },
   {
    "duration": 16,
    "start_time": "2021-07-08T11:08:01.819Z"
   },
   {
    "duration": 17,
    "start_time": "2021-07-08T11:09:47.488Z"
   },
   {
    "duration": 246,
    "start_time": "2021-07-08T11:10:00.830Z"
   },
   {
    "duration": 18,
    "start_time": "2021-07-08T11:13:55.195Z"
   },
   {
    "duration": 204,
    "start_time": "2021-07-08T11:14:04.951Z"
   },
   {
    "duration": 19,
    "start_time": "2021-07-08T11:15:10.613Z"
   },
   {
    "duration": 680,
    "start_time": "2021-07-08T11:16:25.793Z"
   },
   {
    "duration": 451,
    "start_time": "2021-07-08T11:16:40.313Z"
   },
   {
    "duration": 469,
    "start_time": "2021-07-08T11:17:21.286Z"
   },
   {
    "duration": 20,
    "start_time": "2021-07-08T11:19:12.554Z"
   },
   {
    "duration": 35,
    "start_time": "2021-07-08T11:20:05.484Z"
   },
   {
    "duration": 53,
    "start_time": "2021-07-08T11:21:40.050Z"
   },
   {
    "duration": 13,
    "start_time": "2021-07-08T11:22:26.059Z"
   },
   {
    "duration": 19,
    "start_time": "2021-07-08T11:22:47.419Z"
   },
   {
    "duration": 25,
    "start_time": "2021-07-08T11:23:19.958Z"
   },
   {
    "duration": 29,
    "start_time": "2021-07-08T11:23:25.415Z"
   },
   {
    "duration": 10,
    "start_time": "2021-07-08T11:24:45.138Z"
   },
   {
    "duration": 19,
    "start_time": "2021-07-08T11:24:54.498Z"
   },
   {
    "duration": 12,
    "start_time": "2021-07-08T11:25:32.225Z"
   },
   {
    "duration": 19,
    "start_time": "2021-07-08T11:25:37.092Z"
   },
   {
    "duration": 17,
    "start_time": "2021-07-08T11:25:58.116Z"
   },
   {
    "duration": 15,
    "start_time": "2021-07-08T11:26:02.258Z"
   },
   {
    "duration": 8,
    "start_time": "2021-07-08T11:26:59.682Z"
   },
   {
    "duration": 184,
    "start_time": "2021-07-08T11:27:21.894Z"
   },
   {
    "duration": 8,
    "start_time": "2021-07-08T11:27:23.824Z"
   },
   {
    "duration": 202,
    "start_time": "2021-07-08T11:27:23.962Z"
   },
   {
    "duration": 360,
    "start_time": "2021-07-08T11:28:33.215Z"
   },
   {
    "duration": 231,
    "start_time": "2021-07-08T11:32:05.542Z"
   },
   {
    "duration": 607,
    "start_time": "2021-07-08T11:36:27.854Z"
   },
   {
    "duration": 241,
    "start_time": "2021-07-08T11:36:28.463Z"
   },
   {
    "duration": 67,
    "start_time": "2021-07-08T11:36:28.709Z"
   },
   {
    "duration": 5,
    "start_time": "2021-07-08T11:36:28.778Z"
   },
   {
    "duration": 32,
    "start_time": "2021-07-08T11:36:28.784Z"
   },
   {
    "duration": 11,
    "start_time": "2021-07-08T11:36:28.819Z"
   },
   {
    "duration": 20,
    "start_time": "2021-07-08T11:36:28.834Z"
   },
   {
    "duration": 36,
    "start_time": "2021-07-08T11:36:28.857Z"
   },
   {
    "duration": 16,
    "start_time": "2021-07-08T11:36:28.895Z"
   },
   {
    "duration": 14,
    "start_time": "2021-07-08T11:36:28.913Z"
   },
   {
    "duration": 9,
    "start_time": "2021-07-08T11:36:28.930Z"
   },
   {
    "duration": 55,
    "start_time": "2021-07-08T11:36:28.941Z"
   },
   {
    "duration": 27,
    "start_time": "2021-07-08T11:36:28.999Z"
   },
   {
    "duration": 30,
    "start_time": "2021-07-08T11:36:29.028Z"
   },
   {
    "duration": 31,
    "start_time": "2021-07-08T11:36:29.060Z"
   },
   {
    "duration": 3,
    "start_time": "2021-07-08T11:36:29.093Z"
   },
   {
    "duration": 12,
    "start_time": "2021-07-08T11:36:29.099Z"
   },
   {
    "duration": 11,
    "start_time": "2021-07-08T11:36:29.112Z"
   },
   {
    "duration": 12,
    "start_time": "2021-07-08T11:36:29.125Z"
   },
   {
    "duration": 9,
    "start_time": "2021-07-08T11:36:29.139Z"
   },
   {
    "duration": 31,
    "start_time": "2021-07-08T11:36:29.191Z"
   },
   {
    "duration": 17,
    "start_time": "2021-07-08T11:36:29.226Z"
   },
   {
    "duration": 7,
    "start_time": "2021-07-08T11:36:29.245Z"
   },
   {
    "duration": 10,
    "start_time": "2021-07-08T11:36:29.254Z"
   },
   {
    "duration": 30,
    "start_time": "2021-07-08T11:36:29.292Z"
   },
   {
    "duration": 11,
    "start_time": "2021-07-08T11:36:29.324Z"
   },
   {
    "duration": 11,
    "start_time": "2021-07-08T11:36:29.337Z"
   },
   {
    "duration": 230,
    "start_time": "2021-07-08T11:36:29.349Z"
   },
   {
    "duration": 13,
    "start_time": "2021-07-08T11:36:29.588Z"
   },
   {
    "duration": 205,
    "start_time": "2021-07-08T11:36:29.603Z"
   },
   {
    "duration": 20,
    "start_time": "2021-07-08T11:36:29.810Z"
   },
   {
    "duration": 9,
    "start_time": "2021-07-08T11:36:29.832Z"
   },
   {
    "duration": 16,
    "start_time": "2021-07-08T11:36:29.843Z"
   },
   {
    "duration": 283,
    "start_time": "2021-07-08T11:36:29.861Z"
   },
   {
    "duration": 50,
    "start_time": "2021-07-08T11:36:30.146Z"
   },
   {
    "duration": 14,
    "start_time": "2021-07-08T11:36:30.198Z"
   },
   {
    "duration": 11,
    "start_time": "2021-07-08T11:36:30.214Z"
   },
   {
    "duration": 245,
    "start_time": "2021-07-08T11:36:30.227Z"
   },
   {
    "duration": 439,
    "start_time": "2021-07-08T11:36:30.474Z"
   },
   {
    "duration": 210,
    "start_time": "2021-07-08T11:36:30.915Z"
   },
   {
    "duration": 15,
    "start_time": "2021-07-08T11:36:31.127Z"
   },
   {
    "duration": 17,
    "start_time": "2021-07-08T11:38:20.451Z"
   },
   {
    "duration": 642,
    "start_time": "2021-07-08T11:46:17.881Z"
   },
   {
    "duration": 210,
    "start_time": "2021-07-08T11:46:18.525Z"
   },
   {
    "duration": 104,
    "start_time": "2021-07-08T11:46:18.741Z"
   },
   {
    "duration": 8,
    "start_time": "2021-07-08T11:46:18.847Z"
   },
   {
    "duration": 25,
    "start_time": "2021-07-08T11:46:18.857Z"
   },
   {
    "duration": 14,
    "start_time": "2021-07-08T11:46:18.884Z"
   },
   {
    "duration": 22,
    "start_time": "2021-07-08T11:46:18.900Z"
   },
   {
    "duration": 5,
    "start_time": "2021-07-08T11:46:18.924Z"
   },
   {
    "duration": 13,
    "start_time": "2021-07-08T11:46:18.931Z"
   },
   {
    "duration": 45,
    "start_time": "2021-07-08T11:46:18.946Z"
   },
   {
    "duration": 12,
    "start_time": "2021-07-08T11:46:18.993Z"
   },
   {
    "duration": 38,
    "start_time": "2021-07-08T11:46:19.006Z"
   },
   {
    "duration": 50,
    "start_time": "2021-07-08T11:46:19.046Z"
   },
   {
    "duration": 29,
    "start_time": "2021-07-08T11:46:19.099Z"
   },
   {
    "duration": 7,
    "start_time": "2021-07-08T11:46:19.130Z"
   },
   {
    "duration": 3,
    "start_time": "2021-07-08T11:46:19.139Z"
   },
   {
    "duration": 11,
    "start_time": "2021-07-08T11:46:19.144Z"
   },
   {
    "duration": 40,
    "start_time": "2021-07-08T11:46:19.157Z"
   },
   {
    "duration": 15,
    "start_time": "2021-07-08T11:46:19.199Z"
   },
   {
    "duration": 10,
    "start_time": "2021-07-08T11:46:19.217Z"
   },
   {
    "duration": 68,
    "start_time": "2021-07-08T11:46:19.230Z"
   },
   {
    "duration": 17,
    "start_time": "2021-07-08T11:46:19.301Z"
   },
   {
    "duration": 7,
    "start_time": "2021-07-08T11:46:19.321Z"
   },
   {
    "duration": 11,
    "start_time": "2021-07-08T11:46:19.330Z"
   },
   {
    "duration": 59,
    "start_time": "2021-07-08T11:46:19.343Z"
   },
   {
    "duration": 17,
    "start_time": "2021-07-08T11:46:19.405Z"
   },
   {
    "duration": 16,
    "start_time": "2021-07-08T11:46:19.424Z"
   },
   {
    "duration": 252,
    "start_time": "2021-07-08T11:46:19.443Z"
   },
   {
    "duration": 9,
    "start_time": "2021-07-08T11:46:19.697Z"
   },
   {
    "duration": 224,
    "start_time": "2021-07-08T11:46:19.708Z"
   },
   {
    "duration": 21,
    "start_time": "2021-07-08T11:46:19.934Z"
   },
   {
    "duration": 9,
    "start_time": "2021-07-08T11:46:19.956Z"
   },
   {
    "duration": 32,
    "start_time": "2021-07-08T11:46:19.967Z"
   },
   {
    "duration": 288,
    "start_time": "2021-07-08T11:46:20.004Z"
   },
   {
    "duration": 23,
    "start_time": "2021-07-08T11:46:20.300Z"
   },
   {
    "duration": 11,
    "start_time": "2021-07-08T11:46:20.325Z"
   },
   {
    "duration": 11,
    "start_time": "2021-07-08T11:46:20.339Z"
   },
   {
    "duration": 259,
    "start_time": "2021-07-08T11:46:20.352Z"
   },
   {
    "duration": 438,
    "start_time": "2021-07-08T11:46:20.613Z"
   },
   {
    "duration": 207,
    "start_time": "2021-07-08T11:46:21.054Z"
   },
   {
    "duration": 27,
    "start_time": "2021-07-08T11:46:21.262Z"
   },
   {
    "duration": 19,
    "start_time": "2021-07-08T11:46:21.291Z"
   },
   {
    "duration": 820,
    "start_time": "2021-07-08T11:49:01.655Z"
   },
   {
    "duration": 372,
    "start_time": "2021-07-08T11:49:02.478Z"
   },
   {
    "duration": 98,
    "start_time": "2021-07-08T11:49:02.853Z"
   },
   {
    "duration": 6,
    "start_time": "2021-07-08T11:49:02.953Z"
   },
   {
    "duration": 39,
    "start_time": "2021-07-08T11:49:02.960Z"
   },
   {
    "duration": 9,
    "start_time": "2021-07-08T11:49:03.003Z"
   },
   {
    "duration": 23,
    "start_time": "2021-07-08T11:49:03.014Z"
   },
   {
    "duration": 6,
    "start_time": "2021-07-08T11:49:03.041Z"
   },
   {
    "duration": 20,
    "start_time": "2021-07-08T11:49:03.049Z"
   },
   {
    "duration": 18,
    "start_time": "2021-07-08T11:49:03.084Z"
   },
   {
    "duration": 14,
    "start_time": "2021-07-08T11:49:03.104Z"
   },
   {
    "duration": 39,
    "start_time": "2021-07-08T11:49:03.119Z"
   },
   {
    "duration": 38,
    "start_time": "2021-07-08T11:49:03.160Z"
   },
   {
    "duration": 26,
    "start_time": "2021-07-08T11:49:03.200Z"
   },
   {
    "duration": 7,
    "start_time": "2021-07-08T11:49:03.227Z"
   },
   {
    "duration": 4,
    "start_time": "2021-07-08T11:49:03.236Z"
   },
   {
    "duration": 15,
    "start_time": "2021-07-08T11:49:03.243Z"
   },
   {
    "duration": 21,
    "start_time": "2021-07-08T11:49:03.285Z"
   },
   {
    "duration": 17,
    "start_time": "2021-07-08T11:49:03.309Z"
   },
   {
    "duration": 10,
    "start_time": "2021-07-08T11:49:03.328Z"
   },
   {
    "duration": 65,
    "start_time": "2021-07-08T11:49:03.340Z"
   },
   {
    "duration": 18,
    "start_time": "2021-07-08T11:49:03.407Z"
   },
   {
    "duration": 8,
    "start_time": "2021-07-08T11:49:03.428Z"
   },
   {
    "duration": 15,
    "start_time": "2021-07-08T11:49:03.438Z"
   },
   {
    "duration": 40,
    "start_time": "2021-07-08T11:49:03.455Z"
   },
   {
    "duration": 12,
    "start_time": "2021-07-08T11:49:03.497Z"
   },
   {
    "duration": 29,
    "start_time": "2021-07-08T11:49:03.511Z"
   },
   {
    "duration": 285,
    "start_time": "2021-07-08T11:49:03.542Z"
   },
   {
    "duration": 8,
    "start_time": "2021-07-08T11:49:03.829Z"
   },
   {
    "duration": 227,
    "start_time": "2021-07-08T11:49:03.838Z"
   },
   {
    "duration": 40,
    "start_time": "2021-07-08T11:49:04.066Z"
   },
   {
    "duration": 10,
    "start_time": "2021-07-08T11:49:04.108Z"
   },
   {
    "duration": 26,
    "start_time": "2021-07-08T11:49:04.121Z"
   },
   {
    "duration": 290,
    "start_time": "2021-07-08T11:49:04.149Z"
   },
   {
    "duration": 26,
    "start_time": "2021-07-08T11:49:04.441Z"
   },
   {
    "duration": 31,
    "start_time": "2021-07-08T11:49:04.470Z"
   },
   {
    "duration": 14,
    "start_time": "2021-07-08T11:49:04.503Z"
   },
   {
    "duration": 259,
    "start_time": "2021-07-08T11:49:04.521Z"
   },
   {
    "duration": 480,
    "start_time": "2021-07-08T11:49:04.782Z"
   },
   {
    "duration": 225,
    "start_time": "2021-07-08T11:49:05.264Z"
   },
   {
    "duration": 22,
    "start_time": "2021-07-08T11:49:05.491Z"
   },
   {
    "duration": 24,
    "start_time": "2021-07-08T11:49:05.515Z"
   },
   {
    "duration": 634,
    "start_time": "2021-07-08T11:52:24.960Z"
   },
   {
    "duration": 199,
    "start_time": "2021-07-08T11:52:25.599Z"
   },
   {
    "duration": 106,
    "start_time": "2021-07-08T11:52:25.803Z"
   },
   {
    "duration": 7,
    "start_time": "2021-07-08T11:52:25.911Z"
   },
   {
    "duration": 29,
    "start_time": "2021-07-08T11:52:25.920Z"
   },
   {
    "duration": 7,
    "start_time": "2021-07-08T11:52:25.951Z"
   },
   {
    "duration": 26,
    "start_time": "2021-07-08T11:52:25.961Z"
   },
   {
    "duration": 11,
    "start_time": "2021-07-08T11:52:25.990Z"
   },
   {
    "duration": 29,
    "start_time": "2021-07-08T11:52:26.005Z"
   },
   {
    "duration": 9,
    "start_time": "2021-07-08T11:52:26.036Z"
   },
   {
    "duration": 8,
    "start_time": "2021-07-08T11:52:26.047Z"
   },
   {
    "duration": 63,
    "start_time": "2021-07-08T11:52:26.057Z"
   },
   {
    "duration": 17,
    "start_time": "2021-07-08T11:52:26.122Z"
   },
   {
    "duration": 43,
    "start_time": "2021-07-08T11:52:26.142Z"
   },
   {
    "duration": 17,
    "start_time": "2021-07-08T11:52:26.187Z"
   },
   {
    "duration": 5,
    "start_time": "2021-07-08T11:52:26.206Z"
   },
   {
    "duration": 12,
    "start_time": "2021-07-08T11:52:26.212Z"
   },
   {
    "duration": 11,
    "start_time": "2021-07-08T11:52:26.226Z"
   },
   {
    "duration": 12,
    "start_time": "2021-07-08T11:52:26.238Z"
   },
   {
    "duration": 38,
    "start_time": "2021-07-08T11:52:26.252Z"
   },
   {
    "duration": 40,
    "start_time": "2021-07-08T11:52:26.292Z"
   },
   {
    "duration": 17,
    "start_time": "2021-07-08T11:52:26.336Z"
   },
   {
    "duration": 39,
    "start_time": "2021-07-08T11:52:26.355Z"
   },
   {
    "duration": 11,
    "start_time": "2021-07-08T11:52:26.395Z"
   },
   {
    "duration": 23,
    "start_time": "2021-07-08T11:52:26.408Z"
   },
   {
    "duration": 12,
    "start_time": "2021-07-08T11:52:26.432Z"
   },
   {
    "duration": 41,
    "start_time": "2021-07-08T11:52:26.446Z"
   },
   {
    "duration": 215,
    "start_time": "2021-07-08T11:52:26.493Z"
   },
   {
    "duration": 8,
    "start_time": "2021-07-08T11:52:26.710Z"
   },
   {
    "duration": 228,
    "start_time": "2021-07-08T11:52:26.720Z"
   },
   {
    "duration": 18,
    "start_time": "2021-07-08T11:52:26.950Z"
   },
   {
    "duration": 35,
    "start_time": "2021-07-08T11:52:26.969Z"
   },
   {
    "duration": 23,
    "start_time": "2021-07-08T11:52:27.006Z"
   },
   {
    "duration": 258,
    "start_time": "2021-07-08T11:52:27.030Z"
   },
   {
    "duration": 24,
    "start_time": "2021-07-08T11:52:27.290Z"
   },
   {
    "duration": 12,
    "start_time": "2021-07-08T11:52:27.316Z"
   },
   {
    "duration": 10,
    "start_time": "2021-07-08T11:52:27.329Z"
   },
   {
    "duration": 298,
    "start_time": "2021-07-08T11:52:27.341Z"
   },
   {
    "duration": 436,
    "start_time": "2021-07-08T11:52:27.641Z"
   },
   {
    "duration": 216,
    "start_time": "2021-07-08T11:52:28.079Z"
   },
   {
    "duration": 20,
    "start_time": "2021-07-08T11:52:28.297Z"
   },
   {
    "duration": 17,
    "start_time": "2021-07-08T11:52:28.319Z"
   },
   {
    "duration": 775,
    "start_time": "2023-04-05T11:50:57.774Z"
   },
   {
    "duration": 312,
    "start_time": "2023-04-05T11:53:33.974Z"
   },
   {
    "duration": 112,
    "start_time": "2023-04-05T11:54:09.193Z"
   },
   {
    "duration": 24,
    "start_time": "2023-04-05T11:54:11.784Z"
   },
   {
    "duration": 14,
    "start_time": "2023-04-05T11:54:32.966Z"
   },
   {
    "duration": 23,
    "start_time": "2023-04-05T11:54:48.971Z"
   },
   {
    "duration": 7,
    "start_time": "2023-04-05T11:55:12.393Z"
   },
   {
    "duration": 80,
    "start_time": "2023-04-05T12:04:11.377Z"
   },
   {
    "duration": 7,
    "start_time": "2023-04-05T12:06:03.405Z"
   },
   {
    "duration": 16,
    "start_time": "2023-04-05T12:06:17.245Z"
   },
   {
    "duration": 12,
    "start_time": "2023-04-05T12:07:29.212Z"
   },
   {
    "duration": 10,
    "start_time": "2023-04-05T12:07:31.948Z"
   },
   {
    "duration": 18,
    "start_time": "2023-04-05T12:07:44.469Z"
   },
   {
    "duration": 6,
    "start_time": "2023-04-05T12:08:50.042Z"
   },
   {
    "duration": 6,
    "start_time": "2023-04-05T12:08:55.806Z"
   },
   {
    "duration": 27,
    "start_time": "2023-04-05T12:09:22.991Z"
   },
   {
    "duration": 18,
    "start_time": "2023-04-05T12:10:03.095Z"
   },
   {
    "duration": 22,
    "start_time": "2023-04-05T12:10:36.073Z"
   },
   {
    "duration": 11,
    "start_time": "2023-04-05T12:10:57.973Z"
   },
   {
    "duration": 11,
    "start_time": "2023-04-05T12:14:52.717Z"
   },
   {
    "duration": 7,
    "start_time": "2023-04-05T12:19:50.618Z"
   },
   {
    "duration": 27,
    "start_time": "2023-04-05T12:19:55.934Z"
   },
   {
    "duration": 14,
    "start_time": "2023-04-05T12:44:17.635Z"
   },
   {
    "duration": 16,
    "start_time": "2023-04-05T12:44:28.984Z"
   },
   {
    "duration": 12,
    "start_time": "2023-04-05T13:00:53.935Z"
   },
   {
    "duration": 8,
    "start_time": "2023-04-05T13:03:21.706Z"
   },
   {
    "duration": 4,
    "start_time": "2023-04-05T13:03:32.360Z"
   },
   {
    "duration": 12,
    "start_time": "2023-04-05T13:03:34.826Z"
   },
   {
    "duration": 3,
    "start_time": "2023-04-05T13:05:25.765Z"
   },
   {
    "duration": 15,
    "start_time": "2023-04-05T13:05:52.013Z"
   },
   {
    "duration": 12,
    "start_time": "2023-04-05T13:06:50.194Z"
   },
   {
    "duration": 15,
    "start_time": "2023-04-05T13:07:42.642Z"
   },
   {
    "duration": 23,
    "start_time": "2023-04-05T13:12:44.839Z"
   },
   {
    "duration": 17,
    "start_time": "2023-04-05T13:12:58.931Z"
   },
   {
    "duration": 50,
    "start_time": "2023-04-05T19:45:02.980Z"
   },
   {
    "duration": 7,
    "start_time": "2023-04-05T19:45:20.077Z"
   },
   {
    "duration": 7,
    "start_time": "2023-04-05T19:45:23.274Z"
   },
   {
    "duration": 887,
    "start_time": "2023-04-05T19:45:28.943Z"
   },
   {
    "duration": 320,
    "start_time": "2023-04-05T19:45:31.897Z"
   },
   {
    "duration": 21,
    "start_time": "2023-04-05T19:45:33.707Z"
   },
   {
    "duration": 23,
    "start_time": "2023-04-05T19:45:35.852Z"
   },
   {
    "duration": 8,
    "start_time": "2023-04-05T19:45:39.602Z"
   },
   {
    "duration": 10,
    "start_time": "2023-04-05T19:46:03.978Z"
   },
   {
    "duration": 23,
    "start_time": "2023-04-05T19:46:13.658Z"
   },
   {
    "duration": 9,
    "start_time": "2023-04-05T19:56:04.915Z"
   },
   {
    "duration": 17,
    "start_time": "2023-04-05T19:56:05.634Z"
   },
   {
    "duration": 22,
    "start_time": "2023-04-05T19:56:09.285Z"
   },
   {
    "duration": 26,
    "start_time": "2023-04-05T19:57:01.608Z"
   },
   {
    "duration": 69,
    "start_time": "2023-04-05T20:04:27.400Z"
   },
   {
    "duration": 23,
    "start_time": "2023-04-05T20:04:38.655Z"
   },
   {
    "duration": 640,
    "start_time": "2023-04-05T20:05:51.383Z"
   },
   {
    "duration": 127,
    "start_time": "2023-04-05T20:05:52.026Z"
   },
   {
    "duration": 34,
    "start_time": "2023-04-05T20:05:52.155Z"
   },
   {
    "duration": 19,
    "start_time": "2023-04-05T20:05:52.191Z"
   },
   {
    "duration": 23,
    "start_time": "2023-04-05T20:05:52.211Z"
   },
   {
    "duration": 11,
    "start_time": "2023-04-05T20:05:52.236Z"
   },
   {
    "duration": 91,
    "start_time": "2023-04-05T20:05:52.248Z"
   },
   {
    "duration": 0,
    "start_time": "2023-04-05T20:05:52.340Z"
   },
   {
    "duration": 0,
    "start_time": "2023-04-05T20:05:52.342Z"
   },
   {
    "duration": 12,
    "start_time": "2023-04-05T20:07:26.619Z"
   },
   {
    "duration": 10,
    "start_time": "2023-04-05T20:13:04.345Z"
   },
   {
    "duration": 35,
    "start_time": "2023-04-05T20:13:05.800Z"
   },
   {
    "duration": 35,
    "start_time": "2023-04-05T20:13:24.340Z"
   },
   {
    "duration": 10,
    "start_time": "2023-04-05T20:13:55.528Z"
   },
   {
    "duration": 26,
    "start_time": "2023-04-05T20:13:59.026Z"
   },
   {
    "duration": 20,
    "start_time": "2023-04-05T20:36:46.487Z"
   },
   {
    "duration": 749,
    "start_time": "2023-04-06T18:06:08.289Z"
   },
   {
    "duration": 300,
    "start_time": "2023-04-06T18:06:09.040Z"
   },
   {
    "duration": 22,
    "start_time": "2023-04-06T18:06:09.342Z"
   },
   {
    "duration": 19,
    "start_time": "2023-04-06T18:06:09.365Z"
   },
   {
    "duration": 8,
    "start_time": "2023-04-06T18:06:09.385Z"
   },
   {
    "duration": 23,
    "start_time": "2023-04-06T18:06:09.394Z"
   },
   {
    "duration": 6,
    "start_time": "2023-04-06T18:06:09.418Z"
   },
   {
    "duration": 28,
    "start_time": "2023-04-06T18:06:09.425Z"
   },
   {
    "duration": 22,
    "start_time": "2023-04-06T18:06:09.454Z"
   },
   {
    "duration": 651,
    "start_time": "2023-04-06T18:06:48.630Z"
   },
   {
    "duration": 108,
    "start_time": "2023-04-06T18:06:49.283Z"
   },
   {
    "duration": 17,
    "start_time": "2023-04-06T18:06:49.392Z"
   },
   {
    "duration": 17,
    "start_time": "2023-04-06T18:06:49.410Z"
   },
   {
    "duration": 13,
    "start_time": "2023-04-06T18:06:49.428Z"
   },
   {
    "duration": 20,
    "start_time": "2023-04-06T18:06:49.442Z"
   },
   {
    "duration": 13,
    "start_time": "2023-04-06T18:07:46.072Z"
   },
   {
    "duration": 91,
    "start_time": "2023-04-06T18:19:08.507Z"
   },
   {
    "duration": 189,
    "start_time": "2023-04-06T18:27:48.863Z"
   },
   {
    "duration": 89,
    "start_time": "2023-04-06T18:35:23.161Z"
   },
   {
    "duration": 128,
    "start_time": "2023-04-06T18:35:32.611Z"
   },
   {
    "duration": 51,
    "start_time": "2023-04-06T18:35:41.299Z"
   },
   {
    "duration": 53,
    "start_time": "2023-04-06T18:36:17.962Z"
   },
   {
    "duration": 58,
    "start_time": "2023-04-06T18:36:24.497Z"
   },
   {
    "duration": 69,
    "start_time": "2023-04-06T18:36:42.330Z"
   },
   {
    "duration": 15,
    "start_time": "2023-04-06T18:36:46.193Z"
   },
   {
    "duration": 183,
    "start_time": "2023-04-06T18:37:03.128Z"
   },
   {
    "duration": 3,
    "start_time": "2023-04-06T18:44:30.871Z"
   },
   {
    "duration": 9,
    "start_time": "2023-04-06T18:44:44.800Z"
   },
   {
    "duration": 58,
    "start_time": "2023-04-06T18:45:13.525Z"
   },
   {
    "duration": 3,
    "start_time": "2023-04-06T18:45:21.336Z"
   },
   {
    "duration": 3,
    "start_time": "2023-04-06T18:45:30.596Z"
   },
   {
    "duration": 12,
    "start_time": "2023-04-06T18:45:43.929Z"
   },
   {
    "duration": 12,
    "start_time": "2023-04-06T18:45:49.938Z"
   },
   {
    "duration": 6,
    "start_time": "2023-04-06T18:46:04.622Z"
   },
   {
    "duration": 10,
    "start_time": "2023-04-06T18:46:11.183Z"
   },
   {
    "duration": 8,
    "start_time": "2023-04-06T18:46:30.149Z"
   },
   {
    "duration": 7,
    "start_time": "2023-04-06T18:50:40.483Z"
   },
   {
    "duration": 8,
    "start_time": "2023-04-06T18:50:41.986Z"
   },
   {
    "duration": 8,
    "start_time": "2023-04-06T18:51:04.730Z"
   },
   {
    "duration": 6,
    "start_time": "2023-04-06T18:51:53.884Z"
   },
   {
    "duration": 9,
    "start_time": "2023-04-06T18:51:54.720Z"
   },
   {
    "duration": 7,
    "start_time": "2023-04-06T18:53:10.802Z"
   },
   {
    "duration": 9,
    "start_time": "2023-04-06T18:53:37.863Z"
   },
   {
    "duration": 8,
    "start_time": "2023-04-06T18:53:40.623Z"
   },
   {
    "duration": 5,
    "start_time": "2023-04-06T18:53:56.725Z"
   },
   {
    "duration": 40,
    "start_time": "2023-04-06T18:56:50.699Z"
   },
   {
    "duration": 15,
    "start_time": "2023-04-06T18:57:00.937Z"
   },
   {
    "duration": 7,
    "start_time": "2023-04-06T18:57:05.284Z"
   },
   {
    "duration": 3,
    "start_time": "2023-04-06T18:57:10.402Z"
   },
   {
    "duration": 5,
    "start_time": "2023-04-06T18:57:11.242Z"
   },
   {
    "duration": 4,
    "start_time": "2023-04-06T18:57:29.957Z"
   },
   {
    "duration": 55,
    "start_time": "2023-04-06T18:58:01.157Z"
   },
   {
    "duration": 54,
    "start_time": "2023-04-06T18:58:15.850Z"
   },
   {
    "duration": 11,
    "start_time": "2023-04-06T18:58:27.171Z"
   },
   {
    "duration": 107,
    "start_time": "2023-04-06T18:58:37.905Z"
   },
   {
    "duration": 7,
    "start_time": "2023-04-06T18:58:55.788Z"
   },
   {
    "duration": 7,
    "start_time": "2023-04-06T19:00:32.701Z"
   },
   {
    "duration": 7,
    "start_time": "2023-04-06T19:00:37.730Z"
   },
   {
    "duration": 7,
    "start_time": "2023-04-06T19:01:13.482Z"
   },
   {
    "duration": 9,
    "start_time": "2023-04-06T19:02:05.282Z"
   },
   {
    "duration": 8,
    "start_time": "2023-04-06T19:02:17.585Z"
   },
   {
    "duration": 8,
    "start_time": "2023-04-06T19:02:44.523Z"
   },
   {
    "duration": 8,
    "start_time": "2023-04-06T19:02:48.223Z"
   },
   {
    "duration": 7,
    "start_time": "2023-04-06T19:02:51.999Z"
   },
   {
    "duration": 9,
    "start_time": "2023-04-06T19:03:20.345Z"
   },
   {
    "duration": 50,
    "start_time": "2023-04-06T19:03:24.357Z"
   },
   {
    "duration": 6,
    "start_time": "2023-04-06T19:17:11.874Z"
   },
   {
    "duration": 881,
    "start_time": "2023-04-06T19:17:32.558Z"
   },
   {
    "duration": 134,
    "start_time": "2023-04-06T19:17:33.451Z"
   },
   {
    "duration": 18,
    "start_time": "2023-04-06T19:17:33.586Z"
   },
   {
    "duration": 13,
    "start_time": "2023-04-06T19:17:33.606Z"
   },
   {
    "duration": 33,
    "start_time": "2023-04-06T19:17:33.621Z"
   },
   {
    "duration": 11,
    "start_time": "2023-04-06T19:17:33.655Z"
   },
   {
    "duration": 310,
    "start_time": "2023-04-06T19:17:33.667Z"
   },
   {
    "duration": 0,
    "start_time": "2023-04-06T19:17:33.978Z"
   },
   {
    "duration": 0,
    "start_time": "2023-04-06T19:17:33.980Z"
   },
   {
    "duration": 20,
    "start_time": "2023-04-06T19:17:46.497Z"
   },
   {
    "duration": 8,
    "start_time": "2023-04-06T19:19:02.399Z"
   },
   {
    "duration": 10,
    "start_time": "2023-04-06T19:20:46.547Z"
   },
   {
    "duration": 113,
    "start_time": "2023-04-06T19:21:11.572Z"
   },
   {
    "duration": 18,
    "start_time": "2023-04-06T19:21:12.225Z"
   },
   {
    "duration": 13,
    "start_time": "2023-04-06T19:21:12.299Z"
   },
   {
    "duration": 640,
    "start_time": "2023-04-06T19:21:21.819Z"
   },
   {
    "duration": 111,
    "start_time": "2023-04-06T19:21:22.461Z"
   },
   {
    "duration": 21,
    "start_time": "2023-04-06T19:21:22.574Z"
   },
   {
    "duration": 36,
    "start_time": "2023-04-06T19:21:22.597Z"
   },
   {
    "duration": 8,
    "start_time": "2023-04-06T19:21:22.635Z"
   },
   {
    "duration": 17,
    "start_time": "2023-04-06T19:21:22.644Z"
   },
   {
    "duration": 530,
    "start_time": "2023-04-06T19:21:22.662Z"
   },
   {
    "duration": 0,
    "start_time": "2023-04-06T19:21:23.194Z"
   },
   {
    "duration": 0,
    "start_time": "2023-04-06T19:21:23.195Z"
   },
   {
    "duration": 53,
    "start_time": "2023-04-06T19:26:09.403Z"
   },
   {
    "duration": 7,
    "start_time": "2023-04-06T19:26:58.458Z"
   },
   {
    "duration": 7,
    "start_time": "2023-04-06T19:27:26.139Z"
   },
   {
    "duration": 7,
    "start_time": "2023-04-06T19:27:32.948Z"
   },
   {
    "duration": 8,
    "start_time": "2023-04-06T19:28:42.987Z"
   },
   {
    "duration": 10,
    "start_time": "2023-04-06T19:34:39.367Z"
   },
   {
    "duration": 8,
    "start_time": "2023-04-06T19:46:15.042Z"
   },
   {
    "duration": 7,
    "start_time": "2023-04-06T19:46:24.470Z"
   },
   {
    "duration": 9,
    "start_time": "2023-04-06T19:46:29.499Z"
   },
   {
    "duration": 644,
    "start_time": "2023-04-06T19:46:36.270Z"
   },
   {
    "duration": 131,
    "start_time": "2023-04-06T19:46:36.916Z"
   },
   {
    "duration": 27,
    "start_time": "2023-04-06T19:46:37.049Z"
   },
   {
    "duration": 28,
    "start_time": "2023-04-06T19:46:37.079Z"
   },
   {
    "duration": 8,
    "start_time": "2023-04-06T19:46:37.110Z"
   },
   {
    "duration": 24,
    "start_time": "2023-04-06T19:46:37.119Z"
   },
   {
    "duration": 4,
    "start_time": "2023-04-06T19:46:37.145Z"
   },
   {
    "duration": 4,
    "start_time": "2023-04-06T19:46:37.151Z"
   },
   {
    "duration": 136,
    "start_time": "2023-04-06T19:46:37.156Z"
   },
   {
    "duration": 76,
    "start_time": "2023-04-06T19:47:37.134Z"
   },
   {
    "duration": 8,
    "start_time": "2023-04-06T19:47:56.418Z"
   },
   {
    "duration": 10,
    "start_time": "2023-04-06T19:48:38.512Z"
   },
   {
    "duration": 9,
    "start_time": "2023-04-06T19:48:47.959Z"
   },
   {
    "duration": 12,
    "start_time": "2023-04-07T00:14:32.516Z"
   },
   {
    "duration": 93,
    "start_time": "2023-04-07T00:15:58.923Z"
   },
   {
    "duration": 644,
    "start_time": "2023-04-07T00:16:34.312Z"
   },
   {
    "duration": 114,
    "start_time": "2023-04-07T00:16:34.957Z"
   },
   {
    "duration": 21,
    "start_time": "2023-04-07T00:16:35.073Z"
   },
   {
    "duration": 13,
    "start_time": "2023-04-07T00:16:35.096Z"
   },
   {
    "duration": 7,
    "start_time": "2023-04-07T00:16:35.111Z"
   },
   {
    "duration": 26,
    "start_time": "2023-04-07T00:16:35.120Z"
   },
   {
    "duration": 262,
    "start_time": "2023-04-07T00:16:35.147Z"
   },
   {
    "duration": 0,
    "start_time": "2023-04-07T00:16:35.410Z"
   },
   {
    "duration": 0,
    "start_time": "2023-04-07T00:16:35.411Z"
   },
   {
    "duration": 49,
    "start_time": "2023-04-07T00:18:26.041Z"
   },
   {
    "duration": 8,
    "start_time": "2023-04-07T00:22:18.051Z"
   },
   {
    "duration": 18,
    "start_time": "2023-04-07T00:23:15.704Z"
   },
   {
    "duration": 173,
    "start_time": "2023-04-07T00:24:14.664Z"
   },
   {
    "duration": 5,
    "start_time": "2023-04-07T00:27:43.974Z"
   },
   {
    "duration": 6,
    "start_time": "2023-04-07T00:28:01.799Z"
   },
   {
    "duration": 8,
    "start_time": "2023-04-07T00:28:36.834Z"
   },
   {
    "duration": 8,
    "start_time": "2023-04-07T00:28:42.952Z"
   },
   {
    "duration": 9,
    "start_time": "2023-04-07T00:30:43.132Z"
   },
   {
    "duration": 8,
    "start_time": "2023-04-07T00:31:50.103Z"
   },
   {
    "duration": 8,
    "start_time": "2023-04-07T00:32:53.426Z"
   },
   {
    "duration": 8,
    "start_time": "2023-04-07T00:36:35.531Z"
   },
   {
    "duration": 6,
    "start_time": "2023-04-07T00:37:41.951Z"
   },
   {
    "duration": 13,
    "start_time": "2023-04-07T00:38:15.540Z"
   },
   {
    "duration": 916,
    "start_time": "2023-04-08T13:01:47.941Z"
   },
   {
    "duration": 411,
    "start_time": "2023-04-08T13:01:48.860Z"
   },
   {
    "duration": 26,
    "start_time": "2023-04-08T13:01:49.273Z"
   },
   {
    "duration": 32,
    "start_time": "2023-04-08T13:01:49.302Z"
   },
   {
    "duration": 10,
    "start_time": "2023-04-08T13:01:49.342Z"
   },
   {
    "duration": 12,
    "start_time": "2023-04-08T13:01:49.354Z"
   },
   {
    "duration": 302,
    "start_time": "2023-04-08T13:01:49.368Z"
   },
   {
    "duration": 0,
    "start_time": "2023-04-08T13:01:49.673Z"
   },
   {
    "duration": 0,
    "start_time": "2023-04-08T13:01:49.675Z"
   },
   {
    "duration": 0,
    "start_time": "2023-04-08T13:01:49.677Z"
   },
   {
    "duration": 12,
    "start_time": "2023-04-08T13:06:32.187Z"
   },
   {
    "duration": 232,
    "start_time": "2023-04-08T13:06:37.650Z"
   },
   {
    "duration": 9,
    "start_time": "2023-04-08T13:06:55.156Z"
   },
   {
    "duration": 8,
    "start_time": "2023-04-08T13:07:24.145Z"
   },
   {
    "duration": 661,
    "start_time": "2023-04-08T13:07:33.688Z"
   },
   {
    "duration": 117,
    "start_time": "2023-04-08T13:07:34.351Z"
   },
   {
    "duration": 25,
    "start_time": "2023-04-08T13:07:34.470Z"
   },
   {
    "duration": 40,
    "start_time": "2023-04-08T13:07:34.497Z"
   },
   {
    "duration": 11,
    "start_time": "2023-04-08T13:07:34.540Z"
   },
   {
    "duration": 13,
    "start_time": "2023-04-08T13:07:34.553Z"
   },
   {
    "duration": 103,
    "start_time": "2023-04-08T13:07:34.568Z"
   },
   {
    "duration": 0,
    "start_time": "2023-04-08T13:07:34.673Z"
   },
   {
    "duration": 0,
    "start_time": "2023-04-08T13:07:34.674Z"
   },
   {
    "duration": 0,
    "start_time": "2023-04-08T13:07:34.676Z"
   },
   {
    "duration": 0,
    "start_time": "2023-04-08T13:07:34.678Z"
   },
   {
    "duration": 8,
    "start_time": "2023-04-08T13:08:51.155Z"
   },
   {
    "duration": 10,
    "start_time": "2023-04-08T13:10:01.462Z"
   },
   {
    "duration": 672,
    "start_time": "2023-04-08T13:10:09.219Z"
   },
   {
    "duration": 114,
    "start_time": "2023-04-08T13:10:09.893Z"
   },
   {
    "duration": 25,
    "start_time": "2023-04-08T13:10:10.009Z"
   },
   {
    "duration": 26,
    "start_time": "2023-04-08T13:10:10.037Z"
   },
   {
    "duration": 13,
    "start_time": "2023-04-08T13:10:10.065Z"
   },
   {
    "duration": 29,
    "start_time": "2023-04-08T13:10:10.080Z"
   },
   {
    "duration": 345,
    "start_time": "2023-04-08T13:10:10.112Z"
   },
   {
    "duration": 0,
    "start_time": "2023-04-08T13:10:10.459Z"
   },
   {
    "duration": 0,
    "start_time": "2023-04-08T13:10:10.461Z"
   },
   {
    "duration": 0,
    "start_time": "2023-04-08T13:10:10.462Z"
   },
   {
    "duration": 9,
    "start_time": "2023-04-08T13:12:59.988Z"
   },
   {
    "duration": 11,
    "start_time": "2023-04-08T13:13:11.880Z"
   },
   {
    "duration": 906,
    "start_time": "2023-04-08T13:14:24.053Z"
   },
   {
    "duration": 156,
    "start_time": "2023-04-08T13:14:24.967Z"
   },
   {
    "duration": 56,
    "start_time": "2023-04-08T13:14:25.125Z"
   },
   {
    "duration": 30,
    "start_time": "2023-04-08T13:14:25.184Z"
   },
   {
    "duration": 14,
    "start_time": "2023-04-08T13:14:25.217Z"
   },
   {
    "duration": 28,
    "start_time": "2023-04-08T13:14:25.234Z"
   },
   {
    "duration": 140,
    "start_time": "2023-04-08T13:14:25.265Z"
   },
   {
    "duration": 0,
    "start_time": "2023-04-08T13:14:25.408Z"
   },
   {
    "duration": 0,
    "start_time": "2023-04-08T13:14:25.409Z"
   },
   {
    "duration": 0,
    "start_time": "2023-04-08T13:14:25.424Z"
   },
   {
    "duration": 0,
    "start_time": "2023-04-08T13:14:25.427Z"
   },
   {
    "duration": 717,
    "start_time": "2023-04-08T13:15:05.074Z"
   },
   {
    "duration": 115,
    "start_time": "2023-04-08T13:15:05.793Z"
   },
   {
    "duration": 27,
    "start_time": "2023-04-08T13:15:05.910Z"
   },
   {
    "duration": 28,
    "start_time": "2023-04-08T13:15:05.939Z"
   },
   {
    "duration": 13,
    "start_time": "2023-04-08T13:15:05.971Z"
   },
   {
    "duration": 38,
    "start_time": "2023-04-08T13:15:05.986Z"
   },
   {
    "duration": 117,
    "start_time": "2023-04-08T13:15:06.027Z"
   },
   {
    "duration": 0,
    "start_time": "2023-04-08T13:15:06.146Z"
   },
   {
    "duration": 0,
    "start_time": "2023-04-08T13:15:06.147Z"
   },
   {
    "duration": 0,
    "start_time": "2023-04-08T13:15:06.148Z"
   },
   {
    "duration": 0,
    "start_time": "2023-04-08T13:15:06.149Z"
   },
   {
    "duration": 16,
    "start_time": "2023-04-08T13:18:37.773Z"
   },
   {
    "duration": 659,
    "start_time": "2023-04-08T13:21:07.931Z"
   },
   {
    "duration": 109,
    "start_time": "2023-04-08T13:21:08.596Z"
   },
   {
    "duration": 24,
    "start_time": "2023-04-08T13:21:08.707Z"
   },
   {
    "duration": 21,
    "start_time": "2023-04-08T13:21:08.734Z"
   },
   {
    "duration": 12,
    "start_time": "2023-04-08T13:21:08.759Z"
   },
   {
    "duration": 16,
    "start_time": "2023-04-08T13:21:08.773Z"
   },
   {
    "duration": 289,
    "start_time": "2023-04-08T13:21:08.791Z"
   },
   {
    "duration": 0,
    "start_time": "2023-04-08T13:21:09.082Z"
   },
   {
    "duration": 0,
    "start_time": "2023-04-08T13:21:09.083Z"
   },
   {
    "duration": 0,
    "start_time": "2023-04-08T13:21:09.085Z"
   },
   {
    "duration": 12,
    "start_time": "2023-04-08T13:23:49.508Z"
   },
   {
    "duration": 752,
    "start_time": "2023-04-08T13:24:25.624Z"
   },
   {
    "duration": 128,
    "start_time": "2023-04-08T13:24:26.379Z"
   },
   {
    "duration": 31,
    "start_time": "2023-04-08T13:24:26.510Z"
   },
   {
    "duration": 22,
    "start_time": "2023-04-08T13:24:26.544Z"
   },
   {
    "duration": 11,
    "start_time": "2023-04-08T13:24:26.568Z"
   },
   {
    "duration": 34,
    "start_time": "2023-04-08T13:24:26.580Z"
   },
   {
    "duration": 87,
    "start_time": "2023-04-08T13:24:26.616Z"
   },
   {
    "duration": 0,
    "start_time": "2023-04-08T13:24:26.705Z"
   },
   {
    "duration": 0,
    "start_time": "2023-04-08T13:24:26.706Z"
   },
   {
    "duration": 0,
    "start_time": "2023-04-08T13:24:26.707Z"
   },
   {
    "duration": 0,
    "start_time": "2023-04-08T13:24:26.709Z"
   },
   {
    "duration": 12,
    "start_time": "2023-04-08T13:26:19.406Z"
   },
   {
    "duration": 10,
    "start_time": "2023-04-08T13:27:00.011Z"
   },
   {
    "duration": 20,
    "start_time": "2023-04-08T13:27:15.282Z"
   },
   {
    "duration": 210,
    "start_time": "2023-04-08T13:27:22.802Z"
   },
   {
    "duration": 8,
    "start_time": "2023-04-08T13:31:15.556Z"
   },
   {
    "duration": 17,
    "start_time": "2023-04-08T13:31:16.548Z"
   },
   {
    "duration": 16,
    "start_time": "2023-04-08T13:31:24.031Z"
   },
   {
    "duration": 45,
    "start_time": "2023-04-08T13:31:25.093Z"
   },
   {
    "duration": 22,
    "start_time": "2023-04-08T13:38:27.829Z"
   },
   {
    "duration": 11,
    "start_time": "2023-04-08T13:47:04.902Z"
   },
   {
    "duration": 11,
    "start_time": "2023-04-08T13:47:42.715Z"
   },
   {
    "duration": 15,
    "start_time": "2023-04-08T13:50:00.096Z"
   },
   {
    "duration": 564,
    "start_time": "2023-04-08T13:50:47.557Z"
   },
   {
    "duration": 23,
    "start_time": "2023-04-08T13:52:44.577Z"
   },
   {
    "duration": 17,
    "start_time": "2023-04-08T14:08:09.212Z"
   },
   {
    "duration": 14,
    "start_time": "2023-04-08T14:15:11.978Z"
   },
   {
    "duration": 15,
    "start_time": "2023-04-08T14:15:12.771Z"
   },
   {
    "duration": 30,
    "start_time": "2023-04-08T14:15:20.900Z"
   },
   {
    "duration": 18,
    "start_time": "2023-04-08T14:15:27.040Z"
   },
   {
    "duration": 11,
    "start_time": "2023-04-08T14:15:31.678Z"
   },
   {
    "duration": 15,
    "start_time": "2023-04-08T14:18:49.083Z"
   },
   {
    "duration": 14,
    "start_time": "2023-04-08T14:19:59.958Z"
   },
   {
    "duration": 24,
    "start_time": "2023-04-08T14:20:01.708Z"
   },
   {
    "duration": 25,
    "start_time": "2023-04-08T14:20:03.596Z"
   },
   {
    "duration": 860,
    "start_time": "2023-04-08T14:29:26.993Z"
   },
   {
    "duration": 199,
    "start_time": "2023-04-08T14:29:27.855Z"
   },
   {
    "duration": 43,
    "start_time": "2023-04-08T14:29:28.056Z"
   },
   {
    "duration": 16,
    "start_time": "2023-04-08T14:29:28.101Z"
   },
   {
    "duration": 25,
    "start_time": "2023-04-08T14:29:28.120Z"
   },
   {
    "duration": 20,
    "start_time": "2023-04-08T14:29:28.148Z"
   },
   {
    "duration": 14,
    "start_time": "2023-04-08T14:29:28.170Z"
   },
   {
    "duration": 16,
    "start_time": "2023-04-08T14:29:28.186Z"
   },
   {
    "duration": 13,
    "start_time": "2023-04-08T14:29:28.204Z"
   },
   {
    "duration": 24,
    "start_time": "2023-04-08T14:29:28.227Z"
   },
   {
    "duration": 19,
    "start_time": "2023-04-08T14:29:28.253Z"
   },
   {
    "duration": 26,
    "start_time": "2023-04-08T14:29:28.274Z"
   },
   {
    "duration": 51,
    "start_time": "2023-04-08T14:29:28.301Z"
   },
   {
    "duration": 20,
    "start_time": "2023-04-08T14:29:28.356Z"
   },
   {
    "duration": 11,
    "start_time": "2023-04-08T14:30:09.276Z"
   },
   {
    "duration": 11,
    "start_time": "2023-04-08T14:30:47.210Z"
   },
   {
    "duration": 20,
    "start_time": "2023-04-08T14:33:43.317Z"
   },
   {
    "duration": 48,
    "start_time": "2023-04-09T17:22:24.923Z"
   },
   {
    "duration": 6,
    "start_time": "2023-04-09T17:22:27.403Z"
   },
   {
    "duration": 768,
    "start_time": "2023-04-09T17:22:34.805Z"
   },
   {
    "duration": 280,
    "start_time": "2023-04-09T17:22:35.575Z"
   },
   {
    "duration": 21,
    "start_time": "2023-04-09T17:22:35.857Z"
   },
   {
    "duration": 14,
    "start_time": "2023-04-09T17:22:35.880Z"
   },
   {
    "duration": 9,
    "start_time": "2023-04-09T17:22:35.896Z"
   },
   {
    "duration": 10,
    "start_time": "2023-04-09T17:22:35.907Z"
   },
   {
    "duration": 10,
    "start_time": "2023-04-09T17:22:35.918Z"
   },
   {
    "duration": 29,
    "start_time": "2023-04-09T17:22:35.929Z"
   },
   {
    "duration": 5,
    "start_time": "2023-04-09T17:22:35.960Z"
   },
   {
    "duration": 14,
    "start_time": "2023-04-09T17:22:35.966Z"
   },
   {
    "duration": 13,
    "start_time": "2023-04-09T17:22:35.982Z"
   },
   {
    "duration": 25,
    "start_time": "2023-04-09T17:22:36.004Z"
   },
   {
    "duration": 31,
    "start_time": "2023-04-09T17:22:36.030Z"
   },
   {
    "duration": 15,
    "start_time": "2023-04-09T17:22:36.063Z"
   },
   {
    "duration": 11,
    "start_time": "2023-04-09T17:22:36.080Z"
   },
   {
    "duration": 12,
    "start_time": "2023-04-09T17:22:36.093Z"
   },
   {
    "duration": 1175,
    "start_time": "2023-04-09T17:22:56.650Z"
   },
   {
    "duration": 2420,
    "start_time": "2023-04-09T17:23:13.483Z"
   },
   {
    "duration": 13,
    "start_time": "2023-04-09T17:23:28.995Z"
   },
   {
    "duration": 13,
    "start_time": "2023-04-09T17:24:40.986Z"
   },
   {
    "duration": 7,
    "start_time": "2023-04-09T17:25:03.538Z"
   },
   {
    "duration": 6,
    "start_time": "2023-04-09T17:25:12.693Z"
   },
   {
    "duration": 1007,
    "start_time": "2023-04-09T17:25:27.256Z"
   },
   {
    "duration": 0,
    "start_time": "2023-04-09T17:25:28.265Z"
   },
   {
    "duration": 858,
    "start_time": "2023-04-09T17:25:49.864Z"
   },
   {
    "duration": 872,
    "start_time": "2023-04-09T17:26:24.822Z"
   },
   {
    "duration": 916,
    "start_time": "2023-04-09T17:26:56.735Z"
   },
   {
    "duration": 880,
    "start_time": "2023-04-09T17:27:17.386Z"
   },
   {
    "duration": 833,
    "start_time": "2023-04-09T17:27:31.225Z"
   },
   {
    "duration": 678,
    "start_time": "2023-04-09T17:27:47.644Z"
   },
   {
    "duration": 114,
    "start_time": "2023-04-09T17:27:48.324Z"
   },
   {
    "duration": 22,
    "start_time": "2023-04-09T17:27:48.439Z"
   },
   {
    "duration": 13,
    "start_time": "2023-04-09T17:27:48.463Z"
   },
   {
    "duration": 8,
    "start_time": "2023-04-09T17:27:48.478Z"
   },
   {
    "duration": 12,
    "start_time": "2023-04-09T17:27:48.487Z"
   },
   {
    "duration": 9,
    "start_time": "2023-04-09T17:27:48.500Z"
   },
   {
    "duration": 14,
    "start_time": "2023-04-09T17:27:48.510Z"
   },
   {
    "duration": 6,
    "start_time": "2023-04-09T17:27:48.549Z"
   },
   {
    "duration": 19,
    "start_time": "2023-04-09T17:27:48.558Z"
   },
   {
    "duration": 14,
    "start_time": "2023-04-09T17:27:48.579Z"
   },
   {
    "duration": 26,
    "start_time": "2023-04-09T17:27:48.594Z"
   },
   {
    "duration": 29,
    "start_time": "2023-04-09T17:27:48.622Z"
   },
   {
    "duration": 19,
    "start_time": "2023-04-09T17:27:48.653Z"
   },
   {
    "duration": 16,
    "start_time": "2023-04-09T17:27:48.674Z"
   },
   {
    "duration": 17,
    "start_time": "2023-04-09T17:27:48.691Z"
   },
   {
    "duration": 9,
    "start_time": "2023-04-09T17:27:48.710Z"
   },
   {
    "duration": 669,
    "start_time": "2023-04-09T17:28:38.471Z"
   },
   {
    "duration": 115,
    "start_time": "2023-04-09T17:28:39.142Z"
   },
   {
    "duration": 23,
    "start_time": "2023-04-09T17:28:39.259Z"
   },
   {
    "duration": 14,
    "start_time": "2023-04-09T17:28:39.284Z"
   },
   {
    "duration": 8,
    "start_time": "2023-04-09T17:28:39.299Z"
   },
   {
    "duration": 12,
    "start_time": "2023-04-09T17:28:39.308Z"
   },
   {
    "duration": 30,
    "start_time": "2023-04-09T17:28:39.321Z"
   },
   {
    "duration": 14,
    "start_time": "2023-04-09T17:28:39.352Z"
   },
   {
    "duration": 6,
    "start_time": "2023-04-09T17:28:39.368Z"
   },
   {
    "duration": 14,
    "start_time": "2023-04-09T17:28:39.377Z"
   },
   {
    "duration": 14,
    "start_time": "2023-04-09T17:28:39.393Z"
   },
   {
    "duration": 50,
    "start_time": "2023-04-09T17:28:39.409Z"
   },
   {
    "duration": 20,
    "start_time": "2023-04-09T17:28:39.461Z"
   },
   {
    "duration": 22,
    "start_time": "2023-04-09T17:28:39.483Z"
   },
   {
    "duration": 3,
    "start_time": "2023-04-09T17:28:39.506Z"
   },
   {
    "duration": 9,
    "start_time": "2023-04-09T17:28:39.511Z"
   },
   {
    "duration": 31,
    "start_time": "2023-04-09T17:28:39.522Z"
   },
   {
    "duration": 637,
    "start_time": "2023-04-09T17:28:53.838Z"
   },
   {
    "duration": 111,
    "start_time": "2023-04-09T17:28:54.477Z"
   },
   {
    "duration": 21,
    "start_time": "2023-04-09T17:28:54.590Z"
   },
   {
    "duration": 17,
    "start_time": "2023-04-09T17:28:54.612Z"
   },
   {
    "duration": 18,
    "start_time": "2023-04-09T17:28:54.631Z"
   },
   {
    "duration": 25,
    "start_time": "2023-04-09T17:28:54.650Z"
   },
   {
    "duration": 19,
    "start_time": "2023-04-09T17:28:54.677Z"
   },
   {
    "duration": 14,
    "start_time": "2023-04-09T17:28:54.697Z"
   },
   {
    "duration": 30,
    "start_time": "2023-04-09T17:28:54.713Z"
   },
   {
    "duration": 15,
    "start_time": "2023-04-09T17:28:54.745Z"
   },
   {
    "duration": 14,
    "start_time": "2023-04-09T17:28:54.762Z"
   },
   {
    "duration": 22,
    "start_time": "2023-04-09T17:28:54.778Z"
   },
   {
    "duration": 13,
    "start_time": "2023-04-09T17:28:54.801Z"
   },
   {
    "duration": 2,
    "start_time": "2023-04-09T17:28:54.816Z"
   },
   {
    "duration": 33,
    "start_time": "2023-04-09T17:28:54.820Z"
   },
   {
    "duration": 13,
    "start_time": "2023-04-09T17:28:54.855Z"
   },
   {
    "duration": 12,
    "start_time": "2023-04-09T17:28:54.870Z"
   },
   {
    "duration": 90,
    "start_time": "2023-04-09T17:29:41.097Z"
   },
   {
    "duration": 7,
    "start_time": "2023-04-09T17:30:59.692Z"
   },
   {
    "duration": 8,
    "start_time": "2023-04-09T17:31:47.975Z"
   },
   {
    "duration": 8,
    "start_time": "2023-04-09T17:32:24.030Z"
   },
   {
    "duration": 23,
    "start_time": "2023-04-09T17:32:35.271Z"
   },
   {
    "duration": 7,
    "start_time": "2023-04-09T17:33:56.508Z"
   },
   {
    "duration": 7,
    "start_time": "2023-04-09T17:34:07.229Z"
   },
   {
    "duration": 4,
    "start_time": "2023-04-09T17:34:14.684Z"
   },
   {
    "duration": 23,
    "start_time": "2023-04-09T17:34:19.349Z"
   },
   {
    "duration": 4,
    "start_time": "2023-04-09T17:37:23.220Z"
   },
   {
    "duration": 26,
    "start_time": "2023-04-09T17:37:29.017Z"
   },
   {
    "duration": 3,
    "start_time": "2023-04-09T17:38:51.419Z"
   },
   {
    "duration": 612,
    "start_time": "2023-04-09T17:39:02.975Z"
   },
   {
    "duration": 116,
    "start_time": "2023-04-09T17:39:03.589Z"
   },
   {
    "duration": 24,
    "start_time": "2023-04-09T17:39:03.707Z"
   },
   {
    "duration": 25,
    "start_time": "2023-04-09T17:39:03.733Z"
   },
   {
    "duration": 9,
    "start_time": "2023-04-09T17:39:03.761Z"
   },
   {
    "duration": 17,
    "start_time": "2023-04-09T17:39:03.771Z"
   },
   {
    "duration": 14,
    "start_time": "2023-04-09T17:39:03.789Z"
   },
   {
    "duration": 27,
    "start_time": "2023-04-09T17:39:03.805Z"
   },
   {
    "duration": 17,
    "start_time": "2023-04-09T17:39:03.833Z"
   },
   {
    "duration": 22,
    "start_time": "2023-04-09T17:39:03.853Z"
   },
   {
    "duration": 21,
    "start_time": "2023-04-09T17:39:03.876Z"
   },
   {
    "duration": 20,
    "start_time": "2023-04-09T17:39:03.899Z"
   },
   {
    "duration": 33,
    "start_time": "2023-04-09T17:39:03.921Z"
   },
   {
    "duration": 6,
    "start_time": "2023-04-09T17:39:03.956Z"
   },
   {
    "duration": 27,
    "start_time": "2023-04-09T17:39:03.964Z"
   },
   {
    "duration": 3,
    "start_time": "2023-04-09T17:39:03.993Z"
   },
   {
    "duration": 5,
    "start_time": "2023-04-09T17:39:03.997Z"
   },
   {
    "duration": 5,
    "start_time": "2023-04-09T17:39:04.003Z"
   },
   {
    "duration": 21,
    "start_time": "2023-04-09T17:40:56.565Z"
   },
   {
    "duration": 22,
    "start_time": "2023-04-09T17:41:13.125Z"
   },
   {
    "duration": 24,
    "start_time": "2023-04-09T17:41:28.675Z"
   },
   {
    "duration": 14,
    "start_time": "2023-04-09T17:42:47.806Z"
   },
   {
    "duration": 9,
    "start_time": "2023-04-09T17:43:15.222Z"
   },
   {
    "duration": 12,
    "start_time": "2023-04-09T17:43:19.853Z"
   },
   {
    "duration": 9,
    "start_time": "2023-04-09T17:43:22.753Z"
   },
   {
    "duration": 1262,
    "start_time": "2023-04-09T18:02:44.424Z"
   },
   {
    "duration": 13,
    "start_time": "2023-04-09T18:03:15.128Z"
   },
   {
    "duration": 185,
    "start_time": "2023-04-09T18:03:21.158Z"
   },
   {
    "duration": 290,
    "start_time": "2023-04-09T18:34:37.336Z"
   },
   {
    "duration": 117,
    "start_time": "2023-04-09T18:36:23.562Z"
   },
   {
    "duration": 112,
    "start_time": "2023-04-09T18:36:37.708Z"
   },
   {
    "duration": 157,
    "start_time": "2023-04-09T18:36:58.799Z"
   },
   {
    "duration": 7,
    "start_time": "2023-04-09T18:37:44.898Z"
   },
   {
    "duration": 128,
    "start_time": "2023-04-09T18:37:49.156Z"
   },
   {
    "duration": 118,
    "start_time": "2023-04-09T18:38:00.052Z"
   },
   {
    "duration": 117,
    "start_time": "2023-04-09T18:43:52.814Z"
   },
   {
    "duration": 113,
    "start_time": "2023-04-09T18:44:00.201Z"
   },
   {
    "duration": 116,
    "start_time": "2023-04-09T18:44:06.974Z"
   },
   {
    "duration": 107,
    "start_time": "2023-04-09T18:44:13.450Z"
   },
   {
    "duration": 137,
    "start_time": "2023-04-09T18:44:27.319Z"
   },
   {
    "duration": 110,
    "start_time": "2023-04-09T18:44:41.302Z"
   },
   {
    "duration": 114,
    "start_time": "2023-04-09T18:48:12.872Z"
   },
   {
    "duration": 108,
    "start_time": "2023-04-09T19:57:52.405Z"
   },
   {
    "duration": 273,
    "start_time": "2023-04-09T21:04:18.276Z"
   },
   {
    "duration": 118,
    "start_time": "2023-04-09T21:04:57.625Z"
   },
   {
    "duration": 53,
    "start_time": "2023-04-10T14:02:57.484Z"
   },
   {
    "duration": 825,
    "start_time": "2023-04-10T14:03:06.815Z"
   },
   {
    "duration": 310,
    "start_time": "2023-04-10T14:03:07.644Z"
   },
   {
    "duration": 27,
    "start_time": "2023-04-10T14:03:07.956Z"
   },
   {
    "duration": 17,
    "start_time": "2023-04-10T14:03:07.986Z"
   },
   {
    "duration": 10,
    "start_time": "2023-04-10T14:03:08.005Z"
   },
   {
    "duration": 27,
    "start_time": "2023-04-10T14:03:08.017Z"
   },
   {
    "duration": 15,
    "start_time": "2023-04-10T14:03:08.046Z"
   },
   {
    "duration": 16,
    "start_time": "2023-04-10T14:03:08.063Z"
   },
   {
    "duration": 7,
    "start_time": "2023-04-10T14:03:08.092Z"
   },
   {
    "duration": 14,
    "start_time": "2023-04-10T14:03:08.101Z"
   },
   {
    "duration": 15,
    "start_time": "2023-04-10T14:03:08.116Z"
   },
   {
    "duration": 25,
    "start_time": "2023-04-10T14:03:08.133Z"
   },
   {
    "duration": 53,
    "start_time": "2023-04-10T14:03:08.160Z"
   },
   {
    "duration": 9,
    "start_time": "2023-04-10T14:03:08.215Z"
   },
   {
    "duration": 33,
    "start_time": "2023-04-10T14:03:08.226Z"
   },
   {
    "duration": 43,
    "start_time": "2023-04-10T14:03:08.261Z"
   },
   {
    "duration": 11,
    "start_time": "2023-04-10T14:03:08.306Z"
   },
   {
    "duration": 176,
    "start_time": "2023-04-10T14:03:08.318Z"
   },
   {
    "duration": 83,
    "start_time": "2023-04-10T14:17:48.131Z"
   },
   {
    "duration": 12,
    "start_time": "2023-04-10T14:18:11.173Z"
   },
   {
    "duration": 4,
    "start_time": "2023-04-10T14:18:13.803Z"
   },
   {
    "duration": 28,
    "start_time": "2023-04-10T14:18:14.573Z"
   },
   {
    "duration": 20,
    "start_time": "2023-04-10T14:18:15.172Z"
   },
   {
    "duration": 10,
    "start_time": "2023-04-10T14:18:19.924Z"
   },
   {
    "duration": 174,
    "start_time": "2023-04-10T14:18:21.831Z"
   },
   {
    "duration": 9,
    "start_time": "2023-04-10T14:23:03.029Z"
   },
   {
    "duration": 9,
    "start_time": "2023-04-10T14:23:31.289Z"
   },
   {
    "duration": 29,
    "start_time": "2023-04-10T14:23:53.550Z"
   },
   {
    "duration": 759,
    "start_time": "2023-04-14T17:30:22.819Z"
   },
   {
    "duration": 277,
    "start_time": "2023-04-14T17:30:23.580Z"
   },
   {
    "duration": 28,
    "start_time": "2023-04-14T17:30:23.859Z"
   },
   {
    "duration": 18,
    "start_time": "2023-04-14T17:30:23.890Z"
   },
   {
    "duration": 12,
    "start_time": "2023-04-14T17:30:23.910Z"
   },
   {
    "duration": 13,
    "start_time": "2023-04-14T17:30:23.924Z"
   },
   {
    "duration": 9,
    "start_time": "2023-04-14T17:30:23.939Z"
   },
   {
    "duration": 24,
    "start_time": "2023-04-14T17:30:23.950Z"
   },
   {
    "duration": 6,
    "start_time": "2023-04-14T17:30:23.987Z"
   },
   {
    "duration": 16,
    "start_time": "2023-04-14T17:30:23.995Z"
   },
   {
    "duration": 15,
    "start_time": "2023-04-14T17:30:24.013Z"
   },
   {
    "duration": 23,
    "start_time": "2023-04-14T17:30:24.029Z"
   },
   {
    "duration": 44,
    "start_time": "2023-04-14T17:30:24.054Z"
   },
   {
    "duration": 14,
    "start_time": "2023-04-14T17:30:24.099Z"
   },
   {
    "duration": 7,
    "start_time": "2023-04-14T17:30:24.115Z"
   },
   {
    "duration": 48,
    "start_time": "2023-04-14T17:30:24.123Z"
   },
   {
    "duration": 20,
    "start_time": "2023-04-14T17:30:24.172Z"
   },
   {
    "duration": 11,
    "start_time": "2023-04-14T17:30:24.193Z"
   },
   {
    "duration": 30,
    "start_time": "2023-04-14T17:30:24.206Z"
   },
   {
    "duration": 19,
    "start_time": "2023-04-14T18:08:24.428Z"
   },
   {
    "duration": 29,
    "start_time": "2023-04-14T18:09:22.113Z"
   },
   {
    "duration": 74,
    "start_time": "2023-04-14T18:09:38.772Z"
   },
   {
    "duration": 5,
    "start_time": "2023-04-14T18:09:44.535Z"
   },
   {
    "duration": 8,
    "start_time": "2023-04-14T18:10:15.255Z"
   },
   {
    "duration": 20,
    "start_time": "2023-04-14T18:10:28.087Z"
   },
   {
    "duration": 9,
    "start_time": "2023-04-14T18:11:09.860Z"
   },
   {
    "duration": 5,
    "start_time": "2023-04-14T18:11:15.007Z"
   },
   {
    "duration": 8,
    "start_time": "2023-04-14T18:11:24.086Z"
   },
   {
    "duration": 17,
    "start_time": "2023-04-14T18:11:31.886Z"
   },
   {
    "duration": 10,
    "start_time": "2023-04-14T18:11:50.400Z"
   },
   {
    "duration": 18,
    "start_time": "2023-04-14T18:12:01.771Z"
   },
   {
    "duration": 17,
    "start_time": "2023-04-14T18:12:56.339Z"
   },
   {
    "duration": 17,
    "start_time": "2023-04-14T18:13:20.152Z"
   },
   {
    "duration": 15,
    "start_time": "2023-04-14T18:13:42.059Z"
   },
   {
    "duration": 5,
    "start_time": "2023-04-14T18:15:06.023Z"
   },
   {
    "duration": 6,
    "start_time": "2023-04-14T18:15:33.860Z"
   },
   {
    "duration": 5,
    "start_time": "2023-04-14T18:15:48.513Z"
   },
   {
    "duration": 6,
    "start_time": "2023-04-14T18:16:01.174Z"
   },
   {
    "duration": 16,
    "start_time": "2023-04-14T18:17:05.023Z"
   },
   {
    "duration": 4,
    "start_time": "2023-04-14T18:17:20.063Z"
   },
   {
    "duration": 2,
    "start_time": "2023-04-14T18:17:36.213Z"
   },
   {
    "duration": 25,
    "start_time": "2023-04-14T18:17:48.758Z"
   },
   {
    "duration": 27,
    "start_time": "2023-04-14T18:18:38.078Z"
   },
   {
    "duration": 27,
    "start_time": "2023-04-14T18:19:28.540Z"
   },
   {
    "duration": 15,
    "start_time": "2023-04-14T18:22:35.928Z"
   },
   {
    "duration": 4,
    "start_time": "2023-04-14T18:22:59.626Z"
   },
   {
    "duration": 3,
    "start_time": "2023-04-14T18:23:33.577Z"
   },
   {
    "duration": 26,
    "start_time": "2023-04-14T18:24:03.358Z"
   },
   {
    "duration": 31,
    "start_time": "2023-04-14T18:25:13.087Z"
   },
   {
    "duration": 27,
    "start_time": "2023-04-14T18:26:02.991Z"
   },
   {
    "duration": 3,
    "start_time": "2023-04-14T18:27:21.091Z"
   },
   {
    "duration": 122,
    "start_time": "2023-04-14T18:27:43.579Z"
   },
   {
    "duration": 17,
    "start_time": "2023-04-14T18:27:55.324Z"
   },
   {
    "duration": 42,
    "start_time": "2023-04-14T18:28:09.890Z"
   },
   {
    "duration": 8,
    "start_time": "2023-04-14T18:29:36.333Z"
   },
   {
    "duration": 3,
    "start_time": "2023-04-14T18:29:53.591Z"
   },
   {
    "duration": 8,
    "start_time": "2023-04-14T18:30:09.160Z"
   },
   {
    "duration": 4,
    "start_time": "2023-04-14T18:30:17.224Z"
   },
   {
    "duration": 5,
    "start_time": "2023-04-14T18:30:29.306Z"
   },
   {
    "duration": 14,
    "start_time": "2023-04-14T18:31:40.678Z"
   },
   {
    "duration": 5,
    "start_time": "2023-04-14T18:31:54.481Z"
   },
   {
    "duration": 7,
    "start_time": "2023-04-14T18:32:09.346Z"
   },
   {
    "duration": 19,
    "start_time": "2023-04-14T18:32:13.745Z"
   },
   {
    "duration": 7,
    "start_time": "2023-04-14T18:32:39.779Z"
   },
   {
    "duration": 5,
    "start_time": "2023-04-14T18:32:44.427Z"
   },
   {
    "duration": 26,
    "start_time": "2023-04-14T18:34:27.526Z"
   },
   {
    "duration": 18,
    "start_time": "2023-04-14T18:34:45.627Z"
   },
   {
    "duration": 8,
    "start_time": "2023-04-14T18:35:04.597Z"
   },
   {
    "duration": 5,
    "start_time": "2023-04-14T18:35:23.106Z"
   },
   {
    "duration": 7,
    "start_time": "2023-04-14T18:35:37.927Z"
   },
   {
    "duration": 40,
    "start_time": "2023-04-14T18:35:41.939Z"
   },
   {
    "duration": 70,
    "start_time": "2023-04-15T01:48:49.962Z"
   },
   {
    "duration": 7,
    "start_time": "2023-04-15T01:48:57.758Z"
   },
   {
    "duration": 801,
    "start_time": "2023-04-15T01:49:04.611Z"
   },
   {
    "duration": 285,
    "start_time": "2023-04-15T01:49:05.414Z"
   },
   {
    "duration": 21,
    "start_time": "2023-04-15T01:49:05.700Z"
   },
   {
    "duration": 41,
    "start_time": "2023-04-15T01:49:05.722Z"
   },
   {
    "duration": 47,
    "start_time": "2023-04-15T01:49:05.766Z"
   },
   {
    "duration": 50,
    "start_time": "2023-04-15T01:49:05.815Z"
   },
   {
    "duration": 62,
    "start_time": "2023-04-15T01:49:05.867Z"
   },
   {
    "duration": 45,
    "start_time": "2023-04-15T01:49:05.931Z"
   },
   {
    "duration": 16,
    "start_time": "2023-04-15T01:49:05.978Z"
   },
   {
    "duration": 31,
    "start_time": "2023-04-15T01:49:05.996Z"
   },
   {
    "duration": 32,
    "start_time": "2023-04-15T01:49:06.029Z"
   },
   {
    "duration": 21,
    "start_time": "2023-04-15T01:49:06.062Z"
   },
   {
    "duration": 14,
    "start_time": "2023-04-15T01:49:06.084Z"
   },
   {
    "duration": 7,
    "start_time": "2023-04-15T01:49:06.101Z"
   },
   {
    "duration": 28,
    "start_time": "2023-04-15T01:49:06.109Z"
   },
   {
    "duration": 32,
    "start_time": "2023-04-15T01:49:06.139Z"
   },
   {
    "duration": 24,
    "start_time": "2023-04-15T01:49:06.172Z"
   },
   {
    "duration": 67,
    "start_time": "2023-04-15T01:49:06.198Z"
   },
   {
    "duration": 43,
    "start_time": "2023-04-15T01:49:06.267Z"
   },
   {
    "duration": 51,
    "start_time": "2023-04-15T01:49:06.312Z"
   },
   {
    "duration": 10,
    "start_time": "2023-04-15T01:49:06.365Z"
   },
   {
    "duration": 23,
    "start_time": "2023-04-15T01:49:06.376Z"
   },
   {
    "duration": 10,
    "start_time": "2023-04-15T01:49:06.401Z"
   },
   {
    "duration": 48,
    "start_time": "2023-04-15T01:49:06.412Z"
   },
   {
    "duration": 49,
    "start_time": "2023-04-15T01:49:06.462Z"
   },
   {
    "duration": 44,
    "start_time": "2023-04-15T01:49:06.513Z"
   },
   {
    "duration": 37,
    "start_time": "2023-04-15T01:49:06.558Z"
   },
   {
    "duration": 32,
    "start_time": "2023-04-15T01:49:06.597Z"
   },
   {
    "duration": 34,
    "start_time": "2023-04-15T01:49:06.630Z"
   },
   {
    "duration": 22,
    "start_time": "2023-04-15T01:49:06.666Z"
   },
   {
    "duration": 26,
    "start_time": "2023-04-15T01:49:06.689Z"
   },
   {
    "duration": 55,
    "start_time": "2023-04-15T01:49:06.717Z"
   },
   {
    "duration": 29,
    "start_time": "2023-04-15T01:49:06.774Z"
   },
   {
    "duration": 22,
    "start_time": "2023-04-15T01:49:06.805Z"
   },
   {
    "duration": 11,
    "start_time": "2023-04-15T01:49:06.829Z"
   },
   {
    "duration": 124,
    "start_time": "2023-04-15T01:49:06.842Z"
   },
   {
    "duration": 16,
    "start_time": "2023-04-15T01:49:06.967Z"
   },
   {
    "duration": 37,
    "start_time": "2023-04-15T01:49:06.984Z"
   },
   {
    "duration": 15,
    "start_time": "2023-04-15T01:49:07.023Z"
   },
   {
    "duration": 21,
    "start_time": "2023-04-15T01:49:07.040Z"
   },
   {
    "duration": 4,
    "start_time": "2023-04-15T01:49:07.065Z"
   },
   {
    "duration": 16,
    "start_time": "2023-04-15T01:49:07.070Z"
   },
   {
    "duration": 8,
    "start_time": "2023-04-15T01:49:07.088Z"
   },
   {
    "duration": 20,
    "start_time": "2023-04-15T01:49:07.097Z"
   },
   {
    "duration": 7,
    "start_time": "2023-04-15T01:49:07.119Z"
   },
   {
    "duration": 40,
    "start_time": "2023-04-15T01:49:07.128Z"
   },
   {
    "duration": 18,
    "start_time": "2023-04-15T01:49:07.170Z"
   },
   {
    "duration": 14,
    "start_time": "2023-04-15T01:49:07.189Z"
   },
   {
    "duration": 57,
    "start_time": "2023-04-15T01:49:07.204Z"
   },
   {
    "duration": 8,
    "start_time": "2023-04-15T01:49:07.263Z"
   },
   {
    "duration": 118,
    "start_time": "2023-04-15T01:49:52.567Z"
   },
   {
    "duration": 6,
    "start_time": "2023-04-15T01:50:00.063Z"
   },
   {
    "duration": 8,
    "start_time": "2023-04-15T01:50:10.266Z"
   },
   {
    "duration": 10,
    "start_time": "2023-04-15T01:50:27.281Z"
   },
   {
    "duration": 17,
    "start_time": "2023-04-15T01:50:41.231Z"
   },
   {
    "duration": 8,
    "start_time": "2023-04-15T01:50:49.796Z"
   },
   {
    "duration": 5,
    "start_time": "2023-04-15T01:51:11.732Z"
   },
   {
    "duration": 4,
    "start_time": "2023-04-15T01:51:21.385Z"
   },
   {
    "duration": 9,
    "start_time": "2023-04-15T01:51:31.231Z"
   },
   {
    "duration": 7,
    "start_time": "2023-04-15T01:51:46.865Z"
   },
   {
    "duration": 539,
    "start_time": "2023-04-15T01:52:13.811Z"
   },
   {
    "duration": 162,
    "start_time": "2023-04-15T01:52:27.828Z"
   },
   {
    "duration": 149,
    "start_time": "2023-04-15T01:53:02.459Z"
   },
   {
    "duration": 9,
    "start_time": "2023-04-15T01:53:13.326Z"
   },
   {
    "duration": 205,
    "start_time": "2023-04-15T01:55:26.508Z"
   },
   {
    "duration": 174,
    "start_time": "2023-04-15T01:55:28.449Z"
   },
   {
    "duration": 9,
    "start_time": "2023-04-15T01:55:29.439Z"
   },
   {
    "duration": 36,
    "start_time": "2023-04-15T01:55:40.893Z"
   },
   {
    "duration": 5,
    "start_time": "2023-04-15T01:55:45.705Z"
   },
   {
    "duration": 6,
    "start_time": "2023-04-15T01:55:59.664Z"
   },
   {
    "duration": 168,
    "start_time": "2023-04-15T01:56:14.287Z"
   },
   {
    "duration": 13,
    "start_time": "2023-04-15T01:56:24.793Z"
   },
   {
    "duration": 251,
    "start_time": "2023-04-15T01:56:45.746Z"
   },
   {
    "duration": 9,
    "start_time": "2023-04-15T01:57:24.203Z"
   },
   {
    "duration": 6,
    "start_time": "2023-04-15T01:57:28.511Z"
   },
   {
    "duration": 8,
    "start_time": "2023-04-15T01:57:40.677Z"
   },
   {
    "duration": 167,
    "start_time": "2023-04-15T01:57:52.064Z"
   },
   {
    "duration": 8,
    "start_time": "2023-04-15T01:58:23.390Z"
   },
   {
    "duration": 12,
    "start_time": "2023-04-15T01:58:27.661Z"
   },
   {
    "duration": 11,
    "start_time": "2023-04-15T02:01:03.367Z"
   },
   {
    "duration": 7,
    "start_time": "2023-04-15T02:02:40.652Z"
   },
   {
    "duration": 7,
    "start_time": "2023-04-15T02:02:57.954Z"
   },
   {
    "duration": 9,
    "start_time": "2023-04-15T02:04:09.699Z"
   },
   {
    "duration": 11,
    "start_time": "2023-04-15T02:10:08.192Z"
   },
   {
    "duration": 32,
    "start_time": "2023-04-15T02:11:09.763Z"
   },
   {
    "duration": 16,
    "start_time": "2023-04-15T02:11:24.663Z"
   },
   {
    "duration": 12,
    "start_time": "2023-04-15T02:11:27.508Z"
   },
   {
    "duration": 29,
    "start_time": "2023-04-15T02:11:39.570Z"
   },
   {
    "duration": 2,
    "start_time": "2023-04-15T02:13:18.518Z"
   },
   {
    "duration": 20,
    "start_time": "2023-04-15T02:13:19.431Z"
   },
   {
    "duration": 8,
    "start_time": "2023-04-15T02:14:16.571Z"
   },
   {
    "duration": 10,
    "start_time": "2023-04-15T02:14:21.811Z"
   },
   {
    "duration": 8,
    "start_time": "2023-04-15T02:14:29.989Z"
   },
   {
    "duration": 611,
    "start_time": "2023-04-15T02:14:53.212Z"
   },
   {
    "duration": 11,
    "start_time": "2023-04-15T02:15:58.350Z"
   },
   {
    "duration": 30,
    "start_time": "2023-04-15T02:16:09.881Z"
   },
   {
    "duration": 5,
    "start_time": "2023-04-15T02:16:39.662Z"
   },
   {
    "duration": 3,
    "start_time": "2023-04-15T02:17:14.484Z"
   },
   {
    "duration": 30,
    "start_time": "2023-04-15T02:17:25.846Z"
   },
   {
    "duration": 112,
    "start_time": "2023-04-15T02:17:43.057Z"
   },
   {
    "duration": 6,
    "start_time": "2023-04-15T02:18:09.652Z"
   },
   {
    "duration": 128,
    "start_time": "2023-04-15T02:18:19.089Z"
   },
   {
    "duration": 7,
    "start_time": "2023-04-15T02:18:47.432Z"
   },
   {
    "duration": 6,
    "start_time": "2023-04-15T02:19:20.713Z"
   },
   {
    "duration": 155,
    "start_time": "2023-04-15T02:19:33.753Z"
   },
   {
    "duration": 182,
    "start_time": "2023-04-15T02:19:47.729Z"
   },
   {
    "duration": 185,
    "start_time": "2023-04-15T02:20:13.813Z"
   },
   {
    "duration": 12,
    "start_time": "2023-04-15T02:20:39.779Z"
   },
   {
    "duration": 906,
    "start_time": "2023-04-15T02:20:51.381Z"
   },
   {
    "duration": 1031,
    "start_time": "2023-04-15T02:21:00.815Z"
   },
   {
    "duration": 552,
    "start_time": "2023-04-15T02:21:45.765Z"
   },
   {
    "duration": 495,
    "start_time": "2023-04-15T02:22:05.692Z"
   },
   {
    "duration": 107,
    "start_time": "2023-04-15T02:22:20.841Z"
   },
   {
    "duration": 70,
    "start_time": "2023-04-15T02:22:55.863Z"
   },
   {
    "duration": 810,
    "start_time": "2023-04-15T02:23:12.846Z"
   },
   {
    "duration": 1017,
    "start_time": "2023-04-15T02:23:24.991Z"
   },
   {
    "duration": 14,
    "start_time": "2023-04-15T02:24:00.362Z"
   },
   {
    "duration": 4,
    "start_time": "2023-04-15T02:24:09.069Z"
   },
   {
    "duration": 5,
    "start_time": "2023-04-15T02:24:31.516Z"
   },
   {
    "duration": 12,
    "start_time": "2023-04-15T02:24:40.093Z"
   },
   {
    "duration": 8,
    "start_time": "2023-04-15T02:25:05.085Z"
   },
   {
    "duration": 8,
    "start_time": "2023-04-15T02:25:13.763Z"
   },
   {
    "duration": 9,
    "start_time": "2023-04-15T02:25:57.567Z"
   },
   {
    "duration": 17,
    "start_time": "2023-04-15T02:26:34.789Z"
   },
   {
    "duration": 3,
    "start_time": "2023-04-15T02:26:46.091Z"
   },
   {
    "duration": 13,
    "start_time": "2023-04-15T02:26:53.908Z"
   },
   {
    "duration": 12,
    "start_time": "2023-04-15T02:27:19.178Z"
   },
   {
    "duration": 1215,
    "start_time": "2023-04-15T06:57:25.349Z"
   },
   {
    "duration": 138,
    "start_time": "2023-04-15T06:57:26.566Z"
   },
   {
    "duration": 25,
    "start_time": "2023-04-15T06:57:26.706Z"
   },
   {
    "duration": 39,
    "start_time": "2023-04-15T06:57:26.733Z"
   },
   {
    "duration": 31,
    "start_time": "2023-04-15T06:57:26.775Z"
   },
   {
    "duration": 49,
    "start_time": "2023-04-15T06:57:26.809Z"
   },
   {
    "duration": 30,
    "start_time": "2023-04-15T06:57:26.860Z"
   },
   {
    "duration": 54,
    "start_time": "2023-04-15T06:57:26.891Z"
   },
   {
    "duration": 15,
    "start_time": "2023-04-15T06:57:26.947Z"
   },
   {
    "duration": 40,
    "start_time": "2023-04-15T06:57:26.964Z"
   },
   {
    "duration": 47,
    "start_time": "2023-04-15T06:57:27.008Z"
   },
   {
    "duration": 50,
    "start_time": "2023-04-15T06:57:27.057Z"
   },
   {
    "duration": 48,
    "start_time": "2023-04-15T06:57:27.110Z"
   },
   {
    "duration": 8,
    "start_time": "2023-04-15T06:57:27.160Z"
   },
   {
    "duration": 23,
    "start_time": "2023-04-15T06:57:27.170Z"
   },
   {
    "duration": 38,
    "start_time": "2023-04-15T06:57:27.199Z"
   },
   {
    "duration": 28,
    "start_time": "2023-04-15T06:57:27.239Z"
   },
   {
    "duration": 15,
    "start_time": "2023-04-15T06:57:27.268Z"
   },
   {
    "duration": 55,
    "start_time": "2023-04-15T06:57:27.284Z"
   },
   {
    "duration": 40,
    "start_time": "2023-04-15T06:57:27.340Z"
   },
   {
    "duration": 5,
    "start_time": "2023-04-15T06:57:27.381Z"
   },
   {
    "duration": 44,
    "start_time": "2023-04-15T06:57:27.392Z"
   },
   {
    "duration": 38,
    "start_time": "2023-04-15T06:57:27.438Z"
   },
   {
    "duration": 44,
    "start_time": "2023-04-15T06:57:27.477Z"
   },
   {
    "duration": 26,
    "start_time": "2023-04-15T06:57:27.523Z"
   },
   {
    "duration": 56,
    "start_time": "2023-04-15T06:57:27.551Z"
   },
   {
    "duration": 34,
    "start_time": "2023-04-15T06:57:27.609Z"
   },
   {
    "duration": 25,
    "start_time": "2023-04-15T06:57:27.650Z"
   },
   {
    "duration": 56,
    "start_time": "2023-04-15T06:57:27.677Z"
   },
   {
    "duration": 14,
    "start_time": "2023-04-15T06:57:27.735Z"
   },
   {
    "duration": 18,
    "start_time": "2023-04-15T06:57:27.751Z"
   },
   {
    "duration": 53,
    "start_time": "2023-04-15T06:57:27.771Z"
   },
   {
    "duration": 29,
    "start_time": "2023-04-15T06:57:27.825Z"
   },
   {
    "duration": 46,
    "start_time": "2023-04-15T06:57:27.856Z"
   },
   {
    "duration": 20,
    "start_time": "2023-04-15T06:57:27.906Z"
   },
   {
    "duration": 145,
    "start_time": "2023-04-15T06:57:27.928Z"
   },
   {
    "duration": 25,
    "start_time": "2023-04-15T06:57:28.074Z"
   },
   {
    "duration": 51,
    "start_time": "2023-04-15T06:57:28.101Z"
   },
   {
    "duration": 17,
    "start_time": "2023-04-15T06:57:28.154Z"
   },
   {
    "duration": 33,
    "start_time": "2023-04-15T06:57:28.174Z"
   },
   {
    "duration": 20,
    "start_time": "2023-04-15T06:57:28.209Z"
   },
   {
    "duration": 11,
    "start_time": "2023-04-15T06:57:28.231Z"
   },
   {
    "duration": 33,
    "start_time": "2023-04-15T06:57:28.245Z"
   },
   {
    "duration": 42,
    "start_time": "2023-04-15T06:57:28.280Z"
   },
   {
    "duration": 16,
    "start_time": "2023-04-15T06:57:28.324Z"
   },
   {
    "duration": 37,
    "start_time": "2023-04-15T06:57:28.343Z"
   },
   {
    "duration": 36,
    "start_time": "2023-04-15T06:57:28.382Z"
   },
   {
    "duration": 17,
    "start_time": "2023-04-15T06:57:28.420Z"
   },
   {
    "duration": 50,
    "start_time": "2023-04-15T06:57:28.439Z"
   },
   {
    "duration": 17,
    "start_time": "2023-04-15T06:57:28.493Z"
   },
   {
    "duration": 22,
    "start_time": "2023-04-15T06:57:28.512Z"
   },
   {
    "duration": 14,
    "start_time": "2023-04-15T06:57:28.535Z"
   },
   {
    "duration": 33,
    "start_time": "2023-04-15T06:57:28.551Z"
   },
   {
    "duration": 34,
    "start_time": "2023-04-15T06:57:28.586Z"
   },
   {
    "duration": 15,
    "start_time": "2023-04-15T06:57:28.622Z"
   },
   {
    "duration": 12,
    "start_time": "2023-04-15T06:57:28.638Z"
   },
   {
    "duration": 36,
    "start_time": "2023-04-15T06:57:28.652Z"
   },
   {
    "duration": 261,
    "start_time": "2023-04-15T06:57:28.691Z"
   },
   {
    "duration": 199,
    "start_time": "2023-04-15T06:57:28.954Z"
   },
   {
    "duration": 11,
    "start_time": "2023-04-15T06:57:29.155Z"
   },
   {
    "duration": 40,
    "start_time": "2023-04-15T06:57:29.168Z"
   },
   {
    "duration": 22,
    "start_time": "2023-04-15T06:57:29.210Z"
   },
   {
    "duration": 154,
    "start_time": "2023-04-15T06:57:29.234Z"
   },
   {
    "duration": 213,
    "start_time": "2023-04-15T06:57:29.390Z"
   },
   {
    "duration": 7,
    "start_time": "2023-04-15T06:57:29.607Z"
   },
   {
    "duration": 37,
    "start_time": "2023-04-15T06:57:29.616Z"
   },
   {
    "duration": 206,
    "start_time": "2023-04-15T06:57:29.655Z"
   },
   {
    "duration": 3,
    "start_time": "2023-04-15T06:57:29.863Z"
   },
   {
    "duration": 49,
    "start_time": "2023-04-15T06:57:29.867Z"
   },
   {
    "duration": 88,
    "start_time": "2023-04-15T06:57:29.918Z"
   },
   {
    "duration": 41,
    "start_time": "2023-04-15T06:57:30.009Z"
   },
   {
    "duration": 689,
    "start_time": "2023-04-15T06:57:30.052Z"
   },
   {
    "duration": 8,
    "start_time": "2023-04-15T06:57:30.744Z"
   },
   {
    "duration": 126,
    "start_time": "2023-04-15T06:57:30.754Z"
   },
   {
    "duration": 48,
    "start_time": "2023-04-15T06:57:30.882Z"
   },
   {
    "duration": 48,
    "start_time": "2023-04-15T06:57:30.932Z"
   },
   {
    "duration": 134,
    "start_time": "2023-04-15T06:57:30.983Z"
   },
   {
    "duration": 58,
    "start_time": "2023-04-15T06:57:31.119Z"
   },
   {
    "duration": 206,
    "start_time": "2023-04-15T06:57:31.179Z"
   },
   {
    "duration": 13,
    "start_time": "2023-04-15T06:57:31.390Z"
   },
   {
    "duration": 73,
    "start_time": "2023-04-15T06:57:31.407Z"
   },
   {
    "duration": 261,
    "start_time": "2023-04-15T06:57:31.488Z"
   },
   {
    "duration": 252,
    "start_time": "2023-04-15T06:57:31.752Z"
   },
   {
    "duration": 232,
    "start_time": "2023-04-15T06:57:32.006Z"
   },
   {
    "duration": 14,
    "start_time": "2023-04-15T06:57:32.239Z"
   },
   {
    "duration": 1097,
    "start_time": "2023-04-15T06:57:32.254Z"
   },
   {
    "duration": 617,
    "start_time": "2023-04-15T06:57:33.353Z"
   },
   {
    "duration": 686,
    "start_time": "2023-04-15T06:57:33.972Z"
   },
   {
    "duration": 877,
    "start_time": "2023-04-15T06:57:34.659Z"
   },
   {
    "duration": 871,
    "start_time": "2023-04-15T06:57:35.538Z"
   },
   {
    "duration": 12,
    "start_time": "2023-04-15T06:57:36.411Z"
   },
   {
    "duration": 10,
    "start_time": "2023-04-15T06:57:36.426Z"
   },
   {
    "duration": 30,
    "start_time": "2023-04-15T06:57:36.438Z"
   },
   {
    "duration": 19,
    "start_time": "2023-04-15T06:57:36.470Z"
   },
   {
    "duration": 30,
    "start_time": "2023-04-15T06:57:36.494Z"
   },
   {
    "duration": 19,
    "start_time": "2023-04-15T06:57:36.527Z"
   },
   {
    "duration": 23,
    "start_time": "2023-04-15T06:57:36.548Z"
   },
   {
    "duration": 133,
    "start_time": "2023-04-15T06:57:36.573Z"
   },
   {
    "duration": 4,
    "start_time": "2023-04-15T06:57:36.708Z"
   },
   {
    "duration": 18,
    "start_time": "2023-04-15T06:57:36.714Z"
   },
   {
    "duration": 15,
    "start_time": "2023-04-15T06:57:36.734Z"
   },
   {
    "duration": 71,
    "start_time": "2023-04-15T07:02:18.743Z"
   },
   {
    "duration": 133,
    "start_time": "2023-04-15T07:06:20.190Z"
   },
   {
    "duration": 8,
    "start_time": "2023-04-15T07:06:51.030Z"
   },
   {
    "duration": 11,
    "start_time": "2023-04-15T07:09:26.732Z"
   },
   {
    "duration": 10,
    "start_time": "2023-04-15T07:09:34.923Z"
   },
   {
    "duration": 110,
    "start_time": "2023-04-15T07:10:02.848Z"
   },
   {
    "duration": 13,
    "start_time": "2023-04-15T07:10:20.801Z"
   },
   {
    "duration": 13,
    "start_time": "2023-04-15T07:10:47.498Z"
   },
   {
    "duration": 15,
    "start_time": "2023-04-15T07:10:55.390Z"
   },
   {
    "duration": 1414,
    "start_time": "2023-04-18T17:10:12.802Z"
   },
   {
    "duration": 1235,
    "start_time": "2023-04-18T17:10:27.027Z"
   },
   {
    "duration": 353,
    "start_time": "2023-04-18T17:10:28.264Z"
   },
   {
    "duration": 26,
    "start_time": "2023-04-18T17:10:28.619Z"
   },
   {
    "duration": 28,
    "start_time": "2023-04-18T17:10:28.647Z"
   },
   {
    "duration": 9,
    "start_time": "2023-04-18T17:10:28.679Z"
   },
   {
    "duration": 18,
    "start_time": "2023-04-18T17:10:28.690Z"
   },
   {
    "duration": 20,
    "start_time": "2023-04-18T17:10:28.710Z"
   },
   {
    "duration": 36,
    "start_time": "2023-04-18T17:10:28.731Z"
   },
   {
    "duration": 7,
    "start_time": "2023-04-18T17:10:28.769Z"
   },
   {
    "duration": 31,
    "start_time": "2023-04-18T17:10:28.778Z"
   },
   {
    "duration": 18,
    "start_time": "2023-04-18T17:10:28.812Z"
   },
   {
    "duration": 45,
    "start_time": "2023-04-18T17:10:28.832Z"
   },
   {
    "duration": 33,
    "start_time": "2023-04-18T17:10:28.880Z"
   },
   {
    "duration": 8,
    "start_time": "2023-04-18T17:10:28.917Z"
   },
   {
    "duration": 6,
    "start_time": "2023-04-18T17:10:28.927Z"
   },
   {
    "duration": 50,
    "start_time": "2023-04-18T17:10:28.934Z"
   },
   {
    "duration": 17,
    "start_time": "2023-04-18T17:10:28.987Z"
   },
   {
    "duration": 11,
    "start_time": "2023-04-18T17:10:29.006Z"
   },
   {
    "duration": 41,
    "start_time": "2023-04-18T17:10:29.019Z"
   },
   {
    "duration": 48,
    "start_time": "2023-04-18T17:10:29.063Z"
   },
   {
    "duration": 5,
    "start_time": "2023-04-18T17:10:29.114Z"
   },
   {
    "duration": 48,
    "start_time": "2023-04-18T17:10:29.122Z"
   },
   {
    "duration": 8,
    "start_time": "2023-04-18T17:10:29.171Z"
   },
   {
    "duration": 21,
    "start_time": "2023-04-18T17:10:29.180Z"
   },
   {
    "duration": 19,
    "start_time": "2023-04-18T17:10:29.204Z"
   },
   {
    "duration": 49,
    "start_time": "2023-04-18T17:10:29.226Z"
   },
   {
    "duration": 37,
    "start_time": "2023-04-18T17:10:29.277Z"
   },
   {
    "duration": 33,
    "start_time": "2023-04-18T17:10:29.315Z"
   },
   {
    "duration": 16,
    "start_time": "2023-04-18T17:10:29.350Z"
   },
   {
    "duration": 18,
    "start_time": "2023-04-18T17:10:29.369Z"
   },
   {
    "duration": 6,
    "start_time": "2023-04-18T17:10:29.389Z"
   },
   {
    "duration": 3,
    "start_time": "2023-04-18T17:10:29.397Z"
   },
   {
    "duration": 27,
    "start_time": "2023-04-18T17:10:29.402Z"
   },
   {
    "duration": 34,
    "start_time": "2023-04-18T17:10:29.460Z"
   },
   {
    "duration": 23,
    "start_time": "2023-04-18T17:10:29.497Z"
   },
   {
    "duration": 6,
    "start_time": "2023-04-18T17:10:29.523Z"
   },
   {
    "duration": 159,
    "start_time": "2023-04-18T17:10:29.561Z"
   },
   {
    "duration": 16,
    "start_time": "2023-04-18T17:10:29.722Z"
   },
   {
    "duration": 56,
    "start_time": "2023-04-18T17:10:29.740Z"
   },
   {
    "duration": 6,
    "start_time": "2023-04-18T17:10:29.798Z"
   },
   {
    "duration": 14,
    "start_time": "2023-04-18T17:10:29.809Z"
   },
   {
    "duration": 14,
    "start_time": "2023-04-18T17:10:29.825Z"
   },
   {
    "duration": 25,
    "start_time": "2023-04-18T17:10:29.841Z"
   },
   {
    "duration": 9,
    "start_time": "2023-04-18T17:10:29.868Z"
   },
   {
    "duration": 33,
    "start_time": "2023-04-18T17:10:29.879Z"
   },
   {
    "duration": 30,
    "start_time": "2023-04-18T17:10:29.914Z"
   },
   {
    "duration": 38,
    "start_time": "2023-04-18T17:10:29.945Z"
   },
   {
    "duration": 32,
    "start_time": "2023-04-18T17:10:29.985Z"
   },
   {
    "duration": 60,
    "start_time": "2023-04-18T17:10:30.019Z"
   },
   {
    "duration": 21,
    "start_time": "2023-04-18T17:10:30.081Z"
   },
   {
    "duration": 61,
    "start_time": "2023-04-18T17:10:30.105Z"
   },
   {
    "duration": 16,
    "start_time": "2023-04-18T17:10:30.168Z"
   },
   {
    "duration": 21,
    "start_time": "2023-04-18T17:10:30.186Z"
   },
   {
    "duration": 28,
    "start_time": "2023-04-18T17:10:30.209Z"
   },
   {
    "duration": 55,
    "start_time": "2023-04-18T17:10:30.239Z"
   },
   {
    "duration": 56,
    "start_time": "2023-04-18T17:10:30.296Z"
   },
   {
    "duration": 27,
    "start_time": "2023-04-18T17:10:30.354Z"
   },
   {
    "duration": 20,
    "start_time": "2023-04-18T17:10:30.383Z"
   },
   {
    "duration": 36,
    "start_time": "2023-04-18T17:10:30.405Z"
   },
   {
    "duration": 271,
    "start_time": "2023-04-18T17:10:30.443Z"
   },
   {
    "duration": 224,
    "start_time": "2023-04-18T17:10:30.717Z"
   },
   {
    "duration": 23,
    "start_time": "2023-04-18T17:10:30.943Z"
   },
   {
    "duration": 53,
    "start_time": "2023-04-18T17:10:30.967Z"
   },
   {
    "duration": 49,
    "start_time": "2023-04-18T17:10:31.022Z"
   },
   {
    "duration": 181,
    "start_time": "2023-04-18T17:10:31.073Z"
   },
   {
    "duration": 214,
    "start_time": "2023-04-18T17:10:31.259Z"
   },
   {
    "duration": 6,
    "start_time": "2023-04-18T17:10:31.474Z"
   },
   {
    "duration": 38,
    "start_time": "2023-04-18T17:10:31.481Z"
   },
   {
    "duration": 226,
    "start_time": "2023-04-18T17:10:31.522Z"
   },
   {
    "duration": 11,
    "start_time": "2023-04-18T17:10:31.750Z"
   },
   {
    "duration": 43,
    "start_time": "2023-04-18T17:10:31.763Z"
   },
   {
    "duration": 106,
    "start_time": "2023-04-18T17:10:31.808Z"
   },
   {
    "duration": 58,
    "start_time": "2023-04-18T17:10:31.916Z"
   },
   {
    "duration": 594,
    "start_time": "2023-04-18T17:10:31.976Z"
   },
   {
    "duration": 7,
    "start_time": "2023-04-18T17:10:32.572Z"
   },
   {
    "duration": 29,
    "start_time": "2023-04-18T17:10:32.581Z"
   },
   {
    "duration": 5,
    "start_time": "2023-04-18T17:10:32.612Z"
   },
   {
    "duration": 6,
    "start_time": "2023-04-18T17:10:32.619Z"
   },
   {
    "duration": 66,
    "start_time": "2023-04-18T17:10:32.628Z"
   },
   {
    "duration": 7,
    "start_time": "2023-04-18T17:10:32.695Z"
   },
   {
    "duration": 162,
    "start_time": "2023-04-18T17:10:32.704Z"
   },
   {
    "duration": 5,
    "start_time": "2023-04-18T17:10:32.868Z"
   },
   {
    "duration": 9,
    "start_time": "2023-04-18T17:10:32.874Z"
   },
   {
    "duration": 209,
    "start_time": "2023-04-18T17:10:32.885Z"
   },
   {
    "duration": 236,
    "start_time": "2023-04-18T17:10:33.097Z"
   },
   {
    "duration": 226,
    "start_time": "2023-04-18T17:10:33.335Z"
   },
   {
    "duration": 15,
    "start_time": "2023-04-18T17:10:33.563Z"
   },
   {
    "duration": 981,
    "start_time": "2023-04-18T17:10:33.580Z"
   },
   {
    "duration": 659,
    "start_time": "2023-04-18T17:10:34.563Z"
   },
   {
    "duration": 660,
    "start_time": "2023-04-18T17:10:35.224Z"
   },
   {
    "duration": 858,
    "start_time": "2023-04-18T17:10:35.886Z"
   },
   {
    "duration": 843,
    "start_time": "2023-04-18T17:10:36.747Z"
   },
   {
    "duration": 17,
    "start_time": "2023-04-18T17:10:37.593Z"
   },
   {
    "duration": 7,
    "start_time": "2023-04-18T17:10:37.612Z"
   },
   {
    "duration": 6,
    "start_time": "2023-04-18T17:10:37.621Z"
   },
   {
    "duration": 36,
    "start_time": "2023-04-18T17:10:37.629Z"
   },
   {
    "duration": 8,
    "start_time": "2023-04-18T17:10:37.668Z"
   },
   {
    "duration": 11,
    "start_time": "2023-04-18T17:10:37.677Z"
   },
   {
    "duration": 14,
    "start_time": "2023-04-18T17:10:37.690Z"
   },
   {
    "duration": 18,
    "start_time": "2023-04-18T17:10:37.706Z"
   },
   {
    "duration": 4,
    "start_time": "2023-04-18T17:10:37.725Z"
   },
   {
    "duration": 168,
    "start_time": "2023-04-18T17:10:37.731Z"
   },
   {
    "duration": 18,
    "start_time": "2023-04-18T17:10:37.901Z"
   },
   {
    "duration": 6,
    "start_time": "2023-04-18T17:21:46.846Z"
   },
   {
    "duration": 10,
    "start_time": "2023-04-18T17:22:50.430Z"
   },
   {
    "duration": 10,
    "start_time": "2023-04-18T17:22:53.786Z"
   },
   {
    "duration": 11,
    "start_time": "2023-04-18T17:22:56.680Z"
   },
   {
    "duration": 5,
    "start_time": "2023-04-18T17:23:37.334Z"
   },
   {
    "duration": 7,
    "start_time": "2023-04-18T17:23:38.483Z"
   },
   {
    "duration": 6,
    "start_time": "2023-04-18T17:23:39.317Z"
   },
   {
    "duration": 130,
    "start_time": "2023-04-18T17:26:39.186Z"
   },
   {
    "duration": 6,
    "start_time": "2023-04-18T17:26:52.814Z"
   },
   {
    "duration": 5,
    "start_time": "2023-04-18T17:31:54.349Z"
   },
   {
    "duration": 5,
    "start_time": "2023-04-18T17:32:13.587Z"
   },
   {
    "duration": 12,
    "start_time": "2023-04-18T17:34:25.676Z"
   },
   {
    "duration": 7,
    "start_time": "2023-04-18T17:34:56.251Z"
   },
   {
    "duration": 10,
    "start_time": "2023-04-18T17:38:03.776Z"
   },
   {
    "duration": 1212,
    "start_time": "2023-04-18T17:48:00.278Z"
   },
   {
    "duration": 131,
    "start_time": "2023-04-18T17:48:01.492Z"
   },
   {
    "duration": 21,
    "start_time": "2023-04-18T17:48:01.624Z"
   },
   {
    "duration": 86,
    "start_time": "2023-04-18T17:48:01.647Z"
   },
   {
    "duration": 38,
    "start_time": "2023-04-18T17:48:01.735Z"
   },
   {
    "duration": 49,
    "start_time": "2023-04-18T17:48:01.775Z"
   },
   {
    "duration": 38,
    "start_time": "2023-04-18T17:48:01.826Z"
   },
   {
    "duration": 38,
    "start_time": "2023-04-18T17:48:01.866Z"
   },
   {
    "duration": 26,
    "start_time": "2023-04-18T17:48:01.906Z"
   },
   {
    "duration": 50,
    "start_time": "2023-04-18T17:48:01.934Z"
   },
   {
    "duration": 44,
    "start_time": "2023-04-18T17:48:01.986Z"
   },
   {
    "duration": 40,
    "start_time": "2023-04-18T17:48:02.032Z"
   },
   {
    "duration": 43,
    "start_time": "2023-04-18T17:48:02.073Z"
   },
   {
    "duration": 7,
    "start_time": "2023-04-18T17:48:02.119Z"
   },
   {
    "duration": 35,
    "start_time": "2023-04-18T17:48:02.128Z"
   },
   {
    "duration": 60,
    "start_time": "2023-04-18T17:48:02.165Z"
   },
   {
    "duration": 16,
    "start_time": "2023-04-18T17:48:02.227Z"
   },
   {
    "duration": 35,
    "start_time": "2023-04-18T17:48:02.245Z"
   },
   {
    "duration": 29,
    "start_time": "2023-04-18T17:48:02.282Z"
   },
   {
    "duration": 27,
    "start_time": "2023-04-18T17:48:02.313Z"
   },
   {
    "duration": 34,
    "start_time": "2023-04-18T17:48:02.341Z"
   },
   {
    "duration": 42,
    "start_time": "2023-04-18T17:48:02.377Z"
   },
   {
    "duration": 23,
    "start_time": "2023-04-18T17:48:02.421Z"
   },
   {
    "duration": 44,
    "start_time": "2023-04-18T17:48:02.446Z"
   },
   {
    "duration": 15,
    "start_time": "2023-04-18T17:48:02.492Z"
   },
   {
    "duration": 38,
    "start_time": "2023-04-18T17:48:02.508Z"
   },
   {
    "duration": 36,
    "start_time": "2023-04-18T17:48:02.548Z"
   },
   {
    "duration": 42,
    "start_time": "2023-04-18T17:48:02.585Z"
   },
   {
    "duration": 23,
    "start_time": "2023-04-18T17:48:02.629Z"
   },
   {
    "duration": 11,
    "start_time": "2023-04-18T17:48:02.653Z"
   },
   {
    "duration": 19,
    "start_time": "2023-04-18T17:48:02.665Z"
   },
   {
    "duration": 16,
    "start_time": "2023-04-18T17:48:02.685Z"
   },
   {
    "duration": 29,
    "start_time": "2023-04-18T17:48:02.702Z"
   },
   {
    "duration": 16,
    "start_time": "2023-04-18T17:48:02.733Z"
   },
   {
    "duration": 21,
    "start_time": "2023-04-18T17:48:02.750Z"
   },
   {
    "duration": 26,
    "start_time": "2023-04-18T17:48:02.773Z"
   },
   {
    "duration": 20,
    "start_time": "2023-04-18T17:48:02.800Z"
   },
   {
    "duration": 33,
    "start_time": "2023-04-18T17:48:02.821Z"
   },
   {
    "duration": 37,
    "start_time": "2023-04-18T17:48:02.856Z"
   },
   {
    "duration": 23,
    "start_time": "2023-04-18T17:48:02.894Z"
   },
   {
    "duration": 19,
    "start_time": "2023-04-18T17:48:02.922Z"
   },
   {
    "duration": 25,
    "start_time": "2023-04-18T17:48:02.942Z"
   },
   {
    "duration": 162,
    "start_time": "2023-04-18T17:48:02.969Z"
   },
   {
    "duration": 16,
    "start_time": "2023-04-18T17:48:03.132Z"
   },
   {
    "duration": 63,
    "start_time": "2023-04-18T17:48:03.150Z"
   },
   {
    "duration": 6,
    "start_time": "2023-04-18T17:48:03.214Z"
   },
   {
    "duration": 49,
    "start_time": "2023-04-18T17:48:03.221Z"
   },
   {
    "duration": 24,
    "start_time": "2023-04-18T17:48:03.271Z"
   },
   {
    "duration": 14,
    "start_time": "2023-04-18T17:48:03.296Z"
   },
   {
    "duration": 23,
    "start_time": "2023-04-18T17:48:03.312Z"
   },
   {
    "duration": 16,
    "start_time": "2023-04-18T17:48:03.336Z"
   },
   {
    "duration": 19,
    "start_time": "2023-04-18T17:48:03.353Z"
   },
   {
    "duration": 30,
    "start_time": "2023-04-18T17:48:03.374Z"
   },
   {
    "duration": 16,
    "start_time": "2023-04-18T17:48:03.406Z"
   },
   {
    "duration": 15,
    "start_time": "2023-04-18T17:48:03.423Z"
   },
   {
    "duration": 4,
    "start_time": "2023-04-18T17:48:03.439Z"
   },
   {
    "duration": 44,
    "start_time": "2023-04-18T17:48:03.445Z"
   },
   {
    "duration": 5,
    "start_time": "2023-04-18T17:48:03.491Z"
   },
   {
    "duration": 19,
    "start_time": "2023-04-18T17:48:03.498Z"
   },
   {
    "duration": 6,
    "start_time": "2023-04-18T17:48:03.518Z"
   },
   {
    "duration": 14,
    "start_time": "2023-04-18T17:48:03.525Z"
   },
   {
    "duration": 19,
    "start_time": "2023-04-18T17:48:03.540Z"
   },
   {
    "duration": 6,
    "start_time": "2023-04-18T17:48:03.560Z"
   },
   {
    "duration": 5,
    "start_time": "2023-04-18T17:48:03.567Z"
   },
   {
    "duration": 10,
    "start_time": "2023-04-18T17:48:03.574Z"
   },
   {
    "duration": 169,
    "start_time": "2023-04-18T17:48:03.585Z"
   },
   {
    "duration": 187,
    "start_time": "2023-04-18T17:48:03.759Z"
   },
   {
    "duration": 13,
    "start_time": "2023-04-18T17:48:03.948Z"
   },
   {
    "duration": 12,
    "start_time": "2023-04-18T17:48:03.962Z"
   },
   {
    "duration": 7,
    "start_time": "2023-04-18T17:48:03.975Z"
   },
   {
    "duration": 154,
    "start_time": "2023-04-18T17:48:03.984Z"
   },
   {
    "duration": 211,
    "start_time": "2023-04-18T17:48:04.139Z"
   },
   {
    "duration": 8,
    "start_time": "2023-04-18T17:48:04.358Z"
   },
   {
    "duration": 17,
    "start_time": "2023-04-18T17:48:04.368Z"
   },
   {
    "duration": 199,
    "start_time": "2023-04-18T17:48:04.387Z"
   },
   {
    "duration": 3,
    "start_time": "2023-04-18T17:48:04.587Z"
   },
   {
    "duration": 23,
    "start_time": "2023-04-18T17:48:04.592Z"
   },
   {
    "duration": 87,
    "start_time": "2023-04-18T17:48:04.616Z"
   },
   {
    "duration": 9,
    "start_time": "2023-04-18T17:48:04.705Z"
   },
   {
    "duration": 600,
    "start_time": "2023-04-18T17:48:04.715Z"
   },
   {
    "duration": 6,
    "start_time": "2023-04-18T17:48:05.317Z"
   },
   {
    "duration": 36,
    "start_time": "2023-04-18T17:48:05.325Z"
   },
   {
    "duration": 4,
    "start_time": "2023-04-18T17:48:05.363Z"
   },
   {
    "duration": 18,
    "start_time": "2023-04-18T17:48:05.368Z"
   },
   {
    "duration": 38,
    "start_time": "2023-04-18T17:48:05.387Z"
   },
   {
    "duration": 6,
    "start_time": "2023-04-18T17:48:05.427Z"
   },
   {
    "duration": 145,
    "start_time": "2023-04-18T17:48:05.435Z"
   },
   {
    "duration": 4,
    "start_time": "2023-04-18T17:48:05.583Z"
   },
   {
    "duration": 12,
    "start_time": "2023-04-18T17:48:05.589Z"
   },
   {
    "duration": 190,
    "start_time": "2023-04-18T17:48:05.603Z"
   },
   {
    "duration": 189,
    "start_time": "2023-04-18T17:48:05.796Z"
   },
   {
    "duration": 210,
    "start_time": "2023-04-18T17:48:05.987Z"
   },
   {
    "duration": 14,
    "start_time": "2023-04-18T17:48:06.199Z"
   },
   {
    "duration": 946,
    "start_time": "2023-04-18T17:48:06.215Z"
   },
   {
    "duration": 573,
    "start_time": "2023-04-18T17:48:07.163Z"
   },
   {
    "duration": 666,
    "start_time": "2023-04-18T17:48:07.738Z"
   },
   {
    "duration": 798,
    "start_time": "2023-04-18T17:48:08.406Z"
   },
   {
    "duration": 829,
    "start_time": "2023-04-18T17:48:09.205Z"
   },
   {
    "duration": 12,
    "start_time": "2023-04-18T17:48:10.035Z"
   },
   {
    "duration": 12,
    "start_time": "2023-04-18T17:48:10.049Z"
   },
   {
    "duration": 9,
    "start_time": "2023-04-18T17:48:10.062Z"
   },
   {
    "duration": 17,
    "start_time": "2023-04-18T17:48:10.073Z"
   },
   {
    "duration": 9,
    "start_time": "2023-04-18T17:48:10.091Z"
   },
   {
    "duration": 27,
    "start_time": "2023-04-18T17:48:10.102Z"
   },
   {
    "duration": 10,
    "start_time": "2023-04-18T17:48:10.131Z"
   },
   {
    "duration": 125,
    "start_time": "2023-04-18T17:48:10.143Z"
   },
   {
    "duration": 4,
    "start_time": "2023-04-18T17:48:10.269Z"
   },
   {
    "duration": 15,
    "start_time": "2023-04-18T17:48:10.274Z"
   },
   {
    "duration": 14,
    "start_time": "2023-04-18T17:48:10.291Z"
   },
   {
    "duration": 5,
    "start_time": "2023-04-18T18:01:39.853Z"
   },
   {
    "duration": 5,
    "start_time": "2023-04-18T18:03:50.876Z"
   }
  ],
  "colab": {
   "name": "DA+. Сборный проект 1. Шаблон (1).ipynb",
   "provenance": []
  },
  "kernelspec": {
   "display_name": "Python 3 (ipykernel)",
   "language": "python",
   "name": "python3"
  },
  "language_info": {
   "codemirror_mode": {
    "name": "ipython",
    "version": 3
   },
   "file_extension": ".py",
   "mimetype": "text/x-python",
   "name": "python",
   "nbconvert_exporter": "python",
   "pygments_lexer": "ipython3",
   "version": "3.9.16"
  },
  "toc": {
   "base_numbering": 1,
   "nav_menu": {},
   "number_sections": true,
   "sideBar": true,
   "skip_h1_title": true,
   "title_cell": "Table of Contents",
   "title_sidebar": "Contents",
   "toc_cell": false,
   "toc_position": {
    "height": "calc(100% - 180px)",
    "left": "10px",
    "top": "150px",
    "width": "375.391px"
   },
   "toc_section_display": true,
   "toc_window_display": false
  }
 },
 "nbformat": 4,
 "nbformat_minor": 1
}
